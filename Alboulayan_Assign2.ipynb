{
 "cells": [
  {
   "cell_type": "markdown",
   "metadata": {},
   "source": [
    "Question 1. Which of the following statements contain only valid built-in functions in Python 3? If the statement is valid, explain what it does. If it is not valid, explain why not."
   ]
  },
  {
   "cell_type": "markdown",
   "metadata": {},
   "source": [
    "1.1 \"A\".isupper() This statement is valid\n",
    "isupper() is a built-in method which returns True when the character or characters in the string is/are uppercase and False when they are lowercase.\n",
    "\n",
    "1.2 print \"This is my Python class\"; \n",
    "This statement is not valid becasue it is missing the parentheses. print function runs when there are parentheses such as print('hello')\n",
    "\n",
    "1.3 x == 1 AND y > x\n",
    "This statement is not valid because the variables are not defined. Also, AND shoud be in lowercase.\n",
    "\n",
    "1.4 return t[1:]\n",
    "This statement is valid. It returns the characters from the string t from index number 1 (which is the 2nd character) till the end of the string.\n",
    "\n",
    "1.5 if \"fruit\" in \"apple\":\n",
    "This statement is not valid. There is no importing to dictionary. Also, apple shoud come before fruit.\n",
    "\n",
    "1.6 with open(\"myfile.txt\", \"r\") as f: text = f.read().decode(\"UTF-8\")\n",
    "This statement is valid. open() is built in function that returns a file object for writing or using in Python, decode() is a built in function which decodes the string.\n",
    "\n",
    "1.7 foo == None\n",
    "This statement is not valid because foo is not defined. \n",
    "\n",
    "1.8 name = \"My name is Brenda\" name[0] = \"A\"\n",
    "This statement is not valid because this function will not replace the M with an A.\n",
    "\n",
    "1.9 x = 3 x**3\n",
    "This statement is valid. The operator ** multiplies x two time with the number beside it.\n",
    "\n",
    "1.10 20%7\n",
    "This statement is valid. The operator % returns the remainder of the division."
   ]
  },
  {
   "cell_type": "markdown",
   "metadata": {},
   "source": [
    "Question 2. Write a program to prompt for a score between 0 and 100. If the score is out of range, print an error message. If the score is between 0 and 100, print a grade."
   ]
  },
  {
   "cell_type": "code",
   "execution_count": 2,
   "metadata": {},
   "outputs": [
    {
     "name": "stdout",
     "output_type": "stream",
     "text": [
      "Enter the score: 87\n",
      "B\n"
     ]
    }
   ],
   "source": [
    "score = input(\"Enter the score: \")\n",
    "x = float(score)\n",
    "if 0 <= x <= 100:\n",
    "    if x >= 90:\n",
    "        grade = 'A'\n",
    "        print(grade)\n",
    "    elif x >=80:\n",
    "        grade = 'B'\n",
    "        print(grade)\n",
    "    elif x>= 70 :\n",
    "        grade = 'C'\n",
    "    elif x>= 60:\n",
    "        grade = 'D'\n",
    "        print(grade)\n",
    "    else:\n",
    "        grade = 'F'\n",
    "        print(grade)\n",
    "else:\n",
    "    print ('Invalid entering, please enter a number between 0 and 100')"
   ]
  },
  {
   "cell_type": "markdown",
   "metadata": {},
   "source": [
    "Question 3. Write a Python program to generate 12 random numbers between 1 and 100. Sort the list of numbers in ascending order and print it out. Sort the list of numbers in descending order and print it out. Calculate the average for the group and print it out."
   ]
  },
  {
   "cell_type": "code",
   "execution_count": 3,
   "metadata": {},
   "outputs": [
    {
     "name": "stdout",
     "output_type": "stream",
     "text": [
      "[97, 90, 71, 45, 44, 32, 25, 23, 21, 17, 9, 8]\n",
      "[8, 9, 17, 21, 23, 25, 32, 44, 45, 71, 90, 97]\n"
     ]
    },
    {
     "data": {
      "text/plain": [
       "40.166666666666664"
      ]
     },
     "execution_count": 3,
     "metadata": {},
     "output_type": "execute_result"
    }
   ],
   "source": [
    "import random\n",
    "list = [random.randrange(1, 100) for i in range(12)] \n",
    "list.sort(reverse=True) #sorting the list in the descending order\n",
    "print(list)\n",
    "list.sort(reverse=False) #sorting the list in the ascending  order\n",
    "print(list)\n",
    "def average(list): \n",
    "    return sum(list) / len(list) \n",
    "average(list)"
   ]
  },
  {
   "cell_type": "markdown",
   "metadata": {},
   "source": [
    "Question 4. The formula that describes the volume V of a sphere with radius r is the following:\n",
    "\n",
    "\n",
    "\\begin{equation} \\label{spherevol}\n",
    "   V(r) = \\frac{4}{3} \\pi r^3\n",
    "\\end{equation}\n",
    "\n",
    "Write a program to calculate the value of V when r is in the range of 1– 10. "
   ]
  },
  {
   "cell_type": "code",
   "execution_count": 4,
   "metadata": {},
   "outputs": [
    {
     "name": "stdout",
     "output_type": "stream",
     "text": [
      "r\tv\n",
      "1 \t 4.1887902047863905\n",
      "\n",
      "\n",
      "2 \t 33.510321638291124\n",
      "\n",
      "\n",
      "3 \t 113.09733552923254\n",
      "\n",
      "\n",
      "4 \t 268.082573106329\n",
      "\n",
      "\n",
      "5 \t 523.5987755982989\n",
      "\n",
      "\n",
      "6 \t 904.7786842338603\n",
      "\n",
      "\n",
      "7 \t 1436.7550402417319\n",
      "\n",
      "\n",
      "8 \t 2144.660584850632\n",
      "\n",
      "\n",
      "9 \t 3053.6280592892786\n",
      "\n",
      "\n",
      "10 \t 4188.790204786391\n",
      "\n",
      "\n"
     ]
    }
   ],
   "source": [
    "r = [1,2,3,4,5,6,7,8,9,10]\n",
    "pi = 3.1415926535897931\n",
    "print('r\\tv')\n",
    "for a in r:\n",
    "    v=(4/3)*pi*(a*a*a)\n",
    "    print(a,\"\\t\",v)\n",
    "    print(\"\\n\")"
   ]
  },
  {
   "cell_type": "markdown",
   "metadata": {},
   "source": [
    "Question 5. Write a program that will do the following string formatting tasks:\n",
    "\n",
    "5.1 Ask the user to enter two sentences\n",
    "\n",
    "5.2 Make each sentence into a list. Each element in the list should correspond to a word in the sentence. For example, if the sentence is \"Alas! Am I alive? This is my first python program\", the program should print out ['Alas!', 'Am', 'I', 'alive?', 'This', 'is', 'my', 'first', 'python', 'program'] or ['Alas, '!', 'Am', 'I', 'alive, '?', 'This', 'is', 'my', 'first', 'python', 'program']\n",
    "\n",
    "5.3 Compare the two sentences. Print out a list of words that occur in both sentences.\n",
    "\n",
    "5.4 Remove any punctuation from the sentence and print it back out. It should remove at least the following characters, but it can remove more: period(“.”), comma (“,”), semicolon (“;”), and colon (“:”)\n",
    "\n",
    "5.5 Count the number of vowels in the sentences. Print out each vowel and the number of times it appears in the sentences, such as: a:2, e:1, i:0, etc."
   ]
  },
  {
   "cell_type": "code",
   "execution_count": 1,
   "metadata": {},
   "outputs": [
    {
     "name": "stdout",
     "output_type": "stream",
     "text": [
      "Enter the 1st sentence: hello every one and have a blessing day\n",
      "Enter the 2nd sentence: good morning every one and have a wonderful day\n",
      "1st sentence:  ['hello', 'every', 'one', 'and', 'have', 'a', 'blessing', 'day']\n",
      "2nd sentence:  ['good', 'morning', 'every', 'one', 'and', 'have', 'a', 'wonderful', 'day']\n",
      "\n",
      "The words that occure in both sentences are: \n",
      "every\n",
      "one\n",
      "and\n",
      "have\n",
      "a\n",
      "day\n",
      "\n",
      "The words that occure in both sentences without punctuation are: \n",
      "every\n",
      "one\n",
      "and\n",
      "have\n",
      "a\n",
      "day\n",
      "\n",
      "The Vowel and number of times it appears frequency in 1st sentences:  {'a': 4, 'e': 6, 'i': 1, 'o': 2, 'u': 0}\n",
      "\n",
      "The Vowel and number of times it appears frequency in 2nd sentences:  {'a': 8, 'e': 11, 'i': 2, 'o': 7, 'u': 1}\n"
     ]
    }
   ],
   "source": [
    "import string\n",
    "import re\n",
    "\n",
    "#Asking the user to enter two sentences\n",
    "\n",
    "first = input(\"Enter the 1st sentence: \")\n",
    "second = input(\"Enter the 2nd sentence: \")\n",
    "\n",
    "\n",
    "# Making each sentence into a list\n",
    "\n",
    "x = re.findall(r\"[\\w']+|[.,!?;:]\", first)\n",
    "y = re.findall(r\"[\\w']+|[.,!?;:]\", second)\n",
    "\n",
    "print(\"1st sentence: \",x)\n",
    "print(\"2nd sentence: \",y)\n",
    "\n",
    "#Comparing the two sentences and printing out a list of words that occur in both sentences\n",
    "\n",
    "print(\"\\nThe words that occure in both sentences are: \")\n",
    "for word in x:\n",
    "    for other in y:\n",
    "        if word.lower() == other.lower():\n",
    "            print(word)\n",
    "\n",
    "#Removing any punctuation from the sentence and printing it back out\n",
    "\n",
    "print(\"\\nThe words that occure in both sentences without punctuation are: \")\n",
    "for word in x:\n",
    "    for other in y:\n",
    "        if word.lower() == other.lower() and word not in string.punctuation:\n",
    "            print(word)\n",
    "\n",
    "#Counting the number of vowels in the sentences and printing out each vowel and the number of times it appears in the sentences\n",
    "vowels = {'a':0, 'e':0, 'i':0, 'o':0, 'u':0}\n",
    "for letter in first:\n",
    "    if letter.lower() in vowels:\n",
    "        vowels[letter.lower()] += 1\n",
    "\n",
    "print(\"\\nThe Vowel and number of times it appears frequency in 1st sentences: \",vowels)\n",
    "\n",
    "for letter in second:\n",
    "    if letter.lower() in vowels:\n",
    "        vowels[letter.lower()] += 1\n",
    "\n",
    "print(\"\\nThe Vowel and number of times it appears frequency in 2nd sentences: \",vowels)"
   ]
  },
  {
   "cell_type": "code",
   "execution_count": null,
   "metadata": {},
   "outputs": [],
   "source": []
  }
 ],
 "metadata": {
  "kernelspec": {
   "display_name": "Python 3",
   "language": "python",
   "name": "python3"
  },
  "language_info": {
   "codemirror_mode": {
    "name": "ipython",
    "version": 3
   },
   "file_extension": ".py",
   "mimetype": "text/x-python",
   "name": "python",
   "nbconvert_exporter": "python",
   "pygments_lexer": "ipython3",
   "version": "3.7.1"
  }
 },
 "nbformat": 4,
 "nbformat_minor": 2
}
