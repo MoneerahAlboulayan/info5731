{
 "cells": [
  {
   "cell_type": "code",
   "execution_count": 1,
   "metadata": {},
   "outputs": [],
   "source": [
    "#Chapter13"
   ]
  },
  {
   "cell_type": "code",
   "execution_count": 3,
   "metadata": {},
   "outputs": [
    {
     "name": "stdout",
     "output_type": "stream",
     "text": [
      "0.9437420773835661\n",
      "0.47902810675223684\n",
      "0.692322182568244\n",
      "0.6773942561745198\n",
      "0.139312955108997\n",
      "0.8401340112830875\n",
      "0.21873076453725016\n",
      "0.07902582707383476\n",
      "0.7620555414874978\n",
      "0.644859880227147\n"
     ]
    }
   ],
   "source": [
    "##Random Numbers\n",
    "import random\n",
    "for i in range(10):\n",
    "    x = random.random()\n",
    "    print(x)"
   ]
  },
  {
   "cell_type": "code",
   "execution_count": 6,
   "metadata": {},
   "outputs": [
    {
     "data": {
      "text/plain": [
       "8"
      ]
     },
     "execution_count": 6,
     "metadata": {},
     "output_type": "execute_result"
    }
   ],
   "source": [
    "random.randint(5, 10)"
   ]
  },
  {
   "cell_type": "code",
   "execution_count": 19,
   "metadata": {},
   "outputs": [
    {
     "data": {
      "text/plain": [
       "10"
      ]
     },
     "execution_count": 19,
     "metadata": {},
     "output_type": "execute_result"
    }
   ],
   "source": [
    "random.randint(5, 10)"
   ]
  },
  {
   "cell_type": "code",
   "execution_count": 8,
   "metadata": {},
   "outputs": [
    {
     "data": {
      "text/plain": [
       "1"
      ]
     },
     "execution_count": 8,
     "metadata": {},
     "output_type": "execute_result"
    }
   ],
   "source": [
    "t = [1, 2, 3]\n",
    "random.choice(t)"
   ]
  },
  {
   "cell_type": "code",
   "execution_count": 9,
   "metadata": {},
   "outputs": [
    {
     "data": {
      "text/plain": [
       "1"
      ]
     },
     "execution_count": 9,
     "metadata": {},
     "output_type": "execute_result"
    }
   ],
   "source": [
    "random.choice(t)"
   ]
  },
  {
   "cell_type": "code",
   "execution_count": 56,
   "metadata": {},
   "outputs": [
    {
     "data": {
      "text/plain": [
       "{'a': 2, 'b': 1}"
      ]
     },
     "execution_count": 56,
     "metadata": {},
     "output_type": "execute_result"
    }
   ],
   "source": [
    "def histogram(s):\n",
    "    d = dict()\n",
    "    for c in s:\n",
    "        if c not in d:\n",
    "            d[c] = 1\n",
    "        else:\n",
    "            d[c] += 1\n",
    "    return d\n",
    "t = ['a', 'a', 'b']\n",
    "hist = histogram(t)\n",
    "hist"
   ]
  },
  {
   "cell_type": "code",
   "execution_count": 61,
   "metadata": {},
   "outputs": [],
   "source": [
    "##Word Histogram\n",
    "import string\n",
    "def process_file(filename):\n",
    "    hist = dict()\n",
    "    fp = open(filename)\n",
    "    for line in fp:\n",
    "        process_line(line, hist)\n",
    "    return hist\n",
    "\n",
    "def process_line(line, hist):\n",
    "    line = line.replace('-', ' ')\n",
    "    for word in line.split():\n",
    "        word = word.strip(string.punctuation + string.whitespace)\n",
    "        word = word.lower()\n",
    "        hist[word] = hist.get(word, 0) + 1\n",
    "hist = process_file('emma.txt')"
   ]
  },
  {
   "cell_type": "code",
   "execution_count": 63,
   "metadata": {},
   "outputs": [],
   "source": [
    "def total_words(hist):\n",
    "    return sum(hist.values())"
   ]
  },
  {
   "cell_type": "code",
   "execution_count": 64,
   "metadata": {},
   "outputs": [
    {
     "data": {
      "text/plain": [
       "162742"
      ]
     },
     "execution_count": 64,
     "metadata": {},
     "output_type": "execute_result"
    }
   ],
   "source": [
    "total_words(hist)"
   ]
  },
  {
   "cell_type": "code",
   "execution_count": 65,
   "metadata": {},
   "outputs": [],
   "source": [
    "def different_words(hist):\n",
    "    return len(hist)"
   ]
  },
  {
   "cell_type": "code",
   "execution_count": 66,
   "metadata": {},
   "outputs": [
    {
     "data": {
      "text/plain": [
       "7460"
      ]
     },
     "execution_count": 66,
     "metadata": {},
     "output_type": "execute_result"
    }
   ],
   "source": [
    "different_words(hist)"
   ]
  },
  {
   "cell_type": "code",
   "execution_count": 67,
   "metadata": {},
   "outputs": [
    {
     "name": "stdout",
     "output_type": "stream",
     "text": [
      "Total number of words: 162742\n"
     ]
    }
   ],
   "source": [
    "print('Total number of words:', total_words(hist))"
   ]
  },
  {
   "cell_type": "code",
   "execution_count": 68,
   "metadata": {},
   "outputs": [
    {
     "name": "stdout",
     "output_type": "stream",
     "text": [
      "Number of different words: 7460\n"
     ]
    }
   ],
   "source": [
    "print('Number of different words:', different_words(hist))"
   ]
  },
  {
   "cell_type": "code",
   "execution_count": 69,
   "metadata": {},
   "outputs": [],
   "source": [
    "##Most Common Words\n",
    "def most_common(hist):\n",
    "    t = []\n",
    "    for key, value in hist.items():\n",
    "        t.append((value, key))\n",
    "    t.sort(reverse=True)\n",
    "    return t"
   ]
  },
  {
   "cell_type": "code",
   "execution_count": 71,
   "metadata": {},
   "outputs": [
    {
     "name": "stdout",
     "output_type": "stream",
     "text": [
      "The most common words are:\n",
      "to\t5295\n",
      "the\t5266\n",
      "and\t4931\n",
      "of\t4339\n",
      "i\t3191\n",
      "a\t3155\n",
      "it\t2546\n",
      "her\t2483\n",
      "was\t2400\n",
      "she\t2364\n"
     ]
    }
   ],
   "source": [
    "t = most_common(hist)\n",
    "print('The most common words are:')\n",
    "for freq, word in t[:10]:\n",
    "    print(word, freq, sep='\\t')"
   ]
  },
  {
   "cell_type": "code",
   "execution_count": 72,
   "metadata": {},
   "outputs": [],
   "source": [
    "##Optional Parameters\n",
    "def print_most_common(hist, num=10):\n",
    "    t = most_common(hist)\n",
    "    print('The most common words are:')\n",
    "    for freq, word in t[:num]:\n",
    "        print(word, freq, sep='\\t')"
   ]
  },
  {
   "cell_type": "code",
   "execution_count": 73,
   "metadata": {},
   "outputs": [
    {
     "name": "stdout",
     "output_type": "stream",
     "text": [
      "The most common words are:\n",
      "to\t5295\n",
      "the\t5266\n",
      "and\t4931\n",
      "of\t4339\n",
      "i\t3191\n",
      "a\t3155\n",
      "it\t2546\n",
      "her\t2483\n",
      "was\t2400\n",
      "she\t2364\n"
     ]
    }
   ],
   "source": [
    "print_most_common(hist)"
   ]
  },
  {
   "cell_type": "code",
   "execution_count": 74,
   "metadata": {},
   "outputs": [
    {
     "name": "stdout",
     "output_type": "stream",
     "text": [
      "The most common words are:\n",
      "to\t5295\n",
      "the\t5266\n",
      "and\t4931\n",
      "of\t4339\n",
      "i\t3191\n",
      "a\t3155\n",
      "it\t2546\n",
      "her\t2483\n",
      "was\t2400\n",
      "she\t2364\n",
      "in\t2199\n",
      "not\t2161\n",
      "you\t2053\n",
      "be\t1987\n",
      "he\t1811\n",
      "that\t1809\n",
      "had\t1626\n",
      "but\t1446\n",
      "as\t1443\n",
      "for\t1371\n"
     ]
    }
   ],
   "source": [
    "print_most_common(hist, 20)"
   ]
  },
  {
   "cell_type": "code",
   "execution_count": 76,
   "metadata": {},
   "outputs": [],
   "source": [
    "##Dictionary Subtraction\n",
    "def subtract(d1, d2):\n",
    "    res = dict()\n",
    "    for key in d1:\n",
    "        if key not in d2:\n",
    "            res[key] = None\n",
    "    return res"
   ]
  },
  {
   "cell_type": "code",
   "execution_count": 77,
   "metadata": {},
   "outputs": [],
   "source": [
    "words = process_file('words.txt')\n",
    "diff = subtract(hist, words)"
   ]
  },
  {
   "cell_type": "code",
   "execution_count": 78,
   "metadata": {},
   "outputs": [
    {
     "name": "stdout",
     "output_type": "stream",
     "text": [
      "Words in the book that aren't in the word list:\n",
      "the project gutenberg etext of emma by jane austen please take a look at important information in this header we encourage you to keep file on your own disk keeping an electronic path open for next readers do not remove welcome world free plain vanilla texts etexts readable both humans and computers since 1971 these prepared hundreds volunteers donations contacting get further is included below need august 1994 158 date last updated 18 2002 should be named emma10.txt or emma10.zip corrected editions our new number emma11.txt versions based separate sources letter emma10a.txt are now trying release all books one month advance official dates time better editing midnight central day stated preliminary version may often posted suggestion comment those who wish so sure have up first edition xxxxx10x.xxx check sizes week ftp program has bug it that scrambles tried fix failed size will but try see copy least byte more less about page produce two million dollars each hour work fifty hours conservative estimate how long any selected entered proofread edited copyright searched analyzed letters written etc projected audience hundred if value per text nominally estimated dollar then 2 year four files thus upping productivity from goal give away trillion december 31 2001 10,000 x 100,000,000=trillion ten thousand titles which 10 expected computer users end than ever made gutenberg/ibc tax deductible extent allowable law ibc illinois benedictine college subscriptions paper newsletter go too other matters mail p o box 2782 champaign il 61825 when email fails michael s hart executive director hart@vmd.cso.uiuc.edu internet hart@uiucvmd bitnet would prefer send compuserve attmail mcimail  emulator directly archives mac point click type mrcnext.cso.uiuc.edu login anonymous password your@login cd etext/etext91 etext92 etext93 also etext/etext93 etext/articles suggest gut dir mget set bin zip index100.gut index200.gut list new.gut general newsletters legal advisor three pages start**the small print!**for public domain etexts**start why print statement here know lawyers they tell us might sue there something wrong with even got someone what's fault among things disclaims most liability tells can distribute copies want before use read using reading part tm indicate understand agree accept receive refund money paid sending request within 30 days receiving person received physical medium such as must return like distributed professor through association means no owns united states without permission paying royalties special rules forth apply under project's trademark create expends considerable efforts identify transcribe works despite contain defects form incomplete inaccurate corrupt data transcription errors intellectual property infringement defective damaged virus codes damage cannot equipment limited warranty disclaimer damages right replacement described 1 party costs expenses including fees remedies negligence strict breach contract indirect consequential punitive incidental notice possibility discover defect 90 explanatory note choose alternatively electronically second opportunity otherwise provided warranties kind express implied merchantability fitness particular purpose some allow disclaimers exclusion limitation above exclusions rights indemnity indemnify hold its directors officers members agents harmless cost expense arise indirectly following cause distribution alteration modification addition 3 book either delete references only exact requires alter modify however machine binary compressed mark proprietary resulting conversion word pro cessing hypertext software displayed clearly does characters intended author although tilde asterisk underline used convey punctuation additional links readily converted reader into ascii ebcdic equivalent displays case instance processors provide fee original honor provisions pay license 20 net profits derive calculated method already calculate applicable taxes don't royalty due payable 60 prepare were legally required annual periodic what gratefully accepts contributions scanning machines ocr licenses every sort contribution think charles b kramer attorney 72600.2026@compuserve.com tel 212 254 5093 end*the etexts*ver.04.29.93*end volume i chapter woodhouse handsome clever rich comfortable home happy disposition seemed unite best blessings existence had lived nearly twenty years very little distress vex her she was youngest daughters affectionate indulgent father consequence sister's marriage been mistress his house early period mother died ago indistinct remembrance caresses place supplied excellent woman governess fallen short affection sixteen miss taylor mr woodhouse's family friend fond particularly between them intimacy sisters ceased nominal office mildness temper hardly allowed impose restraint shadow authority being passed living together mutually attached doing just liked highly esteeming taylor's judgment directed chiefly real evils indeed emma's situation power having rather much way well herself disadvantages threatened alloy many enjoyments danger present unperceived did rank misfortunes sorrow came gentle shape disagreeable consciousness married loss brought grief wedding beloved sat mournful thought continuance over bride people gone left dine prospect third cheer evening composed himself sleep after dinner usual sit lost event promise happiness weston man unexceptionable character easy fortune suitable age pleasant manners satisfaction considering self denying generous friendship always wished promoted match black morning's felt recalled past kindness taught played five old devoted powers attach amuse health nursed various illnesses childhood large debt gratitude owing intercourse seven equal footing perfect unreserve soon followed isabella's their yet dearer tenderer recollection companion few possessed intelligent informed useful knowing ways interested concerns peculiarly pleasure scheme hers whom could speak arose never find bear change true going half mile aware great difference mrs advantages natural domestic suffering solitude dearly loved he meet conversation rational playful evil actual disparity ages increased constitution habits valetudinarian life activity mind body older though everywhere friendliness heart amiable talents recommended him sister comparatively removed matrimony settled london miles off beyond daily reach october november struggled hartfield christmas visit isabella husband children fill society again highbury populous village almost amounting town spite lawn shrubberies name really belong afforded equals woodhouses looked acquaintance universally civil accepted lieu melancholy sigh impossible till awoke necessary cheerful spirits support nervous easily depressed hating origin reconciled daughter's marrying nor compassion entirely obliged selfishness able suppose feel differently disposed done sad thing deal happier spent rest smiled chatted cheerfully thoughts tea say exactly said poor pity papa good humoured thoroughly deserves wife live my odd humours where advantage times dear shall coming meeting begin am far randalls distance walk nobody walking carriage james put horses while weston's stable talked night because housemaid doubt whether anywhere else hannah mentioned glad lucky slighted upon account make servant pretty spoken girl opinion whenever curtseys asks me manner needlework observe turns lock door bangs comfort somebody goes daughter hearing spared exertions maintain flow ideas hoped help backgammon tolerably attacked regrets table placed visitor immediately afterwards walked unnecessary knightley sensible eight thirty intimate connected elder brother frequent mutual connexions returned late absence brunswick square circumstance animated inquiries answered satisfactorily observed come out call afraid shocking sir beautiful moonlight mild draw back fire found damp dirty catch cold shoes speck quite surprising vast rain rained dreadfully hard breakfast wanted bye joy feeling hurry congratulations hope went behave cried ah tis business possibly regard comes question dependence independence rate especially fanciful troublesome creature playfully head certainly believe sometimes dearest mean horrible idea oh meant myself loves joke another fact faults told agreeable knew suspect knows flatter reflection persons chances gainer willing let pass hear behaved charmingly punctual looks tear face seen apart bears sorry lose thinks turned divided tears smiles acceptable secure provision therefore pain happily forgotten matter proved marry shook fondly replied matches foretell whatever pray none greatest amusement success widower perfectly constantly occupied friends wherever spend single alone deathbed others son uncle letting solemn nonsense subject believed met broadway lane began drizzle darted gallantry borrowed umbrellas farmer mitchell's planned blessed leave making supposes endeavour properly delicately endeavouring bring worthy employment young lady's imagine planning saying yourself idle talk merit proud guess known triumph cleverer depend merely luck talent quarrel claim drawn pictures nothing visits given encouragements smoothed enough comprehend straightforward hearted unaffected safely manage likely harm interference rejoined understanding silly break one's circle grievously elton whole fitted comfortably shame longer joining hands same service shew attention ask dare laughing invite fish chicken chuse six care ii native born respectable generations rising gentility education succeeding become indisposed homely pursuits brothers engaged satisfied active social entering militia county embodied captain favourite military introduced churchill yorkshire fell love surprized except full pride importance connexion offend command bore proportion estate dissuaded took infinite mortification threw decorum unsuitable ought whose warm sweet goodness spirit resolution pursue refrain unreasonable brother's anger missing luxuries former income still comparison enscombe cease once considered churchills amazing worst bargain poorer child relieved boy softening lingering illness mother's reconciliation kindred offered charge frank decease scruples reluctance supposed overcome considerations wealth seek improve complete became desirable quitted trade established favourable opening concern leisure occupation pleasures eighteen realised competence purchase adjoining longed portionless according wishes friendly begun influence schemes tyrannic youth shaken determination settling sale forward steadily objects view accomplished bought obtained beginning probability greater unhappy secured delightful judging truly pleasantest proof chosen excite choice tacitly uncle's heir avowed adoption assume unlikely father's assistance apprehension aunt capricious governed nature caprice strong affect deservedly saw report fine sufficiently belonging merits prospects common boasts lively curiosity prevailed compliment achieved generally proposed proper dissentient voice perry drank bates strengthened understood occasion morning mention heard says prized course formed pleasing irresistible sense source expression congratulation fortunate regret partial separation cooled ill missed losing hour's ennui companionableness feeble girls energy difficulties privations convenient solitary female circumstances approaching season hindrance spending evenings altogether moments enjoyment apparent taken surprize centre attended giving stay recovering likelihood ceasing weeks alleviation compliments neighbours teased sorrowful cake eat stomach different unwholesome regarded unfit earnestly dissuade vain prevent body's eating pains consulting apothecary gentlemanlike comforts applied acknowledge against bias inclination disagree perhaps unless moderately confirmation newly pair eaten benevolent nerves strange rumour perrys slice iii causes residence measure families horror parties terms fortunately parish donwell abbey seat comprehended unfrequently persuasion preferred fancied unequal company scarcely card standing westons liking privilege exchanging vacant blank elegancies drawing room lovely thrown goddard ladies invitation fetched carried hardship grievance widow vicar lady quadrille respect untoward enjoyed uncommon degree popularity neither stood predicament favour superiority atonement frighten hate outward boasted beauty cleverness distinction middle failing possible universal contented worked wonders quicksighted surrounded simplicity cheerfulness grateful recommendation mine felicity talker suited trivial communications gossip school seminary establishment professed sentences refined combine liberal acquirements elegant morality principles systems enormous screwed vanity honest fashioned boarding reasonable quantity accomplishments sold price sent scramble themselves prodigies goddard's high repute reckoned healthy spot ample garden gave plenty wholesome food run summer winter dressed chilblains wonder train couple church motherly entitled occasional holiday formerly owed neat parlour hung round fancy win sixpences fireside frequently collect sake concerned remedy delighted pleased contriving quiet prosings women fearfully anticipated looking close requesting respectful smith seventeen sight interest gracious dreaded fair mansion harriet several lately raised condition scholar boarder history visible acquired country happened admired plump bloom blue eyes light hair regular features sweetness determined continue struck remarkably smith's engaging inconveniently shy unwilling pushing shewing becoming deference seeming pleasantly admitted artlessly impressed appearance superior style deserve encouragement soft graces wasted inferior unworthy parted martin renting farm residing creditably coarse unpolished intimates knowledge elegance detach bad introduce opinions interesting undertaking busy admiring talking listening forming betweens flew unusual supper closed watch ready moved forwards alacrity impulse indifferent credit attentively honours meal recommend minced scalloped oysters urgency guests occasions feelings warfare cloth laid fashion conviction suppers hospitality welcomed visitors grieve basin thin gruel thorough approbation constrain clearing nicer propose venturing eggs egg boiled serle understands boiling hurt bit tart ours apple tarts preserves advise custard glass wine tumbler water satisfactory intentions personage introduction panic humble gratified affability treated actually iv quick decided inviting encouraging telling foreseen shrubbery divisions ground sufficed varied exercise confined ventured summon valuable privileges approved confirmed designs docile totally conceit desiring guided attachment appreciating shewed taste strength convinced granted sentiment distinct independent object basis esteem attempts usefulness parents questions discovered truth penetration chose farther teachers affairs naturally martins mill months describe encouraged talkativeness amused picture beings enjoying youthful exultation martin's parlours upper maid cows alderneys welch cow called drink dozen thinking immediate fancying son's appeared narrative sink forever inspiriting notion meaning led evidently dislike share walks merry games dwelt obliging order walnuts shepherd's sing singing flock bid wool spoke blush goose finest sunday asked nash prince richardson sup line yes reads agricultural reports lay window seats cards aloud extracts entertaining wakefield romance forest ride kingston horseback foot raise yeomanry precisely lower creditable 8th june birthday 23rd fortnight day's settle seem probably repent hence men afford beforehand afloat employed stock diligence indoors talks taking scrape acquainted objected follow fit misfortune birth careful associates gentleman's station degrading force firmly permanently advisable marries mere farmer's your's elizabeth educated ignorant vulgar watched fluctuations speech alarming symptoms admirer trusted serious difficulty harriet's side oppose arrangement road respectfully unfeigned survey yards eye robert contrasted gentlemen gained insensible voluntarily noticed gentleness admiration remained minutes kept waiting running smiling flutter compose happening chance towards forgot morrow happen undoubtedly compared entire expect clownish air imagined confess nearer mortified genteel repeatedly specimens bred seeing perceiving wondering awkward abrupt uncouthness wholly unmodulated knightley's compare gentleman plainly carrying speaking silent forty makes grows glaring disgusting loudness coarseness awkwardness becomes passable detestable later solemnly guessing completely gross inattentive appearances profit engrosses forgetting inquire market thriving thrive illiterate disturb remember answer grave displeasure itself elton's held pattern openness quickness bluntness likes humour copied downright commanding suits figure copying sufferable contrary model seems grown design ingratiating softness strikes softer repeated personal praise justice blushed fixed driving palpably probable feared predict equalled plan brain during expediency low fairly doubtful sufficient vicarage deficiency meetings foundation weight efficacy fastidious feature dispense riding conquered v supplying quarrels fight battle yesterday agreeing associate judge feels sex objection hand wants inducement twelve lists regularly neatly arranged alphabetically rule drew fourteen preserved expecting steady submit requiring industry patience subjection stimulate affirm persuade omitting refresh memory feelingly moment added charm senses spoiled cleverest puzzled assured slow diffident cope inherits dependent preparing material matrimonial submitting thank borne despair grow cross wantonness plague vexation quarter possibilities pretend genius foretelling flatterer worse undesigned ignorance hourly flattery learn presenting inferiority venture gain places belongs uncomfortable mistaken doctrines tend adapt rationally varieties polish anxious lament attempt deny seldom hazle brilliant countenance complexion height firm upright glance hears gives loveliness add personally appears lies dread equally stout confidence kinder truer qualities lead lasting blunder errs angel spleen brings john blind frightened unjust unkind excuse liberty consider somewhat hinting discussion supposing inconvenience apprehended accountable approves province advice remains fate alarmed outcry sincere excited anxiety gently declares cared hereabouts tempt creating slight state assure conceal respecting destiny suspected transition weather surmise vi direction decidedly hesitation assurance hints confident fairest falling scruple praised warmly wanting perception striking improvement proofs growing graceful attractions infinitely grace artlessness admissible contradict gallant decision points principally superadded skilful sighing animation lover seconded sudden likeness leaving stopt naivete sooner exclaimed exquisite possession passion likenesses attempted tolerable disgust delight entreat charming drawings landscapes flowers inimitable pieces raptures delicate difficult peculiarity lines mouth words answering persuaded proposal stand earnest pressing produced portfolio containing portraits finished decide beginnings miniatures lengths pencil crayon colours turn progress music labour sang steadiness approached excellence deceived skill artist musician reputation accomplishment higher deserved spirited companions ecstasies pleases performances capital variety faces study sitting stealth kindest unlike henry bella sheet eager refuse coarser featured mama's sketch fourth baby sleeping sofa cockade nestled down conveniently that's george corner unclosing length pet vowed provoked agreed flattering trouble persuading finish apologised unfavourable forswear husbands wives repeating declaration wait portrait destined honourable mantelpiece blushing attitude presented mixture fidgeting behind watching touch stationing gaze offence elsewhere occurred employ lessen irksomeness listened peace smallest intermission jump charmed displeased encourager discern complaisance throw considerably filling memorial associations promising entreated attending civilities courtesies accompanied rapid continual defended criticism suspecting addressing correct eyebrows eyelashes resemblance effect shade tall presents proportions fore shortening prettily draws doors shawl shoulders tree safe placing touched admirable framed depended doer commissions stirring fogs alert commission executing errand endure desired repetition entreaties assurances frame directions pack ensure safety incommoding mostly fearful incommoded precious deposit tender suit languish principal vii fresh services agitated hurried announcing extraordinary longing minute finding parcel besides songs lent contained direct wrote fast ashamed asking connect i'd pressed expectation grammatical composition disgraced language sentiments conveyed writer expressed liberality propriety delicacy paused anxiously forced slowly helped concise diffuse strongly takes pen vigorous certain returning speedily intelligible unequivocal doubts demurs expressions inflicting unbidden prompted write disappointment beg pardon mistake misunderstanding purport wording reserve continued contemplating persevered silence apprehend bewitching powerful hesitate duty hesitating safer graciously occur definition deceive instead confused thoughtfully mechanically twisted waited result impatience hopes suspense approving grieved wavering visited surmised forcibly aghast dreadful escape honour severe pang killed banished conceited conscience opposing censure natured visiting writing consideration consolation offending cares advised protest formation sentence replying tendency brace decisive ungrateful sealed bringing invited tone linen draper refinement teacher envy conquest appear dark attentions tittle tattle hitherto explained cheering rejected softly absent allowing bond street modest mounts horse solace opens introduces diffuses prepossession suspicious imaginations grew stronger viii slept gradually getting bed appropriated judged safest previously defer induced civility ceremony offering answers amusing contrast protracted apologies hesitations rude sun treat invalids privileged stranger substitute entertain walker pace tedious fetch greatcoat likewise seemingly inclined chat voluntary depends improved cured girl's giggle bestow overpower delay gossips tiresome wretches contradiction presently smile reason confidant dropt hint adviser offer desperately consult considers imprudent speaks plans advising esteemed counsellor detained wretch absolutely inferred refused red indignation simpleton foolish incomprehensible imagines madness clearer admit address loudly calmer asperity infatuation blinds claims relations simple experience wit avail tempered beneath deserts helpmate trust aright cry extreme crossed friend's partiality richest sphere moves degradation illegitimacy level allowance grudged indubitable gentlemen's whoever shift move distaste ambition proceeded disinclined haphazard selfish farthest reply assertion contemptible represent slightingly waiving possesses recommendations ninety nine philosophic fall minds certainty sought chusing consequently nice comprehending readiness highest possess abusing misapply delights bewitches satisfies pick wondered receives perceive unfortunate puff working weak produces mischief expectations offers connecting obscurity prudent disgrace involved mystery parentage revealed greatly teach desperate master's canvassing angry application abide refusal tolerate assistant altered errant sincerity unconcerned habitual opposite unpleasant views secret projects laughed disclaimed sentimentally act unreserved pounds apiece doings abruptly vexed promoting sanction affair provoking exceedingly indistinctness her's adversary's materially cast adequate restoratives staying uneasy man's pleading failure prominent uneasiness woman's justify pretensions observer hastily resentfully inconsiderate attentive war motives effects overcoming prudence originally attend sick clayton park whist club remonstrated shabby player journey enviable bearer conscious rode significantly luckiest agreeableness ix forgiven proceedings justified endeared elegantly sighed visibly remembered furnished utmost latter improving chapters intention easier pleasanter imagination range labouring enlarge comprehension sober facts literary pursuit mental collecting transcribing riddles quarto hot ornamented ciphers trophies literature collections grand scale assisted invention recollect worth putting ended kitty frozen riddle intellects requisition contribute enigmas charades conundrums intently recollections ungallant breathe lips politest puzzles recited charade doth affliction denote destin'd antidote soften heal transcribed security freshness stupidest fellow inspire inspiration piece addressed collection expose deep moment's pause tremor loth examine pomp kings lords earth luxury ease behold monarch seas reverse freedom flown lord sea bends slave reigns thy supply approval beam pondered caught passing puzzling confusion dulness courtship addresses approve epithets justest humph benefit convince crisis observations eagerness kingdom neptune trident mermaid shark syllable mermaids sharks listen court ship cream follows resist concluding pointed completest clear eligibility congratulate confirm alliance embraces articulate arrive acknowledgment verses prologue play motto prose strangest smiths eltons courts pre respective homes sends channel smooth shakespeare passage michaelmas handsomest invitations preached abbots ran front peeped scolded staid arm cole conduct fools phrase rise satisfy nicely studied twelvemonth declining exception intent comparisons cheeks glow rejection committed beaming private divide couplet appropriation ceases poet capacities submitted parts publicity lasts pays tenderest refine betray improperly affix affixed overpowered tribute secrecy pushed proceed souls ridiculous recurrence inquiry dears fairy distinctly explanations complimentary conclusion aye nodded stanza kindled flame deplore hood wink'd aid near approach fatal garrick's christened catherine grandmama nursery easter lawyer inconvenient sadly necessity 28th thankful promises musing accomplish unwelcome submissive affected branch mama eldest chair grandpapa string knife knives grandpapas rough papas boys hardy misbehave sharp tosses ceiling frightful whichever preparation o'clock hero discerned push die ostensible dining promised conditionally thanked disappointing rubber re urged declined bow amiss doubtingly glanced examined smilingly writes effusion honoured replacing proudest parade speeches apt incline laugh indulge sublime charitable detached cottage leading angles broad irregular main abode dwellings rose smartened proprietor slackened observing remark yellow curtains admires intimately hedges gates pools pollards exteriors probabilities class contrive pretence housekeeper message induce tempted recollecting inducements fool husband's formidable image prosing undistinguishing unfastidious relative unmarried poverty celibacy narrow sport candour sour barely perforce illiberal contracted shilling sixpence resources occupations variation carpet affections avoided sensation fear parent warmer blinder nephews nieces niece bates's heaven forbid knightleys fairfax stomacher knit garters grandmother tires death topics superseded compassionate distresses relief counsel purse temptations romantic virtue troubles sympathy intelligence sickness remaining impression scene sights trifling creatures vanish hedge tottering footstep slippery stopping wretchedness recall bend trial stability exertion sufferers wretched empty distressing ourselves joined sufferings parley accompany increase footpath imitation stopped lacing boot stooping begged overtaken setting orders pitcher broth acting ahead obligation involuntarily child's theirs around join detail experienced yesterday's cole's stilton cheese north wiltshire butter cellery beet root dessert consoling interests serve quietly pales arrange broke lace dexterously throwing ditch stop acknowledged inability equipped ribband proposition exceed alertness conducting communicated ajar fully incessant practicable lovers windows aspect glory schemed successfully purposely gallantries allusions cautious advances inch hazard believes ingenious device xi superintend quicken measures anticipation reality henceforth prime fortuitous rapidly somehow surry exciting vacation holidays autumn bathing nervously apprehensively forestalling fatigues coachman alarms needless competent maids reaching bustle arrival variously dispersed noise endured respected maternal solicitude ones instantly attendance drinking playing disturbance restless wrapt doating tenderly ties inherited fears wingfield alike benevolence habit profession reserved prevented capable unreasonably reproach perfection worshipping clearness ungracious escaped injuries calmly blindness regardless forbearance peculiarities fidgetiness remonstrance retort bestowed charity properest unsullied cordiality seated shake grievous agrees plaintive hesitated excepting false doubted disengaged forget strike convenience aside advocate misery slighting existed flying henry's kite windy september scarlet fever cobham passes fly exceeding weymouth dated sept madam signed f c coolly finds depending affords bordered sufficiency whence resulted xii disagreement procuring concession quarrelled assist restoration danced aunt's arms unceremoniousness amity sauciness whim dealings discordancies lives lapse understandings example renewing grievances argument bitterly disappointed d'ye succeeded english burying calmness indifference requisite conversable subjects rarely mixing occasionally communicative magistrate curious anecdote field local fail longest attachments drain fence felling destination acre wheat turnips spring corn equality cooler rendered interrupting labours terribly tired unpersuadable article basins ordered discourse south strenuously weakness bella's throat unsafe envious miserable prohibited forgets bilious practice calling attributed embrocation wingfield's applying bateses colds prevalent heavy influenza sickly confound neighbourhood airy vicinity aches palpitations pale turning middling fatigued doctoring coddling graham's intending bailiff scotland prejudice praising accidentally excessively colonel campbell topic discussed similar harmony agitation comments undoubting wholesomeness philippics houses unfortunately failures recent cook hired dangerous shaking fixing ejaculation ear consequences rumination suffice restore relish interval moreover unhealthy mud cromer holds pure lodgings consulted stake travel reached law's breaking coast drugs sarcastic dryness interposition moving langham cut meadows conceive proving maps harsh reflections unconsciously attributing soothing renewal xiii swiftly mornings engagement avoiding denial preference division amounted occupy carriages especial numbers 24th doom feverish sore excluded unavoidable absences representing comfortless advanced invalid carry glowing despatch roast mutton rice pudding hastening describing complaint inflamed heat pulse liable throats alarm infectious putrid risks tranquillised excess remain feed snow interfere hoarse demand previous conceptions impartially vision muttering rejoicing extricated civilly accepting prompt exulting employments dignities duties naming parting assuring news balance overlook moderate negligent slyness astonishment imagining regulate behaviour accordingly ascertain blunders mistakes increasing coldness shrinking punctually motion flakes sky overcharged milder white happiest abroad sacrifice disagreeables drive expressing discontent encounter absurdity snowing folly people's deem thinner clothing defiance shelter dull dismal servants shivering colder rooms assent emulate usually administered travelling complying quarrelsome heroism glasses wrapped arrived step spruce dressing lengthened dress flattered cordial complaints estimable lasted dismay sheepskin precautions contrivances modern fenced guarded breath unpermitted afternoon ha snows seasonable extremely invites snowed se'nnight astonished fires values hospitable select accommodate enter slavery sweep gate xiv joyous disperse related arrangements perplexities uninterrupted communication gratifications oddities enjoy enjoyable engrossed insensibility elbow continually obtruding solicitously avoid internal transfer absurd insufferable zeal effort preserve positively amongst overpowering syllables reviving replete coupled sensations timed appearing polite substance released saddle assented sacrifices january secrets frank's stir issue nodding vagaries whims caprices stone devil wishing undergoing sanguine stands spare blessing instinctive confinement gladly apprehensive delays braithwaites jealousy jealous teazed man_'s decides caution individual nephew owes exercises xv lateness chatty convivial separations augmentation improprieties awake terror perverse infection earnestness chamber learnt concealing inconstancy abominable behaving implore persuasions disorder scrupulous careless nurse catching ulcerated complain assuming offended removing reproof succeed examining opened covered drifting wind prove engagements storm consternation pursuing unfeelingly two's impassable blown bleak confessing lest hurrying impede accommodation contrivance lodged exclamation representation revived blocked adventurous accumulations drifted along shod discussing nowhere whiten clouds coachmen tidings appeased urging recommending brief ring bell rung deposited cool recover carefully discovery darker stept escorted lawfully shut tete suspicions quarters restrain gravity seized demanded violent availing declaring hoping fearing adoring ardent unequalled unexampled resolved seriously apology diffidence professing vainly resolve drunkenness deliver accent boastful amazement drunk elevate confuse protested suspicion injurious slightly acknowledging resumed urgent inebriety presumption fewer struggles politeness witnessed unsteadiness professions dead alive misled sole marking adoration insinuating uppermost joyously interpret confesses error attraction affronted respectably ends misconception inequality supplication swelling resentment emotions zigzags embarrassment indispensable coldly proudly indescribable irritation trembling dangers solicitous perturbation needed separating xvi curled overthrow development blow humiliation mis doubled unmarked dubious jumble thick headed unnecessarily instant indebted start indiscreetly shewn mortifying respects sunk proposals insulted arrogance pretended sighs abundance devise allied aggrandise enrich heiress gradations younger ancient landed inconsiderable notch belonged secondary alliances raving incongruity honesty complaisant courtesy motive warrant ordinary observation misinterpreted adventuring trick introducing william coxe pert relapse dispiriting cogitation explanation future continuing discontinuing subduing eclat unmirthful blundered temporary gloom analogy operation poignant unclosed softened brighter alleviations disappoint acute retentive principals asunder atmosphere unsettled frost thaw unfriendly freeze prisoner excuses absenting confine wise seclusion cleared amiableness hanging xvii lamentations doated innocently feminine ceremonious proposing bath compliance regretted impossibility retain commands agreeably announced pointedly solemnity acknowledgments lonely promptitude recovered undergo penance destroy industriously feeding grossly convictions prophecies confession renewed blaming testifying ingenuousness lowly modesty attaching abundantly artless dignity console resemble welfare minded discreet repressing promote unvarying striving inadequate sympathise extinction composure routine betraying maintained non resolutely inevitable strive unrequited evident persisting removal effecting cooling moderation repellent wound cure xviii distant occurs proportionate depression flies begins restored foresaw suffer suffered churchill's temptation announce gala ending perceived arguments unnatural luxurious contrived master tempers conceived limb amount rid idlest haunts watering proves unfair interior chuses manoeuvring finessing vigour messages rightly simply opposition situations loud shifts expedients meanly exerting hearts principle consistently bending knack unmanageable transported obedience observance burst nought roused opposed yielding notions expert flourishing falsehoods hit preserving preventing singular doubly omission signified behindhand french aimable plausible treasure virtues throughout parishes powered chattering coxcomb farming enable require breathing king practised politician conduce display dispensing flatteries puppy prejudiced month's sins presumed imperfection contributing scanty counteract waste floor sized apartment cordially knitting warmest thanks beaufet coles ceremonies ball commendation handsomely wander mistresses misses jumped usher dancing inquiring unexpected eagerly hunting huswife hid apologise fills crosses hetty checker ma'am pore amazingly god spectacles fairfax's handwriting beautifully nobody's deaf jane's twice pondering meanwhile deafness raising remarkable deafer friday saturday tuesday wednesday campbells ireland dixon impatient kingdoms countries declare dixon's press dublin baly craig blame animating insidious excused accompanying joint backward whirling sails dashed presence prefers devoting wisely 7th hang considerate unwell holyhead monday flurry drawback poorly unlucky bless guard story glancing detain regained orphan lieut regiment infantry fame save dying action sinking consumption fondling engrafted officer deserving camp saved england guest fondness campbell's educating appointments subsistence hereafter discipline culture lighter masters abilities nineteen qualified instruction sharing judicious sobering suggestions remind unseen unfelt unabated defies eligibly bread earn fortitude novitiate retire retained wiser resisted relinquished compatible weakened varying human discharged truths double treble recovery welcoming novelty accusation refuted examination acquit eternal fuss reasons imputed magnified injured depreciating fat likeliest grey lashes denied skin cavil colour fuller reigning admire twofold complacency rendering determining entitling started pitiable seduced actions mischievous suggested successless sucking poison sharer purest resolving effectually career laborious recantation prejudices relapsing provocations reappeared description ate exhibitions caps workbags offences necessarily affectation greatness performance cloak disgustingly suspiciously dixons bent insight suitableness smoothness delineated distinguished artifice surmises changing procure forgive provocation openly papers swept entertained undone instrument grandmother's indulgence deficient muffin handed arch arises discretion perseverance appease porker loin leg pork steaks fried grease hind salted salt boils turnip carrot parsnip hither quickest bountiful sound bonnet spencer patty salting pan washing kitchen hawkins desires regards oppress lot goodly heritage sly precise neighbour joyfully absorbing starting appeal standard pew wonderings worn whispered discoveries aspired lets chatter humouredly talkative runs strictly shower lamented strangers detaining rush heated thither evidence corresponding unchecked pour gown ford's woollen haberdasher's shop dealt fainted umbrella buyings whispering tremble can't courage stables floated kindly sincerely wounded genuine disturbed discerning exerted trifle rejoice subordination learned serviceable deadening shock retaining seeking condescension dies hawkins's circulate christian series debased deeply gay caring defying augusta thousands l thereabouts rapidity distinguishing glorious steps accidental rencontre green's brown's blushes richly scattered sweetly congratulated fearless cautiously preparations pique pretension spread inseparably moral lesson profitable administer lessened solicitudes awkwardnesses individually vaunted disdain attainable uncertain blood bristol merchant mercantile hazarded guessed drudge stupid grandeur alas vacancies reappearance glimpse somewhere shoulder favouring warmth conjecture perpetually furniture invariable irritated ceaseless repetitions hat entertainment waverings variations predominated unhappiness dared driven dissipate occasioned absolute neglect ingratitude determine formal drove applications recurrences glossed stars trunk rev philip lifted butcher's cart coaches gravel espalier trees revive portion summons unattended solitarily collected merest commonplace measured pencilled marks memorandums wainscot shortness thankfully justly resent separated process refreshment leaned murmurs commonest accosted oxford dry resisting quieter reanimation exhausted route sparkling unconscious innocent injunction amendment mounted wore sluggish augur geography tranquillity faithful pupil eleven soliloquy downstairs overcareful fidgets clock hall midst liveliness earlier quicker creep faster needs presume admirably falsehood handled exaggeration horsewoman rides balls musical proportionably fathers reception wisest conferred thanking qualify extravagant acquiescence detected exemption foreseeing objecting treachery nights unmixed crown hay errands yours barnes mixed concurrence fashionable ordinarily gifted tongue hearty puddle sees hop permitted nod engage companionably constant bearing construction amends hyperbolical securing confessed oftener quest positive insincere inn post built sashed contemplate capabilities environs furnish particulars argued prevail inclinations inelegance holding cheap facing recollected successful preparatory betrayed utter deplorable defence hue peculiar disputing attends informs citizen buy sell gloves patriotism adored popular guinea sleek tied parcels men's beavers york tan displaying counter amor patriae stretch pronounce commit claiming discreetly leaves conclude hesitatingly plays vouchsafed sensibility sounds recur oneself stupidity improper quickly checking scenes outwardly critical wickedness prone idolized repulsive quality oftentimes conquering perpetual cautiousness pitied shared blockhead accommodations inevitably inroads housekeeper's butler's pantry willingly freak chaise foppery accord rationality unselfish extravagance restlessness heedlessness charges blot marked harshly leniently allowances excesses bowed bows newspaper hum instant's relieve provoke bearers opportune occurrence unpretending unexpensively yielded larger insult accounting assembled consisting dance bare acted owned solicited folding screen draught persuadable briefly neglecting numerous resigned dews desirous incumbent lessening allay deliberately treatment decline breaks person's mortify reminding touches malt liquor risk hurting piquet hungry butler concealed unspent undaunted moralised impudent handle gloried achievement ostentation evasions defend vanities inference failings propensity amply noticing helping slices practise plentiful owner bravado unconcern taller nonsensical strongest dexterity unobjectionable male cox's females politics surrender pleasantness remote relating pianoforte dialogue ensued broadwood's bewildered rejoiced delightfully instruments slap pitifullest spinet indulging entrapped nay untouched testifies acuteness mode elderly guide extend reflect privation february march cases adopt noble honestly accident overboard vessel consequent durable observable interrupted courses orderly dish injure unconvinced reasonings giver paternal amid everyday remarks jokes entree exult blooming heartily unsentimental pangs shedding purchased guilt dwelling pedal unsuspicious heroine's en passant divined restrained hated cox abundant despise questioned visitings reasonably retirement boast across rousing outree curls irish improvidently distinguish soul thoughtful assisting humane humanity unostentatious disinterested consent amazed supplanted imprudence revolts mad sheep library shameful haunting petticoat petticoats mimic divert irritate louder drown mysteriously lamenting reproached sign combated gaining yield limitations perform accompaniment song correctly duly accused roundly asserted resign vocal instrumental sung voices momentary interruptions objections subside injury deduction touchstone conveying cutting disinclination dwell surprizes enhanced oath fatigue falls indignantly touching mercy concert performers originating space dances waltz top dancer mustered rarity suddenness matched partner languid dignified repaid splendour transgressed submission unfeignedly unequivocally idleness vigorously comforted lamp sunshine valued execution italian coxes producing dined anne impertinently swayed muslins traffic busiest stray obstinate mule liveliest butcher tray tidy homewards basket curs quarrelling bone dawdling baker's eyeing gingerbread enlarged knocked shopping fidget palatable wretchedest reward muslin figured ribbon ford job fastening rivet saunders hindered chimney sweeping mistress's baked apples wallis wallises uncivil custom eats gets fruit dumplings dumpling oblige ribbons ye wrist medley fasten exceeds fondest closet baking sack orchard famous shocked larkins distressed bushel bake boil hodges sacks signify remainder unluckily upstairs narration pursued desultory staircase narrower deprived slumbering deedily livelihood silversmith uninterruptedly unevenness wedging emotion bars feebly discrimination pronounced notes prize broadwood whisper random instrument's indefinite contingencies conveniences conjectures workmen tongues labourers conjecturing restoring healed waltzes worlds tune coloured cramer melodies shews compunction apparently cherishing reprehensible key robin adair shortly descried casement d commandingly listeners scepticism deliberating store watches instances successively accrue felicities wicked aids pacing dimensions discovering largest readiest undertook reckoning portioning gilberts gilbert cousins speculation score wild thoughtless inconsiderately resorted deemed endeavoured magnificent demurred crowd gravely measuring art willed forgave purposes certified terrors waits exchange repeat explain representations aired inhabited bodies surely curtain sash complains stokes undertakes carefulness measles wrap perry's council forlorn candlelight clean exchanged nonsenses perplexity ballroom's voted selves draughts miserably crowded sandwiches scouted infamous fraud briskly stairs chief properer brisk minor lights trifles approver fro suggesting overhearing term feasible proceeding uncertainty prosperous affording noisy larkins's week's aimed indignant reprobating joyful urge nephew's unwillingness forwarded repugnance finale exclaim reflected total redeem dejection horrid seize destroyed doubtfully surpass consciously argumentative forerunner forcing reflecting embarrassed completed incapable procrastinating correspond correspondent constancy listlessness weariness thing's insipid oddest mourners triumphant contradicted opportunities woeful odious headache impute unbecoming languor dialogues inventing imaginary quit struggle foresee replies negatives allusion denotes inexcusable supposition build changeable perusal undervalued exterior attractive precision flourishes keenly restraints unadorned wreath lowest adieus gratifying stimulative folded unchanged subsequent clothed advantageous speculations confirming behalf latest disappearance attained ringing soothings ingenuity convincing submissively painful exert violence tenderness beat clearest sighted invaluable names changes devotion retreated vexatious shorten unpretty permit hasty witty clothes bashfulness affectedly composedly shine familiar maple grove suckling's grounds favourably entrance appealed astonishingly exclaiming reminded transplanted strikingly laurels profusion bench enchanted extensive attack dyed overrated beauties counties silenced exploring explore barouche landau preferable suckling explored king's attract proverb selina stuck paling mix unknown waters wonderful secluded host partridge resided impolite auspices dashing reproofs outrage changed precedes performer doatingly passionately devoid mediocre e accustomed smaller spacious apartments outstepped pardoned concerts establish weekly allies jeffereys clara milmans bird cooper enumerate fright wins affirmative gentlewoman e.'s caro sposo upstart airs underbred finery bosom diverted glibly departure hurts remiss neglected avowedly lending baits breeding retract interview presuming enliven congratulating commend unimpeded sneering conjugal colouring enmity disrespect broader vent contemptuous solicitation plea befriend forfeited knight errantry rave ladylike flower fragrance desert verified calm timid timidity prepossessing wright partake housekeeping eligible wear conciliating punishment merited protection heavens dares ing limits licentiousness paradings exclusively decorated guidance patroness meditated guileless worthies affable condescending astonishing penury professedly midsummer pressingly exist refusing inflicted decree issued puzzle quits condemn reproachful faint gratify dictated pronouns thou plainest implanted awes treats comparative littleness irresolute buttons leather gaiters pressure reverie wittier calls appellation vulgarity consents weighs faith deed insulting detailing permanent accuse sensibilities controul alluded conversed triumphantly flowed apprehending dissipated dinners rout cakes ice tables candles unbroken packs waiters refreshments exposed pitiful stipulation bottom deciding eighth accounts begging stricken relates professional ninth immaterial reluctant unexpectedly summoned devote pearls wet saves drops count situated curse outlived imply concentrated quivering lip claimed mildest urbanity plants stockings remonstrances patiently persuasively cough fetches obviate insuperable needlessly grandmama's regularity regulated deciphered increases clerks improves capacity served prevails teaches teaching roundabout vindicated base aspersion desk specimen employing dryly fetching encountered expedition mails tongue's abstained engross repressed april candidates cousin bragge infinity wax schoolroom bragge's dispose july inexperience amuses unemployed offices flesh intellect fling abolition widely victims advertising mortifications entitle harp stipulate honourably gaily beau quaint disgusts selina's trimmed ornaments minority show trimming silver poplin reassembled judges mute finishing sleety finger prolong shrugged confers subdued audible fluently weighing observant overheard interruption precedent fellows southward sixty complained conservatory constitutions grant antagonist incredible nicety travels sheets precaution land interposed beheld disclaiming clifton stationary retired immense plantation desponding untowardly mend hymen's saffron robe dispel gloomy cheerfuller disappointments coughing mentioning genial cheerless prodigy implicitly injustice traits instigator wife's indolent helpless insolence inclines churchill'd mighty upstarts annoyance tupman encumbered west birmingham direful tupmans happens nearest resident worry comprised spoil physic preclude encumbrance witness gaieties goings heretofore unnoticed dissipation fare subsided entangled anticipating tranquil influenced stories fluttered belief group trusting randall's wilful declared weaker medicine richmond medical eminent appreciate indisputable manchester obstacle morrows lightened sanguinely arriving contents desire closely inspection confidantes heartedness modes privy councillors proprieties graciousness qualifying candidly puppyism puppies tolerated chained expeditious gestures movements excellently lighted aladdin's olive feet drop mat here's transformation complacently hairdresser dr hughes where's richard otway caroline arthur roasted coffee complimented patient styles praises drowned suspension tones disapprove frown interfered rub festivity standers classing players pretending rubbers bulky forms row ballroom criticising flirtation recordable events productive dancers sauntering sitters maintaining omit significant glances arranging glee cruel bounded hardened audibly goodnatured spoon tippet begs nailed quantities matting biscuits throws inquired partners forestall queen fricassee sweetbread asparagus dishes soup smells irresistibly reprobation unpardonable rudeness wounding enemies scold flatterers leads lazy asleep impertinence ruin satisfactions suddenly enabled harbour quickened freshened demands iron leaning faints bickerton shaded elms patch greensward gipsies scream steep bank cramp mount powerless terrified trampers courageous assailed clamorous impertinent tempting gang demanding conditioning insolent delayed scissors clinging adventure coldest steadiest linguist grammarian mathematician imaginist foresight groundwork chancing rescue mania partially fervour clung impelled passive concealment night's trembled indisposition invent operations dwindled tenaciously slightest recital seriousness reserves gifts treasures unfolded tunbridge ware lined softest cotton plaister penknife jumping saving relic pocket senseless tricks secretly pulling memorandum beer brewing treasuring burn remembrances gipsy undesignedly minute's debate dealing speed results veneration inexpressible henceforward obstacles kissed connivance sucklings defeat unison indiscretion void remembering cowper twilight dreamt dream dreamer dreaming premature heap absurdities dreams pop preceded suppressed circular pembroke meals alphabets quietness game pointing buried exultingly proclaimed cheek lain involvement disingenuousness vehicle deeper distrust blinded demure sedate excessive darting covert averted closing preconceived unexamined dusk sting imparted fruitless twentieth expressive vouchsafe essay arisen staggered prolonged wheres hows gaiety coolness fed speedy importation novelties stores interchange restricted eventually introductions hill picnic surprise acceded arrear severity goodwill secures pigeon pies lamb lame useable stagnation vexations strawberries ripening plainer strawberry beds cabbage carte blanche delegating preferment authorised humourist baskets pink gardens gather meat inspect anything spurn donkey donkeys purchasing dust dirt dusty borrow blunt specious lurking horrors upbraid credulity unasked dispensed bright mid al fresco listener sympathiser viewed building characteristic sheltered stretching washed stream timber rows avenues rooted covering rambling untainted unexceptionably indulged apparatus gathering sorts hautboy eatable hautboys scarce chili wood flavour cultivation gardeners delicious cherries currants refreshing overhear circles spheres ranks negative insisted morrow's pertinacity insensibly avenue limes river wall pillars erection disputable termination slope steeper abruptness curve verdure oppressive scorned appendages prosperity pastures spreading flocks blossom column smoke ascending agriculture mare repast ponds clover damps stirred engravings drawers medals cameos corals shells cabinets methodical plot lime wearied quitting endurance st mark's venice blameless seizure intolerable defined humanely hotter relented discomposed swisserland sketches tour poem climate prescribed penetrating hardships thwarted madeira par crosser crossness concluded final exclude acceptance punctuality officiating travelled union harmonise collation enlivened admission estimation flirted laying playfulness winning commanded overcame broken bounds management dating unanswerable lowering impudence accents swell mickleham dorking rouse presides swelled presiding carelessly brunt emphatically chaperon mutterings murmured unheard waives verse engages shan't mock conundrum reckon alphabet m em ma gratification explains acrostic vivacity rued confederates oppression educate undertake excepted referring overtake car pitch merriment depart questionable assorted unfeeling generosity honouring irksome blended prevalence liberties badly infant advancing motionless combined reproaching sullenness brutal fagged misspent abhorred gammon sweetest unmerited confiding scornful contrition penitence conferring deriving ridicule ushered escaping volubility twinkling dispersing lie knock ungenerous smallridge indefatigable smallridge's fatiguing bragges salary sums earned abdy's clerk ridden rheumatic gout joints john's ostler accumulation ostler's messenger tom astonish houseroom pensive meditations graver carries heightened instantaneous movement undecided dilatory unfinished diverting disagreeableness disturbing background hasten foreboded departed surviving goldsmith stoops disliked acquitted fancifulness mourning moralising hems commiseration earliest awe rested benefited freed guidable refrained endanger maintenance communicating funeral windsor lavished testify verbal headaches deranged appetite pulmonary undertaken derived tremulous airing classed niece's diet nourishing distasteful arrowroot despatched wandering peremptorily inconsistency reprove unaccountable hush sacred relate undesirable agony inspired otways abhor resuming averting conversations believing utterance protestation darling persevering placidity misunderstandings expressly impropriety integrity adherence transaction indelicacy extenuations excusable system secresy vault undue survive hypocrisy deceit espionage league duped comparing intreat deviation their's world's condolence briskness palliate tormenting constituted deepest dupe misconceptions prophetically disservice guilty risking insufficient insignificance rival repulsed rack storeroom disengage elevation engrossing communicate token recently disclosure unable owning perplexed privately cautioned stoutly misunderstood assert protecting modestly withdrawn silently meditating arrow indelicate irrational demerits enquired forfeit counsels tremblings unsteady threatening perplexing inward delivered feebleness tautology corroborating latterly closest agreement unsuspected relation multiplied undiscerned occurrences enquiring alluding bitter intentionally worship footsteps spontaneous amidst rushed deceptions practising posture weakly imposed imposing involuntary latter's institute delusion sorrowfully threadbare stale debasement sneers inconveniences captivated inconsistent incongruous sequel stoop worldly inexpressibly wilfully impartiality overrating incompatible wretchedly frightfully decisively confidential waking elect essential engagement's rapturous affecting converse effusions pent energetic uttered attestation consented misconduct expiation contributed inquietudes captious irritable unanswered closer foolishly harboured unpardonably levity carelessness surrounding enemy stabbed stormy shrubs despoiling hartfield's erroneous deserted forebodings dispelled brightened ruined tie losses seconds loneliness reign smell serenity intimation unquestionably do's constrained pained doomed scoundrel steadier rewarded clemency sets ingeniously underrated calculation vouches disinterestedness purity mortals meets gains weary envied avert startled unsaid confide reconcile indecision alternative ungraciously contemplation refer awakened blamed lectured velocity groundless discouragement attendant render sublimity vouchsafing flight astray despaired crushed disguised relenting soothe enchanting enlightened witnessing differing inferiorities brilliancy stayed gladness keen faultless villain daring respite western plotting breast lungs impending articles contentment sleepless wept sin divested streets shops stolen literally figuratively reinstate deprecated waded packet forwarding enclosed preface nervousness ungenial east w rises hazards discuss caviller brick casements creation bursts obtaining correspondence inheriting inheritance lands absented reprehension excites dropped indicated goodhumoured expiration penetrated extenuation sinned acquittal brotherly queernesses designedly suppress insane encroach unseasonableness 26th ult shrunk retrospect shamefully blameable disapproved dissatisfaction consistent objectionable particularity consenting useless officious filled hatred extended bandied repentance dissolved multiplicity locked stating adding misconstrued subordinate conveyance requested stared accordant descriptive threaten raved wan dictate undoubted subscribe foretold another's impartial distrusted disapprobation fathomed intrigue finesse pervert boyish contend suffers thanker tens inconsideration thoughtlessness acquire attacking inadmissibility transplantation evinced sacrificing unprovided expectant saucy detecting contemplated outweigh periods cheerlessness involve loser worshipped reproaches usage bordering desirableness stroke resorting tooth dentist haunted enduring appointed agitating similarity unsuccessfully checked expedient compress congratulatory accounted penetrate fold purple gold reticule nods admits mum an't minister managed palpable physician cloud commonly whispers magistrates overseers churchwardens crayons applicants bar consultation denoted smallness patronage solidity insinuate greeted dutiful sample broiling fields woods protesting indignity eccentric harry sideboard receipt william's aggression wearying collectedly disgusted owe artificial sons sports freaks fancies la baronne d'almane comtesse d'ostalis madame de genlis adelaide theodore infancy bitterness spoilt endeavours lecture dint thirteen anna fits terseness k n womanly follies attribute corresponded unmentioned enters complimenter differ oppressed unprepared bound affectionately marriages secondly feigning singularly renounced disposing impediment shifted knee outgrown familiarise sagacity disagreements habitation daringly abused agitate composing flushed intends recourse workbasket chambers astley's coach overflowing broadly respectability misunderstand shows cattle drills ox emphasis brightest utility james's disappearing lessons humility circumspection thankfulness resolutions doleful heartfelt disguise equivocation hateful gayest conniving figures stays embarrassing forgiving doat forbade transgression northward accession archly dog tricking mirth readier dispositions bids gesture inclining jewels ornament infant's commended disordered partly obtrude entertainingly regarding completion xix intervals unbiased presumptuous fullest unqualified unintelligible tradesman decent vouch stain unbleached nobility liberally created gradual impair clergyman altar intermediate fortnight's seaside sounded hopeless resignation acquiesced befriended illumination poultry robbed turkeys pilfering housebreaking protected weddings detailed satin veils stare deficiencies predictions band finis "
     ]
    }
   ],
   "source": [
    "print(\"Words in the book that aren't in the word list:\")\n",
    "for word in diff:\n",
    "    print(word, end=' ')"
   ]
  },
  {
   "cell_type": "code",
   "execution_count": 79,
   "metadata": {},
   "outputs": [],
   "source": [
    "##Random Words\n",
    "def random_word(h):\n",
    "    t = []\n",
    "    for word, freq in h.items():\n",
    "        t.extend([word] * freq)\n",
    "    return random.choice(t)"
   ]
  },
  {
   "cell_type": "code",
   "execution_count": 84,
   "metadata": {},
   "outputs": [],
   "source": [
    "prefix = 'Mr'\n",
    "def shift(prefix, word):\n",
    "    return prefix[1:] + (word,)"
   ]
  },
  {
   "cell_type": "code",
   "execution_count": 86,
   "metadata": {},
   "outputs": [],
   "source": [
    "#Chapter14"
   ]
  },
  {
   "cell_type": "code",
   "execution_count": 92,
   "metadata": {},
   "outputs": [],
   "source": [
    "##Reading and Writing\n",
    "fout = open('output.txt', 'w')"
   ]
  },
  {
   "cell_type": "code",
   "execution_count": 89,
   "metadata": {},
   "outputs": [
    {
     "data": {
      "text/plain": [
       "24"
      ]
     },
     "execution_count": 89,
     "metadata": {},
     "output_type": "execute_result"
    }
   ],
   "source": [
    "line1 = \"This here's the wattle,\\n\"\n",
    "fout.write(line1)"
   ]
  },
  {
   "cell_type": "code",
   "execution_count": 90,
   "metadata": {},
   "outputs": [
    {
     "data": {
      "text/plain": [
       "24"
      ]
     },
     "execution_count": 90,
     "metadata": {},
     "output_type": "execute_result"
    }
   ],
   "source": [
    "line2 = \"the emblem of our land.\\n\"\n",
    "fout.write(line2)"
   ]
  },
  {
   "cell_type": "code",
   "execution_count": 91,
   "metadata": {},
   "outputs": [],
   "source": [
    "fout.close()"
   ]
  },
  {
   "cell_type": "code",
   "execution_count": 93,
   "metadata": {},
   "outputs": [
    {
     "data": {
      "text/plain": [
       "2"
      ]
     },
     "execution_count": 93,
     "metadata": {},
     "output_type": "execute_result"
    }
   ],
   "source": [
    "##Format Operator\n",
    "x = 52\n",
    "fout.write(str(x))"
   ]
  },
  {
   "cell_type": "code",
   "execution_count": 94,
   "metadata": {},
   "outputs": [
    {
     "data": {
      "text/plain": [
       "'42'"
      ]
     },
     "execution_count": 94,
     "metadata": {},
     "output_type": "execute_result"
    }
   ],
   "source": [
    "camels = 42\n",
    "'%d' % camels"
   ]
  },
  {
   "cell_type": "code",
   "execution_count": 95,
   "metadata": {},
   "outputs": [
    {
     "data": {
      "text/plain": [
       "'I have spotted 42 camels.'"
      ]
     },
     "execution_count": 95,
     "metadata": {},
     "output_type": "execute_result"
    }
   ],
   "source": [
    "'I have spotted %d camels.' % camels"
   ]
  },
  {
   "cell_type": "code",
   "execution_count": 96,
   "metadata": {},
   "outputs": [
    {
     "data": {
      "text/plain": [
       "'In 3 years I have spotted 0.1 camels.'"
      ]
     },
     "execution_count": 96,
     "metadata": {},
     "output_type": "execute_result"
    }
   ],
   "source": [
    "'In %d years I have spotted %g %s.' % (3, 0.1, 'camels')"
   ]
  },
  {
   "cell_type": "code",
   "execution_count": 99,
   "metadata": {},
   "outputs": [
    {
     "data": {
      "text/plain": [
       "'C:\\\\Users\\\\monee'"
      ]
     },
     "execution_count": 99,
     "metadata": {},
     "output_type": "execute_result"
    }
   ],
   "source": [
    "##Filenames and Paths\n",
    "import os\n",
    "cwd = os.getcwd()\n",
    "cwd"
   ]
  },
  {
   "cell_type": "code",
   "execution_count": 100,
   "metadata": {},
   "outputs": [
    {
     "data": {
      "text/plain": [
       "'C:\\\\Users\\\\monee\\\\memo.txt'"
      ]
     },
     "execution_count": 100,
     "metadata": {},
     "output_type": "execute_result"
    }
   ],
   "source": [
    "os.path.abspath('memo.txt')"
   ]
  },
  {
   "cell_type": "code",
   "execution_count": 101,
   "metadata": {},
   "outputs": [
    {
     "data": {
      "text/plain": [
       "False"
      ]
     },
     "execution_count": 101,
     "metadata": {},
     "output_type": "execute_result"
    }
   ],
   "source": [
    "os.path.exists('memo.txt')"
   ]
  },
  {
   "cell_type": "code",
   "execution_count": 102,
   "metadata": {},
   "outputs": [
    {
     "data": {
      "text/plain": [
       "False"
      ]
     },
     "execution_count": 102,
     "metadata": {},
     "output_type": "execute_result"
    }
   ],
   "source": [
    "os.path.isdir('memo.txt')"
   ]
  },
  {
   "cell_type": "code",
   "execution_count": 103,
   "metadata": {},
   "outputs": [
    {
     "data": {
      "text/plain": [
       "False"
      ]
     },
     "execution_count": 103,
     "metadata": {},
     "output_type": "execute_result"
    }
   ],
   "source": [
    "os.path.isdir('/home/dinsdale')"
   ]
  },
  {
   "cell_type": "code",
   "execution_count": 104,
   "metadata": {},
   "outputs": [
    {
     "data": {
      "text/plain": [
       "['.anaconda',\n",
       " '.bash_history',\n",
       " '.conda',\n",
       " '.condarc',\n",
       " '.gitconfig',\n",
       " '.ipynb_checkpoints',\n",
       " '.ipython',\n",
       " '.jupyter',\n",
       " '.matplotlib',\n",
       " '.spyder-py3',\n",
       " '.ssh',\n",
       " '.vscode',\n",
       " '3D Objects',\n",
       " 'Alboulayan_Assign2.ipynb',\n",
       " 'Alboulayan_classwork1.ipynb',\n",
       " 'Alboulayan_selfstudy1.ipynb',\n",
       " 'Alboulayan_selfstudy2.ipynb',\n",
       " 'Anaconda3',\n",
       " 'AppData',\n",
       " 'Application Data',\n",
       " 'Contacts',\n",
       " 'Cookies',\n",
       " 'Desktop',\n",
       " 'Documents',\n",
       " 'Downloads',\n",
       " 'Dropbox',\n",
       " 'emma.txt',\n",
       " 'Favorites',\n",
       " 'lesson-2-code.ipynb',\n",
       " 'Links',\n",
       " 'Local Settings',\n",
       " 'MicrosoftEdgeBackups',\n",
       " 'Music',\n",
       " 'My Documents',\n",
       " 'NetHood',\n",
       " 'NTUSER.DAT',\n",
       " 'ntuser.dat.LOG1',\n",
       " 'ntuser.dat.LOG2',\n",
       " 'NTUSER.DAT{53be9d69-b7eb-11e8-8513-b6ae2b2a61bc}.TM.blf',\n",
       " 'NTUSER.DAT{53be9d69-b7eb-11e8-8513-b6ae2b2a61bc}.TMContainer00000000000000000001.regtrans-ms',\n",
       " 'NTUSER.DAT{53be9d69-b7eb-11e8-8513-b6ae2b2a61bc}.TMContainer00000000000000000002.regtrans-ms',\n",
       " 'ntuser.ini',\n",
       " 'OneDrive',\n",
       " 'output.txt',\n",
       " 'Pictures',\n",
       " 'PrintHood',\n",
       " 'Recent',\n",
       " 'Saved Games',\n",
       " 'Searches',\n",
       " 'SendTo',\n",
       " 'Start Menu',\n",
       " 'Templates',\n",
       " 'Tracing',\n",
       " 'Untitled.ipynb',\n",
       " 'Untitled1.ipynb',\n",
       " 'Untitled2.ipynb',\n",
       " 'Untitled3.ipynb',\n",
       " 'Untitled4-Copy1.ipynb',\n",
       " 'Untitled4.ipynb',\n",
       " 'Untitled5.ipynb',\n",
       " 'Videos',\n",
       " 'words.txt',\n",
       " 'workspace']"
      ]
     },
     "execution_count": 104,
     "metadata": {},
     "output_type": "execute_result"
    }
   ],
   "source": [
    "os.listdir(cwd)"
   ]
  },
  {
   "cell_type": "code",
   "execution_count": 105,
   "metadata": {},
   "outputs": [],
   "source": [
    "def walk(dirname):\n",
    "    for name in os.listdir(dirname):\n",
    "        path = os.path.join(dirname, name)\n",
    "        if os.path.isfile(path):\n",
    "            print(path)\n",
    "        else:\n",
    "            walk(path)"
   ]
  },
  {
   "cell_type": "code",
   "execution_count": 107,
   "metadata": {},
   "outputs": [
    {
     "name": "stdout",
     "output_type": "stream",
     "text": [
      "Something went wrong.\n"
     ]
    }
   ],
   "source": [
    "##Catching Exceptions\n",
    "try:\n",
    "    fin = open('bad_file')\n",
    "except:\n",
    "    print('Something went wrong.')"
   ]
  },
  {
   "cell_type": "code",
   "execution_count": 108,
   "metadata": {},
   "outputs": [],
   "source": [
    "##Databases\n",
    "import dbm\n",
    "db = dbm.open('captions', 'c')"
   ]
  },
  {
   "cell_type": "code",
   "execution_count": 109,
   "metadata": {},
   "outputs": [],
   "source": [
    "db['cleese.png'] = 'Photo of John Cleese.'"
   ]
  },
  {
   "cell_type": "code",
   "execution_count": 110,
   "metadata": {},
   "outputs": [
    {
     "data": {
      "text/plain": [
       "b'Photo of John Cleese.'"
      ]
     },
     "execution_count": 110,
     "metadata": {},
     "output_type": "execute_result"
    }
   ],
   "source": [
    "db['cleese.png']"
   ]
  },
  {
   "cell_type": "code",
   "execution_count": 111,
   "metadata": {},
   "outputs": [
    {
     "data": {
      "text/plain": [
       "b'Photo of John Cleese doing a silly walk.'"
      ]
     },
     "execution_count": 111,
     "metadata": {},
     "output_type": "execute_result"
    }
   ],
   "source": [
    "db['cleese.png'] = 'Photo of John Cleese doing a silly walk.'\n",
    "db['cleese.png']"
   ]
  },
  {
   "cell_type": "code",
   "execution_count": 112,
   "metadata": {},
   "outputs": [
    {
     "name": "stdout",
     "output_type": "stream",
     "text": [
      "b'cleese.png' b'Photo of John Cleese doing a silly walk.'\n"
     ]
    }
   ],
   "source": [
    "for key in db:\n",
    "    print(key, db[key])"
   ]
  },
  {
   "cell_type": "code",
   "execution_count": 113,
   "metadata": {},
   "outputs": [],
   "source": [
    "db.close()"
   ]
  },
  {
   "cell_type": "code",
   "execution_count": 114,
   "metadata": {},
   "outputs": [
    {
     "data": {
      "text/plain": [
       "b'\\x80\\x03]q\\x00(K\\x01K\\x02K\\x03e.'"
      ]
     },
     "execution_count": 114,
     "metadata": {},
     "output_type": "execute_result"
    }
   ],
   "source": [
    "##Pickling\n",
    "import pickle\n",
    "t = [1, 2, 3]\n",
    "pickle.dumps(t)"
   ]
  },
  {
   "cell_type": "code",
   "execution_count": 115,
   "metadata": {},
   "outputs": [
    {
     "data": {
      "text/plain": [
       "[1, 2, 3]"
      ]
     },
     "execution_count": 115,
     "metadata": {},
     "output_type": "execute_result"
    }
   ],
   "source": [
    "t1 = [1, 2, 3]\n",
    "s = pickle.dumps(t1)\n",
    "t2 = pickle.loads(s)\n",
    "t2"
   ]
  },
  {
   "cell_type": "code",
   "execution_count": 116,
   "metadata": {},
   "outputs": [
    {
     "data": {
      "text/plain": [
       "True"
      ]
     },
     "execution_count": 116,
     "metadata": {},
     "output_type": "execute_result"
    }
   ],
   "source": [
    "t1 == t2"
   ]
  },
  {
   "cell_type": "code",
   "execution_count": 117,
   "metadata": {},
   "outputs": [
    {
     "data": {
      "text/plain": [
       "False"
      ]
     },
     "execution_count": 117,
     "metadata": {},
     "output_type": "execute_result"
    }
   ],
   "source": [
    "t1 is t2"
   ]
  },
  {
   "cell_type": "code",
   "execution_count": 118,
   "metadata": {},
   "outputs": [],
   "source": [
    "##Pipes\n",
    "cmd = 'ls -l'\n",
    "fp = os.popen(cmd)"
   ]
  },
  {
   "cell_type": "code",
   "execution_count": 119,
   "metadata": {},
   "outputs": [],
   "source": [
    "res = fp.read()"
   ]
  },
  {
   "cell_type": "code",
   "execution_count": 121,
   "metadata": {},
   "outputs": [
    {
     "name": "stdout",
     "output_type": "stream",
     "text": [
      "1\n"
     ]
    }
   ],
   "source": [
    "stat = fp.close()\n",
    "print(stat)"
   ]
  },
  {
   "cell_type": "code",
   "execution_count": 122,
   "metadata": {},
   "outputs": [
    {
     "name": "stdout",
     "output_type": "stream",
     "text": [
      "\n"
     ]
    }
   ],
   "source": [
    "filename = 'book.tex'\n",
    "cmd = 'md5sum ' + filename\n",
    "fp = os.popen(cmd)\n",
    "res = fp.read()\n",
    "stat = fp.close()\n",
    "print(res)"
   ]
  },
  {
   "cell_type": "code",
   "execution_count": 123,
   "metadata": {},
   "outputs": [
    {
     "name": "stdout",
     "output_type": "stream",
     "text": [
      "1\n"
     ]
    }
   ],
   "source": [
    "print(stat)"
   ]
  },
  {
   "cell_type": "code",
   "execution_count": 125,
   "metadata": {},
   "outputs": [
    {
     "name": "stdout",
     "output_type": "stream",
     "text": [
      "1 2\t 3\n",
      " 4\n"
     ]
    }
   ],
   "source": [
    "##Debugging \n",
    "s = '1 2\\t 3\\n 4'\n",
    "print(s)"
   ]
  },
  {
   "cell_type": "code",
   "execution_count": 126,
   "metadata": {},
   "outputs": [
    {
     "name": "stdout",
     "output_type": "stream",
     "text": [
      "'1 2\\t 3\\n 4'\n"
     ]
    }
   ],
   "source": [
    "print(repr(s))"
   ]
  },
  {
   "cell_type": "code",
   "execution_count": 127,
   "metadata": {},
   "outputs": [],
   "source": [
    "#Chapter15"
   ]
  },
  {
   "cell_type": "code",
   "execution_count": 128,
   "metadata": {},
   "outputs": [],
   "source": [
    "##Programmer-Defined Types\n",
    "class Point:\n",
    "    \"\"\"Represents a point in 2-D space.\"\"\""
   ]
  },
  {
   "cell_type": "code",
   "execution_count": 129,
   "metadata": {},
   "outputs": [
    {
     "data": {
      "text/plain": [
       "__main__.Point"
      ]
     },
     "execution_count": 129,
     "metadata": {},
     "output_type": "execute_result"
    }
   ],
   "source": [
    "Point"
   ]
  },
  {
   "cell_type": "code",
   "execution_count": 130,
   "metadata": {},
   "outputs": [
    {
     "data": {
      "text/plain": [
       "<__main__.Point at 0x17fa52fe828>"
      ]
     },
     "execution_count": 130,
     "metadata": {},
     "output_type": "execute_result"
    }
   ],
   "source": [
    "blank = Point()\n",
    "blank"
   ]
  },
  {
   "cell_type": "code",
   "execution_count": 131,
   "metadata": {},
   "outputs": [],
   "source": [
    "##Attributes\n",
    "blank.x = 3.0\n",
    "blank.y = 4.0"
   ]
  },
  {
   "cell_type": "code",
   "execution_count": 132,
   "metadata": {},
   "outputs": [
    {
     "data": {
      "text/plain": [
       "4.0"
      ]
     },
     "execution_count": 132,
     "metadata": {},
     "output_type": "execute_result"
    }
   ],
   "source": [
    "blank.y"
   ]
  },
  {
   "cell_type": "code",
   "execution_count": 133,
   "metadata": {},
   "outputs": [
    {
     "data": {
      "text/plain": [
       "3.0"
      ]
     },
     "execution_count": 133,
     "metadata": {},
     "output_type": "execute_result"
    }
   ],
   "source": [
    "x = blank.x\n",
    "x"
   ]
  },
  {
   "cell_type": "code",
   "execution_count": 134,
   "metadata": {},
   "outputs": [
    {
     "data": {
      "text/plain": [
       "'(3, 4)'"
      ]
     },
     "execution_count": 134,
     "metadata": {},
     "output_type": "execute_result"
    }
   ],
   "source": [
    "'(%g, %g)' % (blank.x, blank.y)"
   ]
  },
  {
   "cell_type": "code",
   "execution_count": 136,
   "metadata": {},
   "outputs": [
    {
     "data": {
      "text/plain": [
       "5.0"
      ]
     },
     "execution_count": 136,
     "metadata": {},
     "output_type": "execute_result"
    }
   ],
   "source": [
    "import math\n",
    "distance = math.sqrt(blank.x**2 + blank.y**2)\n",
    "distance"
   ]
  },
  {
   "cell_type": "code",
   "execution_count": 138,
   "metadata": {},
   "outputs": [
    {
     "name": "stdout",
     "output_type": "stream",
     "text": [
      "(3, 4)\n"
     ]
    }
   ],
   "source": [
    "def print_point(p):\n",
    "    print('(%g, %g)' % (p.x, p.y))\n",
    "print_point(blank)"
   ]
  },
  {
   "cell_type": "code",
   "execution_count": 139,
   "metadata": {},
   "outputs": [],
   "source": [
    "##Rectangles\n",
    "class Rectangle:\n",
    "    \"\"\"Represents a rectangle.\n",
    "\n",
    "    attributes: width, height, corner.\n",
    "    \"\"\""
   ]
  },
  {
   "cell_type": "code",
   "execution_count": 140,
   "metadata": {},
   "outputs": [],
   "source": [
    "box = Rectangle()\n",
    "box.width = 100.0\n",
    "box.height = 200.0\n",
    "box.corner = Point()\n",
    "box.corner.x = 0.0\n",
    "box.corner.y = 0.0"
   ]
  },
  {
   "cell_type": "code",
   "execution_count": 141,
   "metadata": {},
   "outputs": [
    {
     "data": {
      "text/plain": [
       "<__main__.Rectangle at 0x17fa5371470>"
      ]
     },
     "execution_count": 141,
     "metadata": {},
     "output_type": "execute_result"
    }
   ],
   "source": [
    "box"
   ]
  },
  {
   "cell_type": "code",
   "execution_count": 142,
   "metadata": {},
   "outputs": [],
   "source": [
    "##Instances as Return Values\n",
    "def find_center(rect):\n",
    "    p = Point()\n",
    "    p.x = rect.corner.x + rect.width/2\n",
    "    p.y = rect.corner.y + rect.height/2\n",
    "    return p"
   ]
  },
  {
   "cell_type": "code",
   "execution_count": 143,
   "metadata": {},
   "outputs": [
    {
     "name": "stdout",
     "output_type": "stream",
     "text": [
      "(50, 100)\n"
     ]
    }
   ],
   "source": [
    "center = find_center(box)\n",
    "print_point(center)"
   ]
  },
  {
   "cell_type": "code",
   "execution_count": 144,
   "metadata": {},
   "outputs": [],
   "source": [
    "##Objects Are Mutable\n",
    "box.width = box.width + 50\n",
    "box.height = box.height + 100"
   ]
  },
  {
   "cell_type": "code",
   "execution_count": 145,
   "metadata": {},
   "outputs": [],
   "source": [
    "def grow_rectangle(rect, dwidth, dheight):\n",
    "    rect.width += dwidth\n",
    "    rect.height += dheight"
   ]
  },
  {
   "cell_type": "code",
   "execution_count": 146,
   "metadata": {},
   "outputs": [
    {
     "data": {
      "text/plain": [
       "(150.0, 300.0)"
      ]
     },
     "execution_count": 146,
     "metadata": {},
     "output_type": "execute_result"
    }
   ],
   "source": [
    "box.width, box.height"
   ]
  },
  {
   "cell_type": "code",
   "execution_count": 147,
   "metadata": {},
   "outputs": [
    {
     "data": {
      "text/plain": [
       "(200.0, 400.0)"
      ]
     },
     "execution_count": 147,
     "metadata": {},
     "output_type": "execute_result"
    }
   ],
   "source": [
    "grow_rectangle(box, 50, 100)\n",
    "box.width, box.height"
   ]
  },
  {
   "cell_type": "code",
   "execution_count": 148,
   "metadata": {},
   "outputs": [],
   "source": [
    "##Copying\n",
    "p1 = Point()\n",
    "p1.x = 3.0\n",
    "p1.y = 4.0\n",
    "import copy\n",
    "p2 = copy.copy(p1)"
   ]
  },
  {
   "cell_type": "code",
   "execution_count": 149,
   "metadata": {},
   "outputs": [
    {
     "name": "stdout",
     "output_type": "stream",
     "text": [
      "(3, 4)\n"
     ]
    }
   ],
   "source": [
    "print_point(p1)"
   ]
  },
  {
   "cell_type": "code",
   "execution_count": 150,
   "metadata": {},
   "outputs": [
    {
     "name": "stdout",
     "output_type": "stream",
     "text": [
      "(3, 4)\n"
     ]
    }
   ],
   "source": [
    "print_point(p2)"
   ]
  },
  {
   "cell_type": "code",
   "execution_count": 151,
   "metadata": {},
   "outputs": [
    {
     "data": {
      "text/plain": [
       "False"
      ]
     },
     "execution_count": 151,
     "metadata": {},
     "output_type": "execute_result"
    }
   ],
   "source": [
    "p1 is p2"
   ]
  },
  {
   "cell_type": "code",
   "execution_count": 152,
   "metadata": {},
   "outputs": [
    {
     "data": {
      "text/plain": [
       "False"
      ]
     },
     "execution_count": 152,
     "metadata": {},
     "output_type": "execute_result"
    }
   ],
   "source": [
    "p1 == p2"
   ]
  },
  {
   "cell_type": "code",
   "execution_count": 153,
   "metadata": {},
   "outputs": [
    {
     "data": {
      "text/plain": [
       "False"
      ]
     },
     "execution_count": 153,
     "metadata": {},
     "output_type": "execute_result"
    }
   ],
   "source": [
    "box2 = copy.copy(box)\n",
    "box2 is box"
   ]
  },
  {
   "cell_type": "code",
   "execution_count": 154,
   "metadata": {},
   "outputs": [
    {
     "data": {
      "text/plain": [
       "True"
      ]
     },
     "execution_count": 154,
     "metadata": {},
     "output_type": "execute_result"
    }
   ],
   "source": [
    "box2.corner is box.corner"
   ]
  },
  {
   "cell_type": "code",
   "execution_count": 155,
   "metadata": {},
   "outputs": [
    {
     "data": {
      "text/plain": [
       "False"
      ]
     },
     "execution_count": 155,
     "metadata": {},
     "output_type": "execute_result"
    }
   ],
   "source": [
    "box3 = copy.deepcopy(box)\n",
    "box3 is box"
   ]
  },
  {
   "cell_type": "code",
   "execution_count": 156,
   "metadata": {},
   "outputs": [
    {
     "data": {
      "text/plain": [
       "False"
      ]
     },
     "execution_count": 156,
     "metadata": {},
     "output_type": "execute_result"
    }
   ],
   "source": [
    "box3.corner is box.corner"
   ]
  },
  {
   "cell_type": "code",
   "execution_count": 157,
   "metadata": {},
   "outputs": [
    {
     "ename": "AttributeError",
     "evalue": "'Point' object has no attribute 'z'",
     "output_type": "error",
     "traceback": [
      "\u001b[1;31m---------------------------------------------------------------------------\u001b[0m",
      "\u001b[1;31mAttributeError\u001b[0m                            Traceback (most recent call last)",
      "\u001b[1;32m<ipython-input-157-5a853af2d8c5>\u001b[0m in \u001b[0;36m<module>\u001b[1;34m\u001b[0m\n\u001b[0;32m      3\u001b[0m \u001b[0mp\u001b[0m\u001b[1;33m.\u001b[0m\u001b[0mx\u001b[0m \u001b[1;33m=\u001b[0m \u001b[1;36m3\u001b[0m\u001b[1;33m\u001b[0m\u001b[1;33m\u001b[0m\u001b[0m\n\u001b[0;32m      4\u001b[0m \u001b[0mp\u001b[0m\u001b[1;33m.\u001b[0m\u001b[0my\u001b[0m \u001b[1;33m=\u001b[0m \u001b[1;36m4\u001b[0m\u001b[1;33m\u001b[0m\u001b[1;33m\u001b[0m\u001b[0m\n\u001b[1;32m----> 5\u001b[1;33m \u001b[0mp\u001b[0m\u001b[1;33m.\u001b[0m\u001b[0mz\u001b[0m\u001b[1;33m\u001b[0m\u001b[1;33m\u001b[0m\u001b[0m\n\u001b[0m",
      "\u001b[1;31mAttributeError\u001b[0m: 'Point' object has no attribute 'z'"
     ]
    }
   ],
   "source": [
    "##Debugging\n",
    "p = Point()\n",
    "p.x = 3\n",
    "p.y = 4\n",
    "p.z"
   ]
  },
  {
   "cell_type": "code",
   "execution_count": 158,
   "metadata": {},
   "outputs": [
    {
     "data": {
      "text/plain": [
       "__main__.Point"
      ]
     },
     "execution_count": 158,
     "metadata": {},
     "output_type": "execute_result"
    }
   ],
   "source": [
    "type(p)"
   ]
  },
  {
   "cell_type": "code",
   "execution_count": 159,
   "metadata": {},
   "outputs": [
    {
     "data": {
      "text/plain": [
       "True"
      ]
     },
     "execution_count": 159,
     "metadata": {},
     "output_type": "execute_result"
    }
   ],
   "source": [
    "isinstance(p, Point)"
   ]
  },
  {
   "cell_type": "code",
   "execution_count": 160,
   "metadata": {},
   "outputs": [
    {
     "data": {
      "text/plain": [
       "True"
      ]
     },
     "execution_count": 160,
     "metadata": {},
     "output_type": "execute_result"
    }
   ],
   "source": [
    "hasattr(p, 'x')"
   ]
  },
  {
   "cell_type": "code",
   "execution_count": 161,
   "metadata": {},
   "outputs": [
    {
     "data": {
      "text/plain": [
       "False"
      ]
     },
     "execution_count": 161,
     "metadata": {},
     "output_type": "execute_result"
    }
   ],
   "source": [
    "hasattr(p, 'z')"
   ]
  },
  {
   "cell_type": "code",
   "execution_count": 162,
   "metadata": {},
   "outputs": [],
   "source": [
    "try:\n",
    "    x = p.x\n",
    "except AttributeError:\n",
    "    x = 0"
   ]
  },
  {
   "cell_type": "code",
   "execution_count": 163,
   "metadata": {},
   "outputs": [],
   "source": [
    "#Chapter16"
   ]
  },
  {
   "cell_type": "code",
   "execution_count": 166,
   "metadata": {},
   "outputs": [],
   "source": [
    "##Time\n",
    "class Time:\n",
    "    \"\"\"Represents the time of day.\n",
    "    \n",
    "    attributes: hour, minute, second\n",
    "    \"\"\""
   ]
  },
  {
   "cell_type": "code",
   "execution_count": 165,
   "metadata": {},
   "outputs": [],
   "source": [
    "time = Time()\n",
    "time.hour = 11\n",
    "time.minute = 59\n",
    "time.second = 30"
   ]
  },
  {
   "cell_type": "code",
   "execution_count": 167,
   "metadata": {},
   "outputs": [
    {
     "data": {
      "text/plain": [
       "<__main__.Time at 0x17fa533a6d8>"
      ]
     },
     "execution_count": 167,
     "metadata": {},
     "output_type": "execute_result"
    }
   ],
   "source": [
    "time"
   ]
  },
  {
   "cell_type": "code",
   "execution_count": 168,
   "metadata": {},
   "outputs": [],
   "source": [
    "##Pure Functions\n",
    "def add_time(t1, t2):\n",
    "    sum = Time()\n",
    "    sum.hour = t1.hour + t2.hour\n",
    "    sum.minute = t1.minute + t2.minute\n",
    "    sum.second = t1.second + t2.second\n",
    "    return sum"
   ]
  },
  {
   "cell_type": "code",
   "execution_count": 176,
   "metadata": {},
   "outputs": [
    {
     "name": "stdout",
     "output_type": "stream",
     "text": [
      "<__main__.Time object at 0x0000017FA533A6D8>\n"
     ]
    }
   ],
   "source": [
    "start = Time()\n",
    "start.hour = 9\n",
    "start.minute = 45\n",
    "start.second = 0\n",
    "duration = Time()\n",
    "duration.hour = 1\n",
    "duration.minute = 35\n",
    "duration.second = 0\n",
    "done = add_time(start, duration)\n",
    "print(time)"
   ]
  },
  {
   "cell_type": "code",
   "execution_count": 173,
   "metadata": {},
   "outputs": [],
   "source": [
    "def add_time(t1, t2):\n",
    "    sum = Time()\n",
    "    sum.hour = t1.hour + t2.hour\n",
    "    sum.minute = t1.minute + t2.minute\n",
    "    sum.second = t1.second + t2.second\n",
    "\n",
    "    if sum.second >= 60:\n",
    "        sum.second -= 60\n",
    "        sum.minute += 1\n",
    "\n",
    "    if sum.minute >= 60:\n",
    "        sum.minute -= 60\n",
    "        sum.hour += 1\n",
    "\n",
    "    return sum"
   ]
  },
  {
   "cell_type": "code",
   "execution_count": 177,
   "metadata": {},
   "outputs": [
    {
     "name": "stdout",
     "output_type": "stream",
     "text": [
      "<__main__.Time object at 0x0000017FA533A6D8>\n"
     ]
    }
   ],
   "source": [
    "start = Time()\n",
    "start.hour = 9\n",
    "start.minute = 45\n",
    "start.second = 0\n",
    "duration = Time()\n",
    "duration.hour = 1\n",
    "duration.minute = 35\n",
    "duration.second = 0\n",
    "done = add_time(start, duration)\n",
    "print(time)"
   ]
  },
  {
   "cell_type": "code",
   "execution_count": 181,
   "metadata": {},
   "outputs": [],
   "source": [
    "##Modifiers\n",
    "def increment(time, seconds):\n",
    "    time.second += seconds\n",
    "    \n",
    "    if time.second >= 60:\n",
    "        time.second -= 60\n",
    "        time.minute += 1\n",
    "    if time.minute >= 60:\n",
    "        time.minute -= 60\n",
    "        time.hour += 1\n"
   ]
  },
  {
   "cell_type": "code",
   "execution_count": 185,
   "metadata": {},
   "outputs": [
    {
     "data": {
      "text/plain": [
       "43170"
      ]
     },
     "execution_count": 185,
     "metadata": {},
     "output_type": "execute_result"
    }
   ],
   "source": [
    "##Prototyping versus Planning\n",
    "def time_to_int(time):\n",
    "    minutes = time.hour * 60 + time.minute\n",
    "    seconds = minutes * 60 + time.second\n",
    "    return seconds\n",
    "time_to_int(time)"
   ]
  },
  {
   "cell_type": "code",
   "execution_count": 190,
   "metadata": {},
   "outputs": [],
   "source": [
    "def int_to_time(seconds):\n",
    "    time = Time()\n",
    "    minutes, time.second = divmod(seconds, 60)\n",
    "    time.hour, time.minute = divmod(minutes, 60)\n",
    "    return time"
   ]
  },
  {
   "cell_type": "code",
   "execution_count": 188,
   "metadata": {},
   "outputs": [],
   "source": [
    "def add_time(t1, t2):\n",
    "    seconds = time_to_int(t1) + time_to_int(t2)\n",
    "    return int_to_time(seconds)"
   ]
  },
  {
   "cell_type": "code",
   "execution_count": 198,
   "metadata": {},
   "outputs": [],
   "source": [
    "##Debugging\n",
    "def valid_time(time):\n",
    "    if time.hour < 0 or time.minute < 0 or time.second < 0:\n",
    "        return False\n",
    "    if time.minute >= 60 or time.second >= 60:\n",
    "        return False\n",
    "    return True\n"
   ]
  },
  {
   "cell_type": "code",
   "execution_count": 192,
   "metadata": {},
   "outputs": [],
   "source": [
    "def add_time(t1, t2):\n",
    "    if not valid_time(t1) or not valid_time(t2):\n",
    "        raise ValueError('invalid Time object in add_time')\n",
    "    seconds = time_to_int(t1) + time_to_int(t2)\n",
    "    return int_to_time(seconds)"
   ]
  },
  {
   "cell_type": "code",
   "execution_count": 193,
   "metadata": {},
   "outputs": [],
   "source": [
    "def add_time(t1, t2):\n",
    "    assert valid_time(t1) and valid_time(t2)\n",
    "    seconds = time_to_int(t1) + time_to_int(t2)\n",
    "    return int_to_time(seconds)"
   ]
  },
  {
   "cell_type": "code",
   "execution_count": 199,
   "metadata": {},
   "outputs": [],
   "source": [
    "#Chapter17"
   ]
  },
  {
   "cell_type": "code",
   "execution_count": 200,
   "metadata": {},
   "outputs": [],
   "source": [
    "##Printing Objects\n",
    "class Time:\n",
    "    \"\"\"Represents the time of day.\"\"\"\n",
    "\n",
    "def print_time(time):\n",
    "    print('%.2d:%.2d:%.2d' % (time.hour, time.minute, time.second))"
   ]
  },
  {
   "cell_type": "code",
   "execution_count": 201,
   "metadata": {},
   "outputs": [
    {
     "name": "stdout",
     "output_type": "stream",
     "text": [
      "09:45:00\n"
     ]
    }
   ],
   "source": [
    "start = Time()\n",
    "start.hour = 9\n",
    "start.minute = 45\n",
    "start.second = 00\n",
    "print_time(start)"
   ]
  },
  {
   "cell_type": "code",
   "execution_count": 202,
   "metadata": {},
   "outputs": [],
   "source": [
    "class Time:\n",
    "    def print_time(time):\n",
    "        print('%.2d:%.2d:%.2d' % (time.hour, time.minute, time.second))"
   ]
  },
  {
   "cell_type": "code",
   "execution_count": 203,
   "metadata": {},
   "outputs": [
    {
     "name": "stdout",
     "output_type": "stream",
     "text": [
      "09:45:00\n"
     ]
    }
   ],
   "source": [
    "Time.print_time(start)"
   ]
  },
  {
   "cell_type": "code",
   "execution_count": 214,
   "metadata": {},
   "outputs": [],
   "source": [
    "class Time:\n",
    "    def print_time(self):\n",
    "        print('%.2d:%.2d:%.2d' % (self.hour, self.minute, self.second))"
   ]
  },
  {
   "cell_type": "code",
   "execution_count": 217,
   "metadata": {},
   "outputs": [],
   "source": [
    "def is_after(self, other):\n",
    "    return self.time_to_int() > other.time_to_int()\n"
   ]
  },
  {
   "cell_type": "code",
   "execution_count": 218,
   "metadata": {},
   "outputs": [],
   "source": [
    "def __init__(self, hour=0, minute=0, second=0):\n",
    "    self.hour = hour\n",
    "    self.minute = minute\n",
    "    self.second = second"
   ]
  },
  {
   "cell_type": "code",
   "execution_count": 220,
   "metadata": {},
   "outputs": [
    {
     "ename": "AttributeError",
     "evalue": "'Time' object has no attribute 'hour'",
     "output_type": "error",
     "traceback": [
      "\u001b[1;31m---------------------------------------------------------------------------\u001b[0m",
      "\u001b[1;31mAttributeError\u001b[0m                            Traceback (most recent call last)",
      "\u001b[1;32m<ipython-input-220-d49ae34f6188>\u001b[0m in \u001b[0;36m<module>\u001b[1;34m\u001b[0m\n\u001b[0;32m      1\u001b[0m \u001b[0mtime\u001b[0m \u001b[1;33m=\u001b[0m \u001b[0mTime\u001b[0m\u001b[1;33m(\u001b[0m\u001b[1;33m)\u001b[0m\u001b[1;33m\u001b[0m\u001b[1;33m\u001b[0m\u001b[0m\n\u001b[1;32m----> 2\u001b[1;33m \u001b[0mtime\u001b[0m\u001b[1;33m.\u001b[0m\u001b[0mprint_time\u001b[0m\u001b[1;33m(\u001b[0m\u001b[1;33m)\u001b[0m\u001b[1;33m\u001b[0m\u001b[1;33m\u001b[0m\u001b[0m\n\u001b[0m",
      "\u001b[1;32m<ipython-input-214-f255246b2fd4>\u001b[0m in \u001b[0;36mprint_time\u001b[1;34m(self)\u001b[0m\n\u001b[0;32m      1\u001b[0m \u001b[1;32mclass\u001b[0m \u001b[0mTime\u001b[0m\u001b[1;33m:\u001b[0m\u001b[1;33m\u001b[0m\u001b[1;33m\u001b[0m\u001b[0m\n\u001b[0;32m      2\u001b[0m     \u001b[1;32mdef\u001b[0m \u001b[0mprint_time\u001b[0m\u001b[1;33m(\u001b[0m\u001b[0mself\u001b[0m\u001b[1;33m)\u001b[0m\u001b[1;33m:\u001b[0m\u001b[1;33m\u001b[0m\u001b[1;33m\u001b[0m\u001b[0m\n\u001b[1;32m----> 3\u001b[1;33m         \u001b[0mprint\u001b[0m\u001b[1;33m(\u001b[0m\u001b[1;34m'%.2d:%.2d:%.2d'\u001b[0m \u001b[1;33m%\u001b[0m \u001b[1;33m(\u001b[0m\u001b[0mself\u001b[0m\u001b[1;33m.\u001b[0m\u001b[0mhour\u001b[0m\u001b[1;33m,\u001b[0m \u001b[0mself\u001b[0m\u001b[1;33m.\u001b[0m\u001b[0mminute\u001b[0m\u001b[1;33m,\u001b[0m \u001b[0mself\u001b[0m\u001b[1;33m.\u001b[0m\u001b[0msecond\u001b[0m\u001b[1;33m)\u001b[0m\u001b[1;33m)\u001b[0m\u001b[1;33m\u001b[0m\u001b[1;33m\u001b[0m\u001b[0m\n\u001b[0m",
      "\u001b[1;31mAttributeError\u001b[0m: 'Time' object has no attribute 'hour'"
     ]
    }
   ],
   "source": [
    "time = Time()\n",
    "time.print_time()"
   ]
  },
  {
   "cell_type": "code",
   "execution_count": 221,
   "metadata": {},
   "outputs": [],
   "source": [
    "def __str__(self):\n",
    "    return '%.2d:%.2d:%.2d' % (self.hour, self.minute, self.second)"
   ]
  },
  {
   "cell_type": "code",
   "execution_count": 225,
   "metadata": {},
   "outputs": [
    {
     "ename": "TypeError",
     "evalue": "Time() takes no arguments",
     "output_type": "error",
     "traceback": [
      "\u001b[1;31m---------------------------------------------------------------------------\u001b[0m",
      "\u001b[1;31mTypeError\u001b[0m                                 Traceback (most recent call last)",
      "\u001b[1;32m<ipython-input-225-c9eec3b287ac>\u001b[0m in \u001b[0;36m<module>\u001b[1;34m\u001b[0m\n\u001b[1;32m----> 1\u001b[1;33m \u001b[0mtime\u001b[0m \u001b[1;33m=\u001b[0m \u001b[0mTime\u001b[0m\u001b[1;33m(\u001b[0m\u001b[1;36m9\u001b[0m\u001b[1;33m,\u001b[0m \u001b[1;36m45\u001b[0m\u001b[1;33m)\u001b[0m\u001b[1;33m\u001b[0m\u001b[1;33m\u001b[0m\u001b[0m\n\u001b[0m\u001b[0;32m      2\u001b[0m \u001b[0mprint\u001b[0m \u001b[1;33m(\u001b[0m\u001b[0mtime\u001b[0m\u001b[1;33m)\u001b[0m\u001b[1;33m\u001b[0m\u001b[1;33m\u001b[0m\u001b[0m\n",
      "\u001b[1;31mTypeError\u001b[0m: Time() takes no arguments"
     ]
    }
   ],
   "source": [
    "time = Time(9, 45)\n",
    "print (time)"
   ]
  },
  {
   "cell_type": "code",
   "execution_count": 226,
   "metadata": {},
   "outputs": [],
   "source": [
    "def __add__(self, other):\n",
    "    seconds = self.time_to_int() + other.time_to_int()\n",
    "    return int_to_time(seconds)"
   ]
  },
  {
   "cell_type": "code",
   "execution_count": 229,
   "metadata": {},
   "outputs": [
    {
     "ename": "TypeError",
     "evalue": "Time() takes no arguments",
     "output_type": "error",
     "traceback": [
      "\u001b[1;31m---------------------------------------------------------------------------\u001b[0m",
      "\u001b[1;31mTypeError\u001b[0m                                 Traceback (most recent call last)",
      "\u001b[1;32m<ipython-input-229-6ce158afff81>\u001b[0m in \u001b[0;36m<module>\u001b[1;34m\u001b[0m\n\u001b[1;32m----> 1\u001b[1;33m \u001b[0mstart\u001b[0m \u001b[1;33m=\u001b[0m \u001b[0mTime\u001b[0m\u001b[1;33m(\u001b[0m\u001b[1;36m9\u001b[0m\u001b[1;33m,\u001b[0m \u001b[1;36m45\u001b[0m\u001b[1;33m)\u001b[0m\u001b[1;33m\u001b[0m\u001b[1;33m\u001b[0m\u001b[0m\n\u001b[0m\u001b[0;32m      2\u001b[0m \u001b[0mduration\u001b[0m \u001b[1;33m=\u001b[0m \u001b[0mTime\u001b[0m\u001b[1;33m(\u001b[0m\u001b[1;36m1\u001b[0m\u001b[1;33m,\u001b[0m \u001b[1;36m35\u001b[0m\u001b[1;33m)\u001b[0m\u001b[1;33m\u001b[0m\u001b[1;33m\u001b[0m\u001b[0m\n\u001b[0;32m      3\u001b[0m \u001b[0mprint\u001b[0m\u001b[1;33m(\u001b[0m\u001b[0mstart\u001b[0m \u001b[1;33m+\u001b[0m \u001b[0mduration\u001b[0m\u001b[1;33m)\u001b[0m\u001b[1;33m\u001b[0m\u001b[1;33m\u001b[0m\u001b[0m\n",
      "\u001b[1;31mTypeError\u001b[0m: Time() takes no arguments"
     ]
    }
   ],
   "source": [
    "start = Time(9, 45)\n",
    "duration = Time(1, 35)\n",
    "print(start + duration)"
   ]
  },
  {
   "cell_type": "code",
   "execution_count": 230,
   "metadata": {},
   "outputs": [],
   "source": [
    "def __add__(self, other):\n",
    "    if isinstance(other, Time):\n",
    "        return self.add_time(other)\n",
    "    else:\n",
    "        return self.increment(other)"
   ]
  },
  {
   "cell_type": "code",
   "execution_count": 231,
   "metadata": {},
   "outputs": [],
   "source": [
    "def add_time(self, other):\n",
    "    seconds = self.time_to_int() + other.time_to_int()\n",
    "    return int_to_time(seconds)"
   ]
  },
  {
   "cell_type": "code",
   "execution_count": 232,
   "metadata": {},
   "outputs": [],
   "source": [
    "def increment(self, seconds):\n",
    "    seconds += self.time_to_int()\n",
    "    return int_to_time(seconds)"
   ]
  },
  {
   "cell_type": "code",
   "execution_count": 233,
   "metadata": {},
   "outputs": [
    {
     "ename": "TypeError",
     "evalue": "Time() takes no arguments",
     "output_type": "error",
     "traceback": [
      "\u001b[1;31m---------------------------------------------------------------------------\u001b[0m",
      "\u001b[1;31mTypeError\u001b[0m                                 Traceback (most recent call last)",
      "\u001b[1;32m<ipython-input-233-6ce158afff81>\u001b[0m in \u001b[0;36m<module>\u001b[1;34m\u001b[0m\n\u001b[1;32m----> 1\u001b[1;33m \u001b[0mstart\u001b[0m \u001b[1;33m=\u001b[0m \u001b[0mTime\u001b[0m\u001b[1;33m(\u001b[0m\u001b[1;36m9\u001b[0m\u001b[1;33m,\u001b[0m \u001b[1;36m45\u001b[0m\u001b[1;33m)\u001b[0m\u001b[1;33m\u001b[0m\u001b[1;33m\u001b[0m\u001b[0m\n\u001b[0m\u001b[0;32m      2\u001b[0m \u001b[0mduration\u001b[0m \u001b[1;33m=\u001b[0m \u001b[0mTime\u001b[0m\u001b[1;33m(\u001b[0m\u001b[1;36m1\u001b[0m\u001b[1;33m,\u001b[0m \u001b[1;36m35\u001b[0m\u001b[1;33m)\u001b[0m\u001b[1;33m\u001b[0m\u001b[1;33m\u001b[0m\u001b[0m\n\u001b[0;32m      3\u001b[0m \u001b[0mprint\u001b[0m\u001b[1;33m(\u001b[0m\u001b[0mstart\u001b[0m \u001b[1;33m+\u001b[0m \u001b[0mduration\u001b[0m\u001b[1;33m)\u001b[0m\u001b[1;33m\u001b[0m\u001b[1;33m\u001b[0m\u001b[0m\n",
      "\u001b[1;31mTypeError\u001b[0m: Time() takes no arguments"
     ]
    }
   ],
   "source": [
    "start = Time(9, 45)\n",
    "duration = Time(1, 35)\n",
    "print(start + duration)"
   ]
  },
  {
   "cell_type": "code",
   "execution_count": 237,
   "metadata": {},
   "outputs": [],
   "source": [
    "def __radd__(self, other):\n",
    "    return self.__add__(other)\n"
   ]
  },
  {
   "cell_type": "code",
   "execution_count": 239,
   "metadata": {},
   "outputs": [],
   "source": [
    "def histogram(s):\n",
    "    d = dict()\n",
    "    for c in s:\n",
    "        if c not in d:\n",
    "            d[c] = 1\n",
    "        else:\n",
    "            d[c] = d[c]+1\n",
    "    return d"
   ]
  },
  {
   "cell_type": "code",
   "execution_count": 240,
   "metadata": {},
   "outputs": [
    {
     "data": {
      "text/plain": [
       "{'spam': 4, 'egg': 1, 'bacon': 1}"
      ]
     },
     "execution_count": 240,
     "metadata": {},
     "output_type": "execute_result"
    }
   ],
   "source": [
    "t = ['spam', 'egg', 'spam', 'spam', 'bacon', 'spam']\n",
    "histogram(t)"
   ]
  },
  {
   "cell_type": "code",
   "execution_count": 241,
   "metadata": {},
   "outputs": [
    {
     "ename": "TypeError",
     "evalue": "Time() takes no arguments",
     "output_type": "error",
     "traceback": [
      "\u001b[1;31m---------------------------------------------------------------------------\u001b[0m",
      "\u001b[1;31mTypeError\u001b[0m                                 Traceback (most recent call last)",
      "\u001b[1;32m<ipython-input-241-38a75254e5ea>\u001b[0m in \u001b[0;36m<module>\u001b[1;34m\u001b[0m\n\u001b[1;32m----> 1\u001b[1;33m \u001b[0mt1\u001b[0m \u001b[1;33m=\u001b[0m \u001b[0mTime\u001b[0m\u001b[1;33m(\u001b[0m\u001b[1;36m7\u001b[0m\u001b[1;33m,\u001b[0m \u001b[1;36m43\u001b[0m\u001b[1;33m)\u001b[0m\u001b[1;33m\u001b[0m\u001b[1;33m\u001b[0m\u001b[0m\n\u001b[0m\u001b[0;32m      2\u001b[0m \u001b[0mt2\u001b[0m \u001b[1;33m=\u001b[0m \u001b[0mTime\u001b[0m\u001b[1;33m(\u001b[0m\u001b[1;36m7\u001b[0m\u001b[1;33m,\u001b[0m \u001b[1;36m41\u001b[0m\u001b[1;33m)\u001b[0m\u001b[1;33m\u001b[0m\u001b[1;33m\u001b[0m\u001b[0m\n\u001b[0;32m      3\u001b[0m \u001b[0mt3\u001b[0m \u001b[1;33m=\u001b[0m \u001b[0mTime\u001b[0m\u001b[1;33m(\u001b[0m\u001b[1;36m7\u001b[0m\u001b[1;33m,\u001b[0m \u001b[1;36m37\u001b[0m\u001b[1;33m)\u001b[0m\u001b[1;33m\u001b[0m\u001b[1;33m\u001b[0m\u001b[0m\n\u001b[0;32m      4\u001b[0m \u001b[0mtotal\u001b[0m \u001b[1;33m=\u001b[0m \u001b[0msum\u001b[0m\u001b[1;33m(\u001b[0m\u001b[1;33m[\u001b[0m\u001b[0mt1\u001b[0m\u001b[1;33m,\u001b[0m \u001b[0mt2\u001b[0m\u001b[1;33m,\u001b[0m \u001b[0mt3\u001b[0m\u001b[1;33m]\u001b[0m\u001b[1;33m)\u001b[0m\u001b[1;33m\u001b[0m\u001b[1;33m\u001b[0m\u001b[0m\n\u001b[0;32m      5\u001b[0m \u001b[0mprint\u001b[0m\u001b[1;33m(\u001b[0m\u001b[0mtotal\u001b[0m\u001b[1;33m)\u001b[0m\u001b[1;33m\u001b[0m\u001b[1;33m\u001b[0m\u001b[0m\n",
      "\u001b[1;31mTypeError\u001b[0m: Time() takes no arguments"
     ]
    }
   ],
   "source": [
    "t1 = Time(7, 43)\n",
    "t2 = Time(7, 41)\n",
    "t3 = Time(7, 37)\n",
    "total = sum([t1, t2, t3])\n",
    "print(total)"
   ]
  },
  {
   "cell_type": "code",
   "execution_count": 243,
   "metadata": {},
   "outputs": [],
   "source": [
    "def print_attributes(obj):\n",
    "    for attr in vars(obj):\n",
    "        print(attr, getattr(obj, attr))"
   ]
  },
  {
   "cell_type": "code",
   "execution_count": 244,
   "metadata": {},
   "outputs": [],
   "source": [
    "#Chapter18"
   ]
  },
  {
   "cell_type": "code",
   "execution_count": 245,
   "metadata": {},
   "outputs": [],
   "source": [
    "class Card:\n",
    "    \"\"\"Represents a standard playing card.\"\"\"\n",
    "    def __init__(self, suit=0, rank=2):\n",
    "        self.suit = suit\n",
    "        self.rank = rank"
   ]
  },
  {
   "cell_type": "code",
   "execution_count": 246,
   "metadata": {},
   "outputs": [],
   "source": [
    "queen_of_diamonds = Card(1, 12)"
   ]
  },
  {
   "cell_type": "code",
   "execution_count": 247,
   "metadata": {},
   "outputs": [],
   "source": [
    "suit_names = ['Clubs', 'Diamonds', 'Hearts', 'Spades']\n",
    "rank_names = [None, 'Ace', '2', '3', '4', '5', '6', '7',\n",
    "'8', '9', '10', 'Jack', 'Queen', 'King']"
   ]
  },
  {
   "cell_type": "code",
   "execution_count": 248,
   "metadata": {},
   "outputs": [],
   "source": [
    "def __str__(self):\n",
    "    return '%s of %s' % (Card.rank_names[self.rank],\n",
    "Card.suit_names[self.suit])"
   ]
  },
  {
   "cell_type": "code",
   "execution_count": 249,
   "metadata": {},
   "outputs": [
    {
     "name": "stdout",
     "output_type": "stream",
     "text": [
      "<__main__.Card object at 0x0000017FA581F438>\n"
     ]
    }
   ],
   "source": [
    "card1 = Card(2, 11)\n",
    "print(card1)"
   ]
  },
  {
   "cell_type": "code",
   "execution_count": 250,
   "metadata": {},
   "outputs": [],
   "source": [
    "def __lt__(self, other):\n",
    "    # check the suits\n",
    "    if self.suit < other.suit: return True\n",
    "    if self.suit > other.suit: return False\n",
    "    # suits are the same... check ranks\n",
    "    return self.rank < other.rank"
   ]
  },
  {
   "cell_type": "code",
   "execution_count": 251,
   "metadata": {},
   "outputs": [],
   "source": [
    "def __lt__(self, other):\n",
    "    t1 = self.suit, self.rank\n",
    "    t2 = other.suit, other.rank\n",
    "    return t1 < t2"
   ]
  },
  {
   "cell_type": "code",
   "execution_count": 255,
   "metadata": {},
   "outputs": [],
   "source": [
    "class Deck:\n",
    "    def __init__(self):\n",
    "        self.cards = []\n",
    "        for suit in range(4):\n",
    "            for rank in range(1, 14):\n",
    "                card = Card(suit, rank)\n",
    "                self.cards.append(card)"
   ]
  },
  {
   "cell_type": "code",
   "execution_count": 253,
   "metadata": {},
   "outputs": [],
   "source": [
    "def __str__(self):\n",
    "    res = []\n",
    "    for card in self.cards:\n",
    "        res.append(str(card))\n",
    "    return '\\n'.join(res)"
   ]
  },
  {
   "cell_type": "code",
   "execution_count": 256,
   "metadata": {},
   "outputs": [
    {
     "name": "stdout",
     "output_type": "stream",
     "text": [
      "<__main__.Deck object at 0x0000017FA584AC88>\n"
     ]
    }
   ],
   "source": [
    "deck = Deck()\n",
    "print(deck)"
   ]
  },
  {
   "cell_type": "code",
   "execution_count": 257,
   "metadata": {},
   "outputs": [],
   "source": [
    "def pop_card(self):\n",
    "    return self.cards.pop()"
   ]
  },
  {
   "cell_type": "code",
   "execution_count": 258,
   "metadata": {},
   "outputs": [],
   "source": [
    "def add_card(self, card):\n",
    "    self.cards.append(card)"
   ]
  },
  {
   "cell_type": "code",
   "execution_count": 259,
   "metadata": {},
   "outputs": [],
   "source": [
    "def shuffle(self):\n",
    "    random.shuffle(self.cards)"
   ]
  },
  {
   "cell_type": "code",
   "execution_count": 260,
   "metadata": {},
   "outputs": [],
   "source": [
    "class Hand(Deck):\n",
    "    \"\"\"Represents a hand of playing cards.\"\"\""
   ]
  },
  {
   "cell_type": "code",
   "execution_count": 261,
   "metadata": {},
   "outputs": [],
   "source": [
    "def __init__(self, label=''):\n",
    "    self.cards = []\n",
    "    self.label = label"
   ]
  },
  {
   "cell_type": "code",
   "execution_count": 263,
   "metadata": {},
   "outputs": [],
   "source": [
    "def move_cards(self, hand, num):\n",
    "    for i in range(num):\n",
    "        hand.add_card(self.pop_card())"
   ]
  },
  {
   "cell_type": "code",
   "execution_count": 264,
   "metadata": {},
   "outputs": [],
   "source": [
    "suffix_map = {}\n",
    "prefix = ()"
   ]
  },
  {
   "cell_type": "code",
   "execution_count": 265,
   "metadata": {},
   "outputs": [],
   "source": [
    "class Markov:\n",
    "    def __init__(self):\n",
    "        self.suffix_map = {}\n",
    "        self.prefix = ()"
   ]
  },
  {
   "cell_type": "code",
   "execution_count": 266,
   "metadata": {},
   "outputs": [],
   "source": [
    "def process_word(self, word, order=2):\n",
    "    if len(self.prefix) < order:\n",
    "        self.prefix += (word,)\n",
    "        return\n",
    "    try:\n",
    "        self.suffix_map[self.prefix].append(word)\n",
    "    except KeyError:\n",
    "        # if there is no entry for this prefix, make one\n",
    "        self.suffix_map[self.prefix] = [word]\n",
    "    self.prefix = shift(self.prefix, word)"
   ]
  },
  {
   "cell_type": "code",
   "execution_count": 267,
   "metadata": {},
   "outputs": [],
   "source": [
    "def find_defining_class(obj, meth_name):\n",
    "    for ty in type(obj).mro():\n",
    "        if meth_name in ty.__dict__:\n",
    "            return ty"
   ]
  },
  {
   "cell_type": "code",
   "execution_count": 268,
   "metadata": {},
   "outputs": [],
   "source": [
    "hand = Hand()\n",
    "find_defining_class(hand, 'shuffle')"
   ]
  },
  {
   "cell_type": "code",
   "execution_count": 269,
   "metadata": {},
   "outputs": [],
   "source": [
    "# Grus: Chapter 2"
   ]
  },
  {
   "cell_type": "code",
   "execution_count": 270,
   "metadata": {},
   "outputs": [],
   "source": [
    "##Sorting\n",
    "x = [4,1,2,3]\n",
    "y = sorted(x) # is [1,2,3,4], x is unchanged\n",
    "x.sort() # now x is [1,2,3,4]"
   ]
  },
  {
   "cell_type": "code",
   "execution_count": 271,
   "metadata": {},
   "outputs": [],
   "source": [
    "# sort the list by absolute value from largest to smallest\n",
    "x = sorted([-4,1,-2,3], key=abs, reverse=True) # is [-4,3,-2,1]"
   ]
  },
  {
   "cell_type": "code",
   "execution_count": 275,
   "metadata": {},
   "outputs": [
    {
     "ename": "SyntaxError",
     "evalue": "invalid syntax (<ipython-input-275-3f7fe72c3284>, line 2)",
     "output_type": "error",
     "traceback": [
      "\u001b[1;36m  File \u001b[1;32m\"<ipython-input-275-3f7fe72c3284>\"\u001b[1;36m, line \u001b[1;32m2\u001b[0m\n\u001b[1;33m    wc = sorted(word_counts.items(), key=lambda (word, count): count, reverse=True)\u001b[0m\n\u001b[1;37m                                                ^\u001b[0m\n\u001b[1;31mSyntaxError\u001b[0m\u001b[1;31m:\u001b[0m invalid syntax\n"
     ]
    }
   ],
   "source": [
    "# sort the words and counts from highest count to lowest\n",
    "wc = sorted(word_counts.items(), key=lambda (word, count): count, reverse=True)"
   ]
  },
  {
   "cell_type": "code",
   "execution_count": 276,
   "metadata": {},
   "outputs": [],
   "source": [
    "##List Comprehensions\n",
    "even_numbers = [x for x in range(5) if x % 2 == 0] # [0, 2, 4]\n",
    "squares = [x * x for x in range(5)] # [0, 1, 4, 9, 16]\n",
    "even_squares = [x * x for x in even_numbers] # [0, 4, 16]"
   ]
  },
  {
   "cell_type": "code",
   "execution_count": 277,
   "metadata": {},
   "outputs": [],
   "source": [
    "square_dict = { x : x * x for x in range(5) } # { 0:0, 1:1, 2:4, 3:9, 4:16 }\n",
    "square_set = { x * x for x in [1, -1] } # { 1 }"
   ]
  },
  {
   "cell_type": "code",
   "execution_count": 278,
   "metadata": {},
   "outputs": [],
   "source": [
    "zeroes = [0 for _ in even_numbers] # has the same length as even_numbers"
   ]
  },
  {
   "cell_type": "code",
   "execution_count": 279,
   "metadata": {},
   "outputs": [],
   "source": [
    "pairs = [(x, y)\n",
    "    for x in range(10)\n",
    "    for y in range(10)] # 100 pairs (0,0) (0,1) ... (9,8), (9,9)"
   ]
  },
  {
   "cell_type": "code",
   "execution_count": 280,
   "metadata": {},
   "outputs": [],
   "source": [
    "increasing_pairs = [(x, y) # only pairs with x < y,\n",
    "    for x in range(10) # range(lo, hi) equals\n",
    "    for y in range(x + 1, 10)] # [lo, lo + 1, ..., hi - 1]"
   ]
  },
  {
   "cell_type": "code",
   "execution_count": 281,
   "metadata": {},
   "outputs": [],
   "source": [
    "##Generators and Iterators"
   ]
  },
  {
   "cell_type": "code",
   "execution_count": 282,
   "metadata": {},
   "outputs": [],
   "source": [
    "def lazy_range(n):\n",
    "    \"\"\"a lazy version of range\"\"\"\n",
    "    i = 0\n",
    "    while i < n:\n",
    "        yield i\n",
    "        i += 1"
   ]
  },
  {
   "cell_type": "code",
   "execution_count": 283,
   "metadata": {},
   "outputs": [
    {
     "ename": "NameError",
     "evalue": "name 'do_something_with' is not defined",
     "output_type": "error",
     "traceback": [
      "\u001b[1;31m---------------------------------------------------------------------------\u001b[0m",
      "\u001b[1;31mNameError\u001b[0m                                 Traceback (most recent call last)",
      "\u001b[1;32m<ipython-input-283-9000a7e52185>\u001b[0m in \u001b[0;36m<module>\u001b[1;34m\u001b[0m\n\u001b[0;32m      1\u001b[0m \u001b[1;32mfor\u001b[0m \u001b[0mi\u001b[0m \u001b[1;32min\u001b[0m \u001b[0mlazy_range\u001b[0m\u001b[1;33m(\u001b[0m\u001b[1;36m10\u001b[0m\u001b[1;33m)\u001b[0m\u001b[1;33m:\u001b[0m\u001b[1;33m\u001b[0m\u001b[1;33m\u001b[0m\u001b[0m\n\u001b[1;32m----> 2\u001b[1;33m     \u001b[0mdo_something_with\u001b[0m\u001b[1;33m(\u001b[0m\u001b[0mi\u001b[0m\u001b[1;33m)\u001b[0m\u001b[1;33m\u001b[0m\u001b[1;33m\u001b[0m\u001b[0m\n\u001b[0m",
      "\u001b[1;31mNameError\u001b[0m: name 'do_something_with' is not defined"
     ]
    }
   ],
   "source": [
    "for i in lazy_range(10):\n",
    "    do_something_with(i)"
   ]
  },
  {
   "cell_type": "code",
   "execution_count": 284,
   "metadata": {},
   "outputs": [],
   "source": [
    "def natural_numbers():\n",
    "    \"\"\"returns 1, 2, 3, ...\"\"\"\n",
    "    n = 1\n",
    "    while True:\n",
    "        yield n\n",
    "        n += 1"
   ]
  },
  {
   "cell_type": "code",
   "execution_count": 285,
   "metadata": {},
   "outputs": [],
   "source": [
    "lazy_evens_below_20 = (i for i in lazy_range(20) if i % 2 == 0)"
   ]
  },
  {
   "cell_type": "code",
   "execution_count": 286,
   "metadata": {},
   "outputs": [],
   "source": [
    "##Randomness"
   ]
  },
  {
   "cell_type": "code",
   "execution_count": 287,
   "metadata": {},
   "outputs": [],
   "source": [
    "import random\n",
    "four_uniform_randoms = [random.random() for _ in range(4)]"
   ]
  },
  {
   "cell_type": "code",
   "execution_count": 290,
   "metadata": {},
   "outputs": [
    {
     "ename": "SyntaxError",
     "evalue": "invalid syntax (<ipython-input-290-d39a4cd2c1b9>, line 2)",
     "output_type": "error",
     "traceback": [
      "\u001b[1;36m  File \u001b[1;32m\"<ipython-input-290-d39a4cd2c1b9>\"\u001b[1;36m, line \u001b[1;32m2\u001b[0m\n\u001b[1;33m    print random.random() # 0.57140259469\u001b[0m\n\u001b[1;37m               ^\u001b[0m\n\u001b[1;31mSyntaxError\u001b[0m\u001b[1;31m:\u001b[0m invalid syntax\n"
     ]
    }
   ],
   "source": [
    "random.seed(10) # set the seed to 10\n",
    "print random.random() # 0.57140259469\n",
    "random.seed(10) # reset the seed to 10\n",
    "print random.random() # 0.57140259469 again"
   ]
  },
  {
   "cell_type": "code",
   "execution_count": 291,
   "metadata": {},
   "outputs": [
    {
     "data": {
      "text/plain": [
       "4"
      ]
     },
     "execution_count": 291,
     "metadata": {},
     "output_type": "execute_result"
    }
   ],
   "source": [
    "random.randrange(10) # choose randomly from range(10) = [0, 1, ..., 9]\n",
    "random.randrange(3, 6) # choose randomly from range(3, 6) = [3, 4, 5]"
   ]
  },
  {
   "cell_type": "code",
   "execution_count": 293,
   "metadata": {},
   "outputs": [
    {
     "ename": "TypeError",
     "evalue": "'range' object does not support item assignment",
     "output_type": "error",
     "traceback": [
      "\u001b[1;31m---------------------------------------------------------------------------\u001b[0m",
      "\u001b[1;31mTypeError\u001b[0m                                 Traceback (most recent call last)",
      "\u001b[1;32m<ipython-input-293-dbeb403bc572>\u001b[0m in \u001b[0;36m<module>\u001b[1;34m\u001b[0m\n\u001b[0;32m      1\u001b[0m \u001b[0mup_to_ten\u001b[0m \u001b[1;33m=\u001b[0m \u001b[0mrange\u001b[0m\u001b[1;33m(\u001b[0m\u001b[1;36m10\u001b[0m\u001b[1;33m)\u001b[0m\u001b[1;33m\u001b[0m\u001b[1;33m\u001b[0m\u001b[0m\n\u001b[1;32m----> 2\u001b[1;33m \u001b[0mrandom\u001b[0m\u001b[1;33m.\u001b[0m\u001b[0mshuffle\u001b[0m\u001b[1;33m(\u001b[0m\u001b[0mup_to_ten\u001b[0m\u001b[1;33m)\u001b[0m\u001b[1;33m\u001b[0m\u001b[1;33m\u001b[0m\u001b[0m\n\u001b[0m\u001b[0;32m      3\u001b[0m \u001b[0mprint\u001b[0m \u001b[1;33m(\u001b[0m\u001b[0mup_to_ten\u001b[0m\u001b[1;33m)\u001b[0m\u001b[1;33m\u001b[0m\u001b[1;33m\u001b[0m\u001b[0m\n",
      "\u001b[1;32m~\\Anaconda3\\lib\\random.py\u001b[0m in \u001b[0;36mshuffle\u001b[1;34m(self, x, random)\u001b[0m\n\u001b[0;32m    276\u001b[0m                 \u001b[1;31m# pick an element in x[:i+1] with which to exchange x[i]\u001b[0m\u001b[1;33m\u001b[0m\u001b[1;33m\u001b[0m\u001b[1;33m\u001b[0m\u001b[0m\n\u001b[0;32m    277\u001b[0m                 \u001b[0mj\u001b[0m \u001b[1;33m=\u001b[0m \u001b[0mrandbelow\u001b[0m\u001b[1;33m(\u001b[0m\u001b[0mi\u001b[0m\u001b[1;33m+\u001b[0m\u001b[1;36m1\u001b[0m\u001b[1;33m)\u001b[0m\u001b[1;33m\u001b[0m\u001b[1;33m\u001b[0m\u001b[0m\n\u001b[1;32m--> 278\u001b[1;33m                 \u001b[0mx\u001b[0m\u001b[1;33m[\u001b[0m\u001b[0mi\u001b[0m\u001b[1;33m]\u001b[0m\u001b[1;33m,\u001b[0m \u001b[0mx\u001b[0m\u001b[1;33m[\u001b[0m\u001b[0mj\u001b[0m\u001b[1;33m]\u001b[0m \u001b[1;33m=\u001b[0m \u001b[0mx\u001b[0m\u001b[1;33m[\u001b[0m\u001b[0mj\u001b[0m\u001b[1;33m]\u001b[0m\u001b[1;33m,\u001b[0m \u001b[0mx\u001b[0m\u001b[1;33m[\u001b[0m\u001b[0mi\u001b[0m\u001b[1;33m]\u001b[0m\u001b[1;33m\u001b[0m\u001b[1;33m\u001b[0m\u001b[0m\n\u001b[0m\u001b[0;32m    279\u001b[0m         \u001b[1;32melse\u001b[0m\u001b[1;33m:\u001b[0m\u001b[1;33m\u001b[0m\u001b[1;33m\u001b[0m\u001b[0m\n\u001b[0;32m    280\u001b[0m             \u001b[0m_int\u001b[0m \u001b[1;33m=\u001b[0m \u001b[0mint\u001b[0m\u001b[1;33m\u001b[0m\u001b[1;33m\u001b[0m\u001b[0m\n",
      "\u001b[1;31mTypeError\u001b[0m: 'range' object does not support item assignment"
     ]
    }
   ],
   "source": [
    "up_to_ten = range(10)\n",
    "random.shuffle(up_to_ten)\n",
    "print (up_to_ten)"
   ]
  },
  {
   "cell_type": "code",
   "execution_count": 294,
   "metadata": {},
   "outputs": [],
   "source": [
    "my_best_friend = random.choice([\"Alice\", \"Bob\", \"Charlie\"])"
   ]
  },
  {
   "cell_type": "code",
   "execution_count": 295,
   "metadata": {},
   "outputs": [],
   "source": [
    "lottery_numbers = range(60)\n",
    "winning_numbers = random.sample(lottery_numbers, 6)"
   ]
  },
  {
   "cell_type": "code",
   "execution_count": 296,
   "metadata": {},
   "outputs": [],
   "source": [
    "four_with_replacement = [random.choice(range(10))\n",
    "    for _ in range(4)]"
   ]
  },
  {
   "cell_type": "code",
   "execution_count": 298,
   "metadata": {},
   "outputs": [
    {
     "ename": "SyntaxError",
     "evalue": "invalid syntax (<ipython-input-298-7679af2d1108>, line 4)",
     "output_type": "error",
     "traceback": [
      "\u001b[1;36m  File \u001b[1;32m\"<ipython-input-298-7679af2d1108>\"\u001b[1;36m, line \u001b[1;32m4\u001b[0m\n\u001b[1;33m    print all([\u001b[0m\n\u001b[1;37m            ^\u001b[0m\n\u001b[1;31mSyntaxError\u001b[0m\u001b[1;31m:\u001b[0m invalid syntax\n"
     ]
    }
   ],
   "source": [
    "##Regular Expressions\n",
    "import re\n",
    "\n",
    "print all([ \n",
    "    not re.match(\"a\", \"cat\"),\n",
    "    re.search(\"a\", \"cat\"), \n",
    "    not re.search(\"c\", \"dog\"), \n",
    "    3 == len(re.split(\"[ab]\", \"carbs\")), \n",
    "    \"R-D-\" == re.sub(\"[0-9]\", \"-\", \"R2D2\") \n",
    "    ]) "
   ]
  },
  {
   "cell_type": "code",
   "execution_count": 299,
   "metadata": {},
   "outputs": [],
   "source": [
    "##Object-Oriented Programming\n",
    "class Set:\n",
    "    def __init__(self, values=None):\n",
    "        \"\"\"This is the constructor.\n",
    "        It gets called when you create a new Set.\n",
    "        You would use it like\n",
    "        s1 = Set() # empty set\n",
    "        s2 = Set([1,2,2,3]) # initialize with values\"\"\"\n",
    "        self.dict = {}\n",
    "        if values is not None:\n",
    "            for value in values:\n",
    "                self.add(value)"
   ]
  },
  {
   "cell_type": "code",
   "execution_count": 300,
   "metadata": {},
   "outputs": [],
   "source": [
    "def __repr__(self):\n",
    "    \"\"\"this is the string representation of a Set object\n",
    "    if you type it at the Python prompt or pass it to str()\"\"\"\n",
    "    return \"Set: \" + str(self.dict.keys())"
   ]
  },
  {
   "cell_type": "code",
   "execution_count": 301,
   "metadata": {},
   "outputs": [],
   "source": [
    "def add(self, value):\n",
    "    self.dict[value] = True"
   ]
  },
  {
   "cell_type": "code",
   "execution_count": 302,
   "metadata": {},
   "outputs": [],
   "source": [
    "def contains(self, value):\n",
    "    return value in self.dict"
   ]
  },
  {
   "cell_type": "code",
   "execution_count": 303,
   "metadata": {},
   "outputs": [],
   "source": [
    "def remove(self, value):\n",
    "    del self.dict[value]"
   ]
  },
  {
   "cell_type": "code",
   "execution_count": 305,
   "metadata": {},
   "outputs": [
    {
     "ename": "AttributeError",
     "evalue": "'Set' object has no attribute 'add'",
     "output_type": "error",
     "traceback": [
      "\u001b[1;31m---------------------------------------------------------------------------\u001b[0m",
      "\u001b[1;31mAttributeError\u001b[0m                            Traceback (most recent call last)",
      "\u001b[1;32m<ipython-input-305-8694f51d3b1f>\u001b[0m in \u001b[0;36m<module>\u001b[1;34m\u001b[0m\n\u001b[1;32m----> 1\u001b[1;33m \u001b[0ms\u001b[0m \u001b[1;33m=\u001b[0m \u001b[0mSet\u001b[0m\u001b[1;33m(\u001b[0m\u001b[1;33m[\u001b[0m\u001b[1;36m1\u001b[0m\u001b[1;33m,\u001b[0m\u001b[1;36m2\u001b[0m\u001b[1;33m,\u001b[0m\u001b[1;36m3\u001b[0m\u001b[1;33m]\u001b[0m\u001b[1;33m)\u001b[0m\u001b[1;33m\u001b[0m\u001b[1;33m\u001b[0m\u001b[0m\n\u001b[0m\u001b[0;32m      2\u001b[0m \u001b[0ms\u001b[0m\u001b[1;33m.\u001b[0m\u001b[0madd\u001b[0m\u001b[1;33m(\u001b[0m\u001b[1;36m4\u001b[0m\u001b[1;33m)\u001b[0m\u001b[1;33m\u001b[0m\u001b[1;33m\u001b[0m\u001b[0m\n\u001b[0;32m      3\u001b[0m \u001b[0mprint\u001b[0m \u001b[1;33m(\u001b[0m\u001b[0ms\u001b[0m\u001b[1;33m.\u001b[0m\u001b[0mcontains\u001b[0m\u001b[1;33m(\u001b[0m\u001b[1;36m4\u001b[0m\u001b[1;33m)\u001b[0m\u001b[1;33m)\u001b[0m\u001b[1;33m\u001b[0m\u001b[1;33m\u001b[0m\u001b[0m\n\u001b[0;32m      4\u001b[0m \u001b[0ms\u001b[0m\u001b[1;33m.\u001b[0m\u001b[0mremove\u001b[0m\u001b[1;33m(\u001b[0m\u001b[1;36m3\u001b[0m\u001b[1;33m)\u001b[0m\u001b[1;33m\u001b[0m\u001b[1;33m\u001b[0m\u001b[0m\n\u001b[0;32m      5\u001b[0m \u001b[0mprint\u001b[0m \u001b[1;33m(\u001b[0m\u001b[0ms\u001b[0m\u001b[1;33m.\u001b[0m\u001b[0mcontains\u001b[0m\u001b[1;33m(\u001b[0m\u001b[1;36m3\u001b[0m\u001b[1;33m)\u001b[0m\u001b[1;33m)\u001b[0m\u001b[1;33m\u001b[0m\u001b[1;33m\u001b[0m\u001b[0m\n",
      "\u001b[1;32m<ipython-input-299-6e62db5cb4ec>\u001b[0m in \u001b[0;36m__init__\u001b[1;34m(self, values)\u001b[0m\n\u001b[0;32m     10\u001b[0m         \u001b[1;32mif\u001b[0m \u001b[0mvalues\u001b[0m \u001b[1;32mis\u001b[0m \u001b[1;32mnot\u001b[0m \u001b[1;32mNone\u001b[0m\u001b[1;33m:\u001b[0m\u001b[1;33m\u001b[0m\u001b[1;33m\u001b[0m\u001b[0m\n\u001b[0;32m     11\u001b[0m             \u001b[1;32mfor\u001b[0m \u001b[0mvalue\u001b[0m \u001b[1;32min\u001b[0m \u001b[0mvalues\u001b[0m\u001b[1;33m:\u001b[0m\u001b[1;33m\u001b[0m\u001b[1;33m\u001b[0m\u001b[0m\n\u001b[1;32m---> 12\u001b[1;33m                 \u001b[0mself\u001b[0m\u001b[1;33m.\u001b[0m\u001b[0madd\u001b[0m\u001b[1;33m(\u001b[0m\u001b[0mvalue\u001b[0m\u001b[1;33m)\u001b[0m\u001b[1;33m\u001b[0m\u001b[1;33m\u001b[0m\u001b[0m\n\u001b[0m",
      "\u001b[1;31mAttributeError\u001b[0m: 'Set' object has no attribute 'add'"
     ]
    }
   ],
   "source": [
    "s = Set([1,2,3])\n",
    "s.add(4)\n",
    "print (s.contains(4)) \n",
    "s.remove(3)\n",
    "print (s.contains(3))"
   ]
  },
  {
   "cell_type": "code",
   "execution_count": 306,
   "metadata": {},
   "outputs": [],
   "source": [
    "##Functional Tools\n",
    "def exp(base, power):\n",
    "    return base ** power"
   ]
  },
  {
   "cell_type": "code",
   "execution_count": 307,
   "metadata": {},
   "outputs": [],
   "source": [
    "def two_to_the(power):\n",
    "    return exp(2, power)"
   ]
  },
  {
   "cell_type": "code",
   "execution_count": 309,
   "metadata": {},
   "outputs": [
    {
     "name": "stdout",
     "output_type": "stream",
     "text": [
      "8\n"
     ]
    }
   ],
   "source": [
    "from functools import partial\n",
    "two_to_the = partial(exp, 2) \n",
    "print (two_to_the(3))"
   ]
  },
  {
   "cell_type": "code",
   "execution_count": 310,
   "metadata": {},
   "outputs": [
    {
     "name": "stdout",
     "output_type": "stream",
     "text": [
      "9\n"
     ]
    }
   ],
   "source": [
    "square_of = partial(exp, power=2)\n",
    "print (square_of(3))"
   ]
  },
  {
   "cell_type": "code",
   "execution_count": 312,
   "metadata": {},
   "outputs": [],
   "source": [
    "def double(x):\n",
    "    return 2 * x"
   ]
  },
  {
   "cell_type": "code",
   "execution_count": 313,
   "metadata": {},
   "outputs": [],
   "source": [
    "xs = [1, 2, 3, 4]\n",
    "twice_xs = [double(x) for x in xs] # [2, 4, 6, 8]\n",
    "twice_xs = map(double, xs) # same as above\n",
    "list_doubler = partial(map, double) # *function* that doubles a list\n",
    "twice_xs = list_doubler(xs) # again [2, 4, 6, 8]"
   ]
  },
  {
   "cell_type": "code",
   "execution_count": 314,
   "metadata": {},
   "outputs": [],
   "source": [
    "def multiply(x, y): return x * y\n",
    "products = map(multiply, [1, 2], [4, 5]) # [1 * 4, 2 * 5] = [4, 10]"
   ]
  },
  {
   "cell_type": "code",
   "execution_count": 315,
   "metadata": {},
   "outputs": [],
   "source": [
    "def is_even(x):\n",
    "    \"\"\"True if x is even, False if x is odd\"\"\"\n",
    "    return x % 2 == 0"
   ]
  },
  {
   "cell_type": "code",
   "execution_count": 316,
   "metadata": {},
   "outputs": [],
   "source": [
    "x_evens = [x for x in xs if is_even(x)] # [2, 4]\n",
    "x_evens = filter(is_even, xs) # same as above\n",
    "list_evener = partial(filter, is_even) # *function* that filters a list\n",
    "x_evens = list_evener(xs) # again [2, 4]"
   ]
  },
  {
   "cell_type": "code",
   "execution_count": 317,
   "metadata": {},
   "outputs": [
    {
     "ename": "NameError",
     "evalue": "name 'reduce' is not defined",
     "output_type": "error",
     "traceback": [
      "\u001b[1;31m---------------------------------------------------------------------------\u001b[0m",
      "\u001b[1;31mNameError\u001b[0m                                 Traceback (most recent call last)",
      "\u001b[1;32m<ipython-input-317-44b9db575a73>\u001b[0m in \u001b[0;36m<module>\u001b[1;34m\u001b[0m\n\u001b[1;32m----> 1\u001b[1;33m \u001b[0mx_product\u001b[0m \u001b[1;33m=\u001b[0m \u001b[0mreduce\u001b[0m\u001b[1;33m(\u001b[0m\u001b[0mmultiply\u001b[0m\u001b[1;33m,\u001b[0m \u001b[0mxs\u001b[0m\u001b[1;33m)\u001b[0m \u001b[1;31m# = 1 * 2 * 3 * 4 = 24\u001b[0m\u001b[1;33m\u001b[0m\u001b[1;33m\u001b[0m\u001b[0m\n\u001b[0m\u001b[0;32m      2\u001b[0m \u001b[0mlist_product\u001b[0m \u001b[1;33m=\u001b[0m \u001b[0mpartial\u001b[0m\u001b[1;33m(\u001b[0m\u001b[0mreduce\u001b[0m\u001b[1;33m,\u001b[0m \u001b[0mmultiply\u001b[0m\u001b[1;33m)\u001b[0m \u001b[1;31m# *function* that reduces a list\u001b[0m\u001b[1;33m\u001b[0m\u001b[1;33m\u001b[0m\u001b[0m\n\u001b[0;32m      3\u001b[0m \u001b[0mx_product\u001b[0m \u001b[1;33m=\u001b[0m \u001b[0mlist_product\u001b[0m\u001b[1;33m(\u001b[0m\u001b[0mxs\u001b[0m\u001b[1;33m)\u001b[0m \u001b[1;31m# again = 24\u001b[0m\u001b[1;33m\u001b[0m\u001b[1;33m\u001b[0m\u001b[0m\n",
      "\u001b[1;31mNameError\u001b[0m: name 'reduce' is not defined"
     ]
    }
   ],
   "source": [
    "x_product = reduce(multiply, xs) # = 1 * 2 * 3 * 4 = 24\n",
    "list_product = partial(reduce, multiply) # *function* that reduces a list\n",
    "x_product = list_product(xs) # again = 24"
   ]
  },
  {
   "cell_type": "code",
   "execution_count": 318,
   "metadata": {},
   "outputs": [],
   "source": [
    "##enumerate"
   ]
  },
  {
   "cell_type": "code",
   "execution_count": 319,
   "metadata": {},
   "outputs": [
    {
     "ename": "NameError",
     "evalue": "name 'documents' is not defined",
     "output_type": "error",
     "traceback": [
      "\u001b[1;31m---------------------------------------------------------------------------\u001b[0m",
      "\u001b[1;31mNameError\u001b[0m                                 Traceback (most recent call last)",
      "\u001b[1;32m<ipython-input-319-ebbf6cedc6c4>\u001b[0m in \u001b[0;36m<module>\u001b[1;34m\u001b[0m\n\u001b[1;32m----> 1\u001b[1;33m \u001b[1;32mfor\u001b[0m \u001b[0mi\u001b[0m\u001b[1;33m,\u001b[0m \u001b[0mdocument\u001b[0m \u001b[1;32min\u001b[0m \u001b[0menumerate\u001b[0m\u001b[1;33m(\u001b[0m\u001b[0mdocuments\u001b[0m\u001b[1;33m)\u001b[0m\u001b[1;33m:\u001b[0m\u001b[1;33m\u001b[0m\u001b[1;33m\u001b[0m\u001b[0m\n\u001b[0m\u001b[0;32m      2\u001b[0m     \u001b[0mdo_something\u001b[0m\u001b[1;33m(\u001b[0m\u001b[0mi\u001b[0m\u001b[1;33m,\u001b[0m \u001b[0mdocument\u001b[0m\u001b[1;33m)\u001b[0m\u001b[1;33m\u001b[0m\u001b[1;33m\u001b[0m\u001b[0m\n",
      "\u001b[1;31mNameError\u001b[0m: name 'documents' is not defined"
     ]
    }
   ],
   "source": [
    "for i, document in enumerate(documents):\n",
    "    do_something(i, document)"
   ]
  },
  {
   "cell_type": "code",
   "execution_count": 320,
   "metadata": {},
   "outputs": [
    {
     "ename": "NameError",
     "evalue": "name 'documents' is not defined",
     "output_type": "error",
     "traceback": [
      "\u001b[1;31m---------------------------------------------------------------------------\u001b[0m",
      "\u001b[1;31mNameError\u001b[0m                                 Traceback (most recent call last)",
      "\u001b[1;32m<ipython-input-320-36da3e1274b7>\u001b[0m in \u001b[0;36m<module>\u001b[1;34m\u001b[0m\n\u001b[1;32m----> 1\u001b[1;33m \u001b[1;32mfor\u001b[0m \u001b[0mi\u001b[0m\u001b[1;33m,\u001b[0m \u001b[0m_\u001b[0m \u001b[1;32min\u001b[0m \u001b[0menumerate\u001b[0m\u001b[1;33m(\u001b[0m\u001b[0mdocuments\u001b[0m\u001b[1;33m)\u001b[0m\u001b[1;33m:\u001b[0m \u001b[0mdo_something\u001b[0m\u001b[1;33m(\u001b[0m\u001b[0mi\u001b[0m\u001b[1;33m)\u001b[0m \u001b[1;31m# Pythonic\u001b[0m\u001b[1;33m\u001b[0m\u001b[1;33m\u001b[0m\u001b[0m\n\u001b[0m",
      "\u001b[1;31mNameError\u001b[0m: name 'documents' is not defined"
     ]
    }
   ],
   "source": [
    "for i, _ in enumerate(documents): do_something(i) # Pythonic"
   ]
  },
  {
   "cell_type": "code",
   "execution_count": 321,
   "metadata": {},
   "outputs": [
    {
     "data": {
      "text/plain": [
       "<zip at 0x17fa54b2c48>"
      ]
     },
     "execution_count": 321,
     "metadata": {},
     "output_type": "execute_result"
    }
   ],
   "source": [
    "##zip and Argument Unpacking\n",
    "list1 = ['a', 'b', 'c']\n",
    "list2 = [1, 2, 3]\n",
    "zip(list1, list2)"
   ]
  },
  {
   "cell_type": "code",
   "execution_count": 322,
   "metadata": {},
   "outputs": [],
   "source": [
    "pairs = [('a', 1), ('b', 2), ('c', 3)]\n",
    "letters, numbers = zip(*pairs)"
   ]
  },
  {
   "cell_type": "code",
   "execution_count": 323,
   "metadata": {},
   "outputs": [
    {
     "data": {
      "text/plain": [
       "<zip at 0x17fa54b15c8>"
      ]
     },
     "execution_count": 323,
     "metadata": {},
     "output_type": "execute_result"
    }
   ],
   "source": [
    "zip(('a', 1), ('b', 2), ('c', 3))"
   ]
  },
  {
   "cell_type": "code",
   "execution_count": 325,
   "metadata": {},
   "outputs": [
    {
     "data": {
      "text/plain": [
       "3"
      ]
     },
     "execution_count": 325,
     "metadata": {},
     "output_type": "execute_result"
    }
   ],
   "source": [
    "def add(a, b): return a + b\n",
    "add(1, 2) # returns 3\n"
   ]
  },
  {
   "cell_type": "code",
   "execution_count": 326,
   "metadata": {},
   "outputs": [
    {
     "ename": "TypeError",
     "evalue": "add() missing 1 required positional argument: 'b'",
     "output_type": "error",
     "traceback": [
      "\u001b[1;31m---------------------------------------------------------------------------\u001b[0m",
      "\u001b[1;31mTypeError\u001b[0m                                 Traceback (most recent call last)",
      "\u001b[1;32m<ipython-input-326-8e22e813ee4b>\u001b[0m in \u001b[0;36m<module>\u001b[1;34m\u001b[0m\n\u001b[1;32m----> 1\u001b[1;33m \u001b[0madd\u001b[0m\u001b[1;33m(\u001b[0m\u001b[1;33m[\u001b[0m\u001b[1;36m1\u001b[0m\u001b[1;33m,\u001b[0m \u001b[1;36m2\u001b[0m\u001b[1;33m]\u001b[0m\u001b[1;33m)\u001b[0m \u001b[1;31m# TypeError!\u001b[0m\u001b[1;33m\u001b[0m\u001b[1;33m\u001b[0m\u001b[0m\n\u001b[0m",
      "\u001b[1;31mTypeError\u001b[0m: add() missing 1 required positional argument: 'b'"
     ]
    }
   ],
   "source": [
    "add([1, 2]) # TypeError!"
   ]
  },
  {
   "cell_type": "code",
   "execution_count": 327,
   "metadata": {},
   "outputs": [
    {
     "data": {
      "text/plain": [
       "3"
      ]
     },
     "execution_count": 327,
     "metadata": {},
     "output_type": "execute_result"
    }
   ],
   "source": [
    "add(*[1, 2]) # returns 3"
   ]
  },
  {
   "cell_type": "code",
   "execution_count": 328,
   "metadata": {},
   "outputs": [],
   "source": [
    "##args and kwargs\n",
    "def doubler(f):\n",
    "    def g(x):\n",
    "        return 2 * f(x)\n",
    "    return g"
   ]
  },
  {
   "cell_type": "code",
   "execution_count": 329,
   "metadata": {},
   "outputs": [],
   "source": [
    "def f1(x):\n",
    "    return x + 1"
   ]
  },
  {
   "cell_type": "code",
   "execution_count": 331,
   "metadata": {},
   "outputs": [
    {
     "name": "stdout",
     "output_type": "stream",
     "text": [
      "8\n"
     ]
    }
   ],
   "source": [
    "g = doubler(f1)\n",
    "print (g(3)) # 8 (== ( 3 + 1) * 2)"
   ]
  },
  {
   "cell_type": "code",
   "execution_count": 332,
   "metadata": {},
   "outputs": [
    {
     "name": "stdout",
     "output_type": "stream",
     "text": [
      "0\n"
     ]
    }
   ],
   "source": [
    "print (g(-1)) # 0 (== (-1 + 1) * 2)"
   ]
  },
  {
   "cell_type": "code",
   "execution_count": 333,
   "metadata": {},
   "outputs": [],
   "source": [
    "def f2(x, y):\n",
    "    return x + y"
   ]
  },
  {
   "cell_type": "code",
   "execution_count": 334,
   "metadata": {},
   "outputs": [
    {
     "ename": "TypeError",
     "evalue": "g() takes 1 positional argument but 2 were given",
     "output_type": "error",
     "traceback": [
      "\u001b[1;31m---------------------------------------------------------------------------\u001b[0m",
      "\u001b[1;31mTypeError\u001b[0m                                 Traceback (most recent call last)",
      "\u001b[1;32m<ipython-input-334-22bf0fd43ba3>\u001b[0m in \u001b[0;36m<module>\u001b[1;34m\u001b[0m\n\u001b[0;32m      1\u001b[0m \u001b[0mg\u001b[0m \u001b[1;33m=\u001b[0m \u001b[0mdoubler\u001b[0m\u001b[1;33m(\u001b[0m\u001b[0mf2\u001b[0m\u001b[1;33m)\u001b[0m\u001b[1;33m\u001b[0m\u001b[1;33m\u001b[0m\u001b[0m\n\u001b[1;32m----> 2\u001b[1;33m \u001b[0mprint\u001b[0m \u001b[1;33m(\u001b[0m\u001b[0mg\u001b[0m\u001b[1;33m(\u001b[0m\u001b[1;36m1\u001b[0m\u001b[1;33m,\u001b[0m \u001b[1;36m2\u001b[0m\u001b[1;33m)\u001b[0m\u001b[1;33m)\u001b[0m\u001b[1;33m\u001b[0m\u001b[1;33m\u001b[0m\u001b[0m\n\u001b[0m",
      "\u001b[1;31mTypeError\u001b[0m: g() takes 1 positional argument but 2 were given"
     ]
    }
   ],
   "source": [
    "g = doubler(f2)\n",
    "print (g(1, 2))"
   ]
  },
  {
   "cell_type": "code",
   "execution_count": 336,
   "metadata": {},
   "outputs": [],
   "source": [
    "def magic(*args, **kwargs):\n",
    "    print (\"unnamed args:\", args)\n",
    "    print (\"keyword args:\", kwargs)"
   ]
  },
  {
   "cell_type": "code",
   "execution_count": 337,
   "metadata": {},
   "outputs": [
    {
     "name": "stdout",
     "output_type": "stream",
     "text": [
      "unnamed args: (1, 2)\n",
      "keyword args: {'key': 'word', 'key2': 'word2'}\n"
     ]
    }
   ],
   "source": [
    "magic(1, 2, key=\"word\", key2=\"word2\")"
   ]
  },
  {
   "cell_type": "code",
   "execution_count": 338,
   "metadata": {},
   "outputs": [],
   "source": [
    "def other_way_magic(x, y, z):\n",
    "    return x + y + z"
   ]
  },
  {
   "cell_type": "code",
   "execution_count": 339,
   "metadata": {},
   "outputs": [
    {
     "name": "stdout",
     "output_type": "stream",
     "text": [
      "6\n"
     ]
    }
   ],
   "source": [
    "x_y_list = [1, 2]\n",
    "z_dict = { \"z\" : 3 }\n",
    "print (other_way_magic(*x_y_list, **z_dict))"
   ]
  },
  {
   "cell_type": "code",
   "execution_count": 340,
   "metadata": {},
   "outputs": [],
   "source": [
    "def doubler_correct(f):\n",
    "    \"\"\"works no matter what kind of inputs f expects\"\"\"\n",
    "    def g(*args, **kwargs):\n",
    "        \"\"\"whatever arguments g is supplied, pass them through to f\"\"\"\n",
    "        return 2 * f(*args, **kwargs)\n",
    "    return g"
   ]
  },
  {
   "cell_type": "code",
   "execution_count": 341,
   "metadata": {},
   "outputs": [
    {
     "name": "stdout",
     "output_type": "stream",
     "text": [
      "6\n"
     ]
    }
   ],
   "source": [
    "g = doubler_correct(f2)\n",
    "print (g(1, 2))"
   ]
  },
  {
   "cell_type": "code",
   "execution_count": null,
   "metadata": {},
   "outputs": [],
   "source": []
  }
 ],
 "metadata": {
  "kernelspec": {
   "display_name": "Python 3",
   "language": "python",
   "name": "python3"
  },
  "language_info": {
   "codemirror_mode": {
    "name": "ipython",
    "version": 3
   },
   "file_extension": ".py",
   "mimetype": "text/x-python",
   "name": "python",
   "nbconvert_exporter": "python",
   "pygments_lexer": "ipython3",
   "version": "3.7.1"
  }
 },
 "nbformat": 4,
 "nbformat_minor": 2
}
