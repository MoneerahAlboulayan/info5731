{
  "nbformat": 4,
  "nbformat_minor": 0,
  "metadata": {
    "colab": {
      "name": "Alboulayan_selfstudy3",
      "version": "0.3.2",
      "provenance": [],
      "collapsed_sections": [],
      "include_colab_link": true
    },
    "kernelspec": {
      "name": "python3",
      "display_name": "Python 3"
    }
  },
  "cells": [
    {
      "cell_type": "markdown",
      "metadata": {
        "id": "view-in-github",
        "colab_type": "text"
      },
      "source": [
        "<a href=\"https://colab.research.google.com/github/MoneerahAlboulayan/info5731/blob/master/Alboulayan_selfstudy3.ipynb\" target=\"_parent\"><img src=\"https://colab.research.google.com/assets/colab-badge.svg\" alt=\"Open In Colab\"/></a>"
      ]
    },
    {
      "metadata": {
        "id": "4nixnwYUVGVE",
        "colab_type": "code",
        "colab": {}
      },
      "cell_type": "code",
      "source": [
        "#Chapter9\n",
        "import sys, re"
      ],
      "execution_count": 0,
      "outputs": []
    },
    {
      "metadata": {
        "id": "wk_4eJMpVRTE",
        "colab_type": "code",
        "colab": {}
      },
      "cell_type": "code",
      "source": [
        "regex = sys.argv[1]"
      ],
      "execution_count": 0,
      "outputs": []
    },
    {
      "metadata": {
        "id": "yWZDFbmyVRrV",
        "colab_type": "code",
        "colab": {}
      },
      "cell_type": "code",
      "source": [
        "for line in sys.stdin:\n",
        "  if re.search(regex, line):\n",
        "    sys.stdout.write(line)"
      ],
      "execution_count": 0,
      "outputs": []
    },
    {
      "metadata": {
        "id": "VEupDQ20VRyq",
        "colab_type": "code",
        "colab": {}
      },
      "cell_type": "code",
      "source": [
        "import sys"
      ],
      "execution_count": 0,
      "outputs": []
    },
    {
      "metadata": {
        "id": "GDa2nD8uVR2N",
        "colab_type": "code",
        "colab": {}
      },
      "cell_type": "code",
      "source": [
        "count = 0\n",
        "for line in sys.stdin:\n",
        "  count += 1"
      ],
      "execution_count": 0,
      "outputs": []
    },
    {
      "metadata": {
        "id": "UqtwnN2hVR-e",
        "colab_type": "code",
        "outputId": "4e67bb4d-6982-4d45-8af3-b3c5358fca28",
        "colab": {
          "base_uri": "https://localhost:8080/",
          "height": 34
        }
      },
      "cell_type": "code",
      "source": [
        "print (count)"
      ],
      "execution_count": 0,
      "outputs": [
        {
          "output_type": "stream",
          "text": [
            "0\n"
          ],
          "name": "stdout"
        }
      ]
    },
    {
      "metadata": {
        "id": "z_6ZrM3TVR8I",
        "colab_type": "code",
        "colab": {}
      },
      "cell_type": "code",
      "source": [
        "import sys\n",
        "from collections import Counter"
      ],
      "execution_count": 0,
      "outputs": []
    },
    {
      "metadata": {
        "id": "mGK5-vDzVR6R",
        "colab_type": "code",
        "outputId": "2c850b7f-3c62-417f-b509-c9d6819d391a",
        "colab": {
          "base_uri": "https://localhost:8080/",
          "height": 183
        }
      },
      "cell_type": "code",
      "source": [
        "try:\n",
        "  num_words = int(sys.argv[1])\n",
        "except:\n",
        "  print (\"usage: most_common_words.py num_words\")\n",
        "  sys.exit(1) # non-zero exit code indicates error\n",
        "\n",
        "counter = Counter(word.lower() # lowercase words\n",
        "  for line in sys.stdin #\n",
        "  for word in line.strip().split() # split on spaces\n",
        "  if word) # skip empty 'words'\n",
        "\n",
        "for word, count in counter.most_common(num_words):\n",
        "  sys.stdout.write(str(count))\n",
        "  sys.stdout.write(\"\\t\")\n",
        "  sys.stdout.write(word)\n",
        "  sys.stdout.write(\"\\n\")\n",
        "  "
      ],
      "execution_count": 0,
      "outputs": [
        {
          "output_type": "stream",
          "text": [
            "usage: most_common_words.py num_words\n"
          ],
          "name": "stdout"
        },
        {
          "output_type": "error",
          "ename": "SystemExit",
          "evalue": "ignored",
          "traceback": [
            "An exception has occurred, use %tb to see the full traceback.\n",
            "\u001b[0;31mSystemExit\u001b[0m\u001b[0;31m:\u001b[0m 1\n"
          ]
        },
        {
          "output_type": "stream",
          "text": [
            "/usr/local/lib/python3.6/dist-packages/IPython/core/interactiveshell.py:2890: UserWarning: To exit: use 'exit', 'quit', or Ctrl-D.\n",
            "  warn(\"To exit: use 'exit', 'quit', or Ctrl-D.\", stacklevel=1)\n"
          ],
          "name": "stderr"
        }
      ]
    },
    {
      "metadata": {
        "id": "LDj6xzZgW4xP",
        "colab_type": "code",
        "colab": {}
      },
      "cell_type": "code",
      "source": [
        "file_for_writing = open('writing_file.txt', 'w')"
      ],
      "execution_count": 0,
      "outputs": []
    },
    {
      "metadata": {
        "id": "OkNXCKa6W49d",
        "colab_type": "code",
        "colab": {}
      },
      "cell_type": "code",
      "source": [
        "file_for_appending = open('appending_file.txt', 'a')"
      ],
      "execution_count": 0,
      "outputs": []
    },
    {
      "metadata": {
        "id": "vJyh8xyRW5DO",
        "colab_type": "code",
        "colab": {}
      },
      "cell_type": "code",
      "source": [
        "file_for_writing.close()"
      ],
      "execution_count": 0,
      "outputs": []
    },
    {
      "metadata": {
        "id": "uNfoKfoJW5HB",
        "colab_type": "code",
        "colab": {}
      },
      "cell_type": "code",
      "source": [
        "today_prices = { 'AAPL' : 90.91, 'MSFT' : 41.68, 'FB' : 64.5 }"
      ],
      "execution_count": 0,
      "outputs": []
    },
    {
      "metadata": {
        "id": "wynkbW7CW5Mg",
        "colab_type": "code",
        "outputId": "b6e164c2-f870-464c-8a31-0e25e3d8ccd3",
        "colab": {
          "base_uri": "https://localhost:8080/",
          "height": 197
        }
      },
      "cell_type": "code",
      "source": [
        "with open('comma_delimited_stock_prices.txt','wb') as f:\n",
        "  writer = csv.writer(f, delimiter=',')\n",
        "  for stock, price in today_prices.items():\n",
        "    writer.writerow([stock, price])"
      ],
      "execution_count": 0,
      "outputs": [
        {
          "output_type": "error",
          "ename": "TypeError",
          "evalue": "ignored",
          "traceback": [
            "\u001b[0;31m---------------------------------------------------------------------------\u001b[0m",
            "\u001b[0;31mTypeError\u001b[0m                                 Traceback (most recent call last)",
            "\u001b[0;32m<ipython-input-34-350794bce10a>\u001b[0m in \u001b[0;36m<module>\u001b[0;34m()\u001b[0m\n\u001b[1;32m      2\u001b[0m   \u001b[0mwriter\u001b[0m \u001b[0;34m=\u001b[0m \u001b[0mcsv\u001b[0m\u001b[0;34m.\u001b[0m\u001b[0mwriter\u001b[0m\u001b[0;34m(\u001b[0m\u001b[0mf\u001b[0m\u001b[0;34m,\u001b[0m \u001b[0mdelimiter\u001b[0m\u001b[0;34m=\u001b[0m\u001b[0;34m','\u001b[0m\u001b[0;34m)\u001b[0m\u001b[0;34m\u001b[0m\u001b[0;34m\u001b[0m\u001b[0m\n\u001b[1;32m      3\u001b[0m   \u001b[0;32mfor\u001b[0m \u001b[0mstock\u001b[0m\u001b[0;34m,\u001b[0m \u001b[0mprice\u001b[0m \u001b[0;32min\u001b[0m \u001b[0mtoday_prices\u001b[0m\u001b[0;34m.\u001b[0m\u001b[0mitems\u001b[0m\u001b[0;34m(\u001b[0m\u001b[0;34m)\u001b[0m\u001b[0;34m:\u001b[0m\u001b[0;34m\u001b[0m\u001b[0;34m\u001b[0m\u001b[0m\n\u001b[0;32m----> 4\u001b[0;31m     \u001b[0mwriter\u001b[0m\u001b[0;34m.\u001b[0m\u001b[0mwriterow\u001b[0m\u001b[0;34m(\u001b[0m\u001b[0;34m[\u001b[0m\u001b[0mstock\u001b[0m\u001b[0;34m,\u001b[0m \u001b[0mprice\u001b[0m\u001b[0;34m]\u001b[0m\u001b[0;34m)\u001b[0m\u001b[0;34m\u001b[0m\u001b[0;34m\u001b[0m\u001b[0m\n\u001b[0m",
            "\u001b[0;31mTypeError\u001b[0m: a bytes-like object is required, not 'str'"
          ]
        }
      ]
    },
    {
      "metadata": {
        "id": "nZccHMZvW5Qs",
        "colab_type": "code",
        "colab": {}
      },
      "cell_type": "code",
      "source": [
        "results = [[\"test1\", \"success\", \"Monday\"],\n",
        "[\"test2\", \"success, kind of\", \"Tuesday\"],\n",
        "[\"test3\", \"failure, kind of\", \"Wednesday\"],\n",
        "[\"test4\", \"failure, utter\", \"Thursday\"]]"
      ],
      "execution_count": 0,
      "outputs": []
    },
    {
      "metadata": {
        "id": "zjluCScIW5Kn",
        "colab_type": "code",
        "colab": {}
      },
      "cell_type": "code",
      "source": [
        "with open('bad_csv.txt', 'w') as f:\n",
        "  for row in results:\n",
        "    f.write(\",\".join(map(str, row))) \n",
        "    f.write(\"\\n\") "
      ],
      "execution_count": 0,
      "outputs": []
    },
    {
      "metadata": {
        "id": "BvqYfotma8Gx",
        "colab_type": "code",
        "outputId": "0edd8b88-9d6d-498f-9263-f28660d953f8",
        "colab": {
          "base_uri": "https://localhost:8080/",
          "height": 34
        }
      },
      "cell_type": "code",
      "source": [
        "open('bad_csv.txt', 'w')"
      ],
      "execution_count": 0,
      "outputs": [
        {
          "output_type": "execute_result",
          "data": {
            "text/plain": [
              "<_io.TextIOWrapper name='bad_csv.txt' mode='w' encoding='UTF-8'>"
            ]
          },
          "metadata": {
            "tags": []
          },
          "execution_count": 39
        }
      ]
    },
    {
      "metadata": {
        "id": "aAkH-2yLa8NB",
        "colab_type": "code",
        "colab": {}
      },
      "cell_type": "code",
      "source": [
        "from bs4 import BeautifulSoup\n",
        "import requests\n",
        "html = requests.get(\"http://www.example.com\").text\n",
        "soup = BeautifulSoup(html, 'html5lib')"
      ],
      "execution_count": 0,
      "outputs": []
    },
    {
      "metadata": {
        "id": "hj06Ua1Xa8XF",
        "colab_type": "code",
        "colab": {}
      },
      "cell_type": "code",
      "source": [
        "first_paragraph = soup.find('p')"
      ],
      "execution_count": 0,
      "outputs": []
    },
    {
      "metadata": {
        "id": "h0jgShx4a8UR",
        "colab_type": "code",
        "colab": {}
      },
      "cell_type": "code",
      "source": [
        "first_paragraph_text = soup.p.text\n",
        "first_paragraph_words = soup.p.text.split()"
      ],
      "execution_count": 0,
      "outputs": []
    },
    {
      "metadata": {
        "id": "_aaupRTTbUcv",
        "colab_type": "code",
        "colab": {}
      },
      "cell_type": "code",
      "source": [
        "all_paragraphs = soup.find_all('p') # or just soup('p')\n",
        "paragraphs_with_ids = [p for p in soup('p') if p.get('id')]"
      ],
      "execution_count": 0,
      "outputs": []
    },
    {
      "metadata": {
        "id": "v3AseC1PbUge",
        "colab_type": "code",
        "colab": {}
      },
      "cell_type": "code",
      "source": [
        "important_paragraphs = soup('p', {'class' : 'important'})\n",
        "important_paragraphs2 = soup('p', 'important')\n",
        "important_paragraphs3 = [p for p in soup('p')\n",
        "  if 'important' in p.get('class', [])]"
      ],
      "execution_count": 0,
      "outputs": []
    },
    {
      "metadata": {
        "id": "xYwe-_mLbUmA",
        "colab_type": "code",
        "colab": {}
      },
      "cell_type": "code",
      "source": [
        "spans_inside_divs = [span\n",
        "  for div in soup('div') # for each <div> on the page\n",
        "  for span in div('span')]"
      ],
      "execution_count": 0,
      "outputs": []
    },
    {
      "metadata": {
        "id": "f0K-R9g9bUut",
        "colab_type": "code",
        "colab": {}
      },
      "cell_type": "code",
      "source": [
        "url = \"http://shop.oreilly.com/category/browse-subjects/\" + \\\n",
        "\"data.do?sortby=publicationDate&page=1\"\n",
        "soup = BeautifulSoup(requests.get(url).text, 'html5lib')"
      ],
      "execution_count": 0,
      "outputs": []
    },
    {
      "metadata": {
        "id": "XRaP6w2YbUzl",
        "colab_type": "code",
        "outputId": "e0eba1db-2c0f-4412-9488-80df16a2ecfc",
        "colab": {
          "base_uri": "https://localhost:8080/",
          "height": 34
        }
      },
      "cell_type": "code",
      "source": [
        "tds = soup('td', 'thumbtext')\n",
        "print (len(tds))\n",
        "     "
      ],
      "execution_count": 0,
      "outputs": [
        {
          "output_type": "stream",
          "text": [
            "0\n"
          ],
          "name": "stdout"
        }
      ]
    },
    {
      "metadata": {
        "id": "PbQU7CfhbUsq",
        "colab_type": "code",
        "colab": {}
      },
      "cell_type": "code",
      "source": [
        "def book_info(td):\n",
        "  \"\"\"given a BeautifulSoup <td> Tag representing a book,\n",
        "  extract the book's details and return a dict\"\"\"\n",
        "  title = td.find(\"div\", \"thumbheader\").a.text\n",
        "  by_author = td.find('div', 'AuthorName').text\n",
        "  authors = [x.strip() for x in re.sub(\"^By \", \"\", by_author).split(\",\")]\n",
        "  isbn_link = td.find(\"div\", \"thumbheader\").a.get(\"href\")\n",
        "  isbn = re.match(\"/product/(.*)\\.do\", isbn_link).groups()[0]\n",
        "  date = td.find(\"span\", \"directorydate\").text.strip()\n",
        "  return {\n",
        "    \"title\" : title,\n",
        "    \"authors\" : authors,\n",
        "    \"isbn\" : isbn,\n",
        "    \"date\" : date\n",
        "}"
      ],
      "execution_count": 0,
      "outputs": []
    },
    {
      "metadata": {
        "id": "UkpBq31obUqi",
        "colab_type": "code",
        "outputId": "ea83c441-12f4-41b9-b697-fe036692e8fd",
        "colab": {
          "base_uri": "https://localhost:8080/",
          "height": 503
        }
      },
      "cell_type": "code",
      "source": [
        "from bs4 import BeautifulSoup\n",
        "import requests\n",
        "from time import sleep\n",
        "base_url = \"http://shop.oreilly.com/category/browse-subjects/\" + \\\n",
        "\"data.do?sortby=publicationDate&page=\"\n",
        "books = []\n",
        "NUM_PAGES = 31\n",
        "for page_num in range(1, NUM_PAGES + 1):\n",
        "  print (\"souping page\"), page_num, \",\", len(books), \" found so far\"\n",
        "  url = base_url + str(page_num)\n",
        "  soup = BeautifulSoup(requests.get(url).text, 'html5lib')\n",
        "  for td in soup('td', 'thumbtext'):\n",
        "    if not is_video(td):\n",
        "      books.append(book_info(td))\n",
        "  sleep(30)"
      ],
      "execution_count": 0,
      "outputs": [
        {
          "output_type": "stream",
          "text": [
            "souping page\n",
            "souping page\n",
            "souping page\n",
            "souping page\n",
            "souping page\n",
            "souping page\n",
            "souping page\n",
            "souping page\n",
            "souping page\n",
            "souping page\n",
            "souping page\n",
            "souping page\n",
            "souping page\n",
            "souping page\n",
            "souping page\n",
            "souping page\n",
            "souping page\n",
            "souping page\n"
          ],
          "name": "stdout"
        },
        {
          "output_type": "error",
          "ename": "KeyboardInterrupt",
          "evalue": "ignored",
          "traceback": [
            "\u001b[0;31m---------------------------------------------------------------------------\u001b[0m",
            "\u001b[0;31mKeyboardInterrupt\u001b[0m                         Traceback (most recent call last)",
            "\u001b[0;32m<ipython-input-62-0c4d0279b1db>\u001b[0m in \u001b[0;36m<module>\u001b[0;34m()\u001b[0m\n\u001b[1;32m     12\u001b[0m     \u001b[0;32mif\u001b[0m \u001b[0;32mnot\u001b[0m \u001b[0mis_video\u001b[0m\u001b[0;34m(\u001b[0m\u001b[0mtd\u001b[0m\u001b[0;34m)\u001b[0m\u001b[0;34m:\u001b[0m\u001b[0;34m\u001b[0m\u001b[0;34m\u001b[0m\u001b[0m\n\u001b[1;32m     13\u001b[0m       \u001b[0mbooks\u001b[0m\u001b[0;34m.\u001b[0m\u001b[0mappend\u001b[0m\u001b[0;34m(\u001b[0m\u001b[0mbook_info\u001b[0m\u001b[0;34m(\u001b[0m\u001b[0mtd\u001b[0m\u001b[0;34m)\u001b[0m\u001b[0;34m)\u001b[0m\u001b[0;34m\u001b[0m\u001b[0;34m\u001b[0m\u001b[0m\n\u001b[0;32m---> 14\u001b[0;31m   \u001b[0msleep\u001b[0m\u001b[0;34m(\u001b[0m\u001b[0;36m30\u001b[0m\u001b[0;34m)\u001b[0m\u001b[0;34m\u001b[0m\u001b[0;34m\u001b[0m\u001b[0m\n\u001b[0m",
            "\u001b[0;31mKeyboardInterrupt\u001b[0m: "
          ]
        }
      ]
    },
    {
      "metadata": {
        "id": "j3byb1jUduZP",
        "colab_type": "code",
        "outputId": "8da945bf-29ca-4dd0-b968-802a653fe092",
        "colab": {
          "base_uri": "https://localhost:8080/",
          "height": 362
        }
      },
      "cell_type": "code",
      "source": [
        "def get_year(book):\n",
        "  \"\"\"book[\"date\"] looks like 'November 2014' so we need to\n",
        "  split on the space and then take the second piece\"\"\"\n",
        "  return int(book[\"date\"].split()[1])\n",
        "\n",
        "year_counts = Counter(get_year(book) for book in books\n",
        "  if get_year(book) <= 2014)\n",
        "\n",
        "import matplotlib.pyplot as plt\n",
        "years = sorted(year_counts)\n",
        "book_counts = [year_counts[year] for year in years]\n",
        "plt.plot(years, book_counts)\n",
        "plt.ylabel(\"# of data books\")\n",
        "plt.title(\"Data is Big!\")\n",
        "plt.show()"
      ],
      "execution_count": 0,
      "outputs": [
        {
          "output_type": "display_data",
          "data": {
            "image/png": "[encoded data removed]",
            "text/plain": [
              "<Figure size 576x396 with 1 Axes>"
            ]
          },
          "metadata": {
            "tags": []
          }
        }
      ]
    },
    {
      "metadata": {
        "id": "bRCNBED-dum2",
        "colab_type": "code",
        "outputId": "6e6d8edb-08fd-4057-eaf8-0b9badb6ed5e",
        "colab": {
          "base_uri": "https://localhost:8080/",
          "height": 54
        }
      },
      "cell_type": "code",
      "source": [
        "import json\n",
        "serialized = \"\"\"{ \"title\" : \"Data Science Book\",\n",
        "  \"author\" : \"Joel Grus\",\n",
        "  \"publicationYear\" : 2014,\n",
        "  \"topics\" : [ \"data\", \"science\", \"data science\"] }\"\"\"\n",
        "  \n",
        "deserialized = json.loads(serialized)\n",
        "if \"data science\" in deserialized[\"topics\"]:\n",
        "  print (deserialized)"
      ],
      "execution_count": 0,
      "outputs": [
        {
          "output_type": "stream",
          "text": [
            "{'title': 'Data Science Book', 'author': 'Joel Grus', 'publicationYear': 2014, 'topics': ['data', 'science', 'data science']}\n"
          ],
          "name": "stdout"
        }
      ]
    },
    {
      "metadata": {
        "id": "GPXGn9LUdujm",
        "colab_type": "code",
        "colab": {}
      },
      "cell_type": "code",
      "source": [
        "import requests, json\n",
        "endpoint = \"https://api.github.com/users/joelgrus/repos\"\n",
        "repos = json.loads(requests.get(endpoint).text)"
      ],
      "execution_count": 0,
      "outputs": []
    },
    {
      "metadata": {
        "id": "X3reXXfldugT",
        "colab_type": "code",
        "outputId": "c2a2a326-0cba-428f-9194-a75376f84c24",
        "colab": {
          "base_uri": "https://localhost:8080/",
          "height": 51
        }
      },
      "cell_type": "code",
      "source": [
        "!pip install python-dateutil\n",
        "from dateutil.parser import parse\n",
        "dates = [parse(repo[\"created_at\"]) for repo in repos]\n",
        "month_counts = Counter(date.month for date in dates)\n",
        "weekday_counts = Counter(date.weekday() for date in dates)"
      ],
      "execution_count": 0,
      "outputs": [
        {
          "output_type": "stream",
          "text": [
            "Requirement already satisfied: python-dateutil in /usr/local/lib/python3.6/dist-packages (2.5.3)\n",
            "Requirement already satisfied: six>=1.5 in /usr/local/lib/python3.6/dist-packages (from python-dateutil) (1.11.0)\n"
          ],
          "name": "stdout"
        }
      ]
    },
    {
      "metadata": {
        "id": "ll2jdJH_e2-S",
        "colab_type": "code",
        "colab": {}
      },
      "cell_type": "code",
      "source": [
        "last_5_repositories = sorted(repos,\n",
        "  key=lambda r: r[\"created_at\"],\n",
        "  reverse=True)[:5]"
      ],
      "execution_count": 0,
      "outputs": []
    },
    {
      "metadata": {
        "id": "T7lOCZ9-e3Kk",
        "colab_type": "code",
        "colab": {}
      },
      "cell_type": "code",
      "source": [
        "last_5_languages = [repo[\"language\"]\n",
        "  for repo in last_5_repositories]"
      ],
      "execution_count": 0,
      "outputs": []
    },
    {
      "metadata": {
        "id": "-v0TS2c6e9J5",
        "colab_type": "code",
        "colab": {}
      },
      "cell_type": "code",
      "source": [
        "from twython import Twython\n",
        "twitter = Twython(CONSUMER_KEY, CONSUMER_SECRET)"
      ],
      "execution_count": 0,
      "outputs": []
    },
    {
      "metadata": {
        "id": "LiwRN94se9PM",
        "colab_type": "code",
        "colab": {}
      },
      "cell_type": "code",
      "source": [
        "for status in twitter.search(q='\"data science\"')[\"statuses\"]:\n",
        "  user = status[\"user\"][\"screen_name\"].encode('utf-8')\n",
        "  text = status[\"text\"].encode('utf-8')\n",
        "  print (user, \":\", text)\n",
        "  print"
      ],
      "execution_count": 0,
      "outputs": []
    },
    {
      "metadata": {
        "id": "Qea78Ajde9bm",
        "colab_type": "code",
        "colab": {}
      },
      "cell_type": "code",
      "source": [
        "from twython import TwythonStreamer\n",
        "tweets = []\n",
        "class MyStreamer(TwythonStreamer):\n",
        "  \"\"\"our own subclass of TwythonStreamer that specifies\n",
        "  how to interact with the stream\"\"\"\n",
        "  \n",
        "  def on_success(self, data):\n",
        "    \"\"\"what do we do when twitter sends us data?\n",
        "    here data will be a Python dict representing a tweet\"\"\"\n",
        "    \n",
        "    if data['lang'] == 'en':\n",
        "      tweets.append(data)\n",
        "      print (\"received tweet #\"), len(tweets)\n",
        "      \n",
        "    if len(tweets) >= 1000:\n",
        "      self.disconnect() \n",
        "      \n",
        "  def on_error(self, status_code, data):\n",
        "    print (status_code, data)\n",
        "    self.disconnect()"
      ],
      "execution_count": 0,
      "outputs": []
    },
    {
      "metadata": {
        "id": "UtRQMuUxe9Y6",
        "colab_type": "code",
        "colab": {}
      },
      "cell_type": "code",
      "source": [
        "stream = MyStreamer(CONSUMER_KEY, CONSUMER_SECRET,\n",
        "ACCESS_TOKEN, ACCESS_TOKEN_SECRET)\n",
        "stream.statuses.filter(track='data')"
      ],
      "execution_count": 0,
      "outputs": []
    },
    {
      "metadata": {
        "id": "9nf8KNFpe9V6",
        "colab_type": "code",
        "colab": {}
      },
      "cell_type": "code",
      "source": [
        "top_hashtags = Counter(hashtag['text'].lower()\n",
        "  for tweet in tweets\n",
        "  for hashtag in tweet[\"entities\"][\"hashtags\"])\n",
        "print (top_hashtags.most_common(5))"
      ],
      "execution_count": 0,
      "outputs": []
    },
    {
      "metadata": {
        "id": "ZxRqzyg8gqOj",
        "colab_type": "code",
        "colab": {}
      },
      "cell_type": "code",
      "source": [
        "#Chapter23"
      ],
      "execution_count": 0,
      "outputs": []
    },
    {
      "metadata": {
        "id": "kf5oQpsKgt_y",
        "colab_type": "code",
        "colab": {}
      },
      "cell_type": "code",
      "source": [
        "users = [[0, \"Hero\", 0],\n",
        "  [1, \"Dunn\", 2],\n",
        "  [2, \"Sue\", 3],\n",
        "  [3, \"Chi\", 3]]"
      ],
      "execution_count": 0,
      "outputs": []
    },
    {
      "metadata": {
        "id": "jXR5Vi30guMY",
        "colab_type": "code",
        "colab": {}
      },
      "cell_type": "code",
      "source": [
        "class Table:\n",
        "  def __init__(self, columns):\n",
        "    self.columns = columns\n",
        "    self.rows = []\n",
        "    \n",
        "  def __repr__(self):\n",
        "    \"\"\"pretty representation of the table: columns then rows\"\"\"\n",
        "    return str(self.columns) + \"\\n\" + \"\\n\".join(map(str, self.rows))\n",
        "  \n",
        "  def insert(self, row_values):\n",
        "    if len(row_values) != len(self.columns):\n",
        "      raise TypeError(\"wrong number of elements\")\n",
        "    row_dict = dict(zip(self.columns, row_values))\n",
        "    self.rows.append(row_dict)"
      ],
      "execution_count": 0,
      "outputs": []
    },
    {
      "metadata": {
        "id": "xQx7wnSeguJ9",
        "colab_type": "code",
        "colab": {}
      },
      "cell_type": "code",
      "source": [
        "users = Table([\"user_id\", \"name\", \"num_friends\"])\n",
        "users.insert([0, \"Hero\", 0])\n",
        "users.insert([1, \"Dunn\", 2])\n",
        "users.insert([2, \"Sue\", 3])\n",
        "users.insert([3, \"Chi\", 3])\n",
        "users.insert([4, \"Thor\", 3])\n",
        "users.insert([5, \"Clive\", 2])\n",
        "users.insert([6, \"Hicks\", 3])\n",
        "users.insert([7, \"Devin\", 2])\n",
        "users.insert([8, \"Kate\", 2])\n",
        "users.insert([9, \"Klein\", 3])\n",
        "users.insert([10, \"Jen\", 1])"
      ],
      "execution_count": 0,
      "outputs": []
    },
    {
      "metadata": {
        "id": "UDPj-CDEguHk",
        "colab_type": "code",
        "outputId": "13f65186-b6d2-4530-cf23-34bd898a1077",
        "colab": {
          "base_uri": "https://localhost:8080/",
          "height": 221
        }
      },
      "cell_type": "code",
      "source": [
        "print (users)"
      ],
      "execution_count": 0,
      "outputs": [
        {
          "output_type": "stream",
          "text": [
            "['user_id', 'name', 'num_friends']\n",
            "{'user_id': 0, 'name': 'Hero', 'num_friends': 0}\n",
            "{'user_id': 1, 'name': 'Dunn', 'num_friends': 2}\n",
            "{'user_id': 2, 'name': 'Sue', 'num_friends': 3}\n",
            "{'user_id': 3, 'name': 'Chi', 'num_friends': 3}\n",
            "{'user_id': 4, 'name': 'Thor', 'num_friends': 3}\n",
            "{'user_id': 5, 'name': 'Clive', 'num_friends': 2}\n",
            "{'user_id': 6, 'name': 'Hicks', 'num_friends': 3}\n",
            "{'user_id': 7, 'name': 'Devin', 'num_friends': 2}\n",
            "{'user_id': 8, 'name': 'Kate', 'num_friends': 2}\n",
            "{'user_id': 9, 'name': 'Klein', 'num_friends': 3}\n",
            "{'user_id': 10, 'name': 'Jen', 'num_friends': 1}\n"
          ],
          "name": "stdout"
        }
      ]
    },
    {
      "metadata": {
        "id": "jEhnEaytguEy",
        "colab_type": "code",
        "colab": {}
      },
      "cell_type": "code",
      "source": [
        "def update(self, updates, predicate):\n",
        "  for row in self.rows:\n",
        "    if predicate(row):\n",
        "      for column, new_value in updates.iteritems():\n",
        "        row[column] = new_value\n"
      ],
      "execution_count": 0,
      "outputs": []
    },
    {
      "metadata": {
        "id": "zFNIvkDQmnli",
        "colab_type": "code",
        "colab": {}
      },
      "cell_type": "code",
      "source": [
        "def delete(self, predicate=lambda row: True):\n",
        "  \"\"\"delete all rows matching predicate\n",
        "  or all rows if no predicate supplied\"\"\"\n",
        "  self.rows = [row for row in self.rows if not(predicate(row))]"
      ],
      "execution_count": 0,
      "outputs": []
    },
    {
      "metadata": {
        "id": "kjPW2vlcmnjR",
        "colab_type": "code",
        "colab": {}
      },
      "cell_type": "code",
      "source": [
        "def select(self, keep_columns=None, additional_columns=None):\n",
        "  if keep_columns is None: \n",
        "    keep_columns = self.columns \n",
        "  if additional_columns is None:\n",
        "    additional_columns = {}\n",
        "\n",
        "  result_table = Table(keep_columns + additional_columns.keys())\n",
        "  \n",
        "  for row in self.rows:\n",
        "    new_row = [row[column] for column in keep_columns]\n",
        "    for column_name, calculation in additional_columns.iteritems():\n",
        "      new_row.append(calculation(row))\n",
        "  result_table.insert(new_row)\n",
        "  return result_table"
      ],
      "execution_count": 0,
      "outputs": []
    },
    {
      "metadata": {
        "id": "W8AUtBF0mngo",
        "colab_type": "code",
        "colab": {}
      },
      "cell_type": "code",
      "source": [
        "def where(self, predicate=lambda row: True):\n",
        "  \"\"\"return only the rows that satisfy the supplied predicate\"\"\"\n",
        "  where_table = Table(self.columns)\n",
        "  where_table.rows = filter(predicate, self.rows)\n",
        "  return where_table\n",
        "\n",
        "def limit(self, num_rows):\n",
        "  \"\"\"return only the first num_rows rows\"\"\"\n",
        "  limit_table = Table(self.columns)\n",
        "  limit_table.rows = self.rows[:num_rows]\n",
        "  return limit_table"
      ],
      "execution_count": 0,
      "outputs": []
    },
    {
      "metadata": {
        "id": "s8fCsTJ0mndG",
        "colab_type": "code",
        "colab": {}
      },
      "cell_type": "code",
      "source": [
        "def group_by(self, group_by_columns, aggregates, having=None):\n",
        "  grouped_rows = defaultdict(list)\n",
        "\n",
        "  # populate groups\n",
        "  for row in self.rows:\n",
        "    key = tuple(row[column] for column in group_by_columns)\n",
        "    grouped_rows[key].append(row)\n",
        "\n",
        "    # result table consists of group_by columns and aggregates\n",
        "  result_table = Table(group_by_columns + aggregates.keys())\n",
        "\n",
        "  for key, rows in grouped_rows.iteritems():\n",
        "    if having is None or having(rows):\n",
        "      new_row = list(key)\n",
        "      for aggregate_name, aggregate_fn in aggregates.iteritems():\n",
        "        new_row.append(aggregate_fn(rows))\n",
        "      result_table.insert(new_row)\n",
        "  \n",
        "  return result_table\n"
      ],
      "execution_count": 0,
      "outputs": []
    },
    {
      "metadata": {
        "id": "JRs9W_D2mnZT",
        "colab_type": "code",
        "colab": {}
      },
      "cell_type": "code",
      "source": [
        "def first_letter_of_name(row):\n",
        "  return row[\"name\"][0] if row[\"name\"] else \"\""
      ],
      "execution_count": 0,
      "outputs": []
    },
    {
      "metadata": {
        "id": "cqTcXLZGozx0",
        "colab_type": "code",
        "colab": {}
      },
      "cell_type": "code",
      "source": [
        "def average_num_friends(rows):\n",
        "  return sum(row[\"num_friends\"] for row in rows) / len(rows)"
      ],
      "execution_count": 0,
      "outputs": []
    },
    {
      "metadata": {
        "id": "oB3lHK-Yoz83",
        "colab_type": "code",
        "colab": {}
      },
      "cell_type": "code",
      "source": [
        "def enough_friends(rows):\n",
        "  return average_num_friends(rows) > 1"
      ],
      "execution_count": 0,
      "outputs": []
    },
    {
      "metadata": {
        "id": "-Iui63FAoz6P",
        "colab_type": "code",
        "colab": {}
      },
      "cell_type": "code",
      "source": [
        "def order_by(self, order):\n",
        "  new_table = self.select() # make a copy\n",
        "  new_table.rows.sort(key=order)\n",
        "  return new_table"
      ],
      "execution_count": 0,
      "outputs": []
    },
    {
      "metadata": {
        "id": "gzFBJbP-oz3w",
        "colab_type": "code",
        "colab": {}
      },
      "cell_type": "code",
      "source": [
        "user_interests = Table([\"user_id\", \"interest\"])\n",
        "user_interests.insert([0, \"SQL\"])\n",
        "user_interests.insert([0, \"NoSQL\"])\n",
        "user_interests.insert([2, \"SQL\"])\n",
        "user_interests.insert([2, \"MySQL\"])"
      ],
      "execution_count": 0,
      "outputs": []
    },
    {
      "metadata": {
        "id": "FPlX7R2bpafD",
        "colab_type": "code",
        "colab": {}
      },
      "cell_type": "code",
      "source": [
        "def join(self, other_table, left_join=False):\n",
        "  join_on_columns = [c for c in self.columns # columns in\n",
        "    if c in other_table.columns] # both tables\n",
        " \n",
        "  additional_columns = [c for c in other_table.columns # columns only\n",
        "    if c not in join_on_columns] # in right table\n",
        "\n",
        "  # all columns from left table + additional_columns from right table\n",
        "  join_table = Table(self.columns + additional_columns)\n",
        "\n",
        "  for row in self.rows:\n",
        "    def is_join(other_row):\n",
        "      return all(other_row[c] == row[c] for c in join_on_columns)\n",
        "\n",
        "    other_rows = other_table.where(is_join).rows\n",
        "\n",
        "    # each other row that matches this one produces a result row\n",
        "    for other_row in other_rows:\n",
        "      join_table.insert([row[c] for c in self.columns] +\n",
        "        [other_row[c] for c in additional_columns])\n",
        "\n",
        "    # if no rows match and it's a left join, output with Nones\n",
        "    if left_join and not other_rows:\n",
        "      join_table.insert([row[c] for c in self.columns] +\n",
        "                        [None for c in additional_columns])\n",
        "  return join_table"
      ],
      "execution_count": 0,
      "outputs": []
    },
    {
      "metadata": {
        "id": "DEalush2paoF",
        "colab_type": "code",
        "colab": {}
      },
      "cell_type": "code",
      "source": [
        "def count_interests(rows):\n",
        "  \"\"\"counts how many rows have non-None interests\"\"\"\n",
        "  return len([row for row in rows if row[\"interest\"] is not None])"
      ],
      "execution_count": 0,
      "outputs": []
    },
    {
      "metadata": {
        "id": "klyfwOfzpalK",
        "colab_type": "code",
        "outputId": "3a614fa2-dfcf-4318-9e53-b8629882126f",
        "colab": {
          "base_uri": "https://localhost:8080/",
          "height": 751
        }
      },
      "cell_type": "code",
      "source": [
        "! pip install requests_html"
      ],
      "execution_count": 0,
      "outputs": [
        {
          "output_type": "stream",
          "text": [
            "Collecting requests_html\n",
            "  Downloading https://files.pythonhosted.org/packages/d6/bb/54d8db5ac95f34b035b68747d765aadcbbd78687b029b41b39d2a3728f35/requests_html-0.9.0-py2.py3-none-any.whl\n",
            "Collecting parse (from requests_html)\n",
            "  Downloading https://files.pythonhosted.org/packages/60/1c/065a39ceaf2f2e1ed74130bda8c87b71e01a2315d78ab612af86c0914abb/parse-1.11.1.tar.gz\n",
            "Collecting pyppeteer>=0.0.14 (from requests_html)\n",
            "\u001b[?25l  Downloading https://files.pythonhosted.org/packages/b0/16/a5e8d617994cac605f972523bb25f12e3ff9c30baee29b4a9c50467229d9/pyppeteer-0.0.25.tar.gz (1.2MB)\n",
            "\u001b[K    100% |████████████████████████████████| 1.2MB 13.3MB/s \n",
            "\u001b[?25hCollecting pyquery (from requests_html)\n",
            "  Downloading https://files.pythonhosted.org/packages/09/c7/ce8c9c37ab8ff8337faad3335c088d60bed4a35a4bed33a64f0e64fbcf29/pyquery-1.4.0-py2.py3-none-any.whl\n",
            "Collecting fake-useragent (from requests_html)\n",
            "  Downloading https://files.pythonhosted.org/packages/d1/79/af647635d6968e2deb57a208d309f6069d31cb138066d7e821e575112a80/fake-useragent-0.1.11.tar.gz\n",
            "Requirement already satisfied: bs4 in /usr/local/lib/python3.6/dist-packages (from requests_html) (0.0.1)\n",
            "Collecting w3lib (from requests_html)\n",
            "  Downloading https://files.pythonhosted.org/packages/81/43/9dcf92a77f5f0afe4f4df2407d7289eea01368a08b64bda00dd318ca62a6/w3lib-1.20.0-py2.py3-none-any.whl\n",
            "Requirement already satisfied: requests in /usr/local/lib/python3.6/dist-packages (from requests_html) (2.18.4)\n",
            "Collecting pyee (from pyppeteer>=0.0.14->requests_html)\n",
            "  Downloading https://files.pythonhosted.org/packages/8e/06/10c18578e2d8b9cf9902f424f86d433c647ca55e82293100f53e6c0afab4/pyee-5.0.0-py2.py3-none-any.whl\n",
            "Collecting websockets (from pyppeteer>=0.0.14->requests_html)\n",
            "\u001b[?25l  Downloading https://files.pythonhosted.org/packages/43/71/8bfa882b9c502c36e5c9ef6732969533670d2b039cbf95a82ced8f762b80/websockets-7.0-cp36-cp36m-manylinux1_x86_64.whl (63kB)\n",
            "\u001b[K    100% |████████████████████████████████| 71kB 23.3MB/s \n",
            "\u001b[?25hCollecting appdirs (from pyppeteer>=0.0.14->requests_html)\n",
            "  Downloading https://files.pythonhosted.org/packages/56/eb/810e700ed1349edde4cbdc1b2a21e28cdf115f9faf263f6bbf8447c1abf3/appdirs-1.4.3-py2.py3-none-any.whl\n",
            "Requirement already satisfied: urllib3 in /usr/local/lib/python3.6/dist-packages (from pyppeteer>=0.0.14->requests_html) (1.22)\n",
            "Requirement already satisfied: tqdm in /usr/local/lib/python3.6/dist-packages (from pyppeteer>=0.0.14->requests_html) (4.28.1)\n",
            "Requirement already satisfied: lxml>=2.1 in /usr/local/lib/python3.6/dist-packages (from pyquery->requests_html) (4.2.6)\n",
            "Collecting cssselect>0.7.9 (from pyquery->requests_html)\n",
            "  Downloading https://files.pythonhosted.org/packages/7b/44/25b7283e50585f0b4156960691d951b05d061abf4a714078393e51929b30/cssselect-1.0.3-py2.py3-none-any.whl\n",
            "Requirement already satisfied: beautifulsoup4 in /usr/local/lib/python3.6/dist-packages (from bs4->requests_html) (4.6.3)\n",
            "Requirement already satisfied: six>=1.4.1 in /usr/local/lib/python3.6/dist-packages (from w3lib->requests_html) (1.11.0)\n",
            "Requirement already satisfied: idna<2.7,>=2.5 in /usr/local/lib/python3.6/dist-packages (from requests->requests_html) (2.6)\n",
            "Requirement already satisfied: chardet<3.1.0,>=3.0.2 in /usr/local/lib/python3.6/dist-packages (from requests->requests_html) (3.0.4)\n",
            "Requirement already satisfied: certifi>=2017.4.17 in /usr/local/lib/python3.6/dist-packages (from requests->requests_html) (2018.11.29)\n",
            "Building wheels for collected packages: parse, pyppeteer, fake-useragent\n",
            "  Building wheel for parse (setup.py) ... \u001b[?25ldone\n",
            "\u001b[?25h  Stored in directory: /root/.cache/pip/wheels/11/ef/7a/b4e5692572b93ce67bb9d0680bc8e840ff9a21fab73a3bff56\n",
            "  Building wheel for pyppeteer (setup.py) ... \u001b[?25ldone\n",
            "\u001b[?25h  Stored in directory: /root/.cache/pip/wheels/34/e0/5d/070e22eceecf7ecd5fa4b86bbc18c1c7d0b90e02e9b57f35eb\n",
            "  Building wheel for fake-useragent (setup.py) ... \u001b[?25ldone\n",
            "\u001b[?25h  Stored in directory: /root/.cache/pip/wheels/5e/63/09/d1dc15179f175357d3f5c00cbffbac37f9e8690d80545143ff\n",
            "Successfully built parse pyppeteer fake-useragent\n",
            "Installing collected packages: parse, pyee, websockets, appdirs, pyppeteer, cssselect, pyquery, fake-useragent, w3lib, requests-html\n",
            "Successfully installed appdirs-1.4.3 cssselect-1.0.3 fake-useragent-0.1.11 parse-1.11.1 pyee-5.0.0 pyppeteer-0.0.25 pyquery-1.4.0 requests-html-0.9.0 w3lib-1.20.0 websockets-7.0\n"
          ],
          "name": "stdout"
        }
      ]
    },
    {
      "metadata": {
        "id": "8wNQOr1GMmdv",
        "colab_type": "code",
        "colab": {}
      },
      "cell_type": "code",
      "source": [
        "from requests_html import HTMLSession"
      ],
      "execution_count": 0,
      "outputs": []
    },
    {
      "metadata": {
        "id": "ZfRez21FMmhf",
        "colab_type": "code",
        "colab": {}
      },
      "cell_type": "code",
      "source": [
        "url = 'https://www.cleveland.com/metro/index.ssf/2017/12/case_western_reserve_university_president_barbara_snyders_base_salary_and_bonus_pay_tops_among_private_colleges_in_ohio.html'"
      ],
      "execution_count": 0,
      "outputs": []
    },
    {
      "metadata": {
        "id": "vcWFL_qFMmnc",
        "colab_type": "code",
        "colab": {}
      },
      "cell_type": "code",
      "source": [
        "r = HTMLSession().get(url)"
      ],
      "execution_count": 0,
      "outputs": []
    },
    {
      "metadata": {
        "id": "9AWnsVxuMmq-",
        "colab_type": "code",
        "outputId": "0e0c2e67-6a10-4a99-9e4e-8a301d40e3cb",
        "colab": {
          "base_uri": "https://localhost:8080/",
          "height": 54
        }
      },
      "cell_type": "code",
      "source": [
        "print(r.html.raw_html)"
      ],
      "execution_count": 0,
      "outputs": [
        {
          "output_type": "stream",
          "text": [
            "b'<!doctype html>\\n<!--[if lt IE 7]> <html class=\"no-js lt-ie10 lt-ie9 lt-ie8 lt-ie7\" lang=\"en-US\" xmlns:fb=\"http://www.facebook.com/2008/fbml\" xmlns:og=\"http://ogp.me/ns#\"> <![endif]-->\\n<!--[if IE 7]>    <html class=\"no-js lt-ie10 lt-ie9 lt-ie8\" lang=\"en-US\" xmlns:fb=\"http://www.facebook.com/2008/fbml\" xmlns:og=\"http://ogp.me/ns#\"> <![endif]-->\\n<!--[if IE 8]>    <html class=\"no-js lt-ie10 lt-ie9\" lang=\"en-US\" xmlns:fb=\"http://www.facebook.com/2008/fbml\" xmlns:og=\"http://ogp.me/ns#\"> <![endif]-->\\n<!--[if IE 9]>    <html class=\"no-js lt-ie10\" lang=\"en-US\" xmlns:fb=\"http://www.facebook.com/2008/fbml\" xmlns:og=\"http://ogp.me/ns#\"> <![endif]-->\\n\\n<!--[if gt IE 9]><!--> <html class=\"no-js\" lang=\"en-US\" dir=\"ltr\" prefix=\"fb: http://www.facebook.com/2008/fbml og: http://ogp.me/ns#\"> <!--<![endif]-->\\n\\n\\t<head>\\n\\t\\t\\n\\t\\t\\t\\n\\t\\t\\n\\t\\t\\n\\t\\t\\t<meta http-equiv=\"Content-Type\" content=\"text/html; charset=utf-8\" />\\n\\t\\t\\t<meta http-equiv=\"X-UA-Compatible\" content=\"IE=edge,chrome=1\" />\\n\\t\\t\\t<meta property=\"fb:admins\" content=\"100000302287435\" />\\n\\t\\t\\t<meta name=\"viewport\" content=\"width=device-width,initial-scale=1\">\\n\\n\\t\\t\\t<link rel=\"stylesheet\" href=\"https://static.advance.net/static/cleve/static/css/oap.css\" />\\n\\t\\t\\n\\n\\t\\t\\n\\t\\t\\t\\n\\t\\t\\n\\n\\t\\t\\n\\t\\t<meta http-equiv=\"X-UA-Compatible\" content=\"IE=edge,chrome=1\">\\n\\n\\n  \\n\\n\\n\\n\\n\\n\\n<title>\\tCase Western Reserve University President Barbara Snyder\\'s base salary and bonus pay tops among private colleges in Ohio  | \\t\\t\\t\\t\\t\\tcleveland.com</title>\\n\\n\\n\\t\\n\\t\\n\\n\\t\\n\\n\\t\\n\\t\\n\\t\\t\\t\\t\\t\\t\\t\\t\\t\\t\\t\\t\\t\\t\\t\\t\\t\\t\\t\\t\\t\\t\\t\\t\\t\\t\\t\\t\\t\\t\\n\\t\\n\\n\\t\\n\\t\\t\\t\\t\\t\\t\\t\\t\\t\\t\\t\\t\\t\\t\\t\\t\\t\\t\\t\\t\\t\\t\\t\\t\\t\\t\\t\\t\\t\\t\\n\\n\\t\\n\\t\\t\\n\\t\\n\\t\\n\\t\\n\\n\\t\\n\\t<!--\\n\\t<PageMap>\\n\\t\\t<DataObject type=\"document\">\\n\\t\\t\\t<Attribute name=\"article_title\">Case Western Reserve University President Barbara Snyder\\'s base salary and bonus pay tops among private colleges in Ohio </Attribute>\\n\\t\\t\\t<Attribute name=\"article_publication_name\">cleveland.com</Attribute>\\n\\t\\t\\t<Attribute name=\"article_author\">Karen Farkas, cleveland.com</Attribute>\\n\\t\\t\\t<Attribute name=\"article_description\">Case Western Reserve University President Barbara Snyder\\'s $700,312 base pay and $175,000 bonus in 2015 again made her the highest paid  private college leader in Ohio, according to an annual report.</Attribute>\\n\\t\\t\\t<Attribute name=\"image_src\">https://image.cleveland.com/home/cleve-media/width620/img/plain_dealer_metro/photo/23873711-standard.jpg</Attribute>\\n\\t\\t\\t<Attribute name=\"article_comments\">0</Attribute>\\n\\t\\t\\t<Attribute name=\"article_date_original\">12/10/2017</Attribute>\\n\\t\\t\\t<Attribute name=\"article_date_updated\">12/11/2017</Attribute>\\n\\t\\t</DataObject>\\n\\t</PageMap>\\n\\t-->\\n\\n\\t\\n\\t\\t\\n\\t\\t\\n\\t\\t\\n\\t\\t<script type=\"application/ld+json\">\\n\\t\\t\\t{\\n\\t\\t\\t\\t\"@context\": \"http://schema.org\",\\n\\t\\t\\t\\t\"@type\": \"NewsArticle\",\\n\\t\\t\\t\\t\"mainEntityOfPage\": {\\n\\t\\t\\t\\t\\t\"@type\": \"WebPage\",\\n\\t\\t\\t\\t\\t\"@id\": \"https://www.cleveland.com/metro/index.ssf/2017/12/case_western_reserve_university_president_barbara_snyders_base_salary_and_bonus_pay_tops_among_private_colleges_in_ohio.html\"\\n\\t\\t\\t\\t},\\n\\t\\t\\t\\t\"headline\": \"Case Western Reserve University President Barbara Snyder\\'s base salary and bonus pay tops among private colleges in Ohio \",\\n\\t\\t\\t\\t\"url\": \"https://www.cleveland.com/metro/index.ssf/2017/12/case_western_reserve_university_president_barbara_snyders_base_salary_and_bonus_pay_tops_among_private_colleges_in_ohio.html\",\\n\\t\\t\\t\\t\"thumbnailUrl\": \"https://image.cleveland.com/home/cleve-media/width620/img/plain_dealer_metro/photo/23873711-standard.jpg\",\\n\\t\\t\\t\\t\"image\": \"https://image.cleveland.com/home/cleve-media/width620/img/plain_dealer_metro/photo/23873711-standard.jpg\",\\n\\t\\t\\t\\t\"dateCreated\": \"2017-12-10T22:00:34Z\",\\n\\t\\t\\t\\t\"datePublished\": \"2017-12-10T22:00:34Z\",\\n\\t\\t\\t\\t\"dateModified\": \"2017-12-12T01:42:32Z\",\\n\\t\\t\\t\\t\"publisher\": {\\n\\t\\t\\t\\t\\t\"@type\": \"Organization\",\\n\\t\\t\\t\\t\\t\"name\": \"cleveland.com\",\\n\\t\\t\\t\\t\\t\"logo\": {\\n\\t\\t\\t\\t\\t\\t\"@type\": \"ImageObject\",\\n\\t\\t\\t\\t\\t\\t\"url\": \"http://static.advance.net/static/cleve/static/img/logos/logo_main.png\"\\n\\t\\t\\t\\t\\t}\\n\\t\\t\\t\\t},\\n\\t\\t\\t\\t\"creator\": [\"Karen Farkas, cleveland.com\"],\\n\\t\\t\\t\\t\"author\": {\\n\\t\\t\\t\\t\\t\"@type\": \"Person\",\\n\\t\\t\\t\\t\\t\"name\": \"Karen Farkas, cleveland.com\"\\n\\t\\t\\t\\t},\\n\\t\\t\\t\\t\"keywords\": [\"@fbia\",\"@real-time-news\",\"baldwin-wallace-university\",\"barbara-snyder\",\"case-western-reserve-university\",\"john-carroll-university\",\"oberlin-college\"],\\n\\t\\t\\t\\t\"metadata\": {\"blog_id\": \"8002316\", \"entry_id\": \"21622286\", \"short_title\": \"CWRU president\\'s salary and bonus tops for private colleges\", \"image_url\": \"http://media.cleveland.com/plain_dealer_metro/photo/cwrus-snyder-tops-pay-scale-highest-paid-of-ohio-private-college-chiefs-at-over-1m-yearly-581ba32ba99d75e9.jpg\", \"author_name\": \"kfarkas\", \"author_nickname\": \"Karen Farkas, cleveland.com\", \"author_id\": \"3290\", \"source_blog_name\": \"Metro News\", \"source_blog_url\": \"http://www.cleveland.com/metro/index.ssf/\", \"sponsored_content\": \"0\", \"ampurl\": \"https://articles.cleveland.com/metro/index.ssf/2017/12/case_western_reserve_university_president_barbara_snyders_base_salary_and_bonus_pay_tops_among_private_colleges_in_ohio.amp\" },\\n\\t\\t\\t\\t\"articleSection\": \"News\"\\n\\t\\t\\t}\\n\\t\\t</script>\\n\\t\\n\\n\\t\\n\\n\\t\\n\\t<meta name=\"vf:owner\" content=\"cookie:3290\" />\\n\\t<meta property=\"vf:unique_id\" content=\"273e236291b18c0720f9b1b13da4b999\" />\\n\\t<meta property=\"vf:section\" content=\"www\" />\\n\\n\\t\\n\\t\\n\\n\\t\\n\\t\\n\\n\\t\\n\\t\\t\\n\\t\\n\\t\\n\\t\\n\\t\\t\\n\\t\\n\\n\\t\\n\\t<meta property=\"fb:app_id\" content=\"125188170846713\"/>\\n\\t<meta name=\"title\" content=\"Case Western Reserve University President Barbara Snyder\\'s base salary and bonus pay tops among private colleges in Ohio \" />\\n\\t<meta name=\"article_publication_name\" content=\"cleveland.com\" />\\n\\t<meta name=\"article_author\" content=\"Karen Farkas, cleveland.com\" />\\n\\t<meta name=\"article_date_original\" content=\"Sunday, December 10, 2017,  6:00 PM\" />\\n\\t<meta name=\"article_date_updated\" content=\"Monday, December 11, 2017,  9:42 PM\" />\\n\\t<link rel=\"image_src\" href=\"https://image.cleveland.com/home/cleve-media/width620/img/plain_dealer_metro/photo/23873711-standard.jpg\" />\\n\\t\\n\\t<meta name=\"news_keywords\" content=\"president, Ohio, University of Mount Union, Case Western Reserve University, The Chronicle, baldwin-wallace-university, barbara-snyder, case-western-reserve-university, john-carroll-university, oberlin-college, news\">\\n\\t\\n\\t\\t<meta property=\"article:author\" content=\"https://www.facebook.com/clevelandcom/\" />\\n\\t\\n\\t<meta property=\"article:modified_time\" content=\"2017-12-12T01:42:32Z\" />\\n\\n\\t\\n\\t\\n\\n\\t\\n\\t\\n\\t\\t\\n\\t\\n\\n\\t\\n\\t\\n\\t\\t\\n\\t\\t\\t\\n\\t\\t\\t\\t<meta name=\"twitter:card\" content=\"summary_large_image\" />\\n\\t\\t\\t\\n\\t\\t\\n\\t\\t<meta name=\"twitter:description\" content=\"Case Western Reserve University President Barbara Snyder\\'s $700,312 base pay and $175,000 bonus in 2015 again made her the highest paid  private college leader in Ohio, according to an annual report.\" />\\n\\t\\t<meta name=\"twitter:image\" content=\"https://image.cleveland.com/home/cleve-media/width620/img/plain_dealer_metro/photo/23873711-standard.jpg\" />\\n\\t\\n\\t\\n\\t\\t<meta name=\"twitter:title\" content=\"Case Western Reserve University President Barbara Snyder\\'s base salary and bonus pay tops among private colleges in Ohio \" />\\n\\t\\t<meta name=\"twitter:site\" content=\"@clevelanddotcom\" />\\n\\t\\t<meta name=\"twitter:creator\" content=\"@karen_farkas\" />\\n\\t\\n\\n\\t<meta property=\"og:title\" content=\"Case Western Reserve University President Barbara Snyder\\'s base salary and bonus pay tops among private colleges in Ohio \" />\\n\\t<meta property=\"og:description\" content=\"Case Western Reserve University President Barbara Snyder\\'s $700,312 base pay and $175,000 bonus in 2015 again made her the highest paid  private college leader in Ohio, according to an annual report.\" />\\n\\t<meta property=\"og:site_name\" content=\"cleveland.com\" />\\n\\t<meta property=\"og:url\" content=\"https://www.cleveland.com/metro/index.ssf/2017/12/case_western_reserve_university_president_barbara_snyders_base_salary_and_bonus_pay_tops_among_private_colleges_in_ohio.html\" />\\n\\t<meta property=\"og:type\" content=\"article\" />\\n\\t<meta property=\"og:image\" content=\"https://image.cleveland.com/home/cleve-media/width620/img/plain_dealer_metro/photo/23873711-standard.jpg\" />\\n\\t\\n\\t\\t<meta property=\"og:image:width\" content=\"620\" />\\n\\t\\t<meta property=\"og:image:height\" content=\"411\" />\\n\\t\\n\\t\\n\\n\\t\\n\\n\\t\\n\\t<script type=\"text/javascript\">\\n\\twindow.LF_META = {\\n\\t\\t\"environment\": \"production\",\\n\\t\\t\"networkId\": \"advancedigital.fyre.co\",\\n\\t\\t\"siteId\": \"352331\",\\n\\t\\t\"articleId\": \"273e236291b18c0720f9b1b13da4b999\",\\n\\t\\t\"checksum\": \"9ea75c1e05c5addbfe10c2611884e8de\",\\n\\t\\t\"collectionMeta\":  \"eyJhbGciOiJIUzI1NiJ9.eyJjaGVja3N1bSI6IjllYTc1YzFlMDVjNWFkZGJmZTEwYzI2MTE4ODRlOGRlIiwiYXJ0aWNsZUlkIjoiMjczZTIzNjI5MWIxOGMwNzIwZjliMWIxM2RhNGI5OTkiLCJ1cmwiOiJodHRwOi8vd3d3LmNsZXZlbGFuZC5jb20vbWV0cm8vaW5kZXguc3NmLzIwMTcvMTIvY2FzZV93ZXN0ZXJuX3Jlc2VydmVfdW5pdmVyc2l0eV9wcmVzaWRlbnRfYmFyYmFyYV9zbnlkZXJzX2Jhc2Vfc2FsYXJ5X2FuZF9ib251c19wYXlfdG9wc19hbW9uZ19wcml2YXRlX2NvbGxlZ2VzX2luX29oaW8uaHRtbCIsInRpdGxlIjoiQ2FzZSBXZXN0ZXJuIFJlc2VydmUgVW5pdmVyc2l0eSBQcmVzaWRlbnQgQmFyYmFyYSBTbnlkZXIncyBiYXNlIHNhbGFyeSBhbmQgYm9udXMgcGF5IHRvcHMgYW1vbmcgcHJpdmF0ZSBjb2xsZWdlcyBpbiBPaGlvICIsInRhZ3MiOiJleHBlcnQsQGZiaWEsQHJlYWwtdGltZS1uZXdzLGJhbGR3aW4td2FsbGFjZS11bml2ZXJzaXR5LGJhcmJhcmEtc255ZGVyLGNhc2Utd2VzdGVybi1yZXNlcnZlLXVuaXZlcnNpdHksam9obi1jYXJyb2xsLXVuaXZlcnNpdHksb2Jlcmxpbi1jb2xsZWdlIn0.VRXHAktXYmJhvrqXQoGyyMAS7YV0iT9xXex7EgtfIGE\",\\n\\t\\t\"readOnly\": \"false\",\\n\\t\\t\"articleAuthorID\": \"3290\"\\n\\t};\\n</script>\\n\\n\\t\\n\\t<script type=\"text/javascript\">\\n\\t\\t\\n\\t\\tvar rtb_comments_readonly = false;\\n\\t</script>\\n\\n\\n<link rel=\"alternate\" type=\"application/atom+xml\" title=\"Metro News\" href=\"http://www.cleveland.com/metro/index.ssf//atom.xml\" />\\n\\n    \\n\\n    \\n        \\n    \\n\\n    \\n \\n    \\n        \\n    \\n    \\n\\n\\n\\n\\n\\n    \\n\\n\\n\\n\\n\\n\\n\\n\\t\\t\\n\\t\\t\\t\\n\\t\\t\\t\\n\\t\\t\\t\\n\\t\\t\\t\\n\\n\\t\\t\\t\\n            \\n                <link rel=\"amphtml\" href=\"https://articles.cleveland.com/metro/index.ssf/2017/12/case_western_reserve_university_president_barbara_snyders_base_salary_and_bonus_pay_tops_among_private_colleges_in_ohio.amp\" />\\n            \\n\\n\\t\\t\\t\\n\\n\\t\\t\\t\\n\\t\\t\\t\\t<meta name=\"Description\" content=\"Case Western Reserve University President Barbara Snyder\\'s $700,312 base pay and $175,000 bonus in 2015 again made her the highest paid  private college leader in Ohio, according to an annual report.\" />\\n\\t\\t\\t\\t\\n\\t\\t\\t\\t\\t\\n\\t\\t\\t\\t\\t\\t<link rel=\"author\" href=\"https://plus.google.com/101448797314004031479/\" title=\"Karen Farkas, cleveland.com on Google+\" />\\n\\t\\t\\t\\t\\t\\n\\t\\t\\t\\t\\n\\t\\t\\t\\t \\n\\n\\t\\t\\t\\t\\n\\n\\t\\t\\t\\t\\n\\t\\t\\t\\n\\n\\t\\t\\t\\n\\t\\t\\t\\n\\t\\t\\t\\t\\n\\t\\t\\t\\t<script>\\n\\t\\t\\t\\t\\twindow.adiData = ({\\n\\t\\t\\t\\t\\t\\t\\'pageType\\': \\'cal\\',\\n\\t\\t\\t\\t\\t\\t\\'siteSection\\': \\'News\\',\\n\\t\\t\\t\\t\\t\\t\\'entryHeadline\\': \\'Case Western Reserve University President Barbara Snyder\\\\\\'s base salary and bonus pay tops among private colleges in Ohio \\',\\n\\t\\t\\t\\t\\t\\t\\'entryTags\\': \\'@fbia;@real-time-news;baldwin-wallace-university;barbara-snyder;case-western-reserve-university;john-carroll-university;oberlin-college\\',\\n\\t\\t\\t\\t\\t\\t\\'entryId\\':\\'21622286\\',\\n\\t\\t\\t\\t\\t\\t\\'entryDepth\\':\\'1\\',\\n\\t\\t\\t\\t\\t\\t\\'blogName\\':\\'Metro News\\',\\n\\t\\t\\t\\t\\t\\t\\'entryAuthorUsername\\':\\'kfarkas\\',\\n\\t\\t\\t\\t\\t\\t\\'blogCategory\\':\\'\\',\\n\\t\\t\\t\\t\\t\\t\\'blogId\\':\\'8002316\\',\\n\\t\\t\\t\\t\\t\\t\\'entryWordcount\\':\\'672\\',\\n\\t\\t\\t\\t\\t\\t\\'entryDateOriginal\\':\\'2017-12-10T22:00:00Z\\',\\n\\t\\t\\t\\t\\t\\t\\'entryDateUpdated\\':\\'2017-12-12T01:42:32Z\\',\\n\\t\\t\\t\\t\\t});\\n\\t\\t\\t\\t\\twindow.dataLayer = window.dataLayer || [];\\n\\t\\t\\t\\t\\twindow.dataLayer.push(window.adiData);\\n\\n\\t\\t\\t\\t\\t\\n\\t\\t\\t\\t\\t\\n\\t\\t\\t\\t\\t\\t// GTM Tag\\n\\t\\t\\t\\t\\t\\t(function(w,d,s,l,i){\\n\\t\\t\\t\\t\\t\\t\\tw[l]=w[l]||[];\\n\\t\\t\\t\\t\\t\\t\\tw[l].push({\\n\\t\\t\\t\\t\\t\\t\\t\\t\\'gtm.start\\': new Date().getTime(),\\n\\t\\t\\t\\t\\t\\t\\t\\tevent: \\'gtm.js\\'\\n\\t\\t\\t\\t\\t\\t\\t});\\n\\t\\t\\t\\t\\t\\t\\tvar f=d.getElementsByTagName(s)[0],\\n\\t\\t\\t\\t\\t\\t\\t\\tj=d.createElement(s),\\n\\t\\t\\t\\t\\t\\t\\t\\tdl=l!=\\'dataLayer\\'?\\'&l=\\'+l:\\'\\';\\n\\t\\t\\t\\t\\t\\t\\tj.async=true;\\n\\t\\t\\t\\t\\t\\t\\tj.src=\\'https://www.googletagmanager.com/gtm.js?id=\\'+i+dl;\\n\\t\\t\\t\\t\\t\\t\\tf.parentNode.insertBefore(j,f);\\n\\t\\t\\t\\t\\t\\t})(window,document,\\'script\\',\\'dataLayer\\',\\'GTM-5FH8H3G\\');\\n\\t\\t\\t\\t\\t\\n\\t\\t\\t\\t</script>\\n\\t\\t\\t\\n\\n\\t\\t\\t\\n\\t\\t\\n\\t</head>\\n\\n\\t<body class=\"cma\">\\n\\t\\t<div class=\"skip-to-article\">\\n\\t\\t\\t<a href=\"#article\">Skip to Article</a>\\n\\t\\t</div>\\n\\n\\t\\t\\n\\t\\t<!-- Start Masthead -->\\n\\t\\t\\n\\t\\t\\t\\n\\t\\t\\n\\t\\t<!-- ./templates/global/shared/nav/masthead.mtml start -->\\n\\n\\t\\n\\t\\t\\n\\t\\t\\t\\n\\t\\t\\n\\t\\t\\n\\n\\n<!-- toprail -->\\n<section id=\"adv_network\">\\n    <div class=\"advWrapper\">\\n        <div class=\"Popup\"><div class=\"Popup adunit nomobilead\" id=\"Popup\"></div></div>\\n        <div class=\"adunit\" id=\"TopRail_Above\"></div>\\n    </div>\\n</section>\\n\\n<header class=\"advtoprail\">\\n  <div class=\"advtoprail__left-corner\">\\n    <div class=\"advtoprail__mainmenu\">\\n      <nav class=\"advtoprail__mainmenu-nav\">\\n        \\n        <button class=\"advtoprail__mainmenu-button js-button-masthead\" aria-expanded=\"false\" aria-label=\"Open the Main Navigation\" data-buttonname=\"main\">\\n          <span class=\"advtoprail__mainmenu-button-icon\"></span>\\n          <span class=\"advtoprail__mainmenu-button-label\" id=\"mainmenu-label\">Menu</span>\\n        </button>\\n        \\n        <div class=\"advtoprail__dropdown js-dropdown js-dropdown-main\" aria-labelledby=\"mainmenu_label\" aria-hidden=\"true\" aria-expanded=\"false\" role=\"navigation\">\\n          <div class=\"advtoprail__menuborderarrow\"></div>\\n          <div class=\"advtoprail__dropdown-outer js-mainmenu\">\\n            <div class=\"advtoprail__dropdown-inner js-mainmenu-list\">\\n              <ul class=\"advtoprail__mainmenu-menulist\">\\n                \\n                    \\n                \\n                <li class=\"advtoprail__mainmenu-menuitem js-mainmenu-item\"><a class=\"advtoprail__mainmenu-menuitem-link js-mainmenu-link\" href=\"http://www.cleveland.com/\">Home</a></li>\\n                \\n                <li class=\"advtoprail__mainmenu-menuitem--mobile\">\\n                  <button class=\"advtoprail__weather-button js-button-weather-mobile\" aria-label=\"Weather\" aria-expanded=\"false\">\\n                    <span class=\"advtoprail__weather-conditions js-weather-conditions\">\\n                      <span class=\"advtoprail__weather-title--menu js-weather-location\"></span>\\n                      <span class=\"advtoprail__weather-temperature js-weather-temperature\"></span>\\n                    </span>\\n                  </button>\\n                </li>\\n                \\n                  <li class=\"advtoprail__mainmenu-menuitem js-expandable\">\\n                    \\n                      <a class=\"advtoprail__mainmenu-menuitem-link js-mainmenu-link\" href=\"https://www.cleveland.com/news/\">News</a>\\n                    \\n                    \\n                      <button class=\"advtoprail__button-submenu js-button-mainmenu\" aria-label=\"Open the News submenu\" aria-expanded=\"false\"><span class=\"advtoprail__button-submenu--open\">&rsaquo;</span><span class=\"advtoprail__button-submenu--close\">&lsaquo;</span></button>\\n                      \\n\\n\\n    <ul class=\"advtoprail__mainmenu-menulist--submenu js-submenu\">\\n      <li class=\"advtoprail__mainmenu-menuitem--submenu-backtomain\">\\n        <button class=\"advtoprail__button-mobile-backtomain js-button-backtomain\">\\n          <span class=\"advtoprail__button-icon--backmm\"></span>\\n          <span class=\"advtoprail__button-label--backmm\">Back To Main Menu</span>\\n        </button>\\n      </li>\\n        \\n            <li class=\"advtoprail__mainmenu-menuitem--submenu js-menuitem-submenu\">\\n                \\n                  <a class=\"advtoprail__mainmenu-menuitem-link js-mainmenu-link\" href=\"https://www.cleveland.com/metro/\">Metro</a>\\n                \\n                \\n                </li>\\n        \\n            <li class=\"advtoprail__mainmenu-menuitem--submenu js-menuitem-submenu\">\\n                \\n                  <a class=\"advtoprail__mainmenu-menuitem-link js-mainmenu-link\" href=\"https://www.cleveland.com/plaindealer/\">The Plain Dealer</a>\\n                \\n                \\n                </li>\\n        \\n            <li class=\"advtoprail__mainmenu-menuitem--submenu js-menuitem-submenu\">\\n                \\n                  <a class=\"advtoprail__mainmenu-menuitem-link js-mainmenu-link\" href=\"https://www.cleveland.com/weather/\">Weather</a>\\n                \\n                \\n                </li>\\n        \\n            <li class=\"advtoprail__mainmenu-menuitem--submenu js-menuitem-submenu\">\\n                \\n                  <a class=\"advtoprail__mainmenu-menuitem-link js-mainmenu-link\" href=\"https://www.cleveland.com/healthfit\">Health &amp; Medical</a>\\n                \\n                \\n                </li>\\n        \\n            <li class=\"advtoprail__mainmenu-menuitem--submenu js-menuitem-submenu\">\\n                \\n                  <a class=\"advtoprail__mainmenu-menuitem-link js-mainmenu-link\" href=\"https://www.cleveland.com/crime/\">Crime</a>\\n                \\n                \\n                </li>\\n        \\n            <li class=\"advtoprail__mainmenu-menuitem--submenu js-menuitem-submenu\">\\n                \\n                  <a class=\"advtoprail__mainmenu-menuitem-link js-mainmenu-link\" href=\"https://www.cleveland.com/datacentral\">Data Central</a>\\n                \\n                \\n                </li>\\n        \\n            <li class=\"advtoprail__mainmenu-menuitem--submenu js-menuitem-submenu js-expandable\">\\n                \\n                  <a class=\"advtoprail__mainmenu-menuitem-link js-mainmenu-link\" href=\"https://www.cleveland.com/columns/\">Columnists</a>\\n                \\n                \\n                  <button class=\"advtoprail__button-submenu js-button-mainmenu\" aria-label=\"Open the Columnists submenu\" aria-expanded=\"false\"><span class=\"advtoprail__button-submenu--open\">&rsaquo;</span><span class=\"advtoprail__button-submenu--close\">&lsaquo;</span></button>\\n                  \\n\\n\\n    <ul class=\"advtoprail__mainmenu-menulist--subsubmenu js-submenu\">\\n      <li class=\"advtoprail__mainmenu-menuitem--submenu-backtomain\">\\n        <button class=\"advtoprail__button-mobile-backtomain js-button-backtomain\">\\n          <span class=\"advtoprail__button-icon--backmm\"></span>\\n          <span class=\"advtoprail__button-label--backmm\">Back To Main Menu</span>\\n        </button>\\n      </li>\\n        \\n            <li class=\"advtoprail__mainmenu-menuitem--submenu js-menuitem-submenu\">\\n                \\n                  <a class=\"advtoprail__mainmenu-menuitem-link js-mainmenu-link\" href=\"https://www.cleveland.com/naymik\">Mark Naymik</a>\\n                \\n                \\n                </li>\\n        \\n            <li class=\"advtoprail__mainmenu-menuitem--submenu js-menuitem-submenu\">\\n                \\n                  <a class=\"advtoprail__mainmenu-menuitem-link js-mainmenu-link\" href=\"https://www.cleveland.com/tipoff\">Michael McIntyre</a>\\n                \\n                \\n                </li>\\n        \\n            <li class=\"advtoprail__mainmenu-menuitem--submenu js-menuitem-submenu\">\\n                \\n                  <a class=\"advtoprail__mainmenu-menuitem-link js-mainmenu-link\" href=\"https://www.cleveland.com/morris\">Phillip Morris</a>\\n                \\n                \\n                </li>\\n        \\n    </ul>\\n\\n\\n                \\n                </li>\\n        \\n            <li class=\"advtoprail__mainmenu-menuitem--submenu js-menuitem-submenu\">\\n                \\n                  <a class=\"advtoprail__mainmenu-menuitem-link js-mainmenu-link\" href=\"https://www.cleveland.com/city-club\">City Club of Cleveland</a>\\n                \\n                \\n                </li>\\n        \\n            <li class=\"advtoprail__mainmenu-menuitem--submenu js-menuitem-submenu\">\\n                \\n                  <a class=\"advtoprail__mainmenu-menuitem-link js-mainmenu-link\" href=\"https://www.cleveland.com/court-justice\">Courts</a>\\n                \\n                \\n                </li>\\n        \\n            <li class=\"advtoprail__mainmenu-menuitem--submenu js-menuitem-submenu\">\\n                \\n                  <a class=\"advtoprail__mainmenu-menuitem-link js-mainmenu-link\" href=\"https://www.cleveland.com/nation/\">Nation</a>\\n                \\n                \\n                </li>\\n        \\n            <li class=\"advtoprail__mainmenu-menuitem--submenu js-menuitem-submenu\">\\n                \\n                  <a class=\"advtoprail__mainmenu-menuitem-link js-mainmenu-link\" href=\"https://www.cleveland.com/world/\">World</a>\\n                \\n                \\n                </li>\\n        \\n            <li class=\"advtoprail__mainmenu-menuitem--submenu js-menuitem-submenu js-expandable\">\\n                \\n                  <span class=\"advtoprail__mainmenu-menuitem-label\">Special Reports</span>\\n                \\n                \\n                  <button class=\"advtoprail__button-submenu js-button-mainmenu\" aria-label=\"Open the Special Reports submenu\" aria-expanded=\"false\"><span class=\"advtoprail__button-submenu--open\">&rsaquo;</span><span class=\"advtoprail__button-submenu--close\">&lsaquo;</span></button>\\n                  \\n\\n\\n    <ul class=\"advtoprail__mainmenu-menulist--subsubmenu js-submenu\">\\n      <li class=\"advtoprail__mainmenu-menuitem--submenu-backtomain\">\\n        <button class=\"advtoprail__button-mobile-backtomain js-button-backtomain\">\\n          <span class=\"advtoprail__button-icon--backmm\"></span>\\n          <span class=\"advtoprail__button-label--backmm\">Back To Main Menu</span>\\n        </button>\\n      </li>\\n        \\n            <li class=\"advtoprail__mainmenu-menuitem--submenu js-menuitem-submenu\">\\n                \\n                  <a class=\"advtoprail__mainmenu-menuitem-link js-mainmenu-link\" href=\"https://www.cleveland.com/a-greater-cleveland/\">A Greater Cleveland</a>\\n                \\n                \\n                </li>\\n        \\n            <li class=\"advtoprail__mainmenu-menuitem--submenu js-menuitem-submenu\">\\n                \\n                  <a class=\"advtoprail__mainmenu-menuitem-link js-mainmenu-link\" href=\"https://www.cleveland.com/metro/index.ssf/page/a_critical_choice_plain_dealer_1.html\">A Critical Choice: Nursing home care</a>\\n                \\n                \\n                </li>\\n        \\n            <li class=\"advtoprail__mainmenu-menuitem--submenu js-menuitem-submenu\">\\n                \\n                  <a class=\"advtoprail__mainmenu-menuitem-link js-mainmenu-link\" href=\"https://www.cleveland.com/metro/index.ssf/page/court_costs_in_northeast_ohio.html\">At Any (Court) Cost</a>\\n                \\n                \\n                </li>\\n        \\n            <li class=\"advtoprail__mainmenu-menuitem--submenu js-menuitem-submenu\">\\n                \\n                  <a class=\"advtoprail__mainmenu-menuitem-link js-mainmenu-link\" href=\"https://www.cleveland.com/metro/index.ssf/page/clevelands_bike_life.html\">Cleveland&#39;s Bike Life</a>\\n                \\n                \\n                </li>\\n        \\n            <li class=\"advtoprail__mainmenu-menuitem--submenu js-menuitem-submenu\">\\n                \\n                  <a class=\"advtoprail__mainmenu-menuitem-link js-mainmenu-link\" href=\"https://www.cleveland.com/metro/index.ssf/page/dear_cleveland.html\">Dear Cleveland</a>\\n                \\n                \\n                </li>\\n        \\n            <li class=\"advtoprail__mainmenu-menuitem--submenu js-menuitem-submenu\">\\n                \\n                  <a class=\"advtoprail__mainmenu-menuitem-link js-mainmenu-link\" href=\"https://www.cleveland.com/crime/index.ssf/page/heroin.html\">Heroins Human Toll</a>\\n                \\n                \\n                </li>\\n        \\n            <li class=\"advtoprail__mainmenu-menuitem--submenu js-menuitem-submenu\">\\n                \\n                  <a class=\"advtoprail__mainmenu-menuitem-link js-mainmenu-link\" href=\"https://www.cleveland.com/metro/index.ssf/page/justice_for_all_bail_reform_in.html\">Justice for All: Bail reform</a>\\n                \\n                \\n                </li>\\n        \\n            <li class=\"advtoprail__mainmenu-menuitem--submenu js-menuitem-submenu\">\\n                \\n                  <a class=\"advtoprail__mainmenu-menuitem-link js-mainmenu-link\" href=\"https://www.cleveland.com/knowtherx/\">Know the RX: Opioid addiction resources</a>\\n                \\n                \\n                </li>\\n        \\n            <li class=\"advtoprail__mainmenu-menuitem--submenu js-menuitem-submenu\">\\n                \\n                  <a class=\"advtoprail__mainmenu-menuitem-link js-mainmenu-link\" href=\"https://www.cleveland.com/out-of-line/\">Out of Line: Gerrymandering in Ohio</a>\\n                \\n                \\n                </li>\\n        \\n            <li class=\"advtoprail__mainmenu-menuitem--submenu js-menuitem-submenu\">\\n                \\n                  <a class=\"advtoprail__mainmenu-menuitem-link js-mainmenu-link\" href=\"https://www.cleveland.com/metro/index.ssf/page/recovering_hope.html\">Recovering Hope</a>\\n                \\n                \\n                </li>\\n        \\n            <li class=\"advtoprail__mainmenu-menuitem--submenu js-menuitem-submenu\">\\n                \\n                  <a class=\"advtoprail__mainmenu-menuitem-link js-mainmenu-link\" href=\"https://www.cleveland.com/cavs/index.ssf/page/remaking_the_q.html\">Remaking The Q</a>\\n                \\n                \\n                </li>\\n        \\n            <li class=\"advtoprail__mainmenu-menuitem--submenu js-menuitem-submenu\">\\n                \\n                  <a class=\"advtoprail__mainmenu-menuitem-link js-mainmenu-link\" href=\"https://www.cleveland.com/crime/index.ssf/page/stolen_in_the_suburbs_auto_the.html\">Stolen in the Suburbs</a>\\n                \\n                \\n                </li>\\n        \\n    </ul>\\n\\n\\n                \\n                </li>\\n        \\n    </ul>\\n\\n\\n                    \\n                  </li>\\n                \\n                  <li class=\"advtoprail__mainmenu-menuitem js-expandable\">\\n                    \\n                      <span class=\"advtoprail__mainmenu-menuitem-label\">Politics</span>\\n                    \\n                    \\n                      <button class=\"advtoprail__button-submenu js-button-mainmenu\" aria-label=\"Open the Politics submenu\" aria-expanded=\"false\"><span class=\"advtoprail__button-submenu--open\">&rsaquo;</span><span class=\"advtoprail__button-submenu--close\">&lsaquo;</span></button>\\n                      \\n\\n\\n    <ul class=\"advtoprail__mainmenu-menulist--submenu js-submenu\">\\n      <li class=\"advtoprail__mainmenu-menuitem--submenu-backtomain\">\\n        <button class=\"advtoprail__button-mobile-backtomain js-button-backtomain\">\\n          <span class=\"advtoprail__button-icon--backmm\"></span>\\n          <span class=\"advtoprail__button-label--backmm\">Back To Main Menu</span>\\n        </button>\\n      </li>\\n        \\n            <li class=\"advtoprail__mainmenu-menuitem--submenu js-menuitem-submenu\">\\n                \\n                  <a class=\"advtoprail__mainmenu-menuitem-link js-mainmenu-link\" href=\"https://www.cleveland.com/open/\">State Politics</a>\\n                \\n                \\n                </li>\\n        \\n            <li class=\"advtoprail__mainmenu-menuitem--submenu js-menuitem-submenu\">\\n                \\n                  <a class=\"advtoprail__mainmenu-menuitem-link js-mainmenu-link\" href=\"https://www.cleveland.com/politics/\">National Politics &amp; Elections</a>\\n                \\n                \\n                </li>\\n        \\n            <li class=\"advtoprail__mainmenu-menuitem--submenu js-menuitem-submenu\">\\n                \\n                  <a class=\"advtoprail__mainmenu-menuitem-link js-mainmenu-link\" href=\"https://www.cleveland.com/cityhall\">Cleveland City Hall</a>\\n                \\n                \\n                </li>\\n        \\n            <li class=\"advtoprail__mainmenu-menuitem--submenu js-menuitem-submenu\">\\n                \\n                  <a class=\"advtoprail__mainmenu-menuitem-link js-mainmenu-link\" href=\"https://www.cleveland.com/cuyahoga-county\">Cuyahoga County Insider</a>\\n                \\n                \\n                </li>\\n        \\n            <li class=\"advtoprail__mainmenu-menuitem--submenu js-menuitem-submenu\">\\n                \\n                  <a class=\"advtoprail__mainmenu-menuitem-link js-mainmenu-link\" href=\"https://www.cleveland.com/out-of-line/\">Out of Line: Gerrymandering in Ohio</a>\\n                \\n                \\n                </li>\\n        \\n            <li class=\"advtoprail__mainmenu-menuitem--submenu js-menuitem-submenu\">\\n                \\n                  <a class=\"advtoprail__mainmenu-menuitem-link js-mainmenu-link\" href=\"https://www.cleveland.com/politics/index.ssf/page/ohio_matters_redesign_politica.html\">Special Report: Ohio Matters</a>\\n                \\n                \\n                </li>\\n        \\n    </ul>\\n\\n\\n                    \\n                  </li>\\n                \\n                  <li class=\"advtoprail__mainmenu-menuitem js-expandable\">\\n                    \\n                      <a class=\"advtoprail__mainmenu-menuitem-link js-mainmenu-link\" href=\"https://www.cleveland.com/community\">Local News</a>\\n                    \\n                    \\n                      <button class=\"advtoprail__button-submenu js-button-mainmenu\" aria-label=\"Open the Local News submenu\" aria-expanded=\"false\"><span class=\"advtoprail__button-submenu--open\">&rsaquo;</span><span class=\"advtoprail__button-submenu--close\">&lsaquo;</span></button>\\n                      \\n\\n\\n    <ul class=\"advtoprail__mainmenu-menulist--submenu js-submenu\">\\n      <li class=\"advtoprail__mainmenu-menuitem--submenu-backtomain\">\\n        <button class=\"advtoprail__button-mobile-backtomain js-button-backtomain\">\\n          <span class=\"advtoprail__button-icon--backmm\"></span>\\n          <span class=\"advtoprail__button-label--backmm\">Back To Main Menu</span>\\n        </button>\\n      </li>\\n        \\n            <li class=\"advtoprail__mainmenu-menuitem--submenu js-menuitem-submenu\">\\n                \\n                  <a class=\"advtoprail__mainmenu-menuitem-link js-mainmenu-link\" href=\"https://www.cleveland.com/akron\">Akron</a>\\n                \\n                \\n                </li>\\n        \\n            <li class=\"advtoprail__mainmenu-menuitem--submenu js-menuitem-submenu\">\\n                \\n                  <a class=\"advtoprail__mainmenu-menuitem-link js-mainmenu-link\" href=\"https://www.cleveland.com/beachwood/\">Beachwood</a>\\n                \\n                \\n                </li>\\n        \\n            <li class=\"advtoprail__mainmenu-menuitem--submenu js-menuitem-submenu\">\\n                \\n                  <a class=\"advtoprail__mainmenu-menuitem-link js-mainmenu-link\" href=\"https://www.cleveland.com/berea\">Berea</a>\\n                \\n                \\n                </li>\\n        \\n            <li class=\"advtoprail__mainmenu-menuitem--submenu js-menuitem-submenu\">\\n                \\n                  <a class=\"advtoprail__mainmenu-menuitem-link js-mainmenu-link\" href=\"https://www.cleveland.com/brecksville\">Brecksville</a>\\n                \\n                \\n                </li>\\n        \\n            <li class=\"advtoprail__mainmenu-menuitem--submenu js-menuitem-submenu\">\\n                \\n                  <a class=\"advtoprail__mainmenu-menuitem-link js-mainmenu-link\" href=\"https://www.cleveland.com/brunswick/\">Brunswick</a>\\n                \\n                \\n                </li>\\n        \\n            <li class=\"advtoprail__mainmenu-menuitem--submenu js-menuitem-submenu\">\\n                \\n                  <a class=\"advtoprail__mainmenu-menuitem-link js-mainmenu-link\" href=\"https://www.cleveland.com/chagrin-falls/\">Chagrin Falls</a>\\n                \\n                \\n                </li>\\n        \\n            <li class=\"advtoprail__mainmenu-menuitem--submenu js-menuitem-submenu\">\\n                \\n                  <a class=\"advtoprail__mainmenu-menuitem-link js-mainmenu-link\" href=\"https://www.cleveland.com/cleveland-heights/\">Cleveland Heights</a>\\n                \\n                \\n                </li>\\n        \\n            <li class=\"advtoprail__mainmenu-menuitem--submenu js-menuitem-submenu\">\\n                \\n                  <a class=\"advtoprail__mainmenu-menuitem-link js-mainmenu-link\" href=\"https://www.cleveland.com/hillcrest/\">Hillcrest</a>\\n                \\n                \\n                </li>\\n        \\n            <li class=\"advtoprail__mainmenu-menuitem--submenu js-menuitem-submenu\">\\n                \\n                  <a class=\"advtoprail__mainmenu-menuitem-link js-mainmenu-link\" href=\"https://www.cleveland.com/lakewood/\">Lakewood</a>\\n                \\n                \\n                </li>\\n        \\n            <li class=\"advtoprail__mainmenu-menuitem--submenu js-menuitem-submenu\">\\n                \\n                  <a class=\"advtoprail__mainmenu-menuitem-link js-mainmenu-link\" href=\"https://www.cleveland.com/lyndhurst-south-euclid/\">Lyndhurst-South Euclid</a>\\n                \\n                \\n                </li>\\n        \\n            <li class=\"advtoprail__mainmenu-menuitem--submenu js-menuitem-submenu\">\\n                \\n                  <a class=\"advtoprail__mainmenu-menuitem-link js-mainmenu-link\" href=\"https://www.cleveland.com/medina/\">Medina</a>\\n                \\n                \\n                </li>\\n        \\n            <li class=\"advtoprail__mainmenu-menuitem--submenu js-menuitem-submenu\">\\n                \\n                  <a class=\"advtoprail__mainmenu-menuitem-link js-mainmenu-link\" href=\"https://www.cleveland.com/parma/\">Parma</a>\\n                \\n                \\n                </li>\\n        \\n            <li class=\"advtoprail__mainmenu-menuitem--submenu js-menuitem-submenu\">\\n                \\n                  <a class=\"advtoprail__mainmenu-menuitem-link js-mainmenu-link\" href=\"https://www.cleveland.com/shaker-heights/\">Shaker Heights</a>\\n                \\n                \\n                </li>\\n        \\n            <li class=\"advtoprail__mainmenu-menuitem--submenu js-menuitem-submenu\">\\n                \\n                  <a class=\"advtoprail__mainmenu-menuitem-link js-mainmenu-link\" href=\"https://www.cleveland.com/solon/\">Solon</a>\\n                \\n                \\n                </li>\\n        \\n            <li class=\"advtoprail__mainmenu-menuitem--submenu js-menuitem-submenu\">\\n                \\n                  <a class=\"advtoprail__mainmenu-menuitem-link js-mainmenu-link\" href=\"https://www.cleveland.com/strongsville/\">Strongsville</a>\\n                \\n                \\n                </li>\\n        \\n            <li class=\"advtoprail__mainmenu-menuitem--submenu js-menuitem-submenu\">\\n                \\n                  <a class=\"advtoprail__mainmenu-menuitem-link js-mainmenu-link\" href=\"https://www.cleveland.com/westlake/\">Westlake</a>\\n                \\n                \\n                </li>\\n        \\n            <li class=\"advtoprail__mainmenu-menuitem--submenu js-menuitem-submenu\">\\n                \\n                  <a class=\"advtoprail__mainmenu-menuitem-link js-mainmenu-link\" href=\"https://www.cleveland.com/sunnews/index.ssf/2013/01/read_the_news_from_east_and_so.html\">More East Side</a>\\n                \\n                \\n                </li>\\n        \\n            <li class=\"advtoprail__mainmenu-menuitem--submenu js-menuitem-submenu\">\\n                \\n                  <a class=\"advtoprail__mainmenu-menuitem-link js-mainmenu-link\" href=\"https://www.cleveland.com/sunnews/index.ssf/2013/01/read_the_news_from_west_and_so.html\">More West Side</a>\\n                \\n                \\n                </li>\\n        \\n    </ul>\\n\\n\\n                    \\n                  </li>\\n                \\n                  <li class=\"advtoprail__mainmenu-menuitem js-expandable\">\\n                    \\n                      <a class=\"advtoprail__mainmenu-menuitem-link js-mainmenu-link\" href=\"https://www.cleveland.com/opinion/\">Opinion</a>\\n                    \\n                    \\n                      <button class=\"advtoprail__button-submenu js-button-mainmenu\" aria-label=\"Open the Opinion submenu\" aria-expanded=\"false\"><span class=\"advtoprail__button-submenu--open\">&rsaquo;</span><span class=\"advtoprail__button-submenu--close\">&lsaquo;</span></button>\\n                      \\n\\n\\n    <ul class=\"advtoprail__mainmenu-menulist--submenu js-submenu\">\\n      <li class=\"advtoprail__mainmenu-menuitem--submenu-backtomain\">\\n        <button class=\"advtoprail__button-mobile-backtomain js-button-backtomain\">\\n          <span class=\"advtoprail__button-icon--backmm\"></span>\\n          <span class=\"advtoprail__button-label--backmm\">Back To Main Menu</span>\\n        </button>\\n      </li>\\n        \\n            <li class=\"advtoprail__mainmenu-menuitem--submenu js-menuitem-submenu\">\\n                \\n                  <a class=\"advtoprail__mainmenu-menuitem-link js-mainmenu-link\" href=\"https://www.cleveland.com/letters/\">Letters to the Editor</a>\\n                \\n                \\n                </li>\\n        \\n            <li class=\"advtoprail__mainmenu-menuitem--submenu js-menuitem-submenu\">\\n                \\n                  <a class=\"advtoprail__mainmenu-menuitem-link js-mainmenu-link\" href=\"https://www.cleveland.com/darcy\">Jeff Darcy&#39;s Cartoons</a>\\n                \\n                \\n                </li>\\n        \\n            <li class=\"advtoprail__mainmenu-menuitem--submenu js-menuitem-submenu\">\\n                \\n                  <a class=\"advtoprail__mainmenu-menuitem-link js-mainmenu-link\" href=\"https://www.cleveland.com/columns/\">More columnists</a>\\n                \\n                \\n                </li>\\n        \\n    </ul>\\n\\n\\n                    \\n                  </li>\\n                \\n                  <li class=\"advtoprail__mainmenu-menuitem js-expandable\">\\n                    \\n                      <a class=\"advtoprail__mainmenu-menuitem-link js-mainmenu-link\" href=\"https://www.cleveland.com/business/\">Business</a>\\n                    \\n                    \\n                      <button class=\"advtoprail__button-submenu js-button-mainmenu\" aria-label=\"Open the Business submenu\" aria-expanded=\"false\"><span class=\"advtoprail__button-submenu--open\">&rsaquo;</span><span class=\"advtoprail__button-submenu--close\">&lsaquo;</span></button>\\n                      \\n\\n\\n    <ul class=\"advtoprail__mainmenu-menulist--submenu js-submenu\">\\n      <li class=\"advtoprail__mainmenu-menuitem--submenu-backtomain\">\\n        <button class=\"advtoprail__button-mobile-backtomain js-button-backtomain\">\\n          <span class=\"advtoprail__button-icon--backmm\"></span>\\n          <span class=\"advtoprail__button-label--backmm\">Back To Main Menu</span>\\n        </button>\\n      </li>\\n        \\n            <li class=\"advtoprail__mainmenu-menuitem--submenu js-menuitem-submenu\">\\n                \\n                  <a class=\"advtoprail__mainmenu-menuitem-link js-mainmenu-link\" href=\"https://realestate.cleveland.com/realestate-news/\">Real Estate</a>\\n                \\n                \\n                </li>\\n        \\n            <li class=\"advtoprail__mainmenu-menuitem--submenu js-menuitem-submenu\">\\n                \\n                  <a class=\"advtoprail__mainmenu-menuitem-link js-mainmenu-link\" href=\"https://www.cleveland.com/ohio-utilities/\">Energy</a>\\n                \\n                \\n                </li>\\n        \\n            <li class=\"advtoprail__mainmenu-menuitem--submenu js-menuitem-submenu\">\\n                \\n                  <a class=\"advtoprail__mainmenu-menuitem-link js-mainmenu-link\" href=\"https://www.cleveland.com/consumeraffairs/\">Consumer Affairs</a>\\n                \\n                \\n                </li>\\n        \\n            <li class=\"advtoprail__mainmenu-menuitem--submenu js-menuitem-submenu\">\\n                \\n                  <a class=\"advtoprail__mainmenu-menuitem-link js-mainmenu-link\" href=\"https://www.cleveland.com/personalfinance/\">Personal Finance</a>\\n                \\n                \\n                </li>\\n        \\n            <li class=\"advtoprail__mainmenu-menuitem--submenu js-menuitem-submenu\">\\n                \\n                  <a class=\"advtoprail__mainmenu-menuitem-link js-mainmenu-link\" href=\"https://www.cleveland.com/top-workplaces\">Top Workplaces</a>\\n                \\n                \\n                </li>\\n        \\n    </ul>\\n\\n\\n                    \\n                  </li>\\n                \\n                  <li class=\"advtoprail__mainmenu-menuitem js-expandable\">\\n                    \\n                      <a class=\"advtoprail__mainmenu-menuitem-link js-mainmenu-link\" href=\"https://www.cleveland.com/sports/\">Sports</a>\\n                    \\n                    \\n                      <button class=\"advtoprail__button-submenu js-button-mainmenu\" aria-label=\"Open the Sports submenu\" aria-expanded=\"false\"><span class=\"advtoprail__button-submenu--open\">&rsaquo;</span><span class=\"advtoprail__button-submenu--close\">&lsaquo;</span></button>\\n                      \\n\\n\\n    <ul class=\"advtoprail__mainmenu-menulist--submenu js-submenu\">\\n      <li class=\"advtoprail__mainmenu-menuitem--submenu-backtomain\">\\n        <button class=\"advtoprail__button-mobile-backtomain js-button-backtomain\">\\n          <span class=\"advtoprail__button-icon--backmm\"></span>\\n          <span class=\"advtoprail__button-label--backmm\">Back To Main Menu</span>\\n        </button>\\n      </li>\\n        \\n            <li class=\"advtoprail__mainmenu-menuitem--submenu js-menuitem-submenu\">\\n                \\n                  <a class=\"advtoprail__mainmenu-menuitem-link js-mainmenu-link\" href=\"https://www.cleveland.com/browns/\">Browns</a>\\n                \\n                \\n                </li>\\n        \\n            <li class=\"advtoprail__mainmenu-menuitem--submenu js-menuitem-submenu\">\\n                \\n                  <a class=\"advtoprail__mainmenu-menuitem-link js-mainmenu-link\" href=\"https://www.cleveland.com/tribe/\">Indians</a>\\n                \\n                \\n                </li>\\n        \\n            <li class=\"advtoprail__mainmenu-menuitem--submenu js-menuitem-submenu\">\\n                \\n                  <a class=\"advtoprail__mainmenu-menuitem-link js-mainmenu-link\" href=\"https://www.cleveland.com/cavs/\">Cavaliers</a>\\n                \\n                \\n                </li>\\n        \\n            <li class=\"advtoprail__mainmenu-menuitem--submenu js-menuitem-submenu\">\\n                \\n                  <a class=\"advtoprail__mainmenu-menuitem-link js-mainmenu-link\" href=\"https://www.cleveland.com/osu/\">Ohio State</a>\\n                \\n                \\n                </li>\\n        \\n            <li class=\"advtoprail__mainmenu-menuitem--submenu js-menuitem-submenu\">\\n                \\n                  <a class=\"advtoprail__mainmenu-menuitem-link js-mainmenu-link\" href=\"https://www.cleveland.com/big-ten-football/\">Big 10 &amp; Recruiting</a>\\n                \\n                \\n                </li>\\n        \\n            <li class=\"advtoprail__mainmenu-menuitem--submenu js-menuitem-submenu\">\\n                \\n                  <a class=\"advtoprail__mainmenu-menuitem-link js-mainmenu-link\" href=\"https://www.cleveland.com/sports/college/\">College</a>\\n                \\n                \\n                </li>\\n        \\n            <li class=\"advtoprail__mainmenu-menuitem--submenu js-menuitem-submenu js-expandable\">\\n                \\n                  <a class=\"advtoprail__mainmenu-menuitem-link js-mainmenu-link\" href=\"https://www.cleveland.com/sports/columns/\">Columns</a>\\n                \\n                \\n                  <button class=\"advtoprail__button-submenu js-button-mainmenu\" aria-label=\"Open the Columns submenu\" aria-expanded=\"false\"><span class=\"advtoprail__button-submenu--open\">&rsaquo;</span><span class=\"advtoprail__button-submenu--close\">&lsaquo;</span></button>\\n                  \\n\\n\\n    <ul class=\"advtoprail__mainmenu-menulist--subsubmenu js-submenu\">\\n      <li class=\"advtoprail__mainmenu-menuitem--submenu-backtomain\">\\n        <button class=\"advtoprail__button-mobile-backtomain js-button-backtomain\">\\n          <span class=\"advtoprail__button-icon--backmm\"></span>\\n          <span class=\"advtoprail__button-label--backmm\">Back To Main Menu</span>\\n        </button>\\n      </li>\\n        \\n            <li class=\"advtoprail__mainmenu-menuitem--submenu js-menuitem-submenu\">\\n                \\n                  <a class=\"advtoprail__mainmenu-menuitem-link js-mainmenu-link\" href=\"https://connect.cleveland.com/staff/dlesmeri/posts.html\">Doug Lesmerises</a>\\n                \\n                \\n                </li>\\n        \\n            <li class=\"advtoprail__mainmenu-menuitem--submenu js-menuitem-submenu\">\\n                \\n                  <a class=\"advtoprail__mainmenu-menuitem-link js-mainmenu-link\" href=\"https://www.cleveland.com/livingston\">Bill Livingston</a>\\n                \\n                \\n                </li>\\n        \\n            <li class=\"advtoprail__mainmenu-menuitem--submenu js-menuitem-submenu\">\\n                \\n                  <a class=\"advtoprail__mainmenu-menuitem-link js-mainmenu-link\" href=\"https://connect.cleveland.com/staff/dmanolof/posts.html\">Dennis Manoloff</a>\\n                \\n                \\n                </li>\\n        \\n            <li class=\"advtoprail__mainmenu-menuitem--submenu js-menuitem-submenu\">\\n                \\n                  <a class=\"advtoprail__mainmenu-menuitem-link js-mainmenu-link\" href=\"https://www.cleveland.com/pluto\">Terry Pluto</a>\\n                \\n                \\n                </li>\\n        \\n            <li class=\"advtoprail__mainmenu-menuitem--submenu js-menuitem-submenu\">\\n                \\n                  <a class=\"advtoprail__mainmenu-menuitem-link js-mainmenu-link\" href=\"https://www.cleveland.com/budshaw\">Bud Shaw</a>\\n                \\n                \\n                </li>\\n        \\n    </ul>\\n\\n\\n                \\n                </li>\\n        \\n            <li class=\"advtoprail__mainmenu-menuitem--submenu js-menuitem-submenu\">\\n                \\n                  <a class=\"advtoprail__mainmenu-menuitem-link js-mainmenu-link\" href=\"https://www.cleveland.com/monsters/\">Monsters</a>\\n                \\n                \\n                </li>\\n        \\n            <li class=\"advtoprail__mainmenu-menuitem--submenu js-menuitem-submenu\">\\n                \\n                  <a class=\"advtoprail__mainmenu-menuitem-link js-mainmenu-link\" href=\"https://www.cleveland.com/golf/\">Golf</a>\\n                \\n                \\n                </li>\\n        \\n            <li class=\"advtoprail__mainmenu-menuitem--submenu js-menuitem-submenu\">\\n                \\n                  <a class=\"advtoprail__mainmenu-menuitem-link js-mainmenu-link\" href=\"https://www.cleveland.com/horseracing\">Horse Racing</a>\\n                \\n                \\n                </li>\\n        \\n            <li class=\"advtoprail__mainmenu-menuitem--submenu js-menuitem-submenu\">\\n                \\n                  <a class=\"advtoprail__mainmenu-menuitem-link js-mainmenu-link\" href=\"https://www.cleveland.com/outdoors/\">Outdoors</a>\\n                \\n                \\n                </li>\\n        \\n            <li class=\"advtoprail__mainmenu-menuitem--submenu js-menuitem-submenu\">\\n                \\n                  <a class=\"advtoprail__mainmenu-menuitem-link js-mainmenu-link\" href=\"https://www.cleveland.com/sportsinsider/\">Sports Insider</a>\\n                \\n                \\n                </li>\\n        \\n            <li class=\"advtoprail__mainmenu-menuitem--submenu js-menuitem-submenu js-expandable\">\\n                \\n                  <a class=\"advtoprail__mainmenu-menuitem-link js-mainmenu-link\" href=\"https://www.youtube.com/channel/UCJkc1COQO0WiZ2CI7dRdwAQ\">Videos</a>\\n                \\n                \\n                  <button class=\"advtoprail__button-submenu js-button-mainmenu\" aria-label=\"Open the Videos submenu\" aria-expanded=\"false\"><span class=\"advtoprail__button-submenu--open\">&rsaquo;</span><span class=\"advtoprail__button-submenu--close\">&lsaquo;</span></button>\\n                  \\n\\n\\n    <ul class=\"advtoprail__mainmenu-menulist--subsubmenu js-submenu\">\\n      <li class=\"advtoprail__mainmenu-menuitem--submenu-backtomain\">\\n        <button class=\"advtoprail__button-mobile-backtomain js-button-backtomain\">\\n          <span class=\"advtoprail__button-icon--backmm\"></span>\\n          <span class=\"advtoprail__button-label--backmm\">Back To Main Menu</span>\\n        </button>\\n      </li>\\n        \\n            <li class=\"advtoprail__mainmenu-menuitem--submenu js-menuitem-submenu\">\\n                \\n                  <a class=\"advtoprail__mainmenu-menuitem-link js-mainmenu-link\" href=\"https://www.youtube.com/channel/UCQ49uTYsnoTZXzMvuAs6mnA\">Cleveland Browns Videos</a>\\n                \\n                \\n                </li>\\n        \\n            <li class=\"advtoprail__mainmenu-menuitem--submenu js-menuitem-submenu\">\\n                \\n                  <a class=\"advtoprail__mainmenu-menuitem-link js-mainmenu-link\" href=\"https://www.youtube.com/channel/UCqtAJBbMzm3zY1n1TAQCvXQ\">Cleveland Cavaliers Videos</a>\\n                \\n                \\n                </li>\\n        \\n            <li class=\"advtoprail__mainmenu-menuitem--submenu js-menuitem-submenu\">\\n                \\n                  <a class=\"advtoprail__mainmenu-menuitem-link js-mainmenu-link\" href=\"https://www.youtube.com/channel/UCxReL44y_w9oEhSychUWpyw\">Cleveland Indians Videos</a>\\n                \\n                \\n                </li>\\n        \\n            <li class=\"advtoprail__mainmenu-menuitem--submenu js-menuitem-submenu\">\\n                \\n                  <a class=\"advtoprail__mainmenu-menuitem-link js-mainmenu-link\" href=\"https://www.youtube.com/channel/UCbwXqt6It5lTZ4Wnqa32sfQ\">Ohio State Football Videos</a>\\n                \\n                \\n                </li>\\n        \\n    </ul>\\n\\n\\n                \\n                </li>\\n        \\n            <li class=\"advtoprail__mainmenu-menuitem--submenu js-menuitem-submenu\">\\n                \\n                  <a class=\"advtoprail__mainmenu-menuitem-link js-mainmenu-link\" href=\"https://photos.cleveland.com/category/4501/sports/index.html\">Photos</a>\\n                \\n                \\n                </li>\\n        \\n    </ul>\\n\\n\\n                    \\n                  </li>\\n                \\n                  <li class=\"advtoprail__mainmenu-menuitem js-expandable\">\\n                    \\n                      <a class=\"advtoprail__mainmenu-menuitem-link js-mainmenu-link\" href=\"http://highschoolsports.cleveland.com/\">High School Sports</a>\\n                    \\n                    \\n                      <button class=\"advtoprail__button-submenu js-button-mainmenu\" aria-label=\"Open the High School Sports submenu\" aria-expanded=\"false\"><span class=\"advtoprail__button-submenu--open\">&rsaquo;</span><span class=\"advtoprail__button-submenu--close\">&lsaquo;</span></button>\\n                      \\n\\n\\n    <ul class=\"advtoprail__mainmenu-menulist--submenu js-submenu\">\\n      <li class=\"advtoprail__mainmenu-menuitem--submenu-backtomain\">\\n        <button class=\"advtoprail__button-mobile-backtomain js-button-backtomain\">\\n          <span class=\"advtoprail__button-icon--backmm\"></span>\\n          <span class=\"advtoprail__button-label--backmm\">Back To Main Menu</span>\\n        </button>\\n      </li>\\n        \\n            <li class=\"advtoprail__mainmenu-menuitem--submenu js-menuitem-submenu\">\\n                \\n                  <a class=\"advtoprail__mainmenu-menuitem-link js-mainmenu-link\" href=\"http://highschoolsports.cleveland.com/football\">Football</a>\\n                \\n                \\n                </li>\\n        \\n            <li class=\"advtoprail__mainmenu-menuitem--submenu js-menuitem-submenu\">\\n                \\n                  <a class=\"advtoprail__mainmenu-menuitem-link js-mainmenu-link\" href=\"http://highschoolsports.cleveland.com/boysbasketball\">Boys Basketball</a>\\n                \\n                \\n                </li>\\n        \\n            <li class=\"advtoprail__mainmenu-menuitem--submenu js-menuitem-submenu\">\\n                \\n                  <a class=\"advtoprail__mainmenu-menuitem-link js-mainmenu-link\" href=\"http://highschoolsports.cleveland.com/girlsbasketball\">Girls Basketball</a>\\n                \\n                \\n                </li>\\n        \\n            <li class=\"advtoprail__mainmenu-menuitem--submenu js-menuitem-submenu\">\\n                \\n                  <a class=\"advtoprail__mainmenu-menuitem-link js-mainmenu-link\" href=\"http://highschoolsports.cleveland.com/wrestling\">Wrestling</a>\\n                \\n                \\n                </li>\\n        \\n            <li class=\"advtoprail__mainmenu-menuitem--submenu js-menuitem-submenu js-expandable\">\\n                \\n                  <span class=\"advtoprail__mainmenu-menuitem-label\">More HS Sports</span>\\n                \\n                \\n                  <button class=\"advtoprail__button-submenu js-button-mainmenu\" aria-label=\"Open the More HS Sports submenu\" aria-expanded=\"false\"><span class=\"advtoprail__button-submenu--open\">&rsaquo;</span><span class=\"advtoprail__button-submenu--close\">&lsaquo;</span></button>\\n                  \\n\\n\\n    <ul class=\"advtoprail__mainmenu-menulist--subsubmenu js-submenu\">\\n      <li class=\"advtoprail__mainmenu-menuitem--submenu-backtomain\">\\n        <button class=\"advtoprail__button-mobile-backtomain js-button-backtomain\">\\n          <span class=\"advtoprail__button-icon--backmm\"></span>\\n          <span class=\"advtoprail__button-label--backmm\">Back To Main Menu</span>\\n        </button>\\n      </li>\\n        \\n            <li class=\"advtoprail__mainmenu-menuitem--submenu js-menuitem-submenu\">\\n                \\n                  <a class=\"advtoprail__mainmenu-menuitem-link js-mainmenu-link\" href=\"http://highschoolsports.cleveland.com/baseball\">Baseball</a>\\n                \\n                \\n                </li>\\n        \\n            <li class=\"advtoprail__mainmenu-menuitem--submenu js-menuitem-submenu\">\\n                \\n                  <a class=\"advtoprail__mainmenu-menuitem-link js-mainmenu-link\" href=\"http://highschoolsports.cleveland.com/boysbowling\">Boys Bowling</a>\\n                \\n                \\n                </li>\\n        \\n            <li class=\"advtoprail__mainmenu-menuitem--submenu js-menuitem-submenu\">\\n                \\n                  <a class=\"advtoprail__mainmenu-menuitem-link js-mainmenu-link\" href=\"http://highschoolsports.cleveland.com/girlsbowling\">Girls Bowling</a>\\n                \\n                \\n                </li>\\n        \\n            <li class=\"advtoprail__mainmenu-menuitem--submenu js-menuitem-submenu\">\\n                \\n                  <a class=\"advtoprail__mainmenu-menuitem-link js-mainmenu-link\" href=\"http://highschoolsports.cleveland.com/boyscrosscountry\">Boys Cross Country</a>\\n                \\n                \\n                </li>\\n        \\n            <li class=\"advtoprail__mainmenu-menuitem--submenu js-menuitem-submenu\">\\n                \\n                  <a class=\"advtoprail__mainmenu-menuitem-link js-mainmenu-link\" href=\"http://highschoolsports.cleveland.com/girlscrosscountry\">Girls Cross Country</a>\\n                \\n                \\n                </li>\\n        \\n            <li class=\"advtoprail__mainmenu-menuitem--submenu js-menuitem-submenu\">\\n                \\n                  <a class=\"advtoprail__mainmenu-menuitem-link js-mainmenu-link\" href=\"http://highschoolsports.cleveland.com/fieldhockey\">Field Hockey</a>\\n                \\n                \\n                </li>\\n        \\n            <li class=\"advtoprail__mainmenu-menuitem--submenu js-menuitem-submenu\">\\n                \\n                  <a class=\"advtoprail__mainmenu-menuitem-link js-mainmenu-link\" href=\"http://highschoolsports.cleveland.com/boysgolf\">Boys Golf</a>\\n                \\n                \\n                </li>\\n        \\n            <li class=\"advtoprail__mainmenu-menuitem--submenu js-menuitem-submenu\">\\n                \\n                  <a class=\"advtoprail__mainmenu-menuitem-link js-mainmenu-link\" href=\"http://highschoolsports.cleveland.com/girlsgolf\">Girls Golf</a>\\n                \\n                \\n                </li>\\n        \\n            <li class=\"advtoprail__mainmenu-menuitem--submenu js-menuitem-submenu\">\\n                \\n                  <a class=\"advtoprail__mainmenu-menuitem-link js-mainmenu-link\" href=\"http://highschoolsports.cleveland.com/girlsgymnastics\">Girls Gymnastics</a>\\n                \\n                \\n                </li>\\n        \\n            <li class=\"advtoprail__mainmenu-menuitem--submenu js-menuitem-submenu\">\\n                \\n                  <a class=\"advtoprail__mainmenu-menuitem-link js-mainmenu-link\" href=\"http://highschoolsports.cleveland.com/boysicehockey\">Boys Ice Hockey</a>\\n                \\n                \\n                </li>\\n        \\n            <li class=\"advtoprail__mainmenu-menuitem--submenu js-menuitem-submenu\">\\n                \\n                  <a class=\"advtoprail__mainmenu-menuitem-link js-mainmenu-link\" href=\"http://highschoolsports.cleveland.com/boyslacrosse\">Boys Lacrosse</a>\\n                \\n                \\n                </li>\\n        \\n            <li class=\"advtoprail__mainmenu-menuitem--submenu js-menuitem-submenu\">\\n                \\n                  <a class=\"advtoprail__mainmenu-menuitem-link js-mainmenu-link\" href=\"http://highschoolsports.cleveland.com/girlslacrosse\">Girls Lacrosse</a>\\n                \\n                \\n                </li>\\n        \\n            <li class=\"advtoprail__mainmenu-menuitem--submenu js-menuitem-submenu\">\\n                \\n                  <a class=\"advtoprail__mainmenu-menuitem-link js-mainmenu-link\" href=\"http://highschoolsports.cleveland.com/boyssoccer\">Boys Soccer</a>\\n                \\n                \\n                </li>\\n        \\n            <li class=\"advtoprail__mainmenu-menuitem--submenu js-menuitem-submenu\">\\n                \\n                  <a class=\"advtoprail__mainmenu-menuitem-link js-mainmenu-link\" href=\"http://highschoolsports.cleveland.com/girlssoccer\">Girls Soccer</a>\\n                \\n                \\n                </li>\\n        \\n            <li class=\"advtoprail__mainmenu-menuitem--submenu js-menuitem-submenu\">\\n                \\n                  <a class=\"advtoprail__mainmenu-menuitem-link js-mainmenu-link\" href=\"http://highschoolsports.cleveland.com/softball\">Softball</a>\\n                \\n                \\n                </li>\\n        \\n            <li class=\"advtoprail__mainmenu-menuitem--submenu js-menuitem-submenu\">\\n                \\n                  <a class=\"advtoprail__mainmenu-menuitem-link js-mainmenu-link\" href=\"http://highschoolsports.cleveland.com/boysswimming\">Boys Swimming</a>\\n                \\n                \\n                </li>\\n        \\n            <li class=\"advtoprail__mainmenu-menuitem--submenu js-menuitem-submenu\">\\n                \\n                  <a class=\"advtoprail__mainmenu-menuitem-link js-mainmenu-link\" href=\"http://highschoolsports.cleveland.com/girlsswimming\">Girls Swimming</a>\\n                \\n                \\n                </li>\\n        \\n            <li class=\"advtoprail__mainmenu-menuitem--submenu js-menuitem-submenu\">\\n                \\n                  <a class=\"advtoprail__mainmenu-menuitem-link js-mainmenu-link\" href=\"http://highschoolsports.cleveland.com/boystennis\">Boys Tennis</a>\\n                \\n                \\n                </li>\\n        \\n            <li class=\"advtoprail__mainmenu-menuitem--submenu js-menuitem-submenu\">\\n                \\n                  <a class=\"advtoprail__mainmenu-menuitem-link js-mainmenu-link\" href=\"http://highschoolsports.cleveland.com/girlstennis\">Girls Tennis</a>\\n                \\n                \\n                </li>\\n        \\n            <li class=\"advtoprail__mainmenu-menuitem--submenu js-menuitem-submenu\">\\n                \\n                  <a class=\"advtoprail__mainmenu-menuitem-link js-mainmenu-link\" href=\"http://highschoolsports.cleveland.com/boystrackandfield\">Boys Track and Field</a>\\n                \\n                \\n                </li>\\n        \\n            <li class=\"advtoprail__mainmenu-menuitem--submenu js-menuitem-submenu\">\\n                \\n                  <a class=\"advtoprail__mainmenu-menuitem-link js-mainmenu-link\" href=\"http://highschoolsports.cleveland.com/girlstrackandfield\">Girls Track and Field</a>\\n                \\n                \\n                </li>\\n        \\n            <li class=\"advtoprail__mainmenu-menuitem--submenu js-menuitem-submenu\">\\n                \\n                  <a class=\"advtoprail__mainmenu-menuitem-link js-mainmenu-link\" href=\"http://highschoolsports.cleveland.com/girlsvolleyball\">Girls Volleyball</a>\\n                \\n                \\n                </li>\\n        \\n    </ul>\\n\\n\\n                \\n                </li>\\n        \\n    </ul>\\n\\n\\n                    \\n                  </li>\\n                \\n                  <li class=\"advtoprail__mainmenu-menuitem js-expandable\">\\n                    \\n                      <a class=\"advtoprail__mainmenu-menuitem-link js-mainmenu-link\" href=\"https://www.cleveland.com/entertainment/\">Entertainment</a>\\n                    \\n                    \\n                      <button class=\"advtoprail__button-submenu js-button-mainmenu\" aria-label=\"Open the Entertainment submenu\" aria-expanded=\"false\"><span class=\"advtoprail__button-submenu--open\">&rsaquo;</span><span class=\"advtoprail__button-submenu--close\">&lsaquo;</span></button>\\n                      \\n\\n\\n    <ul class=\"advtoprail__mainmenu-menulist--submenu js-submenu\">\\n      <li class=\"advtoprail__mainmenu-menuitem--submenu-backtomain\">\\n        <button class=\"advtoprail__button-mobile-backtomain js-button-backtomain\">\\n          <span class=\"advtoprail__button-icon--backmm\"></span>\\n          <span class=\"advtoprail__button-label--backmm\">Back To Main Menu</span>\\n        </button>\\n      </li>\\n        \\n            <li class=\"advtoprail__mainmenu-menuitem--submenu js-menuitem-submenu js-expandable\">\\n                \\n                  <a class=\"advtoprail__mainmenu-menuitem-link js-mainmenu-link\" href=\"https://www.cleveland.com/food\">Food/Dining</a>\\n                \\n                \\n                  <button class=\"advtoprail__button-submenu js-button-mainmenu\" aria-label=\"Open the Food/Dining submenu\" aria-expanded=\"false\"><span class=\"advtoprail__button-submenu--open\">&rsaquo;</span><span class=\"advtoprail__button-submenu--close\">&lsaquo;</span></button>\\n                  \\n\\n\\n    <ul class=\"advtoprail__mainmenu-menulist--subsubmenu js-submenu\">\\n      <li class=\"advtoprail__mainmenu-menuitem--submenu-backtomain\">\\n        <button class=\"advtoprail__button-mobile-backtomain js-button-backtomain\">\\n          <span class=\"advtoprail__button-icon--backmm\"></span>\\n          <span class=\"advtoprail__button-label--backmm\">Back To Main Menu</span>\\n        </button>\\n      </li>\\n        \\n            <li class=\"advtoprail__mainmenu-menuitem--submenu js-menuitem-submenu\">\\n                \\n                  <a class=\"advtoprail__mainmenu-menuitem-link js-mainmenu-link\" href=\"https://www.cleveland.com/dining\">Dining Guide</a>\\n                \\n                \\n                </li>\\n        \\n            <li class=\"advtoprail__mainmenu-menuitem--submenu js-menuitem-submenu\">\\n                \\n                  <a class=\"advtoprail__mainmenu-menuitem-link js-mainmenu-link\" href=\"https://www.cleveland.com/bars/\">Bars</a>\\n                \\n                \\n                </li>\\n        \\n            <li class=\"advtoprail__mainmenu-menuitem--submenu js-menuitem-submenu\">\\n                \\n                  <a class=\"advtoprail__mainmenu-menuitem-link js-mainmenu-link\" href=\"https://www.cleveland.com/cooking\">Cooking</a>\\n                \\n                \\n                </li>\\n        \\n            <li class=\"advtoprail__mainmenu-menuitem--submenu js-menuitem-submenu\">\\n                \\n                  <a class=\"advtoprail__mainmenu-menuitem-link js-mainmenu-link\" href=\"https://www.cleveland.com/top-restaurants\">Top Restaurants</a>\\n                \\n                \\n                </li>\\n        \\n            <li class=\"advtoprail__mainmenu-menuitem--submenu js-menuitem-submenu\">\\n                \\n                  <a class=\"advtoprail__mainmenu-menuitem-link js-mainmenu-link\" href=\"https://www.cleveland.com/drinks\">Drinks</a>\\n                \\n                \\n                </li>\\n        \\n    </ul>\\n\\n\\n                \\n                </li>\\n        \\n            <li class=\"advtoprail__mainmenu-menuitem--submenu js-menuitem-submenu\">\\n                \\n                  <a class=\"advtoprail__mainmenu-menuitem-link js-mainmenu-link\" href=\"https://www.cleveland.com/best/\">Cleveland&#39;s Best</a>\\n                \\n                \\n                </li>\\n        \\n            <li class=\"advtoprail__mainmenu-menuitem--submenu js-menuitem-submenu\">\\n                \\n                  <a class=\"advtoprail__mainmenu-menuitem-link js-mainmenu-link\" href=\"https://www.cleveland.com/events/\">Events</a>\\n                \\n                \\n                </li>\\n        \\n            <li class=\"advtoprail__mainmenu-menuitem--submenu js-menuitem-submenu\">\\n                \\n                  <a class=\"advtoprail__mainmenu-menuitem-link js-mainmenu-link\" href=\"https://www.cleveland.com/movies/\">Movies</a>\\n                \\n                \\n                </li>\\n        \\n            <li class=\"advtoprail__mainmenu-menuitem--submenu js-menuitem-submenu\">\\n                \\n                  <a class=\"advtoprail__mainmenu-menuitem-link js-mainmenu-link\" href=\"https://www.cleveland.com/music/\">Music</a>\\n                \\n                \\n                </li>\\n        \\n            <li class=\"advtoprail__mainmenu-menuitem--submenu js-menuitem-submenu\">\\n                \\n                  <a class=\"advtoprail__mainmenu-menuitem-link js-mainmenu-link\" href=\"https://www.cleveland.com/tv/\">TV</a>\\n                \\n                \\n                </li>\\n        \\n            <li class=\"advtoprail__mainmenu-menuitem--submenu js-menuitem-submenu\">\\n                \\n                  <a class=\"advtoprail__mainmenu-menuitem-link js-mainmenu-link\" href=\"https://www.cleveland.com/books/\">Books</a>\\n                \\n                \\n                </li>\\n        \\n            <li class=\"advtoprail__mainmenu-menuitem--submenu js-menuitem-submenu\">\\n                \\n                  <a class=\"advtoprail__mainmenu-menuitem-link js-mainmenu-link\" href=\"https://www.cleveland.com/arts/\">Arts</a>\\n                \\n                \\n                </li>\\n        \\n            <li class=\"advtoprail__mainmenu-menuitem--submenu js-menuitem-submenu\">\\n                \\n                  <a class=\"advtoprail__mainmenu-menuitem-link js-mainmenu-link\" href=\"https://www.cleveland.com/onstage/\">Theater</a>\\n                \\n                \\n                </li>\\n        \\n            <li class=\"advtoprail__mainmenu-menuitem--submenu js-menuitem-submenu\">\\n                \\n                  <a class=\"advtoprail__mainmenu-menuitem-link js-mainmenu-link\" href=\"https://www.cleveland.com/friday/\">Friday!</a>\\n                \\n                \\n                </li>\\n        \\n            <li class=\"advtoprail__mainmenu-menuitem--submenu js-menuitem-submenu\">\\n                \\n                  <a class=\"advtoprail__mainmenu-menuitem-link js-mainmenu-link\" href=\"https://www.cleveland.com/people/\">People</a>\\n                \\n                \\n                </li>\\n        \\n            <li class=\"advtoprail__mainmenu-menuitem--submenu js-menuitem-submenu\">\\n                \\n                  <a class=\"advtoprail__mainmenu-menuitem-link js-mainmenu-link\" href=\"https://www.cleveland.com/living/\">Living</a>\\n                \\n                \\n                </li>\\n        \\n            <li class=\"advtoprail__mainmenu-menuitem--submenu js-menuitem-submenu\">\\n                \\n                  <a class=\"advtoprail__mainmenu-menuitem-link js-mainmenu-link\" href=\"https://www.cleveland.com/travel/\">Travel</a>\\n                \\n                \\n                </li>\\n        \\n            <li class=\"advtoprail__mainmenu-menuitem--submenu js-menuitem-submenu\">\\n                \\n                  <a class=\"advtoprail__mainmenu-menuitem-link js-mainmenu-link\" href=\"https://www.cleveland.com/style/\">Style</a>\\n                \\n                \\n                </li>\\n        \\n            <li class=\"advtoprail__mainmenu-menuitem--submenu js-menuitem-submenu\">\\n                \\n                  <a class=\"advtoprail__mainmenu-menuitem-link js-mainmenu-link\" href=\"https://www.cleveland.com/essential/page/visitors-guide.html\">Essential CLE</a>\\n                \\n                \\n                </li>\\n        \\n            <li class=\"advtoprail__mainmenu-menuitem--submenu js-menuitem-submenu\">\\n                \\n                  <a class=\"advtoprail__mainmenu-menuitem-link js-mainmenu-link\" href=\"https://www.cleveland.com/comics\">Comics</a>\\n                \\n                \\n                </li>\\n        \\n            <li class=\"advtoprail__mainmenu-menuitem--submenu js-menuitem-submenu\">\\n                \\n                  <a class=\"advtoprail__mainmenu-menuitem-link js-mainmenu-link\" href=\"https://www.cleveland.com/puzzles-games\">Crossword &amp; Puzzles</a>\\n                \\n                \\n                </li>\\n        \\n    </ul>\\n\\n\\n                    \\n                  </li>\\n                \\n                  <li class=\"advtoprail__mainmenu-menuitem\">\\n                    \\n                      <a class=\"advtoprail__mainmenu-menuitem-link js-mainmenu-link\" href=\"http://obits.cleveland.com/obituaries/cleveland/\">Obituaries</a>\\n                    \\n                    \\n                  </li>\\n                \\n                  <li class=\"advtoprail__mainmenu-menuitem\">\\n                    \\n                      <a class=\"advtoprail__mainmenu-menuitem-link js-mainmenu-link\" href=\"https://www.cleveland.com/jobs/\">Jobs</a>\\n                    \\n                    \\n                  </li>\\n                \\n                  <li class=\"advtoprail__mainmenu-menuitem\">\\n                    \\n                      <a class=\"advtoprail__mainmenu-menuitem-link js-mainmenu-link\" href=\"https://autos.cleveland.com/\">Autos</a>\\n                    \\n                    \\n                  </li>\\n                \\n                  <li class=\"advtoprail__mainmenu-menuitem js-expandable\">\\n                    \\n                      <a class=\"advtoprail__mainmenu-menuitem-link js-mainmenu-link\" href=\"https://realestate.cleveland.com/\">Real Estate</a>\\n                    \\n                    \\n                      <button class=\"advtoprail__button-submenu js-button-mainmenu\" aria-label=\"Open the Real Estate submenu\" aria-expanded=\"false\"><span class=\"advtoprail__button-submenu--open\">&rsaquo;</span><span class=\"advtoprail__button-submenu--close\">&lsaquo;</span></button>\\n                      \\n\\n\\n    <ul class=\"advtoprail__mainmenu-menulist--submenu js-submenu\">\\n      <li class=\"advtoprail__mainmenu-menuitem--submenu-backtomain\">\\n        <button class=\"advtoprail__button-mobile-backtomain js-button-backtomain\">\\n          <span class=\"advtoprail__button-icon--backmm\"></span>\\n          <span class=\"advtoprail__button-label--backmm\">Back To Main Menu</span>\\n        </button>\\n      </li>\\n        \\n            <li class=\"advtoprail__mainmenu-menuitem--submenu js-menuitem-submenu\">\\n                \\n                  <a class=\"advtoprail__mainmenu-menuitem-link js-mainmenu-link\" href=\"https://realestate.cleveland.com/\">Homes</a>\\n                \\n                \\n                </li>\\n        \\n            <li class=\"advtoprail__mainmenu-menuitem--submenu js-menuitem-submenu\">\\n                \\n                  <a class=\"advtoprail__mainmenu-menuitem-link js-mainmenu-link\" href=\"https://realestate.cleveland.com/new-homes/\">New Homes</a>\\n                \\n                \\n                </li>\\n        \\n            <li class=\"advtoprail__mainmenu-menuitem--submenu js-menuitem-submenu\">\\n                \\n                  <a class=\"advtoprail__mainmenu-menuitem-link js-mainmenu-link\" href=\"https://realestate.cleveland.com/for-rent/\">Rent</a>\\n                \\n                \\n                </li>\\n        \\n            <li class=\"advtoprail__mainmenu-menuitem--submenu js-menuitem-submenu\">\\n                \\n                  <a class=\"advtoprail__mainmenu-menuitem-link js-mainmenu-link\" href=\"https://foreclosures.cleveland.com/\">Foreclosures</a>\\n                \\n                \\n                </li>\\n        \\n            <li class=\"advtoprail__mainmenu-menuitem--submenu js-menuitem-submenu\">\\n                \\n                  <a class=\"advtoprail__mainmenu-menuitem-link js-mainmenu-link\" href=\"https://classifieds.cleveland.com/?cur_cat=&amp;orig_cat=&amp;orig_prop=cleveland.com&amp;temp_type=browse&amp;category=results&amp;tp=ME_cleve&amp;property=cleveland.com&amp;classification=Commercial+Real+Estate\">Commercial</a>\\n                \\n                \\n                </li>\\n        \\n            <li class=\"advtoprail__mainmenu-menuitem--submenu js-menuitem-submenu\">\\n                \\n                  <a class=\"advtoprail__mainmenu-menuitem-link js-mainmenu-link\" href=\"https://realestate.cleveland.com/homeideas\">Home Remodeling</a>\\n                \\n                \\n                </li>\\n        \\n            <li class=\"advtoprail__mainmenu-menuitem--submenu js-menuitem-submenu\">\\n                \\n                  <a class=\"advtoprail__mainmenu-menuitem-link js-mainmenu-link\" href=\"https://www.cleveland.com/placead/\">Place an Ad</a>\\n                \\n                \\n                </li>\\n        \\n    </ul>\\n\\n\\n                    \\n                  </li>\\n                \\n                  <li class=\"advtoprail__mainmenu-menuitem js-expandable\">\\n                    \\n                      <a class=\"advtoprail__mainmenu-menuitem-link js-mainmenu-link\" href=\"https://realestate.cleveland.com/for-rent\">Rentals</a>\\n                    \\n                    \\n                      <button class=\"advtoprail__button-submenu js-button-mainmenu\" aria-label=\"Open the Rentals submenu\" aria-expanded=\"false\"><span class=\"advtoprail__button-submenu--open\">&rsaquo;</span><span class=\"advtoprail__button-submenu--close\">&lsaquo;</span></button>\\n                      \\n\\n\\n    <ul class=\"advtoprail__mainmenu-menulist--submenu js-submenu\">\\n      <li class=\"advtoprail__mainmenu-menuitem--submenu-backtomain\">\\n        <button class=\"advtoprail__button-mobile-backtomain js-button-backtomain\">\\n          <span class=\"advtoprail__button-icon--backmm\"></span>\\n          <span class=\"advtoprail__button-label--backmm\">Back To Main Menu</span>\\n        </button>\\n      </li>\\n        \\n            <li class=\"advtoprail__mainmenu-menuitem--submenu js-menuitem-submenu\">\\n                \\n                  <a class=\"advtoprail__mainmenu-menuitem-link js-mainmenu-link\" href=\"https://realestate.cleveland.com/for-rent/\">All Rentals</a>\\n                \\n                \\n                </li>\\n        \\n            <li class=\"advtoprail__mainmenu-menuitem--submenu js-menuitem-submenu\">\\n                \\n                  <a class=\"advtoprail__mainmenu-menuitem-link js-mainmenu-link\" href=\"https://realestate.cleveland.com/for-rent/\">Apartments &amp; Communities</a>\\n                \\n                \\n                </li>\\n        \\n            <li class=\"advtoprail__mainmenu-menuitem--submenu js-menuitem-submenu\">\\n                \\n                  <a class=\"advtoprail__mainmenu-menuitem-link js-mainmenu-link\" href=\"https://www.cityfeet.com/cleveland/\">Commercial Leases</a>\\n                \\n                \\n                </li>\\n        \\n            <li class=\"advtoprail__mainmenu-menuitem--submenu js-menuitem-submenu\">\\n                \\n                  <a class=\"advtoprail__mainmenu-menuitem-link js-mainmenu-link\" href=\"https://www.cleveland.com/placead/\">Place an Ad</a>\\n                \\n                \\n                </li>\\n        \\n    </ul>\\n\\n\\n                    \\n                  </li>\\n                \\n                  <li class=\"advtoprail__mainmenu-menuitem js-expandable\">\\n                    \\n                      <a class=\"advtoprail__mainmenu-menuitem-link js-mainmenu-link\" href=\"https://www.youtube.com/channel/UCJkc1COQO0WiZ2CI7dRdwAQ\">Videos</a>\\n                    \\n                    \\n                      <button class=\"advtoprail__button-submenu js-button-mainmenu\" aria-label=\"Open the Videos submenu\" aria-expanded=\"false\"><span class=\"advtoprail__button-submenu--open\">&rsaquo;</span><span class=\"advtoprail__button-submenu--close\">&lsaquo;</span></button>\\n                      \\n\\n\\n    <ul class=\"advtoprail__mainmenu-menulist--submenu js-submenu\">\\n      <li class=\"advtoprail__mainmenu-menuitem--submenu-backtomain\">\\n        <button class=\"advtoprail__button-mobile-backtomain js-button-backtomain\">\\n          <span class=\"advtoprail__button-icon--backmm\"></span>\\n          <span class=\"advtoprail__button-label--backmm\">Back To Main Menu</span>\\n        </button>\\n      </li>\\n        \\n            <li class=\"advtoprail__mainmenu-menuitem--submenu js-menuitem-submenu\">\\n                \\n                  <a class=\"advtoprail__mainmenu-menuitem-link js-mainmenu-link\" href=\"https://www.youtube.com/channel/UCJkc1COQO0WiZ2CI7dRdwAQ\">cleveland.com Videos</a>\\n                \\n                \\n                </li>\\n        \\n            <li class=\"advtoprail__mainmenu-menuitem--submenu js-menuitem-submenu\">\\n                \\n                  <a class=\"advtoprail__mainmenu-menuitem-link js-mainmenu-link\" href=\"https://www.youtube.com/channel/UCQ49uTYsnoTZXzMvuAs6mnA\">Cleveland Browns Videos</a>\\n                \\n                \\n                </li>\\n        \\n            <li class=\"advtoprail__mainmenu-menuitem--submenu js-menuitem-submenu\">\\n                \\n                  <a class=\"advtoprail__mainmenu-menuitem-link js-mainmenu-link\" href=\"https://www.youtube.com/channel/UCqtAJBbMzm3zY1n1TAQCvXQ\">Cleveland Cavaliers Videos</a>\\n                \\n                \\n                </li>\\n        \\n            <li class=\"advtoprail__mainmenu-menuitem--submenu js-menuitem-submenu\">\\n                \\n                  <a class=\"advtoprail__mainmenu-menuitem-link js-mainmenu-link\" href=\"https://www.youtube.com/channel/UCxReL44y_w9oEhSychUWpyw\">Cleveland Indians Videos</a>\\n                \\n                \\n                </li>\\n        \\n            <li class=\"advtoprail__mainmenu-menuitem--submenu js-menuitem-submenu\">\\n                \\n                  <a class=\"advtoprail__mainmenu-menuitem-link js-mainmenu-link\" href=\"https://www.youtube.com/channel/UCbwXqt6It5lTZ4Wnqa32sfQ\">Ohio State Football Videos</a>\\n                \\n                \\n                </li>\\n        \\n    </ul>\\n\\n\\n                    \\n                  </li>\\n                \\n                  <li class=\"advtoprail__mainmenu-menuitem js-expandable\">\\n                    \\n                      <a class=\"advtoprail__mainmenu-menuitem-link js-mainmenu-link\" href=\"http://photos.cleveland.com/plain-dealer/index.html\">Photos</a>\\n                    \\n                    \\n                      <button class=\"advtoprail__button-submenu js-button-mainmenu\" aria-label=\"Open the Photos submenu\" aria-expanded=\"false\"><span class=\"advtoprail__button-submenu--open\">&rsaquo;</span><span class=\"advtoprail__button-submenu--close\">&lsaquo;</span></button>\\n                      \\n\\n\\n    <ul class=\"advtoprail__mainmenu-menulist--submenu js-submenu\">\\n      <li class=\"advtoprail__mainmenu-menuitem--submenu-backtomain\">\\n        <button class=\"advtoprail__button-mobile-backtomain js-button-backtomain\">\\n          <span class=\"advtoprail__button-icon--backmm\"></span>\\n          <span class=\"advtoprail__button-label--backmm\">Back To Main Menu</span>\\n        </button>\\n      </li>\\n        \\n            <li class=\"advtoprail__mainmenu-menuitem--submenu js-menuitem-submenu\">\\n                \\n                  <a class=\"advtoprail__mainmenu-menuitem-link js-mainmenu-link\" href=\"http://photos.cleveland.com/plain-dealer/index.html\">cleveland.com Photos</a>\\n                \\n                \\n                </li>\\n        \\n            <li class=\"advtoprail__mainmenu-menuitem--submenu js-menuitem-submenu\">\\n                \\n                  <a class=\"advtoprail__mainmenu-menuitem-link js-mainmenu-link\" href=\"http://photos.cleveland.com/photogallery/index.html\">Community Photos</a>\\n                \\n                \\n                </li>\\n        \\n            <li class=\"advtoprail__mainmenu-menuitem--submenu js-menuitem-submenu\">\\n                \\n                  <a class=\"advtoprail__mainmenu-menuitem-link js-mainmenu-link\" href=\"http://photos.cleveland.com/photogallery/upload.html\">Submit Your Photos</a>\\n                \\n                \\n                </li>\\n        \\n    </ul>\\n\\n\\n                    \\n                  </li>\\n                \\n                  <li class=\"advtoprail__mainmenu-menuitem\">\\n                    \\n                      <a class=\"advtoprail__mainmenu-menuitem-link js-mainmenu-link\" href=\"https://www.cleveland.com/akron\">Akron News</a>\\n                    \\n                    \\n                  </li>\\n                \\n                  <li class=\"advtoprail__mainmenu-menuitem\">\\n                    \\n                      <a class=\"advtoprail__mainmenu-menuitem-link js-mainmenu-link\" href=\"https://www.cleveland.com/placead/\">Place an Ad</a>\\n                    \\n                    \\n                  </li>\\n                \\n                  <li class=\"advtoprail__mainmenu-menuitem js-expandable\">\\n                    \\n                      <a class=\"advtoprail__mainmenu-menuitem-link js-mainmenu-link\" href=\"https://classifieds.cleveland.com/\">Classifieds</a>\\n                    \\n                    \\n                      <button class=\"advtoprail__button-submenu js-button-mainmenu\" aria-label=\"Open the Classifieds submenu\" aria-expanded=\"false\"><span class=\"advtoprail__button-submenu--open\">&rsaquo;</span><span class=\"advtoprail__button-submenu--close\">&lsaquo;</span></button>\\n                      \\n\\n\\n    <ul class=\"advtoprail__mainmenu-menulist--submenu js-submenu\">\\n      <li class=\"advtoprail__mainmenu-menuitem--submenu-backtomain\">\\n        <button class=\"advtoprail__button-mobile-backtomain js-button-backtomain\">\\n          <span class=\"advtoprail__button-icon--backmm\"></span>\\n          <span class=\"advtoprail__button-label--backmm\">Back To Main Menu</span>\\n        </button>\\n      </li>\\n        \\n            <li class=\"advtoprail__mainmenu-menuitem--submenu js-menuitem-submenu\">\\n                \\n                  <a class=\"advtoprail__mainmenu-menuitem-link js-mainmenu-link\" href=\"https://classifieds.cleveland.com/?orig_cat=&amp;property=cleveland.com&amp;orig_prop=cleveland.com&amp;temp_type=browse&amp;category=results&amp;tp=ME_cleve&amp;classification=Pets\">Pets</a>\\n                \\n                \\n                </li>\\n        \\n            <li class=\"advtoprail__mainmenu-menuitem--submenu js-menuitem-submenu\">\\n                \\n                  <a class=\"advtoprail__mainmenu-menuitem-link js-mainmenu-link\" href=\"https://classifieds.cleveland.com/?orig_cat=&amp;property=cleveland.com&amp;orig_prop=cleveland.com&amp;temp_type=browse&amp;category=results&amp;tp=ME_cleve&amp;classification=For+Sale\">For Sale</a>\\n                \\n                \\n                </li>\\n        \\n            <li class=\"advtoprail__mainmenu-menuitem--submenu js-menuitem-submenu\">\\n                \\n                  <a class=\"advtoprail__mainmenu-menuitem-link js-mainmenu-link\" href=\"https://classifieds.cleveland.com/?orig_prop=cleveland.com&amp;property=cleveland.com&amp;temp_type=browse&amp;category=results&amp;tp=ME_cleve&amp;classification=Garage-Yard%20and%20Estate%20Sales\">Garage Sales</a>\\n                \\n                \\n                </li>\\n        \\n            <li class=\"advtoprail__mainmenu-menuitem--submenu js-menuitem-submenu\">\\n                \\n                  <a class=\"advtoprail__mainmenu-menuitem-link js-mainmenu-link\" href=\"https://www.cleveland.com/celebrations/\">Celebrations</a>\\n                \\n                \\n                </li>\\n        \\n            <li class=\"advtoprail__mainmenu-menuitem--submenu js-menuitem-submenu\">\\n                \\n                  <a class=\"advtoprail__mainmenu-menuitem-link js-mainmenu-link\" href=\"https://www.cleveland.com/placead/fraud_prevention/index.ssf\">Fraud Prevention</a>\\n                \\n                \\n                </li>\\n        \\n            <li class=\"advtoprail__mainmenu-menuitem--submenu js-menuitem-submenu\">\\n                \\n                  <a class=\"advtoprail__mainmenu-menuitem-link js-mainmenu-link\" href=\"https://www.cleveland.com/placead/manage/index.ssf\">Manage Your Ad</a>\\n                \\n                \\n                </li>\\n        \\n            <li class=\"advtoprail__mainmenu-menuitem--submenu js-menuitem-submenu\">\\n                \\n                  <a class=\"advtoprail__mainmenu-menuitem-link js-mainmenu-link\" href=\"https://www.cleveland.com/placead/\">Place an Ad</a>\\n                \\n                \\n                </li>\\n        \\n    </ul>\\n\\n\\n                    \\n                  </li>\\n                \\n                  <li class=\"advtoprail__mainmenu-menuitem\">\\n                    \\n                      <a class=\"advtoprail__mainmenu-menuitem-link js-mainmenu-link\" href=\"http://findnsave.cleveland.com/?ac=AFFclevelandFSNAVFLS\">Find&amp;Save</a>\\n                    \\n                    \\n                  </li>\\n                \\n                  <li class=\"advtoprail__mainmenu-menuitem js-expandable\">\\n                    \\n                      <a class=\"advtoprail__mainmenu-menuitem-link js-mainmenu-link\" href=\"https://businessfinder.cleveland.com/\">Local Businesses</a>\\n                    \\n                    \\n                      <button class=\"advtoprail__button-submenu js-button-mainmenu\" aria-label=\"Open the Local Businesses submenu\" aria-expanded=\"false\"><span class=\"advtoprail__button-submenu--open\">&rsaquo;</span><span class=\"advtoprail__button-submenu--close\">&lsaquo;</span></button>\\n                      \\n\\n\\n    <ul class=\"advtoprail__mainmenu-menulist--submenu js-submenu\">\\n      <li class=\"advtoprail__mainmenu-menuitem--submenu-backtomain\">\\n        <button class=\"advtoprail__button-mobile-backtomain js-button-backtomain\">\\n          <span class=\"advtoprail__button-icon--backmm\"></span>\\n          <span class=\"advtoprail__button-label--backmm\">Back To Main Menu</span>\\n        </button>\\n      </li>\\n        \\n            <li class=\"advtoprail__mainmenu-menuitem--submenu js-menuitem-submenu\">\\n                \\n                  <a class=\"advtoprail__mainmenu-menuitem-link js-mainmenu-link\" href=\"https://businessfinder.cleveland.com/\">Find A Business</a>\\n                \\n                \\n                </li>\\n        \\n            <li class=\"advtoprail__mainmenu-menuitem--submenu js-menuitem-submenu\">\\n                \\n                  <a class=\"advtoprail__mainmenu-menuitem-link js-mainmenu-link\" href=\"https://businessfinder.cleveland.com/OH-Cleveland/Food-and-Dining\">Food &amp; Dining</a>\\n                \\n                \\n                </li>\\n        \\n            <li class=\"advtoprail__mainmenu-menuitem--submenu js-menuitem-submenu\">\\n                \\n                  <a class=\"advtoprail__mainmenu-menuitem-link js-mainmenu-link\" href=\"https://businessfinder.cleveland.com/OH-Cleveland/Retail-Shopping\">Retail Shopping</a>\\n                \\n                \\n                </li>\\n        \\n            <li class=\"advtoprail__mainmenu-menuitem--submenu js-menuitem-submenu\">\\n                \\n                  <a class=\"advtoprail__mainmenu-menuitem-link js-mainmenu-link\" href=\"https://businessfinder.cleveland.com/OH-Cleveland/Health-and-Medicine\">Health &amp; Medicine</a>\\n                \\n                \\n                </li>\\n        \\n            <li class=\"advtoprail__mainmenu-menuitem--submenu js-menuitem-submenu\">\\n                \\n                  <a class=\"advtoprail__mainmenu-menuitem-link js-mainmenu-link\" href=\"https://businessfinder.cleveland.com/OH-Cleveland/Personal-Care-and-Well-Being\">Personal Care</a>\\n                \\n                \\n                </li>\\n        \\n            <li class=\"advtoprail__mainmenu-menuitem--submenu js-menuitem-submenu\">\\n                \\n                  <a class=\"advtoprail__mainmenu-menuitem-link js-mainmenu-link\" href=\"https://businessfinder.cleveland.com/OH-Cleveland/Entertainment-and-Arts\">Entertainment</a>\\n                \\n                \\n                </li>\\n        \\n            <li class=\"advtoprail__mainmenu-menuitem--submenu js-menuitem-submenu\">\\n                \\n                  <a class=\"advtoprail__mainmenu-menuitem-link js-mainmenu-link\" href=\"https://businessfinder.cleveland.com/OH-Cleveland/Real-Estate\">Real Estate</a>\\n                \\n                \\n                </li>\\n        \\n            <li class=\"advtoprail__mainmenu-menuitem--submenu js-menuitem-submenu\">\\n                \\n                  <a class=\"advtoprail__mainmenu-menuitem-link js-mainmenu-link\" href=\"https://businessfinder.cleveland.com/OH-Cleveland/Automotive\">Automotive</a>\\n                \\n                \\n                </li>\\n        \\n            <li class=\"advtoprail__mainmenu-menuitem--submenu js-menuitem-submenu\">\\n                \\n                  <a class=\"advtoprail__mainmenu-menuitem-link js-mainmenu-link\" href=\"https://businessfinder.cleveland.com/about/advertise.html\">Claim Your Business</a>\\n                \\n                \\n                </li>\\n        \\n    </ul>\\n\\n\\n                    \\n                  </li>\\n                \\n                  <li class=\"advtoprail__mainmenu-menuitem js-expandable\">\\n                    \\n                      <span class=\"advtoprail__mainmenu-menuitem-label\">Follow Us</span>\\n                    \\n                    \\n                      <button class=\"advtoprail__button-submenu js-button-mainmenu\" aria-label=\"Open the Follow Us submenu\" aria-expanded=\"false\"><span class=\"advtoprail__button-submenu--open\">&rsaquo;</span><span class=\"advtoprail__button-submenu--close\">&lsaquo;</span></button>\\n                      \\n\\n\\n    <ul class=\"advtoprail__mainmenu-menulist--submenu js-submenu\">\\n      <li class=\"advtoprail__mainmenu-menuitem--submenu-backtomain\">\\n        <button class=\"advtoprail__button-mobile-backtomain js-button-backtomain\">\\n          <span class=\"advtoprail__button-icon--backmm\"></span>\\n          <span class=\"advtoprail__button-label--backmm\">Back To Main Menu</span>\\n        </button>\\n      </li>\\n        \\n            <li class=\"menuSocial menuFacebookIcon advtoprail__mainmenu-menuitem--social-facebook js-menuitem-submenu\">\\n                \\n                  <a class=\"advtoprail__mainmenu-menuitem-link js-mainmenu-link\" href=\"https://www.facebook.com/pages/clevelandcom/48573742500\">Visit our Facebook Page</a>\\n                \\n                \\n                </li>\\n        \\n            <li class=\"menuSocial menuTwitterIcon advtoprail__mainmenu-menuitem--social-twitter js-menuitem-submenu\">\\n                \\n                  <a class=\"advtoprail__mainmenu-menuitem-link js-mainmenu-link\" href=\"https://twitter.com/clevelanddotcom\">Follow us on Twitter</a>\\n                \\n                \\n                </li>\\n        \\n            <li class=\"menuSocial menuGplusIcon advtoprail__mainmenu-menuitem--social-google js-menuitem-submenu\">\\n                \\n                  <a class=\"advtoprail__mainmenu-menuitem-link js-mainmenu-link\" href=\"https://plus.google.com/u/0/b/107235278707360504631/107235278707360504631/posts\">Visit us on Google Plus</a>\\n                \\n                \\n                </li>\\n        \\n    </ul>\\n\\n\\n                    \\n                  </li>\\n                \\n                \\n                    \\n                    <li class=\"advtoprail__mainmenu-menuitem--subscribe js-expandable\">\\n                        <span id=\"mainmenu-subscriptions\">Subscriptions</span>\\n                        <button class=\"advtoprail__button-submenu js-button-mainmenu\" aria-label=\"Open the subscriptions submenu\" aria-expanded=\"false\">&rsaquo;</button>\\n                        <ul class=\"advtoprail__mainmenu-menulist--submenu js-submenu\">\\n                        <li class=\"advtoprail__mainmenu-menuitem--submenu-backtomain\">\\n                            <button class=\"advtoprail__button-mobile-backtomain js-button-backtomain\">\\n                            <span class=\"advtoprail__button-icon--backmm\"></span>\\n                            <span class=\"advtoprail__button-label--backmm\">Back To Main Menu</span>\\n                            </button>\\n                        </li>\\n                        \\n                            <li class=\"advtoprail__mainmenu-menuitem--submenu\"><a class=\"advtoprail__mainmenu-menuitem-link\" data-value=\"\" href=\"https://members.plaindealer.com/dssSubscribe.aspx\">The Plain Dealer</a></li>\\n                        \\n                            <li class=\"advtoprail__mainmenu-menuitem--submenu\"><a class=\"advtoprail__mainmenu-menuitem-link\" data-value=\"\" href=\"https://members.plaindealer.com/dssSubscribe.aspx\">Sun News</a></li>\\n                        \\n                            <li class=\"advtoprail__mainmenu-menuitem--submenu\"><a class=\"advtoprail__mainmenu-menuitem-link\" data-value=\"\" href=\"https://members.plaindealer.com/\">Media Insider Rewards</a></li>\\n                        \\n                        </ul>\\n                    </li>\\n                    \\n                \\n              </ul>\\n            </div>\\n          </div>\\n        </div>\\n      </nav>\\n    </div>\\n    <div class=\"advtoprail__weather js-weather\">\\n      <button class=\"advtoprail__weather-button js-button-masthead js-button-weather\" aria-label=\"Find Your Local Weather Forecast\" aria-expanded=\"false\"  data-buttonname=\"weatherUnset\">\\n        <span class=\"advtoprail__weather-conditions js-weather-conditions\">\\n          <span class=\"advtoprail__weather-temperature js-weather-temperature\"></span>\\n        </span>\\n      </button>\\n      <div class=\"advtoprail__dropdown--weather js-dropdown\" role=\"dialog\" aria-hidden=\"true\" aria-expanded=\"false\">\\n        <div class=\"advtoprail__menuborderarrow--weather\"></div>\\n        <div class=\"advtoprail__dropdown-outer\">\\n          <div class=\"advtoprail__dropdown-inner--weather\" aria-live=\"polite\">\\n            <button class=\"advtoprail__button-mobile-backtomain js-button-backtomain\">\\n              <span class=\"advtoprail__button-icon--backmm\"></span>\\n              <span class=\"advtoprail__button-label--backmm\">Back To Main Menu</span>\\n            </button>\\n            <button class=\"advtoprail__button--close js-button-close\" aria-label=\"Close the Find Your Weather Forecast popup\">\\n              <span class=\"advtoprail__button-icon--close\">Close</span>\\n            </button>\\n            <div class=\"advtoprail__weather-details js-weather-form\">\\n              <div class=\"advtoprail__weather-title\">Customize Your Weather</div>\\n              <div class=\"advtoprail__weather-label\">Set Your Location:</div>\\n              <div class=\"advtoprail__weather-error js-setweather-error\"></div>\\n              <div class=\"aria-hidden\">Enter City and State or Zip Code</div>\\n              <input class=\"advtoprail__input js-setweather-input\" name=\"advtoprail__input\" type=\"text\" value=\"\" placeholder=\"Enter City and State or Zip Code\" />\\n              <input class=\"advtoprail__submit js-setweather-submit\" type=\"submit\" value=\"Submit\" />\\n            </div>\\n            <div class=\"advtoprail__weather-details js-weather-confirm\">\\n              <div class=\"advtoprail__weather-title\">Congratulations!</div>\\n              <div class=\"advtoprail__weather-label--confirm\">Your weather is set to <span class=\"js-chosen-location\"></span>. You can change the location at any time.</div>\\n              <input class=\"advtoprail__submit js-setweather-done\" type=\"button\" value=\"Done\" />\\n            </div>\\n            <div class=\"advtoprail__weather-details js-weather-forecast\">\\n              <div class=\"advtoprail__weather-subtitle\">AccuWeather.com Quick Look</div>\\n              <div class=\"advtoprail__weather-title js-weather-title\"></div>\\n              <button class=\"advtoprail__weather-button--change-location js-change-location\">Change your current location &raquo;</button>\\n              <div class=\"advtoprail__weather-forecast js-forecasts\">\\n                <div class=\"advtoprail__weather-forecast-period js-forecast-current\">\\n                  <span class=\"advtoprail__weather-forecast-label js-weather-forecast-label\">Current</span>\\n                  <span class=\"advtoprail__weather-forecast-highlow js-weather-forecast-highlow\"></span>\\n                  <span class=\"advtoprail__weather-forecast-temperature js-weather-forecast-temperature\"></span>\\n                  <span class=\"advtoprail__weather-forecast-condition js-weather-forecast-condition\"></span>\\n                </div>\\n                <div class=\"advtoprail__weather-forecast-period js-forecast-tonight\">\\n                  <span class=\"advtoprail__weather-forecast-label js-weather-forecast-label\">Tonight</span>\\n                  <span class=\"advtoprail__weather-forecast-highlow js-weather-forecast-highlow\"></span>\\n                  <span class=\"advtoprail__weather-forecast-temperature js-weather-forecast-temperature\"></span>\\n                  <span class=\"advtoprail__weather-forecast-condition js-weather-forecast-condition\"></span>\\n                </div>\\n                <div class=\"advtoprail__weather-forecast-period js-forecast-tomorrow\">\\n                  <span class=\"advtoprail__weather-forecast-label js-weather-forecast-label\">Tomorrow</span>\\n                  <span class=\"advtoprail__weather-forecast-highlow js-weather-forecast-highlow\"></span>\\n                  <span class=\"advtoprail__weather-forecast-temperature js-weather-forecast-temperature\"></span>\\n                  <span class=\"advtoprail__weather-forecast-condition js-weather-forecast-condition\"></span>\\n                </div>\\n              </div>\\n              <button class=\"advtoprail__weather-button-fullreport js-button-fullreport\">View Full Weather Report</button>\\n            </div>\\n          </div>\\n        </div>\\n      </div>\\n    </div>\\n    <div class=\"adunit nomobilead\" id=\"TopRail_Sponsor\"></div>\\n  </div>\\n  \\n  <div class=\"advtoprail__masthead js-masthead\">\\n    <div class=\"advtoprail__masthead-logo js-masthead-logo\">\\n      <a class=\"advtoprail__masthead-afflink\" href=\"http://www.cleveland.com/\" aria-label=\"Visit the Cleveland.com homepage\">\\n        <span class=\"advtoprail__iconlabel--hidden\">Cleveland.com</span>\\n      </a>\\n      \\n    </div>\\n  </div>\\n  <div class=\"advtoprail__right-corner\">\\n    \\n      \\n        <button class=\"advtoprail__button-subscribe js-button-masthead\" aria-label=\"View all of Cleveland.com\\'s\\' available newspaper subscriptions and email newsletters\" aria-expanded=\"false\"  data-buttonname=\"subscription\">\\n            <div class=\"advtoprail__button-subscribe-label\">Subscribe</div>\\n        </button>\\n        <div class=\"advtoprail__dropdown js-dropdown\" role=\"dialog\" aria-hidden=\"true\" aria-expanded=\"false\">\\n            <div class=\"advtoprail__menuborderarrow\"></div>\\n            <div class=\"advtoprail__dropdown-outer\">\\n            <div class=\"advtoprail__dropdown-inner\">\\n                <ul class=\"advtoprail__subscription-menulist\">\\n                \\n                    <li class=\"advtoprail__subscription-menuitem\"><a class=\"advtoprail__subscription-link js-subscription-link\" href=\"https://members.plaindealer.com/dssSubscribe.aspx\" aria-label=\"Subscribe to The Plain Dealer\">The Plain Dealer</a></li>\\n                \\n                    <li class=\"advtoprail__subscription-menuitem\"><a class=\"advtoprail__subscription-link js-subscription-link\" href=\"https://members.plaindealer.com/dssSubscribe.aspx\" aria-label=\"Subscribe to Sun News\">Sun News</a></li>\\n                \\n                    <li class=\"advtoprail__subscription-menuitem\"><a class=\"advtoprail__subscription-link js-subscription-link\" href=\"https://members.plaindealer.com/\" aria-label=\"Subscribe to Media Insider Rewards\">Media Insider Rewards</a></li>\\n                \\n                </ul>\\n            </div>\\n            </div>\\n        </div>\\n      \\n    \\n    <button class=\"advtoprail__button--account js-button-account\" aria-expanded=\"false\" aria-label=\"Sign in to Cleveland.com\">\\n        <span class=\"advtoprail__button-icon--account\"></span>\\n        <span class=\"advtoprail__iconlabel\">Sign In</span>\\n    </button>\\n    <div class=\"advtoprail__dropdown-user js-dropdown-user\" role=\"dialog\" aria-hidden=\"true\" aria-expanded=\"false\">\\n      <button class=\"advtoprail__button--close js-button-close js-button-account-close\">\\n        <span class=\"advtoprail__button-icon--close\" aria-label=\"Close the User Account section\">Close</span>\\n      </button>\\n      <img class=\"advtoprail__user-profile-image js-account-image\" alt=\"User Profile\"/>\\n      <div class=\"advtoprail__user-profile-nameplate js-account-name\">\\n        You are signed in as<br/>\\n      </div>\\n      <div class=\"advtoprail__user-profile-links\">\\n        <a class=\"advtoprail__link--account-profile js-edit-profile\" aria-label=\"View your public profile\">Public Profile</a>\\n        <a class=\"advtoprail__link--account-edit js-button-edit\" aria-label=\"Edit your profile\">Edit Profile</a>\\n        \\n        <a class=\"advtoprail__link--account-signout js-edit-signout\">Sign Out</a>\\n      </div>\\n    </div>\\n    <button class=\"advtoprail__button--search js-button-search\" id=\"adv_search\" aria-expanded=\"false\" aria-label=\"Search Cleveland.com\">\\n        <span class=\"advtoprail__button-icon--search\"></span>\\n        <span class=\"advtoprail__iconlabel\">Search</span>\\n    </button>\\n  </div>\\n</header>\\n\\n\\n<!-- /toprail -->\\n\\n\\t\\t\\n\\t\\t\\t\\n\\t\\t\\t\\t\\n\\t\\t\\t\\n\\t\\t\\n\\t\\n\\n\\n<!-- ./templates/global/shared/nav/masthead.mtml end -->\\n\\n\\t\\t<!-- End Masthead -->\\n\\n\\t\\t\\n\\t\\t\\t\\n\\t\\t\\t\\n\\t\\n\\t\\n    \\n    \\n    \\n    \\n\\n\\n\\n\\r\\n\\r\\n\\r\\n\\t\\r\\n\\t\\r\\n\\t\\r\\n\\n\\n\\t\\t\\t\\t\\t\\t\\t\\t\\t\\t\\t\\t\\t\\t\\t\\t\\t\\t\\t\\t\\t\\t\\t\\t\\t\\t\\t\\t\\t\\n<div class=\"wrapper\">\\n    <main class=\"main\" role=\"main\" aria-live=\"polite\">\\n        <article id=\"article\" data-article-id=\"21622286\" class=\"article h-entry\">\\n            <header id=\"article__header\" class=\"article__header\">\\n                <nav id=\"articleLabel\" class=\"articleLabel\" aria-label=\"articleLabel\">\\n                    <ol id=\"articleLabel__list\" class=\"articleLabel__list\">\\n                        <li id=\"articleLabel__listItem\" class=\"articleLabel__listItem\">\\n                            <a id=\"articleLabel__link\" href=\"http://www.cleveland.com/metro/index.ssf/\" title=\"Navigate to Metro News\">Metro News</a>\\n                        </li>\\n                    </ol>\\n                </nav>\\n                \\n                <h1 id=\"articleHeadline\" class=\"p-name\">Case Western Reserve University President Barbara Snyder\\'s base salary and bonus pay tops among private colleges in Ohio </h1>\\n                <div id=\"dateline\" class=\"dateline\">\\n                    \\n                    <span class=\"dateline__updated\">Updated <time datetime=\"2017-12-12T01:42:32Z\" aria-label=\"Article updated date and time\">December 11, 2017 at  9:42 PM</time>;</span>\\n                    \\n                    <span class=\"dateline__published\">Posted <time datetime=\"2017-12-10T22:00:00Z\" aria-label=\"Article published date and time\">December 10, 2017 at  6:00 PM</time></span>\\n                </div>\\n                <figure class=\"article__mmm article__mmm--photo\"><div class=\"mmm__wrapper\"><div class=\"mmm__image-wrapper\"><img srcset=\"http://image.cleveland.com/home/cleve-media/width328/img/plain_dealer_metro/photo/cwrus-snyder-tops-pay-scale-highest-paid-of-ohio-private-college-chiefs-at-over-1m-yearly-581ba32ba99d75e9.jpg 328w,\\n                         http://image.cleveland.com/home/cleve-media/width480/img/plain_dealer_metro/photo/cwrus-snyder-tops-pay-scale-highest-paid-of-ohio-private-college-chiefs-at-over-1m-yearly-581ba32ba99d75e9.jpg 480w,\\n                         http://image.cleveland.com/home/cleve-media/width600/img/plain_dealer_metro/photo/cwrus-snyder-tops-pay-scale-highest-paid-of-ohio-private-college-chiefs-at-over-1m-yearly-581ba32ba99d75e9.jpg 600w,\\n                         http://image.cleveland.com/home/cleve-media/width960/img/plain_dealer_metro/photo/cwrus-snyder-tops-pay-scale-highest-paid-of-ohio-private-college-chiefs-at-over-1m-yearly-581ba32ba99d75e9.jpg 960w\"\\n                    sizes=\"(min-width: 980px) 533px,\\n                        (min-width: 600px) 91vw,\\n                        100vw\" \\n                    src=\"http://image.cleveland.com/home/cleve-media/width600/img/plain_dealer_metro/photo/cwrus-snyder-tops-pay-scale-highest-paid-of-ohio-private-college-chiefs-at-over-1m-yearly-581ba32ba99d75e9.jpg\" alt=\"Case Western Reserve University President Barbara Snyder\\'s base pay and bonus for 2015 ranked her first among private college presidents in Ohio. \"></div><figcaption class=\"mmm__caption\" id=\"mmm__caption\">Case Western Reserve University President Barbara Snyder\\'s base pay and bonus for 2015 ranked her first among private college presidents in Ohio. (<cite>John Kuntz, cleveland.com</cite>)\\n            </figcaption></div></figure>\\n    \\n\\n\\n                <!-- Comment Bubble and Gigya Sharebar -->\\n                <div id=\"article__commentBubble-socialShare\" class=\"article__commentBubble-socialShare\">\\n                    <div id=\"commentBubble__container\" class=\"commentBubble__container\">\\n                        <button id=\"commentBubble\" class=\"commentBubble commentBubble--noComments\">\\n                        <span id=\"commentBubbleSpan\" class=\"commentBubbleSpan\" data-type=\"commentBubble\">Comment</span>\\n                        </button>\\n                    </div>\\n                <div id=\"social_21622286\" class=\"adi-share-auto\" data-layout=\"horizontal\" data-link=\"https://www.cleveland.com/metro/index.ssf/2017/12/case_western_reserve_university_president_barbara_snyders_base_salary_and_bonus_pay_tops_among_private_colleges_in_ohio.html\" data-title=\"Case Western Reserve University President Barbara Snyder\\'s base salary and bonus pay tops among private colleges in Ohio \" data-thumbnail=\"http://media.cleveland.com/plain_dealer_metro/photo/23873711-standard.jpg\"></div>\\n                </div>\\n                \\n\\n\\n\\n\\n\\n\\n<div id=\"byline\" class=\"byline\">\\n    <p id=\"byline__author\" class=\"byline__author\">By <a id=\"byline__authorLink\" href=\"http://connect.cleveland.com/staff/kfarkas/posts.html\" title=\"Visit Karen Farkas, cleveland.com\\'s Author Page\">Karen Farkas, cleveland.com</a></p>\\n    \\n        <p id=\"byline__authorEmail\" class=\"byline__authorEmail\"><a id=\"byline__authorEmailLink\" href=\"mailto:kfarkas@cleveland.com \" title=\"Email Karen Farkas, cleveland.com\">kfarkas@cleveland.com </a></p>\\n    \\n    \\n        \\n    \\n</div><!-- /Byline -->\\n\\n            </header>\\n            <div id=\"article__story\" class=\"article__story\">\\n                <!-- Article -->\\n    <div id=\"entryContent\" class=\"entry-content\">\\n        <p>CLEVELAND, Ohio -&nbsp;<a href=\"http://www.case.edu/\">Case Western Reserve University&nbsp;</a>President Barbara Snyder\\'s $700,312 base pay and $175,000 bonus in 2015 again made her the highest paid private college leader in Ohio, according to an annual report.</p>\\n<p>Nationally, Snyder\\'s total compensation of $1.154 million, which can include deferred compensation and other pay, ranked 41st out of 541 presidents of private colleges according to the report by the&nbsp;<a href=\"http://chronicle.com/\">Chronicle of Higher Education.</a></p>\\n<p>She is among 58 presidents to earn $1 million or more. The previous year, 39 private college presidents earned more than $1 million.</p>\\n<p>The Chronicle\\'s <a href=\"https://www.chronicle.com/interactives/executive-compensation#id=table_private_2015\">compensation tables </a>come from a review of federal tax documents from the 2015 calendar year, the most recent available.&nbsp;</p>\\n<p>Former University of Dayton President&nbsp;Daniel Curran, who left in 2016, ranked eighth in the U.S. with a total compensation of $2.44 million, but $1.66 million of that was in other pay, which was likely deferred compensation awarded after he announced his retirement. His total pay in 2014 was $771,354.</p>\\n<p>Following is total compensation for other presidents at private colleges in Ohio in 2015:</p>\\n<ul>\\n<li>Grant Cornwell, College of Wooster (left in 2015): $911,651</li>\\n<li>Marvin Krislov, Oberlin College (left in 2016): &nbsp;$829,913</li>\\n<li>Mark Roosevelt, Antioch College, (left in 2015): $507,672</li>\\n<li>Laurie Joyner, Wittenberg University (left in 2015): $463,504</li>\\n<li>Richard Giese, University of Mount Union (left in 2015): $453,800</li>\\n<li>Sean Decatur,Kenyon College: $451,698</li>\\n<li>Adam Weinberg, Denison University: $435,322</li>\\n<li>Daniel Dibiasio, Ohio Northern University: $414,716</li>\\n<li>Denvy Bowman, Capital University (left in 2016): $388,570</li>\\n<li>Anne Steele, Muskingum University (left in 2016): $384,233</li>\\n<li>Kathy Krendl, Otterbein University: &nbsp;$378,035</li>\\n<li>Rockwell Jones, Ohio Wesleyan University: $366,625</li>\\n<li>Robert Helmer, Baldwin Wallace University: $365,616</li>\\n<li>Robert Huntington, Heidelberg University: $300,005</li>\\n<li>Lori Varlotta, Hiram College: $293,336</li>\\n<li>Joseph Bruno, Marietta College (left in 2016): $288,295</li>\\n<li>W. Richard Merriman Jr., University of Mount Union (started in June 2015): $221,761</li>\\n</ul>\\n<p>The Rev. Robert Niehoff, president of John Carroll University (retired in 2017), Rev. Sean Sheridan of &nbsp;Franciscan University of Steubenville and Rev. Michael Graham Xavier University do not take salaries.</p>\\n<p>See the full list of presidents at&nbsp;<a href=\"http://www.chronicle.com/compensation\">chronicle.com/compensation.</a></p>\\n<p>The Chronicle\\'s list of pay for public college presidents was released in July.</p>\\n<p><a href=\"http://www.cleveland.com/metro/index.ssf/2017/06/ohio_state_university_presiden_6.html\">Ohio State University President Michael Drake is 7th highest paid U.S. public college president</a></p>\\n<p>Ohio State President Michael Drake, with a total compensation of $1.03 million, was one of eight presidents who earned $1 million or more in the 2015-16 fiscal year.</p>\\n<p>But when compared to Ohio State\\'s 2014 annual $5.2 billion operating budget, Drake\\'s pay per million in expenses is $199 -- among the lowest for presidents.</p>\\n<p>By comparison, Cleveland State University President Ronald Berkman, whose total compensation was $641,817, oversaw an annual operating budget of $300.3 million in 2014. His pay per million in expenses was $2,127.</p>\\n<p>Kent State University President Beverly Warren\\'s pay per million in expenses was $1,006. Her total compensation was $560,659 and she oversaw an annual operating budget of $557.4 million in 2014.&nbsp;</p>\\n<p>The<a href=\"http://www.chronicle.com/interactives/executive-compensation\">&nbsp;Chronicle\\'s analysis&nbsp;</a>was based on 254 presidents from 221 colleges.</p>\\n<p>According to the Chronicle:</p>\\n<ul>\\n<li>The average pay of private college presidents who served the full year in 2015 was $569,932, up 9 percent over presidents who served a full year in 2014.</li>\\n<li>Nine of the 10 highest-paid chief executives earned more from bonuses and deferred compensation than they did from base salaries.</li>\\n<li>The analysis is based on the latest available federal tax filings of the 500 private, nonprofit colleges with the largest endowments. The data include compensation figures for 568 presidents who served at 500 institutions for all or part of 2015. There were 352 presidents who served all of 2014 and 2015.</li>\\n<li>The number of presidents earning over $1 million is attributed, in part, to a market where presidents are negotiating more deferred compensation and bonus packages before they take the job.</li>\\n<li>The top two earners, Wake Forest University President Nathan Hatch ($4 million) and former Emory University President James Wagner ($3.5 million) were each paid more than $2 million in deferred compensation in 2015.</li>\\n</ul>\\n<p>The Chronicle also compares pay to presidents in context of their colleges, including looking at each institution\\'s expenses, average tuition and fees and professor salaries.</p>\\n        \\n        \\n    </div>\\n<!-- /Article -->\\n\\n                <div id=\"article__footer\" class=\"article__footer\">\\n                    <button id=\"commentButton\" class=\"commentButton\" type=\"button\">View Comments</button>\\n                </div>\\n            </div>\\n        </article>\\n    </main>\\n    <div id=\"sidebar\" class=\"sidebar\"></div>\\n</div>\\n<script type=\"text/javascript\">\\n    /* <![CDATA[ */\\n    if (window.location.host.substr(0,6) == \"photos\" ) {\\n        var arcs_page_template = \\'gallery\\';\\n    } else {\\n        var arcs_page_template = \\'article\\';\\n    }\\n    /* ]]> */\\n</script>\\n\\n  \\n\\n\\n\\n\\t\\t\\n\\n\\t\\t\\n\\t\\t<!-- ./templates/global/shared/nav/footer.mtml start -->\\n<br />\\n\\n\\n\\t\\n    \\n\\t\\n\\n  <footer id=\"footer\">\\n    <div class=\"wrapper clearfix\">\\n\\n        <div id=\"footer-logos\">\\n            <img src=\"//static.advance.net/static/cleve/static/img/footer-logo-cleve-inc.png\" alt=\"cleveland.com an advance Ohio platform in partnership with The Plain Dealer\">\\n        </div>\\n\\n        \\n            <div id=\"footer-col-1\" class=\"footer-col\">\\n                \\n                    <div class=\"cluster clearfix\">\\n                        <h2>About Us</h2>\\n\\n                        \\n                            <ul  >\\n                                \\n                                    <li class=\"\" style=\"\">\\n                                        \\n                                            <a href=\"https://www.cleveland.com/about-us/\">About Cleveland.com</a>\\n                                        \\n                                    </li>\\n                                \\n                                    <li class=\"\" style=\"\">\\n                                        \\n                                            <a href=\"https://www.advance-ohio.com/about/\">About Advance Ohio</a>\\n                                        \\n                                    </li>\\n                                \\n                                    <li class=\"\" style=\"\">\\n                                        \\n                                            <a href=\"https://www.advance-ohio.com/contact\">Advertise with us</a>\\n                                        \\n                                    </li>\\n                                \\n                                    <li class=\"\" style=\"\">\\n                                        \\n                                            <a href=\"https://www.advance.net/faqs/\">Audience FAQ</a>\\n                                        \\n                                    </li>\\n                                \\n                            </ul>\\n                        \\n                            <ul   aria-label=\"More from About Us\" >\\n                                \\n                                    <li class=\"\" style=\"\">\\n                                        \\n                                            <a href=\"https://www.cleveland.com/contactus/\">Contact Us</a>\\n                                        \\n                                    </li>\\n                                \\n                                    <li class=\"\" style=\"\">\\n                                        \\n                                            <a href=\"https://sjobs.brassring.com/TGWebHost/home.aspx?partnerid=26212&amp;siteid=5254\">Career Opportunities</a>\\n                                        \\n                                    </li>\\n                                \\n                                    <li class=\"\" style=\"\">\\n                                        \\n                                            <a href=\"https://blog.cleveland.com/updates/2009/08/community_faq.html\">Community FAQ</a>\\n                                        \\n                                    </li>\\n                                \\n                            </ul>\\n                        \\n                    </div>\\n                \\n                    <div class=\"cluster clearfix\">\\n                        <h2>Subscribe</h2>\\n\\n                        \\n                            <ul class=\"full-width\" >\\n                                \\n                                    <li class=\"\" style=\"\">\\n                                        \\n                                            <a href=\"https://members.plaindealer.com/dssSubscribe.aspx\">The Plain Dealer</a>\\n                                        \\n                                    </li>\\n                                \\n                                    <li class=\"\" style=\"\">\\n                                        \\n                                            <a href=\"https://members.plaindealer.com/dssSubscribe.aspx\">Sun News</a>\\n                                        \\n                                    </li>\\n                                \\n                                    <li class=\"\" style=\"\">\\n                                        \\n                                            <a href=\"https://www.cleveland.com/newsletters/\">eNewsletters</a>\\n                                        \\n                                    </li>\\n                                \\n                            </ul>\\n                        \\n                    </div>\\n                \\n                    <div class=\"cluster clearfix\">\\n                        <h2>Subscriber Service</h2>\\n\\n                        \\n                            <ul class=\"full-width\" >\\n                                \\n                                    <li class=\"\" style=\"\">\\n                                        \\n                                            <a href=\"https://members.plaindealer.com/\">Media Insider Rewards</a>\\n                                        \\n                                    </li>\\n                                \\n                                    <li class=\"\" style=\"\">\\n                                        \\n                                            <a href=\"https://members.plaindealer.com/login.aspx?ReturnUrl=%2fSecurePage%2fMyProfile.aspx\">View My Profile</a>\\n                                        \\n                                    </li>\\n                                \\n                                    <li class=\"\" style=\"\">\\n                                        \\n                                            <a href=\"https://benefits.plaindealer.com/plain-dealer-retail-rack-buy/\">Pick up The Plain Dealer</a>\\n                                        \\n                                    </li>\\n                                \\n                                    <li class=\"\" style=\"\">\\n                                        \\n                                            <a href=\"https://members.plaindealer.com/login.aspx?ReturnUrl=%2fSecurePage%2fMissedPaper.aspx\">Report a Delivery Issue</a>\\n                                        \\n                                    </li>\\n                                \\n                                    <li class=\"\" style=\"\">\\n                                        \\n                                            <a href=\"https://members.plaindealer.com/login.aspx?ReturnUrl=%2fSecurePage%2fVacationStop.aspx\">Place a Vacation Hold</a>\\n                                        \\n                                    </li>\\n                                \\n                                    <li class=\"\" style=\"\">\\n                                        \\n                                            <a href=\"https://members.plaindealer.com/login.aspx?ReturnUrl=%2fSecurePage%2fPayment.aspx\">Make a Payment</a>\\n                                        \\n                                    </li>\\n                                \\n                                    <li class=\"\" style=\"\">\\n                                        \\n                                            <a href=\"mailto:circhelp@plaindealer.com\">Email The Plain Dealer</a>\\n                                        \\n                                    </li>\\n                                \\n                            </ul>\\n                        \\n                    </div>\\n                \\n            </div>\\n        \\n            <div id=\"footer-col-2\" class=\"footer-col\">\\n                \\n                    <div class=\"cluster clearfix\">\\n                        <h2>Cleveland.com Sections</h2>\\n\\n                        \\n                            <ul  >\\n                                \\n                                    <li class=\"\" style=\"\">\\n                                        \\n                                            <a href=\"https://www.cleveland.com/news/\">News</a>\\n                                        \\n                                    </li>\\n                                \\n                                    <li class=\"\" style=\"\">\\n                                        \\n                                            <a href=\"https://www.cleveland.com/sports/\">Sports</a>\\n                                        \\n                                    </li>\\n                                \\n                                    <li class=\"\" style=\"\">\\n                                        \\n                                            <a href=\"https://www.cleveland.com/entertainment/\">Entertainment</a>\\n                                        \\n                                    </li>\\n                                \\n                                    <li class=\"\" style=\"\">\\n                                        \\n                                            <a href=\"https://www.cleveland.com/business\">Business</a>\\n                                        \\n                                    </li>\\n                                \\n                                    <li class=\"\" style=\"\">\\n                                        \\n                                            <a href=\"https://www.cleveland.com/open/\">Politics</a>\\n                                        \\n                                    </li>\\n                                \\n                                    <li class=\"\" style=\"\">\\n                                        \\n                                            <a href=\"https://www.cleveland.com/opinion/\">Opinion</a>\\n                                        \\n                                    </li>\\n                                \\n                                    <li class=\"\" style=\"\">\\n                                        \\n                                            <a href=\"https://highschoolsports.cleveland.com/\">High School Sports</a>\\n                                        \\n                                    </li>\\n                                \\n                                    <li class=\"\" style=\"\">\\n                                        \\n                                            <a href=\"https://www.cleveland.com/living/\">Living</a>\\n                                        \\n                                    </li>\\n                                \\n                            </ul>\\n                        \\n                            <ul   aria-label=\"More from Cleveland.com Sections\" >\\n                                \\n                                    <li class=\"\" style=\"\">\\n                                        \\n                                            <a href=\"https://obits.cleveland.com/Cleveland/DeathNotices.asp\">Obituaries</a>\\n                                        \\n                                    </li>\\n                                \\n                                    <li class=\"\" style=\"\">\\n                                        \\n                                            <a href=\"https://www.cleveland.com/jobs/\">Jobs</a>\\n                                        \\n                                    </li>\\n                                \\n                                    <li class=\"\" style=\"\">\\n                                        \\n                                            <a href=\"https://autos.cleveland.com/\">Autos</a>\\n                                        \\n                                    </li>\\n                                \\n                                    <li class=\"\" style=\"\">\\n                                        \\n                                            <a href=\"https://realestate.cleveland.com/\">Real Estate</a>\\n                                        \\n                                    </li>\\n                                \\n                                    <li class=\"\" style=\"\">\\n                                        \\n                                            <a href=\"https://realestate.cleveland.com/for-rent\">Rentals</a>\\n                                        \\n                                    </li>\\n                                \\n                                    <li class=\"\" style=\"\">\\n                                        \\n                                            <a href=\"https://classifieds.cleveland.com/\">Classifieds</a>\\n                                        \\n                                    </li>\\n                                \\n                                    <li class=\"\" style=\"\">\\n                                        \\n                                            <a href=\"http://findnsave.cleveland.com/\">Shopping Deals and Coupons</a>\\n                                        \\n                                    </li>\\n                                \\n                                    <li class=\"\" style=\"\">\\n                                        \\n                                            <a href=\"https://businessfinder.cleveland.com/\">Local Businesses</a>\\n                                        \\n                                    </li>\\n                                \\n                                    <li class=\"\" style=\"\">\\n                                        \\n                                            <a href=\"https://www.cleveland.com/newsletters/\">Deals in Your Area</a>\\n                                        \\n                                    </li>\\n                                \\n                            </ul>\\n                        \\n                    </div>\\n                \\n                    <div class=\"cluster clearfix\">\\n                        <h2>Your Regional News Pages</h2>\\n\\n                        \\n                            <ul  >\\n                                \\n                                    <li class=\"\" style=\"\">\\n                                        \\n                                            <a href=\"https://www.cleveland.com/beachwood\">Beachwood</a>\\n                                        \\n                                    </li>\\n                                \\n                                    <li class=\"\" style=\"\">\\n                                        \\n                                            <a href=\"https://www.cleveland.com/brunswick\">Brunswick</a>\\n                                        \\n                                    </li>\\n                                \\n                                    <li class=\"\" style=\"\">\\n                                        \\n                                            <a href=\"https://www.cleveland.com/lakewood\">Lakewood</a>\\n                                        \\n                                    </li>\\n                                \\n                            </ul>\\n                        \\n                            <ul   aria-label=\"More from Your Regional News Pages\" >\\n                                \\n                                    <li class=\"\" style=\"\">\\n                                        \\n                                            <a href=\"https://www.cleveland.com/parma\">Parma &amp; Parma Heights</a>\\n                                        \\n                                    </li>\\n                                \\n                                    <li class=\"\" style=\"\">\\n                                        \\n                                            <a href=\"https://www.cleveland.com/strongsville\">Strongsville</a>\\n                                        \\n                                    </li>\\n                                \\n                                    <li class=\"\" style=\"\">\\n                                        \\n                                            <a href=\"https://www.cleveland.com/community\">More Communities</a>\\n                                        \\n                                    </li>\\n                                \\n                            </ul>\\n                        \\n                    </div>\\n                \\n                    <div class=\"cluster clearfix\">\\n                        <h2>Mobile</h2>\\n\\n                        \\n                            <ul class=\"full-width\" >\\n                                \\n                                    <li class=\"\" style=\"\">\\n                                        \\n                                            <a href=\"https://www.cleveland.com/mobile-device/\">Mobile Apps</a>\\n                                        \\n                                    </li>\\n                                \\n                            </ul>\\n                        \\n                    </div>\\n                \\n            </div>\\n        \\n            <div id=\"footer-col-3\" class=\"footer-col\">\\n                \\n                    <div class=\"cluster clearfix\">\\n                        <h2>More on Cleveland.com</h2>\\n\\n                        \\n                            <ul  >\\n                                \\n                                    <li class=\"\" style=\"\">\\n                                        \\n                                            <a href=\"https://www.youtube.com/channel/UCJkc1COQO0WiZ2CI7dRdwAQ\">Videos</a>\\n                                        \\n                                    </li>\\n                                \\n                                    <li class=\"\" style=\"\">\\n                                        \\n                                            <a href=\"http://photos.cleveland.com/\">Photos</a>\\n                                        \\n                                    </li>\\n                                \\n                                    <li class=\"\" style=\"\">\\n                                        \\n                                            <a href=\"https://www.cleveland.com/interact/\">Interact with us</a>\\n                                        \\n                                    </li>\\n                                \\n                                    <li class=\"\" style=\"\">\\n                                        \\n                                            <a href=\"https://www.cleveland.com/weather/\">Weather</a>\\n                                        \\n                                    </li>\\n                                \\n                            </ul>\\n                        \\n                            <ul   aria-label=\"More from More on Cleveland.com\" >\\n                                \\n                                    <li class=\"\" style=\"\">\\n                                        \\n                                            <a href=\"https://jobs.cleveland.com/login\">Post a job</a>\\n                                        \\n                                    </li>\\n                                \\n                                    <li class=\"\" style=\"\">\\n                                        \\n                                            <a href=\"https://www.cleveland.com/placead/\">Post a classified ad</a>\\n                                        \\n                                    </li>\\n                                \\n                                    <li class=\"\" style=\"\">\\n                                        \\n                                            <a href=\"https://www.cleveland.com/placead/\">Sell your car</a>\\n                                        \\n                                    </li>\\n                                \\n                                    <li class=\"\" style=\"\">\\n                                        \\n                                            <a href=\"https://www.cleveland.com/placead/\">Sell/rent your home</a>\\n                                        \\n                                    </li>\\n                                \\n                                    <li class=\"\" style=\"\">\\n                                        \\n                                            <a href=\"https://www.cleveland.com/siteindex\">Sitemap &amp; search</a>\\n                                        \\n                                    </li>\\n                                \\n                                    <li class=\"\" style=\"\">\\n                                        \\n                                            <a href=\"https://www.cleveland.com/sponsor-content-index/?prx_adpz=1109\">Sponsor Content</a>\\n                                        \\n                                    </li>\\n                                \\n                            </ul>\\n                        \\n                    </div>\\n                \\n                    <div class=\"cluster clearfix\">\\n                        <h2>Follow Us</h2>\\n\\n                        \\n                            <ul class=\"full-width\" >\\n                                \\n                                    <li class=\"\" style=\"\">\\n                                        \\n                                            <a href=\"https://twitter.com/clevelanddotcom\" class=\"adv-icn-twitter icn-link\">Twitter</a> |  <a href=\"https://www.facebook.com/pages/clevelandcom/48573742500\" class=\"adv-icn-facebook icn-link\">Facebook</a> |  <a href=\"https://plus.google.com/u/0/b/107235278707360504631/107235278707360504631/posts\" class=\"adv-icn-google icn-link\">Google+</a> | <a class=\"adv-icn-instagram icn-link\" href=\"https://instagram.com/clevelanddotcom\">Instagram</a> |  <a class=\"adv-icn-pinterest icn-link\" href=\"https://www.pinterest.com/clevelanddotcom/\">Pinterest</a>\\n                                        \\n                                    </li>\\n                                \\n                            </ul>\\n                        \\n                    </div>\\n                \\n            </div>\\n        \\n\\n    </div>\\n\\n    <div id=\"disclaimer\">\\n        <a href=\"https://www.advancelocal.com/\" id=\"AdvanceDigitalLogo\">Advance Local</a>\\n        <p>\\n            Use of and/or registration on any portion of this site constitutes acceptance of our\\n            <a href=\"https://www.cleveland.com/user-agreement/\">User Agreement</a> (updated 5/25/18) and\\n            <a href=\"https://www.cleveland.com/privacy-policy/\">Privacy Policy and Cookie Statement</a> (updated 5/25/18).\\n        </p>\\n        <p>\\n            &copy; 2018  Advance Local Media LLC. All rights reserved (<a href=\"https://www.cleveland.com/aboutus/\">About Us</a>).<br>\\n            The material on this site may not be reproduced, distributed, transmitted, cached or otherwise used, except with the \\n            prior written permission of Advance Local.\\n        </p>\\n        <p>\\n            <a href=\"https://www.cleveland.com/communityrules\">Community Rules</a>\\n            apply to all content you upload or otherwise submit to this site.\\n        </p>\\n        <p>\\n            <a href=\"/privacy-policy/#california_top\">Your California Privacy Rights</a>\\n        </p>\\n        <p>\\n            <a href=\"https://www.cleveland.com/privacy-policy/#oba_top\">\\n            <img src=\"//static.advance.net/static/common/img/ad_choices_arrow_transparent.png\" alt=\"\"> Ad Choices</a>\\n        </p>\\n    </div>\\n</footer>\\n\\n  \\n  <!-- this is no longer used for site catalyst -->\\n\\n\\n\\t\\n\\n\\n\\n<!-- ./templates/global/shared/nav/footer.mtml end -->\\n\\n\\n\\t\\t\\n\\t\\t<!-- Quantcast Tag moved to bottom_1 -->\\r\\n\\n\\t\\t\\n\\t\\t<!-- Nielsen code moved to bottom1 -->\\r\\n\\n\\n\\t\\t\\n\\t\\t\\t\\n\\t\\t\\t\\t\\n\\t\\t\\t\\t<script type=\"text/javascript\" >\\n\\t\\t\\t\\t/* <![CDATA[ */\\n\\t\\t\\t\\t\\n \\t\\t\\t\\t\\n\\n\\t\\n\\n\\n\\t\\n\\n\\n\\t\\twindow.m_context = \"blog_entry\";\\n\\t\\n\\t\\t\\twindow.m_blog_type = \"text\";\\n\\t\\t\\twindow.m_blog_id = \"8002316\";\\n\\t\\t\\twindow.m_blog_name = \"Metro News\";\\n\\t\\t\\twindow.m_blog_url = \"http://www.cleveland.com/metro/index.ssf/\";\\n\\t\\t\\twindow.m_blog_newspaper = \"The Plain Dealer\";\\n\\t\\t\\twindow.m_section = \"News\";\\n\\t\\t\\twindow.m_subsection = \"\";\\n\\t\\n\\t\\n\\t\\t\\n\\t\\t\\t\\twindow.m_entry_title = \"Case Western Reserve University President Barbara Snyder\\\\\\'s base salary and bonus pay tops among private colleges in Ohio \";\\n\\t\\t\\t\\twindow.m_entry_categories = \"\";\\n\\t\\t\\t\\twindow.m_entry_author_name = \"Karen Farkas, cleveland.com\";\\n\\t\\t\\t\\twindow.m_entry_author_username = \"kfarkas\";\\n\\t\\t\\t\\twindow.m_entry_author_public_email = \"kfarkas@cleveland.com \";\\n\\t\\t\\t\\twindow.m_entry_creation_date = \"Sunday, December 10, 2017,  6:00 PM\";\\n\\t\\t\\t\\twindow.m_entry_wordcount = \"672\";\\n\\n\\t\\t\\t\\n\\t\\t\\t\\n\\t\\t\\t\\t\\n\\t\\t\\t\\t\\t\\twindow.m_page_type = \\'cal\\';\\n\\t\\t\\t\\t\\twindow.moat_section = window.m_page_type;\\n\\t\\t\\t\\t\\n\\t\\t\\t\\n\\t\\t\\n\\t\\t\\twindow.m_entry_basename = \"case_western_reserve_university_president_barbara_snyders_base_salary_and_bonus_pay_tops_among_private_colleges_in_ohio\";\\n\\t\\t\\twindow.m_entry_link = \"http://www.cleveland.com/metro/index.ssf/2017/12/case_western_reserve_university_president_barbara_snyders_base_salary_and_bonus_pay_tops_among_private_colleges_in_ohio.html\";\\n\\t\\t\\twindow.m_entry_tags = \"@fbia;@real-time-news;baldwin-wallace-university;barbara-snyder;case-western-reserve-university;john-carroll-university;oberlin-college\";\\n\\t\\t\\twindow.m_entry_keywords = \"\";\\n\\t\\t\\twindow.m_entry_id = \"21622286\";\\n\\t\\t\\twindow.m_entry_entities = \"[{ \\\\\"entityType\\\\\": \\\\\"JobTitle\\\\\", \\\\\"entity\\\\\": \\\\\"president\\\\\" },{ \\\\\"entityType\\\\\": \\\\\"StateOrCounty\\\\\", \\\\\"entity\\\\\": \\\\\"Ohio\\\\\" },{ \\\\\"entityType\\\\\": \\\\\"Organization\\\\\", \\\\\"entity\\\\\": \\\\\"University of Mount Union\\\\\" },{ \\\\\"entityType\\\\\": \\\\\"Organization\\\\\", \\\\\"entity\\\\\": \\\\\"Case Western Reserve University\\\\\" },{ \\\\\"entityType\\\\\": \\\\\"PrintMedia\\\\\", \\\\\"entity\\\\\": \\\\\"The Chronicle\\\\\" }]\";\\n\\t\\n\\n\\n\\n\\t\\t\\t\\t\\n\\t\\t\\t\\t\\n\\n/* setting vars here; moved core js to media server in movabletype.js */\\n\\twindow.blogId = 8002316;\\n\\twindow.blogIdStr = \"&blog_id=8002316\";\\n\\twindow.blogURL = \"http://www.cleveland.com/metro/index.ssf/\";\\n\\twindow.blogType = \"text\";\\n\\twindow.blogLayout = \"impact_home_newsletter\";\\n\\n\\twindow.advAffiliate = \"cleve\";\\n\\twindow.advDomain = \"cleveland.com\";\\n\\twindow.advEnvPrefix = \"\";\\n\\twindow.advVersion = \"alpha\";\\n\\n\\twindow.mtAffiliate = \"cleve\";\\n\\twindow.mtArmorValue = \"7a66e1e6cfb9858b4098a7d4ae3638b780fdfe18\";\\n\\n\\n\\n\\n\\t\\t\\t\\t\\n\\t\\t\\t\\twindow.Social = {\\n            \\'title\\':\\'Case Western Reserve University President Barbara Snyder\\\\\\'s base salary and bonus pay tops among private colleges in Ohio \\',\\n            \\'link\\':\\'https://www.cleveland.com/metro/index.ssf/2017/12/case_western_reserve_university_president_barbara_snyders_base_salary_and_bonus_pay_tops_among_private_colleges_in_ohio.html\\',\\n            \\'desc\\': \\'Case Western Reserve University President Barbara Snyder\\\\\\'s $700,312 base pay and $175,000 bonus in 2015 again made her the highest paid  private college leader in Ohio, according to an annual report.\\',\\n            \\'thumbnail\\': \\'http://media.cleveland.com/plain_dealer_metro/photo/23873711-standard.jpg\\'\\n   };\\n\\n\\n\\t\\t\\t\\t\\n\\t\\t\\t\\t/* ]]> */\\n\\t\\t\\t\\t</script>\\n\\t\\t\\t\\t<script type=\"text/javascript\">\\n\\t\\t\\t\\t\\twindow.mtCookieName = \"mt_blog_user\";\\n\\t\\t\\t\\t\\twindow.mtSessionCookieName = \"mt_commenter\";\\n\\t\\t\\t\\t\\twindow.mtCookieDomain = document.location.host.replace(/([0-9a-z\\\\-]+?\\\\.)+([0-9a-z\\\\-]+?\\\\.[a-z]{3})/, \".$2\");\\n\\t\\t\\t\\t\\twindow.mtCookiePath = \"/\";\\n\\t\\t\\t\\t\\twindow.mtCookieTimeout = 14400;\\n\\t\\t\\t\\t\\twindow.signinSubDomain = window.advEnvPrefix.match(\"dev\") ? \"http://signup\" : \"https://signup\";\\n\\t\\t\\t\\t\\twindow.mediaURL = \"http://media\" + window.advEnvPrefix + \".\" + window.advDomain + \"/design/\" + window.advVersion;\\n\\t\\t\\t\\t\\twindow.avatarURL = \"http://media\" + window.advEnvPrefix + \".\" + window.advDomain + \"/avatars\";\\n\\t\\t\\t\\t\\twindow.mtRegistrationAllowed = !0;\\n\\t\\t\\t\\t\\twindow.mtRegistrationRequired = !0;\\n\\t\\t\\t\\t\\twindow.mtRegisterCGIPath = window.signinSubDomain + window.advEnvPrefix + \".advance.net/\";\\n\\t\\t\\t\\t\\twindow.mtRelativeCGIPath = \"/cgi-bin/mte/\";\\n\\t\\t\\t\\t\\twindow.mtCommunityScript = \"community/\";\\n\\t\\t\\t\\t\\twindow.mtCaptchaFields = \"\";\\n\\t\\t\\t\\t\\t\\n\\t\\t\\t\\t\\twindow.mmm = {\\n\\t\\t\\t\\t\\t\\tcaption: \"Case Western Reserve University President Barbara Snyder\\\\\\'s base pay and bonus for 2015 ranked her first among private college presidents in Ohio. \",\\n\\t\\t\\t\\t\\t\\tcredit: \"John Kuntz, cleveland.com\",\\n\\t\\t\\t\\t\\t\\tid: \"23873711\",\\n\\t\\t\\t\\t\\t\\t\\n\\t\\t\\t\\t\\t\\ttype: \"photo\",\\n\\t\\t\\t\\t\\t\\turl: \"http://media.cleveland.com/plain_dealer_metro/photo/23873711-small.jpg\"\\n\\t\\t\\t\\t\\t\\t\\n\\t\\t\\t\\t\\t};\\n\\t\\t\\t\\t\\t\\n\\t\\t\\t\\t</script>\\n\\t\\t\\t\\t<script type=\"text/javascript\" src=\"https://static.advance.net/static/cleve/static/js/cal.js\"></script>\\n\\t\\t\\t\\n\\t\\t\\n\\n\\t\\t\\n\\t</body>\\n</html>\\n\\n\\t\\n\\n\\n\\n'\n"
          ],
          "name": "stdout"
        }
      ]
    },
    {
      "metadata": {
        "id": "4HNCxHVBMmuk",
        "colab_type": "code",
        "colab": {}
      },
      "cell_type": "code",
      "source": [
        ""
      ],
      "execution_count": 0,
      "outputs": []
    },
    {
      "metadata": {
        "id": "igaUYauhMmk9",
        "colab_type": "code",
        "colab": {}
      },
      "cell_type": "code",
      "source": [
        ""
      ],
      "execution_count": 0,
      "outputs": []
    }
  ]
}