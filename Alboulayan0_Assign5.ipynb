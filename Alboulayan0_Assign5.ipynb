{
  "nbformat": 4,
  "nbformat_minor": 0,
  "metadata": {
    "colab": {
      "name": "Alboulayan_Assign5.ipynb",
      "version": "0.3.2",
      "provenance": [],
      "collapsed_sections": [],
      "include_colab_link": true
    },
    "kernelspec": {
      "name": "python3",
      "display_name": "Python 3"
    },
    "accelerator": "GPU"
  },
  "cells": [
    {
      "cell_type": "markdown",
      "metadata": {
        "id": "view-in-github",
        "colab_type": "text"
      },
      "source": [
        "<a href=\"https://colab.research.google.com/github/MoneerahAlboulayan/info5731/blob/master/Alboulayan0_Assign5.ipynb\" target=\"_parent\"><img src=\"https://colab.research.google.com/assets/colab-badge.svg\" alt=\"Open In Colab\"/></a>"
      ]
    },
    {
      "metadata": {
        "id": "y_zb-KGkittm",
        "colab_type": "text"
      },
      "cell_type": "markdown",
      "source": [
        "# Assignment 5: IMDB review sample Classification with fast.ai Deep Learning Framework"
      ]
    },
    {
      "metadata": {
        "id": "oGvN9KtGi4T_",
        "colab_type": "text"
      },
      "cell_type": "markdown",
      "source": [
        "**Question 1: (10 points)**\n",
        "\n",
        "Export the sample data set you created in [Classwork 3](https://colab.research.google.com/drive/1be7ksupqRkdjU1fZUAS37F5GiLCkFzkR) with pickle library, name it `imdb-sample.pickle`, and upload it to Google Colab. Then run the following codes."
      ]
    },
    {
      "metadata": {
        "id": "0zlanZSXpX61",
        "colab_type": "code",
        "outputId": "8d078df3-6d6f-4072-8443-874ad9a98fe1",
        "colab": {
          "base_uri": "https://localhost:8080/",
          "height": 204
        }
      },
      "cell_type": "code",
      "source": [
        "from fastai.text import *\n",
        "path = Path('.')\n",
        "with open(\"imdb-sample.pickle\", 'rb') as f:\n",
        "    train, valid = pickle.load(f)\n",
        "valid.tail()"
      ],
      "execution_count": 29,
      "outputs": [
        {
          "output_type": "execute_result",
          "data": {
            "text/html": [
              "<div>\n",
              "<style scoped>\n",
              "    .dataframe tbody tr th:only-of-type {\n",
              "        vertical-align: middle;\n",
              "    }\n",
              "\n",
              "    .dataframe tbody tr th {\n",
              "        vertical-align: top;\n",
              "    }\n",
              "\n",
              "    .dataframe thead th {\n",
              "        text-align: right;\n",
              "    }\n",
              "</style>\n",
              "<table border=\"1\" class=\"dataframe\">\n",
              "  <thead>\n",
              "    <tr style=\"text-align: right;\">\n",
              "      <th></th>\n",
              "      <th>text</th>\n",
              "      <th>sentiment</th>\n",
              "    </tr>\n",
              "  </thead>\n",
              "  <tbody>\n",
              "    <tr>\n",
              "      <th>995</th>\n",
              "      <td>This is my opinion of this movie, expressed in...</td>\n",
              "      <td>0</td>\n",
              "    </tr>\n",
              "    <tr>\n",
              "      <th>996</th>\n",
              "      <td>Why can't a movie be rated a zero? Or even a n...</td>\n",
              "      <td>0</td>\n",
              "    </tr>\n",
              "    <tr>\n",
              "      <th>997</th>\n",
              "      <td>The Gun is probably the worst film I've ever s...</td>\n",
              "      <td>0</td>\n",
              "    </tr>\n",
              "    <tr>\n",
              "      <th>998</th>\n",
              "      <td>If you are thinking of going to see this film ...</td>\n",
              "      <td>0</td>\n",
              "    </tr>\n",
              "    <tr>\n",
              "      <th>999</th>\n",
              "      <td>This movie was like a gathering of people that...</td>\n",
              "      <td>0</td>\n",
              "    </tr>\n",
              "  </tbody>\n",
              "</table>\n",
              "</div>"
            ],
            "text/plain": [
              "                                                  text  sentiment\n",
              "995  This is my opinion of this movie, expressed in...          0\n",
              "996  Why can't a movie be rated a zero? Or even a n...          0\n",
              "997  The Gun is probably the worst film I've ever s...          0\n",
              "998  If you are thinking of going to see this film ...          0\n",
              "999  This movie was like a gathering of people that...          0"
            ]
          },
          "metadata": {
            "tags": []
          },
          "execution_count": 29
        }
      ]
    },
    {
      "metadata": {
        "id": "dJy9CWMijk9v",
        "colab_type": "text"
      },
      "cell_type": "markdown",
      "source": [
        "You should see the output like this:\n",
        "\n",
        "![](https://github.com/wshuyi/github_pub_img/raw/master/assets/2019-03-26-10-11-10-085256.png)"
      ]
    },
    {
      "metadata": {
        "id": "pD8ua3DMjt2V",
        "colab_type": "text"
      },
      "cell_type": "markdown",
      "source": [
        "**Question 2: (10 points)**\n",
        "\n",
        "Create a TextLMDataBunch instance called `data_lm`, load your train and valid Dataframe into it, and run the following code."
      ]
    },
    {
      "metadata": {
        "trusted": true,
        "_uuid": "3eb854d800019951627b86b9d0d2ddb1b0690dff",
        "id": "-5Y4DLmIbCsF",
        "colab_type": "code",
        "colab": {}
      },
      "cell_type": "code",
      "source": [
        "data_lm = TextLMDataBunch.from_df(path, train_df=train, valid_df=valid, text_cols='text', label_cols='sentiment')"
      ],
      "execution_count": 0,
      "outputs": []
    },
    {
      "metadata": {
        "trusted": true,
        "_uuid": "046c6510e26fe07dcf7d87936a80ffa079a46e4b",
        "id": "e87K11gHbCsP",
        "colab_type": "code",
        "outputId": "cebebbf9-2d4b-4e4a-91b6-7646a432834a",
        "colab": {
          "base_uri": "https://localhost:8080/",
          "height": 374
        }
      },
      "cell_type": "code",
      "source": [
        "data_lm.show_batch()"
      ],
      "execution_count": 31,
      "outputs": [
        {
          "output_type": "display_data",
          "data": {
            "text/html": [
              "<table border=\"1\" class=\"dataframe\">\n",
              "  <thead>\n",
              "    <tr style=\"text-align: right;\">\n",
              "      <th>idx</th>\n",
              "      <th>text</th>\n",
              "    </tr>\n",
              "  </thead>\n",
              "  <tbody>\n",
              "    <tr>\n",
              "      <td>0</td>\n",
              "      <td>very moment . xxmaj mary xxmaj xxunk , who i seem to remember from xxup snl or some other xxup tv comedy skit show , is the evil wife , and xxmaj larry xxmaj drake plays the lunatic in the xxunk xxmaj santa outfit . i had forgotten xxmaj santa was played by xxmaj drake over the years . xxmaj his xxmaj santa is an unstoppable force and quite</td>\n",
              "    </tr>\n",
              "    <tr>\n",
              "      <td>1</td>\n",
              "      <td>these days . \\n \\n  i understand it 's a movie and that 's why i accept it as a funny situation . xxmaj plus , the humor is versatile . xxmaj there are moments involving xxup xxunk , funny lines with xxmaj chabat 's best friend , some lesbian references , funny situations involving the family women , and more . \\n \\n  xxmaj charlotte xxmaj xxunk</td>\n",
              "    </tr>\n",
              "    <tr>\n",
              "      <td>2</td>\n",
              "      <td>xxmaj chocolat before my viewing of it . i did n't know anything about the story , the cast , the director , or anything about the film 's history . xxmaj all i knew was it was a highly - acclaimed xxmaj french film . xxmaj had i known more , i probably would n't have viewed the picture with an open mind . xxmaj on paper ,</td>\n",
              "    </tr>\n",
              "    <tr>\n",
              "      <td>3</td>\n",
              "      <td>xxunk xxmaj digital xxunk xxmaj surround xxmaj sound . xxup dvd also an jam session with xxmaj sandler &amp; xxmaj cheadle , an featurette , photo montage and previews . i was expecting more for the xxup dvd features like an audio commentary track by the director and deleted scenes . \" xxmaj reign xxmaj over xxmaj me \" is certainly one of the best films that came out</td>\n",
              "    </tr>\n",
              "    <tr>\n",
              "      <td>4</td>\n",
              "      <td>his stuntmen were injured during this movie that nobody would insure them anymore - xxmaj jackie had to take responsibility himself . xxmaj there are no gimmicks , wires or stand - ins - it is all true - life action that is a treat to watch . xxmaj it is this type of action that made him the phenomenon that he is and it is a movie that</td>\n",
              "    </tr>\n",
              "  </tbody>\n",
              "</table>"
            ],
            "text/plain": [
              "<IPython.core.display.HTML object>"
            ]
          },
          "metadata": {
            "tags": []
          }
        }
      ]
    },
    {
      "metadata": {
        "id": "O2_lfse1pkup",
        "colab_type": "text"
      },
      "cell_type": "markdown",
      "source": [
        "You should see the output like this:\n",
        "\n",
        "![](https://github.com/wshuyi/github_pub_img/raw/master/assets/2019-03-26-10-14-25-459713.png)"
      ]
    },
    {
      "metadata": {
        "id": "LaqcTDHikUOm",
        "colab_type": "text"
      },
      "cell_type": "markdown",
      "source": [
        "**Question 3: (10 points)**\n",
        "\n",
        "Create a `language_model_learner` named `learn`, use `data_lm` as input data, `AWD_LSTM` as architecture, and choose 0.5 as Dropout rate. Draw the result of learning rate finder."
      ]
    },
    {
      "metadata": {
        "trusted": true,
        "_uuid": "04ce1c9b393afde82a2301ac217760a4f559a7c6",
        "id": "Dl21NZpzbCsU",
        "colab_type": "code",
        "colab": {}
      },
      "cell_type": "code",
      "source": [
        "learn = language_model_learner(data_lm, AWD_LSTM, drop_mult=0.5)"
      ],
      "execution_count": 0,
      "outputs": []
    },
    {
      "metadata": {
        "id": "Nwp3MNhtej1D",
        "colab_type": "code",
        "colab": {
          "base_uri": "https://localhost:8080/",
          "height": 34
        },
        "outputId": "496e7b14-a34b-4660-90f0-ddd76942eea9"
      },
      "cell_type": "code",
      "source": [
        "learn.lr_find()"
      ],
      "execution_count": 33,
      "outputs": [
        {
          "output_type": "display_data",
          "data": {
            "text/html": [
              ""
            ],
            "text/plain": [
              "<IPython.core.display.HTML object>"
            ]
          },
          "metadata": {
            "tags": []
          }
        },
        {
          "output_type": "stream",
          "text": [
            "LR Finder is complete, type {learner_name}.recorder.plot() to see the graph.\n"
          ],
          "name": "stdout"
        }
      ]
    },
    {
      "metadata": {
        "id": "pALkSYmSemng",
        "colab_type": "code",
        "colab": {
          "base_uri": "https://localhost:8080/",
          "height": 361
        },
        "outputId": "5575d841-1c80-4924-f93f-6e3a92c509c4"
      },
      "cell_type": "code",
      "source": [
        "learn.recorder.plot()"
      ],
      "execution_count": 34,
      "outputs": [
        {
          "output_type": "display_data",
          "data": {
            "image/png": "[encoded data removed]",
            "text/plain": [
              "<Figure size 576x396 with 1 Axes>"
            ]
          },
          "metadata": {
            "tags": []
          }
        }
      ]
    },
    {
      "metadata": {
        "id": "RRFH6xlOmEmz",
        "colab_type": "text"
      },
      "cell_type": "markdown",
      "source": [
        "You should see the output like this:\n",
        "\n",
        "![](https://github.com/wshuyi/github_pub_img/raw/master/assets/2019-03-26-10-17-47-701082.png)"
      ]
    },
    {
      "metadata": {
        "colab_type": "text",
        "id": "kYdco7i0lNsW"
      },
      "cell_type": "markdown",
      "source": [
        "**Question 4: (20 points)**\n",
        "\n",
        "Fit one cycle with your language learner (`learn`), unfreeze it and fit another 3 cycles. Save the language learner's encoder as `ft_enc`."
      ]
    },
    {
      "metadata": {
        "trusted": true,
        "_uuid": "baafa7bf5fd351f5dca7a5f6cf1f89c84a3281e8",
        "id": "Vr1IdeC0bCsp",
        "colab_type": "code",
        "outputId": "53952929-06c4-4011-a3c9-a1af9dc44e94",
        "colab": {
          "base_uri": "https://localhost:8080/",
          "height": 103
        }
      },
      "cell_type": "code",
      "source": [
        "learn.fit_one_cycle(1, 1e-2)"
      ],
      "execution_count": 35,
      "outputs": [
        {
          "output_type": "display_data",
          "data": {
            "text/html": [
              "Total time: 01:00 <p><table border=\"1\" class=\"dataframe\">\n",
              "  <thead>\n",
              "    <tr style=\"text-align: left;\">\n",
              "      <th>epoch</th>\n",
              "      <th>train_loss</th>\n",
              "      <th>valid_loss</th>\n",
              "      <th>accuracy</th>\n",
              "      <th>time</th>\n",
              "    </tr>\n",
              "  </thead>\n",
              "  <tbody>\n",
              "    <tr>\n",
              "      <td>0</td>\n",
              "      <td>4.474677</td>\n",
              "      <td>4.002853</td>\n",
              "      <td>0.283737</td>\n",
              "      <td>01:00</td>\n",
              "    </tr>\n",
              "  </tbody>\n",
              "</table>"
            ],
            "text/plain": [
              "<IPython.core.display.HTML object>"
            ]
          },
          "metadata": {
            "tags": []
          }
        }
      ]
    },
    {
      "metadata": {
        "id": "yFoWFPmk4Sja",
        "colab_type": "code",
        "colab": {}
      },
      "cell_type": "code",
      "source": [
        "learn.unfreeze()"
      ],
      "execution_count": 0,
      "outputs": []
    },
    {
      "metadata": {
        "id": "h3AQG9Hee3Hn",
        "colab_type": "code",
        "colab": {
          "base_uri": "https://localhost:8080/",
          "height": 165
        },
        "outputId": "53d39ce6-57ee-4cc5-9fba-32d8ed6e7033"
      },
      "cell_type": "code",
      "source": [
        "learn.fit_one_cycle(3, 1e-3)"
      ],
      "execution_count": 37,
      "outputs": [
        {
          "output_type": "display_data",
          "data": {
            "text/html": [
              "Total time: 03:37 <p><table border=\"1\" class=\"dataframe\">\n",
              "  <thead>\n",
              "    <tr style=\"text-align: left;\">\n",
              "      <th>epoch</th>\n",
              "      <th>train_loss</th>\n",
              "      <th>valid_loss</th>\n",
              "      <th>accuracy</th>\n",
              "      <th>time</th>\n",
              "    </tr>\n",
              "  </thead>\n",
              "  <tbody>\n",
              "    <tr>\n",
              "      <td>0</td>\n",
              "      <td>4.140811</td>\n",
              "      <td>3.928075</td>\n",
              "      <td>0.291696</td>\n",
              "      <td>01:12</td>\n",
              "    </tr>\n",
              "    <tr>\n",
              "      <td>1</td>\n",
              "      <td>4.003873</td>\n",
              "      <td>3.882698</td>\n",
              "      <td>0.295431</td>\n",
              "      <td>01:12</td>\n",
              "    </tr>\n",
              "    <tr>\n",
              "      <td>2</td>\n",
              "      <td>3.835008</td>\n",
              "      <td>3.872400</td>\n",
              "      <td>0.296456</td>\n",
              "      <td>01:12</td>\n",
              "    </tr>\n",
              "  </tbody>\n",
              "</table>"
            ],
            "text/plain": [
              "<IPython.core.display.HTML object>"
            ]
          },
          "metadata": {
            "tags": []
          }
        }
      ]
    },
    {
      "metadata": {
        "id": "XgkZPuu7e8q6",
        "colab_type": "code",
        "colab": {}
      },
      "cell_type": "code",
      "source": [
        "learn.save_encoder('ft_enc')"
      ],
      "execution_count": 0,
      "outputs": []
    },
    {
      "metadata": {
        "id": "1Bb_WPtcmGYz",
        "colab_type": "text"
      },
      "cell_type": "markdown",
      "source": [
        "You should see the output like this:\n",
        "\n",
        "![](https://github.com/wshuyi/github_pub_img/raw/master/assets/2019-03-26-10-20-09-953060.png)"
      ]
    },
    {
      "metadata": {
        "id": "MI5j3jWQmLmv",
        "colab_type": "text"
      },
      "cell_type": "markdown",
      "source": [
        "**Question 5: (10 points)**\n",
        "\n",
        "Create a TextClasDataBunch instance called `data_clas`, load your train and valid Dataframe into it, use the vocab from `data_lm.train_ds.vocab`, set batch size as 32, and run the following code."
      ]
    },
    {
      "metadata": {
        "trusted": true,
        "_uuid": "d8c40e52341b435d6bb828faf6fbee1095262192",
        "id": "sOWsKtK8bCtC",
        "colab_type": "code",
        "colab": {}
      },
      "cell_type": "code",
      "source": [
        "data_clas = (TextClasDataBunch.from_df(path, train_df=train, valid_df=valid, text_cols='text', label_cols='sentiment', vocab=data_lm.train_ds.vocab, bs=32))"
      ],
      "execution_count": 0,
      "outputs": []
    },
    {
      "metadata": {
        "trusted": true,
        "_uuid": "0105c7ddb6df1dd207c9533dd98804d59a4fcce6",
        "id": "xGRPON5wbCtQ",
        "colab_type": "code",
        "colab": {
          "base_uri": "https://localhost:8080/",
          "height": 374
        },
        "outputId": "25e77f7c-e8d5-47f8-e5cd-6849e429675b"
      },
      "cell_type": "code",
      "source": [
        "data_clas.show_batch()"
      ],
      "execution_count": 40,
      "outputs": [
        {
          "output_type": "display_data",
          "data": {
            "text/html": [
              "<table border=\"1\" class=\"dataframe\">\n",
              "  <thead>\n",
              "    <tr style=\"text-align: right;\">\n",
              "      <th>text</th>\n",
              "      <th>target</th>\n",
              "    </tr>\n",
              "  </thead>\n",
              "  <tbody>\n",
              "    <tr>\n",
              "      <td>xxbos xxmaj the freedom of having your own xxmaj sea xxmaj going xxmaj power xxmaj boat , the excitement of going on underwater adventures a rugged , an 's man of an adventurer and xxunk so well endowed ! ) xxunk in fine xxmaj bikinis were all definite selling points for \" xxup sea xxup xxunk - 61 ) . \\n \\n  xxmaj just what was the reason for</td>\n",
              "      <td>1</td>\n",
              "    </tr>\n",
              "    <tr>\n",
              "      <td>xxbos xxmaj to be a xxmaj buster xxmaj keaton fan is to have your heart broken on a regular basis . xxmaj most of us first encounter xxmaj keaton in one of the brilliant feature films from his great period of independent production : ' xxmaj the xxmaj general ' , ' xxmaj the xxmaj xxunk ' , ' xxmaj sherlock xxmaj jnr ' . xxmaj we recognise him as</td>\n",
              "      <td>0</td>\n",
              "    </tr>\n",
              "    <tr>\n",
              "      <td>xxbos xxmaj watching xxmaj cliffhanger makes me nostalgic for the early ' 90s , a time when virtually every new action movie could be described as \" xxmaj die xxmaj hard in a / on a. \" xxmaj cliffhanger is \" xxmaj die xxmaj hard on a mountain , \" and pretty good , for what it is . \\n \\n  xxmaj but unlike xxmaj passenger xxunk and xxmaj</td>\n",
              "      <td>1</td>\n",
              "    </tr>\n",
              "    <tr>\n",
              "      <td>xxbos xxmaj the best film on the battle of xxmaj san xxmaj antonio , xxmaj texas in xxmaj march 1836 , was xxmaj john xxmaj wayne 's 1960 epic xxup the xxup alamo . xxmaj in a one shot job as director producer , that temporarily financially strapped him , xxmaj wayne demonstrated that he was talented in movie making outside of his icon - like acting ability xxunk the</td>\n",
              "      <td>1</td>\n",
              "    </tr>\n",
              "    <tr>\n",
              "      <td>xxbos i remember watching this late at night on black and white xxup tv , long before a live - action version was so much as a twinkle in xxmaj peter xxmaj jackson 's eye ... and being very impressed . xxmaj finally getting my hands this week on a xxup vhs copy that was being thrown away ( and is n't that just par for the course .. ?</td>\n",
              "      <td>1</td>\n",
              "    </tr>\n",
              "  </tbody>\n",
              "</table>"
            ],
            "text/plain": [
              "<IPython.core.display.HTML object>"
            ]
          },
          "metadata": {
            "tags": []
          }
        }
      ]
    },
    {
      "metadata": {
        "id": "LXrBPvi0njxX",
        "colab_type": "text"
      },
      "cell_type": "markdown",
      "source": [
        "You should see the output like this:\n",
        "\n",
        "![](https://github.com/wshuyi/github_pub_img/raw/master/assets/2019-03-26-10-24-53-893234.png)"
      ]
    },
    {
      "metadata": {
        "id": "BjA_2QH0m6AZ",
        "colab_type": "text"
      },
      "cell_type": "markdown",
      "source": [
        "**Question 6: (10 points)**\n",
        "\n",
        "Create a `text_classifier_learner` named `learn`, use `data_clas` as input data, `AWD_LSTM` as architecture, and choose 0.5 as Dropout rate. Note to compare the result with Scikit-learn and textblob later, you need to make sure Precision and Recall are in the metrics list. Load the encoder  (`ft_enc`) you saved just now into `learn`. Draw the result of learning rate finder."
      ]
    },
    {
      "metadata": {
        "trusted": true,
        "_uuid": "ee96a122db78a62ee1a841ec2b63761d643b11b9",
        "id": "KFi3uvq-bCtH",
        "colab_type": "code",
        "colab": {}
      },
      "cell_type": "code",
      "source": [
        "learn=text_classifier_learner(data_clas, AWD_LSTM, drop_mult=0.5, metrics=[accuracy,Precision(), Recall()])\n",
        "learn.load_encoder('ft_enc')"
      ],
      "execution_count": 0,
      "outputs": []
    },
    {
      "metadata": {
        "id": "61_lCsaNfeVN",
        "colab_type": "code",
        "colab": {
          "base_uri": "https://localhost:8080/",
          "height": 34
        },
        "outputId": "00bdda53-34c6-4476-d58d-4053cd775de6"
      },
      "cell_type": "code",
      "source": [
        "learn.lr_find()"
      ],
      "execution_count": 42,
      "outputs": [
        {
          "output_type": "display_data",
          "data": {
            "text/html": [
              ""
            ],
            "text/plain": [
              "<IPython.core.display.HTML object>"
            ]
          },
          "metadata": {
            "tags": []
          }
        },
        {
          "output_type": "stream",
          "text": [
            "LR Finder is complete, type {learner_name}.recorder.plot() to see the graph.\n"
          ],
          "name": "stdout"
        }
      ]
    },
    {
      "metadata": {
        "id": "ALNuuW7jfg0T",
        "colab_type": "code",
        "colab": {
          "base_uri": "https://localhost:8080/",
          "height": 361
        },
        "outputId": "ff6f27de-ca0a-45ba-fa2b-e6b68cb384d7"
      },
      "cell_type": "code",
      "source": [
        "learn.recorder.plot()"
      ],
      "execution_count": 43,
      "outputs": [
        {
          "output_type": "display_data",
          "data": {
            "image/png": "[encoded data removed]",
            "text/plain": [
              "<Figure size 576x396 with 1 Axes>"
            ]
          },
          "metadata": {
            "tags": []
          }
        }
      ]
    },
    {
      "metadata": {
        "id": "vqn-pdAXniIw",
        "colab_type": "text"
      },
      "cell_type": "markdown",
      "source": [
        "You should see the output like this:\n",
        "\n",
        "![](https://github.com/wshuyi/github_pub_img/raw/master/assets/2019-03-26-10-27-55-239469.png)"
      ]
    },
    {
      "metadata": {
        "id": "FdAZakubnwx7",
        "colab_type": "text"
      },
      "cell_type": "markdown",
      "source": [
        "**Question 7: (20 points)**\n",
        "\n",
        "Fit one cycle with your text classifier learner (`learn`). Unfreeze the last two layers, and fit 3 cycles. Then unfreeze it totally, and fit another 2 cycles. Show the training result."
      ]
    },
    {
      "metadata": {
        "trusted": true,
        "_uuid": "b612e63b0a924444712627e3cc2224c2f69bfc7d",
        "id": "jdO8fcfxbCtY",
        "colab_type": "code",
        "colab": {
          "base_uri": "https://localhost:8080/",
          "height": 103
        },
        "outputId": "6561c999-793b-4369-81a9-b26e43f5e284"
      },
      "cell_type": "code",
      "source": [
        "learn.fit_one_cycle(1, 1e-1)"
      ],
      "execution_count": 44,
      "outputs": [
        {
          "output_type": "display_data",
          "data": {
            "text/html": [
              "Total time: 00:52 <p><table border=\"1\" class=\"dataframe\">\n",
              "  <thead>\n",
              "    <tr style=\"text-align: left;\">\n",
              "      <th>epoch</th>\n",
              "      <th>train_loss</th>\n",
              "      <th>valid_loss</th>\n",
              "      <th>accuracy</th>\n",
              "      <th>precision</th>\n",
              "      <th>recall</th>\n",
              "      <th>time</th>\n",
              "    </tr>\n",
              "  </thead>\n",
              "  <tbody>\n",
              "    <tr>\n",
              "      <td>0</td>\n",
              "      <td>0.526684</td>\n",
              "      <td>0.454324</td>\n",
              "      <td>0.810000</td>\n",
              "      <td>0.790262</td>\n",
              "      <td>0.844000</td>\n",
              "      <td>00:52</td>\n",
              "    </tr>\n",
              "  </tbody>\n",
              "</table>"
            ],
            "text/plain": [
              "<IPython.core.display.HTML object>"
            ]
          },
          "metadata": {
            "tags": []
          }
        }
      ]
    },
    {
      "metadata": {
        "id": "npCWdbbrjiU-",
        "colab_type": "code",
        "colab": {
          "base_uri": "https://localhost:8080/",
          "height": 165
        },
        "outputId": "88dbba16-8f1c-45ee-df66-13899f248c38"
      },
      "cell_type": "code",
      "source": [
        "learn.freeze_to(-2)\n",
        "learn.fit_one_cycle(3, 1e-2)"
      ],
      "execution_count": 45,
      "outputs": [
        {
          "output_type": "display_data",
          "data": {
            "text/html": [
              "Total time: 03:06 <p><table border=\"1\" class=\"dataframe\">\n",
              "  <thead>\n",
              "    <tr style=\"text-align: left;\">\n",
              "      <th>epoch</th>\n",
              "      <th>train_loss</th>\n",
              "      <th>valid_loss</th>\n",
              "      <th>accuracy</th>\n",
              "      <th>precision</th>\n",
              "      <th>recall</th>\n",
              "      <th>time</th>\n",
              "    </tr>\n",
              "  </thead>\n",
              "  <tbody>\n",
              "    <tr>\n",
              "      <td>0</td>\n",
              "      <td>0.477754</td>\n",
              "      <td>0.413457</td>\n",
              "      <td>0.817000</td>\n",
              "      <td>0.764608</td>\n",
              "      <td>0.916000</td>\n",
              "      <td>01:02</td>\n",
              "    </tr>\n",
              "    <tr>\n",
              "      <td>1</td>\n",
              "      <td>0.418485</td>\n",
              "      <td>0.344631</td>\n",
              "      <td>0.852000</td>\n",
              "      <td>0.816547</td>\n",
              "      <td>0.908000</td>\n",
              "      <td>01:01</td>\n",
              "    </tr>\n",
              "    <tr>\n",
              "      <td>2</td>\n",
              "      <td>0.338698</td>\n",
              "      <td>0.309171</td>\n",
              "      <td>0.864000</td>\n",
              "      <td>0.876033</td>\n",
              "      <td>0.848000</td>\n",
              "      <td>01:02</td>\n",
              "    </tr>\n",
              "  </tbody>\n",
              "</table>"
            ],
            "text/plain": [
              "<IPython.core.display.HTML object>"
            ]
          },
          "metadata": {
            "tags": []
          }
        }
      ]
    },
    {
      "metadata": {
        "id": "ig5eof0LjoOI",
        "colab_type": "code",
        "colab": {
          "base_uri": "https://localhost:8080/",
          "height": 134
        },
        "outputId": "2c4cb3b2-d55d-49da-c978-15d5fdecad51"
      },
      "cell_type": "code",
      "source": [
        "learn.unfreeze()\n",
        "learn.fit_one_cycle(2, 1e-2)"
      ],
      "execution_count": 46,
      "outputs": [
        {
          "output_type": "display_data",
          "data": {
            "text/html": [
              "Total time: 03:44 <p><table border=\"1\" class=\"dataframe\">\n",
              "  <thead>\n",
              "    <tr style=\"text-align: left;\">\n",
              "      <th>epoch</th>\n",
              "      <th>train_loss</th>\n",
              "      <th>valid_loss</th>\n",
              "      <th>accuracy</th>\n",
              "      <th>precision</th>\n",
              "      <th>recall</th>\n",
              "      <th>time</th>\n",
              "    </tr>\n",
              "  </thead>\n",
              "  <tbody>\n",
              "    <tr>\n",
              "      <td>0</td>\n",
              "      <td>0.608123</td>\n",
              "      <td>0.705673</td>\n",
              "      <td>0.500000</td>\n",
              "      <td>nan</td>\n",
              "      <td>1.000000</td>\n",
              "      <td>01:53</td>\n",
              "    </tr>\n",
              "    <tr>\n",
              "      <td>1</td>\n",
              "      <td>0.677312</td>\n",
              "      <td>0.690532</td>\n",
              "      <td>0.525000</td>\n",
              "      <td>0.516556</td>\n",
              "      <td>0.780000</td>\n",
              "      <td>01:51</td>\n",
              "    </tr>\n",
              "  </tbody>\n",
              "</table>"
            ],
            "text/plain": [
              "<IPython.core.display.HTML object>"
            ]
          },
          "metadata": {
            "tags": []
          }
        }
      ]
    },
    {
      "metadata": {
        "id": "4LOhB6DRoUqU",
        "colab_type": "text"
      },
      "cell_type": "markdown",
      "source": [
        "You should see the output like this:\n",
        "\n",
        "![](https://github.com/wshuyi/github_pub_img/raw/master/assets/2019-03-26-10-31-32-631875.png)"
      ]
    },
    {
      "metadata": {
        "id": "C4A7JMTnobiI",
        "colab_type": "text"
      },
      "cell_type": "markdown",
      "source": [
        "**Question 8: (10 points)**\n",
        "\n",
        "Comparing the result with those from textblob, scikit-learn in Classwork 3, what is your finding? How about comparing with the result from Self-study 7 (the whole IMDB dataset)? Write down your answer and comments."
      ]
    },
    {
      "metadata": {
        "id": "cQypGalko4LQ",
        "colab_type": "text"
      },
      "cell_type": "markdown",
      "source": [
        "*Your answer here:*\n",
        "\n"
      ]
    },
    {
      "metadata": {
        "trusted": true,
        "_uuid": "b59afd22f92c215777af52635ceea9fa76c3b10c",
        "id": "yde4NU-ObCt3",
        "colab_type": "code",
        "colab": {}
      },
      "cell_type": "code",
      "source": [
        ""
      ],
      "execution_count": 0,
      "outputs": []
    }
  ]
}