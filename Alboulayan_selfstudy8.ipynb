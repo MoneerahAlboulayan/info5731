{
  "nbformat": 4,
  "nbformat_minor": 0,
  "metadata": {
    "colab": {
      "name": "Alboulayan_selfstudy8.ipynb",
      "version": "0.3.2",
      "provenance": [],
      "collapsed_sections": [],
      "include_colab_link": true
    },
    "kernelspec": {
      "name": "python3",
      "display_name": "Python 3"
    }
  },
  "cells": [
    {
      "cell_type": "markdown",
      "metadata": {
        "id": "view-in-github",
        "colab_type": "text"
      },
      "source": [
        "<a href=\"https://colab.research.google.com/github/MoneerahAlboulayan/info5731/blob/master/Alboulayan_selfstudy8.ipynb\" target=\"_parent\"><img src=\"https://colab.research.google.com/assets/colab-badge.svg\" alt=\"Open In Colab\"/></a>"
      ]
    },
    {
      "metadata": {
        "id": "grVD-ByXFOIT",
        "colab_type": "code",
        "colab": {}
      },
      "cell_type": "code",
      "source": [
        "#Chapter1"
      ],
      "execution_count": 0,
      "outputs": []
    },
    {
      "metadata": {
        "id": "jDLKv9B-FR9n",
        "colab_type": "code",
        "colab": {}
      },
      "cell_type": "code",
      "source": [
        "users = [\n",
        " { \"id\": 0, \"name\": \"Hero\" },\n",
        " { \"id\": 1, \"name\": \"Dunn\" },\n",
        " { \"id\": 2, \"name\": \"Sue\" },\n",
        " { \"id\": 3, \"name\": \"Chi\" },\n",
        " { \"id\": 4, \"name\": \"Thor\" },\n",
        " { \"id\": 5, \"name\": \"Clive\" },\n",
        " { \"id\": 6, \"name\": \"Hicks\" },\n",
        " { \"id\": 7, \"name\": \"Devin\" },\n",
        " { \"id\": 8, \"name\": \"Kate\" },\n",
        " { \"id\": 9, \"name\": \"Klein\" }\n",
        "]"
      ],
      "execution_count": 0,
      "outputs": []
    },
    {
      "metadata": {
        "id": "hPLO0dnYFSA0",
        "colab_type": "code",
        "colab": {}
      },
      "cell_type": "code",
      "source": [
        "friendships = [(0, 1), (0, 2), (1, 2), (1, 3), (2, 3), (3, 4),\n",
        " (4, 5), (5, 6), (5, 7), (6, 8), (7, 8), (8, 9)]"
      ],
      "execution_count": 0,
      "outputs": []
    },
    {
      "metadata": {
        "id": "LtIXjGX6FSDi",
        "colab_type": "code",
        "colab": {}
      },
      "cell_type": "code",
      "source": [
        "for user in users:\n",
        " user[\"friends\"] = []"
      ],
      "execution_count": 0,
      "outputs": []
    },
    {
      "metadata": {
        "id": "CgU7_hbbFSGQ",
        "colab_type": "code",
        "colab": {}
      },
      "cell_type": "code",
      "source": [
        "for i, j in friendships:\n",
        " # this works because users[i] is the user whose id is i\n",
        " users[i][\"friends\"].append(users[j]) # add j as a friend of i\n",
        " users[j][\"friends\"].append(users[i]) # add i as a friend of j"
      ],
      "execution_count": 0,
      "outputs": []
    },
    {
      "metadata": {
        "id": "zfspjuzXFSJf",
        "colab_type": "code",
        "colab": {}
      },
      "cell_type": "code",
      "source": [
        "def number_of_friends(user):\n",
        " \"\"\"how many friends does _user_ have?\"\"\"\n",
        " return len(user[\"friends\"]) # length of friend_ids list\n",
        "total_connections = sum(number_of_friends(user)\n",
        " for user in users) # 24"
      ],
      "execution_count": 0,
      "outputs": []
    },
    {
      "metadata": {
        "id": "f3cykly2FSML",
        "colab_type": "code",
        "colab": {}
      },
      "cell_type": "code",
      "source": [
        "from __future__ import division # integer division is lame\n",
        "num_users = len(users) # length of the users list\n",
        "avg_connections = total_connections / num_users # 2.4"
      ],
      "execution_count": 0,
      "outputs": []
    },
    {
      "metadata": {
        "id": "dr1JkGnBFSPE",
        "colab_type": "code",
        "colab": {}
      },
      "cell_type": "code",
      "source": [
        "num_friends_by_id = [(user[\"id\"], number_of_friends(user))\n",
        " for user in users]\n",
        "\n",
        "sorted(num_friends_by_id,\n",
        "        key=lambda (user_id, num_friends): num_friends,\n",
        "        reverse=True) "
      ],
      "execution_count": 0,
      "outputs": []
    },
    {
      "metadata": {
        "id": "dsAvG0MUFSR3",
        "colab_type": "code",
        "colab": {}
      },
      "cell_type": "code",
      "source": [
        "def friends_of_friend_ids_bad(user):\n",
        " \n",
        " return [foaf[\"id\"]\n",
        " for friend in user[\"friends\"] \n",
        " for foaf in friend[\"friends\"]] "
      ],
      "execution_count": 0,
      "outputs": []
    },
    {
      "metadata": {
        "id": "Fr-Rz-ULFSVw",
        "colab_type": "code",
        "outputId": "e3db3675-fb44-48ae-caeb-5ef946ddd678",
        "colab": {
          "base_uri": "https://localhost:8080/",
          "height": 68
        }
      },
      "cell_type": "code",
      "source": [
        "print ([friend[\"id\"] for friend in users[0][\"friends\"]])\n",
        "print ([friend[\"id\"] for friend in users[1][\"friends\"]])\n",
        "print ([friend[\"id\"] for friend in users[2][\"friends\"]])"
      ],
      "execution_count": 0,
      "outputs": [
        {
          "output_type": "stream",
          "text": [
            "[1, 2]\n",
            "[0, 2, 3]\n",
            "[0, 1, 3]\n"
          ],
          "name": "stdout"
        }
      ]
    },
    {
      "metadata": {
        "id": "6TeHfRYNG7Fj",
        "colab_type": "code",
        "outputId": "dd2c20c1-6584-47a8-b792-3d10fc87a10f",
        "colab": {
          "base_uri": "https://localhost:8080/",
          "height": 34
        }
      },
      "cell_type": "code",
      "source": [
        "from collections import Counter # not loaded by default\n",
        "def not_the_same(user, other_user):\n",
        " \"\"\"two users are not the same if they have different ids\"\"\"\n",
        " return user[\"id\"] != other_user[\"id\"]\n",
        "def not_friends(user, other_user):\n",
        " \"\"\"other_user is not a friend if he's not in user[\"friends\"];\n",
        " that is, if he's not_the_same as all the people in user[\"friends\"]\"\"\"\n",
        " return all(not_the_same(friend, other_user)\n",
        " for friend in user[\"friends\"])\n",
        "def friends_of_friend_ids(user):\n",
        " return Counter(foaf[\"id\"]\n",
        " for friend in user[\"friends\"] # for each of my friends\n",
        " for foaf in friend[\"friends\"] # count *their* friends\n",
        " if not_the_same(user, foaf) # who aren't me\n",
        " and not_friends(user, foaf)) # and aren't my friends\n",
        "print (friends_of_friend_ids(users[3])) "
      ],
      "execution_count": 0,
      "outputs": [
        {
          "output_type": "stream",
          "text": [
            "Counter({0: 2, 5: 1})\n"
          ],
          "name": "stdout"
        }
      ]
    },
    {
      "metadata": {
        "id": "XGsxDMeAG7IL",
        "colab_type": "code",
        "colab": {}
      },
      "cell_type": "code",
      "source": [
        "interests = [\n",
        " (0, \"Hadoop\"), (0, \"Big Data\"), (0, \"HBase\"), (0, \"Java\"),\n",
        " (0, \"Spark\"), (0, \"Storm\"), (0, \"Cassandra\"),\n",
        " (1, \"NoSQL\"), (1, \"MongoDB\"), (1, \"Cassandra\"), (1, \"HBase\"),\n",
        " (1, \"Postgres\"), (2, \"Python\"), (2, \"scikit-learn\"), (2, \"scipy\"),\n",
        " (2, \"numpy\"), (2, \"statsmodels\"), (2, \"pandas\"), (3, \"R\"), (3, \"Python\"),\n",
        " (3, \"statistics\"), (3, \"regression\"), (3, \"probability\"),\n",
        " (4, \"machine learning\"), (4, \"regression\"), (4, \"decision trees\"),\n",
        " (4, \"libsvm\"), (5, \"Python\"), (5, \"R\"), (5, \"Java\"), (5, \"C++\"),\n",
        " (5, \"Haskell\"), (5, \"programming languages\"), (6, \"statistics\"),\n",
        " (6, \"probability\"), (6, \"mathematics\"), (6, \"theory\"),\n",
        " (7, \"machine learning\"), (7, \"scikit-learn\"), (7, \"Mahout\"),\n",
        " (7, \"neural networks\"), (8, \"neural networks\"), (8, \"deep learning\"),\n",
        " (8, \"Big Data\"), (8, \"artificial intelligence\"), (9, \"Hadoop\"),\n",
        " (9, \"Java\"), (9, \"MapReduce\"), (9, \"Big Data\")\n",
        "]\n"
      ],
      "execution_count": 0,
      "outputs": []
    },
    {
      "metadata": {
        "id": "Z9Q2vdS2G7K5",
        "colab_type": "code",
        "colab": {}
      },
      "cell_type": "code",
      "source": [
        "def data_scientists_who_like(target_interest):\n",
        " return [user_id\n",
        " for user_id, user_interest in interests\n",
        " if user_interest == target_interest]"
      ],
      "execution_count": 0,
      "outputs": []
    },
    {
      "metadata": {
        "id": "8ps5bFOIG7N9",
        "colab_type": "code",
        "colab": {}
      },
      "cell_type": "code",
      "source": [
        "from collections import defaultdict\n",
        "# keys are interests, values are lists of user_ids with that interest\n",
        "user_ids_by_interest = defaultdict(list)\n",
        "for user_id, interest in interests:\n",
        " user_ids_by_interest[interest].append(user_id)"
      ],
      "execution_count": 0,
      "outputs": []
    },
    {
      "metadata": {
        "id": "b0iAWOi3G7Qm",
        "colab_type": "code",
        "colab": {}
      },
      "cell_type": "code",
      "source": [
        "interests_by_user_id = defaultdict(list)\n",
        "for user_id, interest in interests:\n",
        " interests_by_user_id[user_id].append(interest)"
      ],
      "execution_count": 0,
      "outputs": []
    },
    {
      "metadata": {
        "id": "Ytej47nLG7U-",
        "colab_type": "code",
        "colab": {}
      },
      "cell_type": "code",
      "source": [
        "def most_common_interests_with(user):\n",
        " return Counter(interested_user_id\n",
        " for interest in interests_by_user_id[user[\"id\"]]\n",
        " for interested_user_id in user_ids_by_interest[interest]\n",
        " if interested_user_id != user[\"id\"])"
      ],
      "execution_count": 0,
      "outputs": []
    },
    {
      "metadata": {
        "id": "roCd0TFRHwKD",
        "colab_type": "code",
        "colab": {}
      },
      "cell_type": "code",
      "source": [
        "salaries_and_tenures = [(83000, 8.7), (88000, 8.1),\n",
        " (48000, 0.7), (76000, 6),\n",
        " (69000, 6.5), (76000, 7.5),\n",
        " (60000, 2.5), (83000, 10),\n",
        " (48000, 1.9), (63000, 4.2)]"
      ],
      "execution_count": 0,
      "outputs": []
    },
    {
      "metadata": {
        "id": "RsqoraAgHwM0",
        "colab_type": "code",
        "colab": {}
      },
      "cell_type": "code",
      "source": [
        "salary_by_tenure = defaultdict(list)\n",
        "for salary, tenure in salaries_and_tenures:\n",
        " salary_by_tenure[tenure].append(salary)\n",
        "average_salary_by_tenure = {\n",
        " tenure : sum(salaries) / len(salaries)\n",
        " for tenure, salaries in salary_by_tenure.items()\n",
        "}"
      ],
      "execution_count": 0,
      "outputs": []
    },
    {
      "metadata": {
        "id": "VUW_61WQHwPr",
        "colab_type": "code",
        "colab": {}
      },
      "cell_type": "code",
      "source": [
        "def tenure_bucket(tenure):\n",
        "  if tenure < 2:\n",
        "    return \"less than two\"\n",
        "  elif tenure < 5:\n",
        "    return \"between two and five\"\n",
        "  else:\n",
        "    return \"more than five\""
      ],
      "execution_count": 0,
      "outputs": []
    },
    {
      "metadata": {
        "id": "1xTWzavvIF8H",
        "colab_type": "code",
        "colab": {}
      },
      "cell_type": "code",
      "source": [
        "salary_by_tenure_bucket = defaultdict(list)\n",
        "for salary, tenure in salaries_and_tenures:\n",
        " bucket = tenure_bucket(tenure)\n",
        " salary_by_tenure_bucket[bucket].append(salary)"
      ],
      "execution_count": 0,
      "outputs": []
    },
    {
      "metadata": {
        "id": "FP2yynvPIGAp",
        "colab_type": "code",
        "colab": {}
      },
      "cell_type": "code",
      "source": [
        "average_salary_by_bucket = {\n",
        " tenure_bucket : sum(salaries) / len(salaries)\n",
        " for tenure_bucket, salaries in salary_by_tenure_bucket.items()\n",
        "}"
      ],
      "execution_count": 0,
      "outputs": []
    },
    {
      "metadata": {
        "id": "Ge3iqOzHIGF1",
        "colab_type": "code",
        "colab": {}
      },
      "cell_type": "code",
      "source": [
        "def predict_paid_or_unpaid(years_experience):\n",
        " if years_experience < 3.0:\n",
        "  return \"paid\"\n",
        " elif years_experience < 8.5:\n",
        "  return \"unpaid\"\n",
        " else:\n",
        "  return \"paid\""
      ],
      "execution_count": 0,
      "outputs": []
    },
    {
      "metadata": {
        "id": "U_Dd1HlNHwSS",
        "colab_type": "code",
        "colab": {}
      },
      "cell_type": "code",
      "source": [
        "interests = [\n",
        " (0, \"Hadoop\"), (0, \"Big Data\"), (0, \"HBase\"), (0, \"Java\"),\n",
        " (0, \"Spark\"), (0, \"Storm\"), (0, \"Cassandra\"),\n",
        " (1, \"NoSQL\"), (1, \"MongoDB\"), (1, \"Cassandra\"), (1, \"HBase\"),\n",
        " (1, \"Postgres\"), (2, \"Python\"), (2, \"scikit-learn\"), (2, \"scipy\"),\n",
        " (2, \"numpy\"), (2, \"statsmodels\"), (2, \"pandas\"), (3, \"R\"), (3, \"Python\"),\n",
        " (3, \"statistics\"), (3, \"regression\"), (3, \"probability\"),\n",
        " (4, \"machine learning\"), (4, \"regression\"), (4, \"decision trees\"),\n",
        " (4, \"libsvm\"), (5, \"Python\"), (5, \"R\"), (5, \"Java\"), (5, \"C++\"),\n",
        " (5, \"Haskell\"), (5, \"programming languages\"), (6, \"statistics\"),\n",
        " (6, \"probability\"), (6, \"mathematics\"), (6, \"theory\"),\n",
        " (7, \"machine learning\"), (7, \"scikit-learn\"), (7, \"Mahout\"),\n",
        " (7, \"neural networks\"), (8, \"neural networks\"), (8, \"deep learning\"),\n",
        " (8, \"Big Data\"), (8, \"artificial intelligence\"), (9, \"Hadoop\"),\n",
        " (9, \"Java\"), (9, \"MapReduce\"), (9, \"Big Data\")\n",
        "]"
      ],
      "execution_count": 0,
      "outputs": []
    },
    {
      "metadata": {
        "id": "Uz-IToCDLDsZ",
        "colab_type": "code",
        "colab": {}
      },
      "cell_type": "code",
      "source": [
        "words_and_counts = Counter(word\n",
        " for user, interest in interests\n",
        " for word in interest.lower().split())"
      ],
      "execution_count": 0,
      "outputs": []
    },
    {
      "metadata": {
        "id": "XaCNEWzALDvk",
        "colab_type": "code",
        "outputId": "d68e67fc-4713-4c99-ea93-d126579a513c",
        "colab": {
          "base_uri": "https://localhost:8080/",
          "height": 289
        }
      },
      "cell_type": "code",
      "source": [
        "for word, count in words_and_counts.most_common():\n",
        "  if count > 1:\n",
        "    print (word, count)"
      ],
      "execution_count": 0,
      "outputs": [
        {
          "output_type": "stream",
          "text": [
            "big 3\n",
            "data 3\n",
            "java 3\n",
            "python 3\n",
            "learning 3\n",
            "hadoop 2\n",
            "hbase 2\n",
            "cassandra 2\n",
            "scikit-learn 2\n",
            "r 2\n",
            "statistics 2\n",
            "regression 2\n",
            "probability 2\n",
            "machine 2\n",
            "neural 2\n",
            "networks 2\n"
          ],
          "name": "stdout"
        }
      ]
    },
    {
      "metadata": {
        "id": "zqsIAmevLDy6",
        "colab_type": "code",
        "colab": {}
      },
      "cell_type": "code",
      "source": [
        "#Chapter3"
      ],
      "execution_count": 0,
      "outputs": []
    },
    {
      "metadata": {
        "id": "u02yuaTaLD2y",
        "colab_type": "code",
        "outputId": "2392ab22-c971-4b49-fa2a-25bff5a09063",
        "colab": {
          "base_uri": "https://localhost:8080/",
          "height": 362
        }
      },
      "cell_type": "code",
      "source": [
        "from matplotlib import pyplot as plt\n",
        "years = [1950, 1960, 1970, 1980, 1990, 2000, 2010]\n",
        "gdp = [300.2, 543.3, 1075.9, 2862.5, 5979.6, 10289.7, 14958.3]\n",
        "# create a line chart, years on x-axis, gdp on y-axis\n",
        "plt.plot(years, gdp, color='green', marker='o', linestyle='solid')\n",
        "# add a title\n",
        "plt.title(\"Nominal GDP\")\n",
        "# add a label to the y-axis\n",
        "plt.ylabel(\"Billions of $\")\n",
        "plt.show()"
      ],
      "execution_count": 0,
      "outputs": [
        {
          "output_type": "display_data",
          "data": {
            "image/png": "[encoded data removed]",
            "text/plain": [
              "<Figure size 576x396 with 1 Axes>"
            ]
          },
          "metadata": {
            "tags": []
          }
        }
      ]
    },
    {
      "metadata": {
        "id": "ffl-OH6hL3eb",
        "colab_type": "code",
        "outputId": "eb851145-2671-4202-fae7-3b9d3896f9d8",
        "colab": {
          "base_uri": "https://localhost:8080/",
          "height": 362
        }
      },
      "cell_type": "code",
      "source": [
        "movies = [\"Annie Hall\", \"Ben-Hur\", \"Casablanca\", \"Gandhi\", \"West Side Story\"]\n",
        "num_oscars = [5, 11, 3, 8, 10]\n",
        "# bars are by default width 0.8, so we'll add 0.1 to the left coordinates\n",
        "# so that each bar is centered\n",
        "xs = [i + 0.1 for i, _ in enumerate(movies)]\n",
        "# plot bars with left x-coordinates [xs], heights [num_oscars]\n",
        "plt.bar(xs, num_oscars)\n",
        "plt.ylabel(\"# of Academy Awards\")\n",
        "plt.title(\"My Favorite Movies\")\n",
        "# label x-axis with movie names at bar centers\n",
        "plt.xticks([i + 0.5 for i, _ in enumerate(movies)], movies)\n",
        "plt.show()"
      ],
      "execution_count": 0,
      "outputs": [
        {
          "output_type": "display_data",
          "data": {
            "image/png": "[encoded data removed]",
            "text/plain": [
              "<Figure size 576x396 with 1 Axes>"
            ]
          },
          "metadata": {
            "tags": []
          }
        }
      ]
    },
    {
      "metadata": {
        "id": "6WlLEv1wL3in",
        "colab_type": "code",
        "outputId": "eadad1bf-5d11-4452-aee0-d743082232e4",
        "colab": {
          "base_uri": "https://localhost:8080/",
          "height": 376
        }
      },
      "cell_type": "code",
      "source": [
        "from collections import Counter\n",
        "grades = [83,95,91,87,70,0,85,82,100,67,73,77,0]\n",
        "decile = lambda grade: grade // 10 * 10\n",
        "histogram = Counter(decile(grade) for grade in grades)\n",
        "plt.bar([x - 4 for x in histogram.keys()], # shift each bar to the left by 4\n",
        " histogram.values(), # give each bar its correct height\n",
        " 8) # give each bar a width of 8\n",
        "plt.axis([-5, 105, 0, 5]) # x-axis from -5 to 105,\n",
        " # y-axis from 0 to 5\n",
        "plt.xticks([10 * i for i in range(11)]) # x-axis labels at 0, 10, ..., 100\n",
        "plt.xlabel(\"Decile\")\n",
        "plt.ylabel(\"# of Students\")\n",
        "plt.title(\"Distribution of Exam 1 Grades\")\n",
        "plt.show()"
      ],
      "execution_count": 0,
      "outputs": [
        {
          "output_type": "display_data",
          "data": {
            "image/png": "[encoded data removed]",
            "text/plain": [
              "<Figure size 576x396 with 1 Axes>"
            ]
          },
          "metadata": {
            "tags": []
          }
        }
      ]
    },
    {
      "metadata": {
        "id": "73IG9gKFL3k4",
        "colab_type": "code",
        "outputId": "9a9bf00d-7a2b-4338-8638-cd05425c0db1",
        "colab": {
          "base_uri": "https://localhost:8080/",
          "height": 362
        }
      },
      "cell_type": "code",
      "source": [
        "mentions = [500, 505]\n",
        "years = [2013, 2014]\n",
        "plt.bar([2012.6, 2013.6], mentions, 0.8)\n",
        "plt.xticks(years)\n",
        "plt.ylabel(\"# of times I heard someone say 'data science'\")\n",
        "plt.ticklabel_format(useOffset=False)\n",
        "plt.axis([2012.5,2014.5,499,506])\n",
        "plt.title(\"Look at the 'Huge' Increase!\")\n",
        "plt.show()"
      ],
      "execution_count": 0,
      "outputs": [
        {
          "output_type": "display_data",
          "data": {
            "image/png": "[encoded data removed]",
            "text/plain": [
              "<Figure size 576x396 with 1 Axes>"
            ]
          },
          "metadata": {
            "tags": []
          }
        }
      ]
    },
    {
      "metadata": {
        "id": "-0Hu7tdCL3op",
        "colab_type": "code",
        "outputId": "2430a5b8-9790-4f4a-da8b-39cd8e920954",
        "colab": {
          "base_uri": "https://localhost:8080/",
          "height": 362
        }
      },
      "cell_type": "code",
      "source": [
        "plt.axis([2012.5,2014.5,0,550])\n",
        "plt.title(\"Not So Huge Anymore\")\n",
        "plt.show()"
      ],
      "execution_count": 0,
      "outputs": [
        {
          "output_type": "display_data",
          "data": {
            "image/png": "[encoded data removed]",
            "text/plain": [
              "<Figure size 576x396 with 1 Axes>"
            ]
          },
          "metadata": {
            "tags": []
          }
        }
      ]
    },
    {
      "metadata": {
        "id": "P03SwNPgL3sc",
        "colab_type": "code",
        "outputId": "38eff7e2-c548-4ad2-e6c5-01021f5bca49",
        "colab": {
          "base_uri": "https://localhost:8080/",
          "height": 376
        }
      },
      "cell_type": "code",
      "source": [
        "variance = [1, 2, 4, 8, 16, 32, 64, 128, 256]\n",
        "bias_squared = [256, 128, 64, 32, 16, 8, 4, 2, 1]\n",
        "total_error = [x + y for x, y in zip(variance, bias_squared)]\n",
        "xs = [i for i, _ in enumerate(variance)]\n",
        "plt.plot(xs, variance, 'g-', label='variance') # green solid line\n",
        "plt.plot(xs, bias_squared, 'r-.', label='bias^2') # red dot-dashed line\n",
        "plt.plot(xs, total_error, 'b:', label='total error') # blue dotted line\n",
        "plt.legend(loc=9)\n",
        "plt.xlabel(\"model complexity\")\n",
        "plt.title(\"The Bias-Variance Tradeoff\")\n",
        "plt.show()"
      ],
      "execution_count": 0,
      "outputs": [
        {
          "output_type": "display_data",
          "data": {
            "image/png": "[encoded data removed]",
            "text/plain": [
              "<Figure size 576x396 with 1 Axes>"
            ]
          },
          "metadata": {
            "tags": []
          }
        }
      ]
    },
    {
      "metadata": {
        "id": "d5jatxmXNxo5",
        "colab_type": "code",
        "outputId": "79c68f48-282a-44fc-8678-90fa11a0a7bc",
        "colab": {
          "base_uri": "https://localhost:8080/",
          "height": 376
        }
      },
      "cell_type": "code",
      "source": [
        "friends = [ 70, 65, 72, 63, 71, 64, 60, 64, 67]\n",
        "minutes = [175, 170, 205, 120, 220, 130, 105, 145, 190]\n",
        "labels = ['a', 'b', 'c', 'd', 'e', 'f', 'g', 'h', 'i']\n",
        "plt.scatter(friends, minutes)\n",
        "for label, friend_count, minute_count in zip(labels, friends, minutes):\n",
        " plt.annotate(label,\n",
        " xy=(friend_count, minute_count), \n",
        " xytext=(5, -5),\n",
        " textcoords='offset points')\n",
        "plt.title(\"Daily Minutes vs. Number of Friends\")\n",
        "plt.xlabel(\"# of friends\")\n",
        "plt.ylabel(\"daily minutes spent on the site\")\n",
        "plt.show()"
      ],
      "execution_count": 0,
      "outputs": [
        {
          "output_type": "display_data",
          "data": {
            "image/png": "[encoded data removed]",
            "text/plain": [
              "<Figure size 576x396 with 1 Axes>"
            ]
          },
          "metadata": {
            "tags": []
          }
        }
      ]
    },
    {
      "metadata": {
        "id": "d_wE2h6fNxsx",
        "colab_type": "code",
        "outputId": "bf465d2e-ba5a-47df-c36c-fcb05abd8722",
        "colab": {
          "base_uri": "https://localhost:8080/",
          "height": 376
        }
      },
      "cell_type": "code",
      "source": [
        "test_1_grades = [ 99, 90, 85, 97, 80]\n",
        "test_2_grades = [100, 85, 60, 90, 70]\n",
        "plt.scatter(test_1_grades, test_2_grades)\n",
        "plt.title(\"Axes Aren't Comparable\")\n",
        "plt.xlabel(\"test 1 grade\")\n",
        "plt.ylabel(\"test 2 grade\")\n",
        "plt.show()"
      ],
      "execution_count": 0,
      "outputs": [
        {
          "output_type": "display_data",
          "data": {
            "image/png": "[encoded data removed]",
            "text/plain": [
              "<Figure size 576x396 with 1 Axes>"
            ]
          },
          "metadata": {
            "tags": []
          }
        }
      ]
    },
    {
      "metadata": {
        "id": "AIthdYzfNxvX",
        "colab_type": "code",
        "outputId": "884456b7-ddf5-46b5-9992-c32211203b65",
        "colab": {
          "base_uri": "https://localhost:8080/",
          "height": 774
        }
      },
      "cell_type": "code",
      "source": [
        "test_1_grades = [ 99, 90, 85, 97, 80]\n",
        "test_2_grades = [100, 85, 60, 90, 70]\n",
        "plt.scatter(test_1_grades, test_2_grades)\n",
        "plt.title(\"Axes Aren't Comparable\")\n",
        "plt.xlabel(\"test 1 grade\")\n",
        "plt.ylabel(\"test 2 grade\")\n",
        "plt.show()\n",
        "plt.axis(\"equal\")"
      ],
      "execution_count": 0,
      "outputs": [
        {
          "output_type": "display_data",
          "data": {
            "image/png": "[encoded data removed]",
            "text/plain": [
              "<Figure size 576x396 with 1 Axes>"
            ]
          },
          "metadata": {
            "tags": []
          }
        },
        {
          "output_type": "execute_result",
          "data": {
            "text/plain": [
              "(-0.05500000000000001,\n",
              " 0.05500000000000001,\n",
              " -0.05500000000000001,\n",
              " 0.05500000000000001)"
            ]
          },
          "metadata": {
            "tags": []
          },
          "execution_count": 68
        },
        {
          "output_type": "display_data",
          "data": {
            "image/png": "[encoded data removed]",
            "text/plain": [
              "<Figure size 576x396 with 1 Axes>"
            ]
          },
          "metadata": {
            "tags": []
          }
        }
      ]
    },
    {
      "metadata": {
        "id": "-cv9_iZWNxyx",
        "colab_type": "code",
        "colab": {}
      },
      "cell_type": "code",
      "source": [
        "#Chapter4"
      ],
      "execution_count": 0,
      "outputs": []
    },
    {
      "metadata": {
        "id": "cB4Tnz_ML3wP",
        "colab_type": "code",
        "colab": {}
      },
      "cell_type": "code",
      "source": [
        "height_weight_age = [70, # inches,\n",
        " 170, # pounds,\n",
        " 40 ] # years\n",
        "grades = [95, # exam1\n",
        "          80, # exam2\n",
        "          75, # exam3\n",
        "          62 ] # exam4"
      ],
      "execution_count": 0,
      "outputs": []
    },
    {
      "metadata": {
        "id": "d7bqFuXlL3zf",
        "colab_type": "code",
        "colab": {}
      },
      "cell_type": "code",
      "source": [
        "def vector_add(v, w):\n",
        " \"\"\"adds corresponding elements\"\"\"\n",
        " return [v_i + w_i\n",
        " for v_i, w_i in zip(v, w)]"
      ],
      "execution_count": 0,
      "outputs": []
    },
    {
      "metadata": {
        "id": "1dBFgxUuPFcX",
        "colab_type": "code",
        "colab": {}
      },
      "cell_type": "code",
      "source": [
        "def vector_subtract(v, w):\n",
        " \"\"\"subtracts corresponding elements\"\"\"\n",
        " return [v_i - w_i\n",
        " for v_i, w_i in zip(v, w)]"
      ],
      "execution_count": 0,
      "outputs": []
    },
    {
      "metadata": {
        "id": "5awkk5U3PFgQ",
        "colab_type": "code",
        "colab": {}
      },
      "cell_type": "code",
      "source": [
        "def vector_sum(vectors):\n",
        " \"\"\"sums all corresponding elements\"\"\"\n",
        " result = vectors[0] # start with the first vector\n",
        " for vector in vectors[1:]: # then loop over the others\n",
        "  result = vector_add(result, vector) # and add them to the result\n",
        " return result"
      ],
      "execution_count": 0,
      "outputs": []
    },
    {
      "metadata": {
        "id": "w7_4vryqPFjI",
        "colab_type": "code",
        "colab": {}
      },
      "cell_type": "code",
      "source": [
        "def vector_sum(vectors):\n",
        " return reduce(vector_add, vectors)"
      ],
      "execution_count": 0,
      "outputs": []
    },
    {
      "metadata": {
        "id": "Kt7Coe0IPFmQ",
        "colab_type": "code",
        "colab": {}
      },
      "cell_type": "code",
      "source": [
        "def scalar_multiply(c, v):\n",
        " \"\"\"c is a number, v is a vector\"\"\"\n",
        " return [c * v_i for v_i in v]"
      ],
      "execution_count": 0,
      "outputs": []
    },
    {
      "metadata": {
        "id": "mYmOVBPOHwVs",
        "colab_type": "code",
        "colab": {}
      },
      "cell_type": "code",
      "source": [
        "def vector_mean(vectors):\n",
        " \"\"\"compute the vector whose ith element is the mean of the\n",
        " ith elements of the input vectors\"\"\"\n",
        " n = len(vectors)\n",
        " return scalar_multiply(1/n, vector_sum(vectors))"
      ],
      "execution_count": 0,
      "outputs": []
    },
    {
      "metadata": {
        "id": "Cg-r_VzjPhJK",
        "colab_type": "code",
        "colab": {}
      },
      "cell_type": "code",
      "source": [
        "def dot(v, w):\n",
        " \"\"\"v_1 * w_1 + ... + v_n * w_n\"\"\"\n",
        " return sum(v_i * w_i\n",
        " for v_i, w_i in zip(v, w))"
      ],
      "execution_count": 0,
      "outputs": []
    },
    {
      "metadata": {
        "id": "bEADlMvoPhMy",
        "colab_type": "code",
        "colab": {}
      },
      "cell_type": "code",
      "source": [
        "def sum_of_squares(v):\n",
        " \"\"\"v_1 * v_1 + ... + v_n * v_n\"\"\"\n",
        " return dot(v, v)"
      ],
      "execution_count": 0,
      "outputs": []
    },
    {
      "metadata": {
        "id": "wTa5DT-fPhPN",
        "colab_type": "code",
        "colab": {}
      },
      "cell_type": "code",
      "source": [
        "import math\n",
        "def magnitude(v):\n",
        " return math.sqrt(sum_of_squares(v)) "
      ],
      "execution_count": 0,
      "outputs": []
    },
    {
      "metadata": {
        "id": "BQsi8GioPhTa",
        "colab_type": "code",
        "colab": {}
      },
      "cell_type": "code",
      "source": [
        "def squared_distance(v, w):\n",
        " \"\"\"(v_1 - w_1) ** 2 + ... + (v_n - w_n) ** 2\"\"\"\n",
        " return sum_of_squares(vector_subtract(v, w))\n",
        "def distance(v, w):\n",
        " return math.sqrt(squared_distance(v, w))"
      ],
      "execution_count": 0,
      "outputs": []
    },
    {
      "metadata": {
        "id": "Fb3EROJxPtGt",
        "colab_type": "code",
        "colab": {}
      },
      "cell_type": "code",
      "source": [
        "def distance(v, w):\n",
        " return magnitude(vector_subtract(v, w))"
      ],
      "execution_count": 0,
      "outputs": []
    },
    {
      "metadata": {
        "id": "911cSFlwPtNG",
        "colab_type": "code",
        "colab": {}
      },
      "cell_type": "code",
      "source": [
        "A = [[1, 2, 3], # A has 2 rows and 3 columns\n",
        " [4, 5, 6]]\n",
        "B = [[1, 2], # B has 3 rows and 2 columns\n",
        " [3, 4],\n",
        " [5, 6]]"
      ],
      "execution_count": 0,
      "outputs": []
    },
    {
      "metadata": {
        "id": "TNfsrns2PtRJ",
        "colab_type": "code",
        "colab": {}
      },
      "cell_type": "code",
      "source": [
        "def shape(A):\n",
        " num_rows = len(A)\n",
        " num_cols = len(A[0]) if A else 0 # number of elements in first row\n",
        " return num_rows, num_cols"
      ],
      "execution_count": 0,
      "outputs": []
    },
    {
      "metadata": {
        "id": "5HHQxcrgP27b",
        "colab_type": "code",
        "colab": {}
      },
      "cell_type": "code",
      "source": [
        "def get_row(A, i):\n",
        " return A[i] # A[i] is already the ith row\n",
        "def get_column(A, j):\n",
        " return [A_i[j] # jth element of row A_i\n",
        " for A_i in A] # for each row A_i"
      ],
      "execution_count": 0,
      "outputs": []
    },
    {
      "metadata": {
        "id": "OxIfK2IyP3Ar",
        "colab_type": "code",
        "colab": {}
      },
      "cell_type": "code",
      "source": [
        "def make_matrix(num_rows, num_cols, entry_fn):\n",
        " \"\"\"returns a num_rows x num_cols matrix\n",
        " whose (i,j)th entry is entry_fn(i, j)\"\"\"\n",
        " return [[entry_fn(i, j) # given i, create a list\n",
        " for j in range(num_cols)] # [entry_fn(i, 0), ... ]\n",
        " for i in range(num_rows)] # create one list for each i"
      ],
      "execution_count": 0,
      "outputs": []
    },
    {
      "metadata": {
        "id": "l1R2O9GoP3FI",
        "colab_type": "code",
        "colab": {}
      },
      "cell_type": "code",
      "source": [
        "def is_diagonal(i, j):\n",
        " \"\"\"1's on the 'diagonal', 0's everywhere else\"\"\"\n",
        " return 1 if i == j else 0\n",
        "identity_matrix = make_matrix(5, 5, is_diagonal)"
      ],
      "execution_count": 0,
      "outputs": []
    },
    {
      "metadata": {
        "id": "U9uiyoDFP2-p",
        "colab_type": "code",
        "colab": {}
      },
      "cell_type": "code",
      "source": [
        "data = [[70, 170, 40],\n",
        " [65, 120, 26],\n",
        " [77, 250, 19],\n",
        " # ....\n",
        " ]"
      ],
      "execution_count": 0,
      "outputs": []
    },
    {
      "metadata": {
        "id": "5rO6NSzZPtLF",
        "colab_type": "code",
        "colab": {}
      },
      "cell_type": "code",
      "source": [
        "friendships = [(0, 1), (0, 2), (1, 2), (1, 3), (2, 3), (3, 4),\n",
        " (4, 5), (5, 6), (5, 7), (6, 8), (7, 8), (8, 9)]"
      ],
      "execution_count": 0,
      "outputs": []
    },
    {
      "metadata": {
        "id": "LbEafEKBQ4Be",
        "colab_type": "code",
        "colab": {}
      },
      "cell_type": "code",
      "source": [
        "friendships = [[0, 1, 1, 0, 0, 0, 0, 0, 0, 0], # user 0\n",
        " [1, 0, 1, 1, 0, 0, 0, 0, 0, 0], # user 1\n",
        " [1, 1, 0, 1, 0, 0, 0, 0, 0, 0], # user 2\n",
        " [0, 1, 1, 0, 1, 0, 0, 0, 0, 0], # user 3\n",
        " [0, 0, 0, 1, 0, 1, 0, 0, 0, 0], # user 4\n",
        " [0, 0, 0, 0, 1, 0, 1, 1, 0, 0], # user 5\n",
        " [0, 0, 0, 0, 0, 1, 0, 0, 1, 0], # user 6\n",
        " [0, 0, 0, 0, 0, 1, 0, 0, 1, 0], # user 7\n",
        " [0, 0, 0, 0, 0, 0, 1, 1, 0, 1], # user 8\n",
        " [0, 0, 0, 0, 0, 0, 0, 0, 1, 0]] # user 9"
      ],
      "execution_count": 0,
      "outputs": []
    },
    {
      "metadata": {
        "id": "rPgLPQCOQ4HJ",
        "colab_type": "code",
        "outputId": "38d5e75a-64e2-4197-ae39-9b0f42a5727b",
        "colab": {
          "base_uri": "https://localhost:8080/",
          "height": 34
        }
      },
      "cell_type": "code",
      "source": [
        "friendships[0][2] == 1 # True, 0 and 2 are friends\n",
        "friendships[0][8] == 1 # False, 0 and 8 are not friends"
      ],
      "execution_count": 0,
      "outputs": [
        {
          "output_type": "execute_result",
          "data": {
            "text/plain": [
              "False"
            ]
          },
          "metadata": {
            "tags": []
          },
          "execution_count": 94
        }
      ]
    },
    {
      "metadata": {
        "id": "bpXp6t2RQ8cy",
        "colab_type": "code",
        "colab": {}
      },
      "cell_type": "code",
      "source": [
        "friends_of_five = [i # only need\n",
        " for i, is_friend in enumerate(friendships[5]) # to look at\n",
        " if is_friend] # one row"
      ],
      "execution_count": 0,
      "outputs": []
    },
    {
      "metadata": {
        "id": "BwaXDB3OQ8f1",
        "colab_type": "code",
        "colab": {}
      },
      "cell_type": "code",
      "source": [
        "#Chapter10"
      ],
      "execution_count": 0,
      "outputs": []
    },
    {
      "metadata": {
        "id": "oSVKTtJPQ8jq",
        "colab_type": "code",
        "colab": {}
      },
      "cell_type": "code",
      "source": [
        "def bucketize(point, bucket_size):\n",
        " \"\"\"floor the point to the next lower multiple of bucket_size\"\"\"\n",
        " return bucket_size * math.floor(point / bucket_size)\n",
        "def make_histogram(points, bucket_size):\n",
        " \"\"\"buckets the points and counts how many in each bucket\"\"\"\n",
        " return Counter(bucketize(point, bucket_size) for point in points)\n",
        "def plot_histogram(points, bucket_size, title=\"\"):\n",
        " histogram = make_histogram(points, bucket_size)\n",
        " plt.bar(histogram.keys(), histogram.values(), width=bucket_size)\n",
        " plt.title(title)\n",
        " plt.show()"
      ],
      "execution_count": 0,
      "outputs": []
    },
    {
      "metadata": {
        "id": "Gm5WeHGIQ4Kh",
        "colab_type": "code",
        "colab": {}
      },
      "cell_type": "code",
      "source": [
        "import random\n",
        "from scipy.stats import norm\n",
        "\n",
        "random.seed(0)\n",
        "# uniform between -100 and 100\n",
        "uniform = [200 * random.random() - 100 for _ in range(10000)]\n",
        "# normal distribution with mean 0, standard deviation 57\n",
        "normal = [57 * norm.cdf(random.random())\n",
        "          for _ in range(10000)]"
      ],
      "execution_count": 0,
      "outputs": []
    },
    {
      "metadata": {
        "id": "ad2Yn1ZDTEPH",
        "colab_type": "code",
        "outputId": "857527f0-6ede-4e19-fb24-ca4b825ac82f",
        "colab": {
          "base_uri": "https://localhost:8080/",
          "height": 362
        }
      },
      "cell_type": "code",
      "source": [
        "plot_histogram(uniform, 10, \"Uniform Histogram\")"
      ],
      "execution_count": 0,
      "outputs": [
        {
          "output_type": "display_data",
          "data": {
            "image/png": "[encoded data removed]",
            "text/plain": [
              "<Figure size 576x396 with 1 Axes>"
            ]
          },
          "metadata": {
            "tags": []
          }
        }
      ]
    },
    {
      "metadata": {
        "id": "do-yusvaTESl",
        "colab_type": "code",
        "outputId": "f31a2f14-6ab4-4542-c33e-aac9499ebbf0",
        "colab": {
          "base_uri": "https://localhost:8080/",
          "height": 362
        }
      },
      "cell_type": "code",
      "source": [
        "plot_histogram(normal, 10, \"Normal Histogram\")"
      ],
      "execution_count": 0,
      "outputs": [
        {
          "output_type": "display_data",
          "data": {
            "image/png": "[encoded data removed]",
            "text/plain": [
              "<Figure size 576x396 with 1 Axes>"
            ]
          },
          "metadata": {
            "tags": []
          }
        }
      ]
    },
    {
      "metadata": {
        "id": "y3rBaelLU127",
        "colab_type": "code",
        "colab": {}
      },
      "cell_type": "code",
      "source": [
        "def random_normal():\n",
        " \"\"\"returns a random draw from a standard normal distribution\"\"\"\n",
        " return norm.cdf(random.random())\n",
        "\n",
        "xs = [random_normal() for _ in range(1000)]\n",
        "ys1 = [ x + random_normal() / 2 for x in xs]\n",
        "ys2 = [-x + random_normal() / 2 for x in xs]"
      ],
      "execution_count": 0,
      "outputs": []
    },
    {
      "metadata": {
        "id": "D-1xrYPdU16C",
        "colab_type": "code",
        "outputId": "d46f284d-4236-4083-b9cc-631eb3753350",
        "colab": {
          "base_uri": "https://localhost:8080/",
          "height": 376
        }
      },
      "cell_type": "code",
      "source": [
        "plt.scatter(xs, ys1, marker='.', color='black', label='ys1')\n",
        "plt.scatter(xs, ys2, marker='.', color='gray', label='ys2')\n",
        "plt.xlabel('xs')\n",
        "plt.ylabel('ys')\n",
        "plt.legend(loc=9)\n",
        "plt.title(\"Very Different Joint Distributions\")\n",
        "plt.show()"
      ],
      "execution_count": 0,
      "outputs": [
        {
          "output_type": "display_data",
          "data": {
            "image/png": "[encoded data removed]",
            "text/plain": [
              "<Figure size 576x396 with 1 Axes>"
            ]
          },
          "metadata": {
            "tags": []
          }
        }
      ]
    },
    {
      "metadata": {
        "id": "iYSLiq3vU19V",
        "colab_type": "code",
        "outputId": "b0600289-6841-4942-c7f9-7d4d2c392911",
        "colab": {
          "base_uri": "https://localhost:8080/",
          "height": 129
        }
      },
      "cell_type": "code",
      "source": [
        "def correlation_matrix(data):\n",
        " \"\"\"returns the num_columns x num_columns matrix whose (i, j)th entry\n",
        " is the correlation between columns i and j of data\"\"\"\n",
        "   _, num_columns = shape(data)\n",
        "  def matrix_entry(i, j):\n",
        "    return correlation(get_column(data, i), get_column(data, j))\n",
        "  return make_matrix(num_columns, num_columns, matrix_entry)"
      ],
      "execution_count": 0,
      "outputs": [
        {
          "output_type": "error",
          "ename": "IndentationError",
          "evalue": "ignored",
          "traceback": [
            "\u001b[0;36m  File \u001b[0;32m\"<ipython-input-1-bd3c5c86f2c9>\"\u001b[0;36m, line \u001b[0;32m4\u001b[0m\n\u001b[0;31m    _, num_columns = shape(data)\u001b[0m\n\u001b[0m    ^\u001b[0m\n\u001b[0;31mIndentationError\u001b[0m\u001b[0;31m:\u001b[0m unexpected indent\n"
          ]
        }
      ]
    },
    {
      "metadata": {
        "id": "umrKleqGU2BL",
        "colab_type": "code",
        "colab": {}
      },
      "cell_type": "code",
      "source": [
        "import matplotlib.pyplot as plt\n",
        "_, num_columns = shape(data)\n",
        "fig, ax = plt.subplots(num_columns, num_columns)\n",
        "for i in range(num_columns):\n",
        "  for j in range(num_columns):\n",
        "    if i != j: ax[i][j].scatter(get_column(data, j), get_column(data, i))\n",
        " # unless i == j, in which case show the series name\n",
        " else: ax[i][j].annotate(\"series \" + str(i), (0.5, 0.5), xycoords='axes fraction', ha=\"center\", va=\"center\")\n",
        " # then hide axis labels except left and bottom charts\n",
        "  if i < num_columns - 1: ax[i][j].xaxis.set_visible(False)\n",
        "  if j > 0: ax[i][j].yaxis.set_visible(False)\n",
        "# fix the bottom right and top left axis labels, which are wrong because\n",
        "# their charts only have text in them\n",
        "ax[-1][-1].set_xlim(ax[0][-1].get_xlim())\n",
        "ax[0][0].set_ylim(ax[0][1].get_ylim())\n",
        "plt.show()"
      ],
      "execution_count": 0,
      "outputs": []
    },
    {
      "metadata": {
        "id": "nsrWl3rqTEW0",
        "colab_type": "code",
        "colab": {}
      },
      "cell_type": "code",
      "source": [
        "def parse_row(input_row, parsers):\n",
        " \"\"\"given a list of parsers (some of which may be None)\n",
        " apply the appropriate one to each element of the input_row\"\"\"\n",
        " return [parser(value) if parser is not None else value\n",
        " for value, parser in zip(input_row, parsers)]\n",
        "def parse_rows_with(reader, parsers):\n",
        " \"\"\"wrap a reader to apply the parsers to each of its rows\"\"\"\n",
        " for row in reader:\n",
        "    yield parse_row(row, parsers)"
      ],
      "execution_count": 0,
      "outputs": []
    },
    {
      "metadata": {
        "id": "Sq21wFqEUMlP",
        "colab_type": "code",
        "colab": {}
      },
      "cell_type": "code",
      "source": [
        "def try_or_none(f):\n",
        " \"\"\"wraps f to return None if f raises an exception\n",
        " assumes f takes only one input\"\"\"\n",
        " def f_or_none(x):\n",
        "    try: return f(x)\n",
        "    except: return None\n",
        "return f_or_none"
      ],
      "execution_count": 0,
      "outputs": []
    },
    {
      "metadata": {
        "id": "lH8Xoj2rUMo1",
        "colab_type": "code",
        "colab": {}
      },
      "cell_type": "code",
      "source": [
        "def parse_row(input_row, parsers):\n",
        " return [try_or_none(parser)(value) if parser is not None else value\n",
        " for value, parser in zip(input_row, parsers)]"
      ],
      "execution_count": 0,
      "outputs": []
    },
    {
      "metadata": {
        "id": "iCX_IwXtUMsK",
        "colab_type": "code",
        "colab": {}
      },
      "cell_type": "code",
      "source": [
        "def try_parse_field(field_name, value, parser_dict):\n",
        "  \"\"\"try to parse value using the appropriate function from parser_dict\"\"\"\n",
        "  parser = parser_dict.get(field_name) # None if no such entry\n",
        "  if parser is not None:\n",
        "    return try_or_none(parser)(value)\n",
        "  else:\n",
        "    return value"
      ],
      "execution_count": 0,
      "outputs": []
    },
    {
      "metadata": {
        "id": "s7ewzk4xQ4Em",
        "colab_type": "code",
        "colab": {}
      },
      "cell_type": "code",
      "source": [
        "def parse_dict(input_dict, parser_dict):\n",
        "  return { field_name : try_parse_field(field_name, value, parser_dict)\n",
        "          for field_name, value in input_dict.iteritems() }"
      ],
      "execution_count": 0,
      "outputs": []
    },
    {
      "metadata": {
        "id": "ZVN5glxEV8Gb",
        "colab_type": "code",
        "colab": {}
      },
      "cell_type": "code",
      "source": [
        "import datetime\n",
        "\n",
        "data = [\n",
        " {'closing_price': 102.06,\n",
        " 'date': datetime.datetime(2014, 8, 29, 0, 0),\n",
        " 'symbol': 'AAPL'},\n",
        " # ...\n",
        "]"
      ],
      "execution_count": 0,
      "outputs": []
    },
    {
      "metadata": {
        "id": "O3LuwtNPV8J9",
        "colab_type": "code",
        "colab": {}
      },
      "cell_type": "code",
      "source": [
        "max_aapl_price = max(row[\"closing_price\"]\n",
        " for row in data\n",
        " if row[\"symbol\"] == \"AAPL\")"
      ],
      "execution_count": 0,
      "outputs": []
    },
    {
      "metadata": {
        "id": "A__bRnTjV8P4",
        "colab_type": "code",
        "colab": {}
      },
      "cell_type": "code",
      "source": [
        "import collections\n",
        "by_symbol = collections.defaultdict(list)\n",
        "for row in data:\n",
        "  by_symbol[row[\"symbol\"]].append(row)\n",
        "max_price_by_symbol = { symbol : max(row[\"closing_price\"]\n",
        " for row in grouped_rows)\n",
        " for symbol, grouped_rows in by_symbol.items() }"
      ],
      "execution_count": 0,
      "outputs": []
    },
    {
      "metadata": {
        "id": "FIyymWNsV8TN",
        "colab_type": "code",
        "colab": {}
      },
      "cell_type": "code",
      "source": [
        "def picker(field_name):\n",
        " \"\"\"returns a function that picks a field out of a dict\"\"\"\n",
        " return lambda row: row[field_name]\n",
        "def pluck(field_name, rows):\n",
        " \"\"\"turn a list of dicts into the list of field_name values\"\"\"\n",
        " return map(picker(field_name), rows)"
      ],
      "execution_count": 0,
      "outputs": []
    },
    {
      "metadata": {
        "id": "wko6lnJJV8W-",
        "colab_type": "code",
        "colab": {}
      },
      "cell_type": "code",
      "source": [
        "from collections import defaultdict\n",
        "def group_by(grouper, rows, value_transform=None):\n",
        "  grouped = defaultdict(list)\n",
        "  for row in rows:\n",
        "    grouped[grouper(row)].append(row)\n",
        "  if value_transform is None:\n",
        "    return grouped\n",
        "  else:\n",
        "    return { key : value_transform(rows)\n",
        "            for key, rows in grouped.items() }"
      ],
      "execution_count": 0,
      "outputs": []
    },
    {
      "metadata": {
        "id": "v89b7-biV8No",
        "colab_type": "code",
        "colab": {}
      },
      "cell_type": "code",
      "source": [
        "max_price_by_symbol = group_by(picker(\"symbol\"),\n",
        "                               data,\n",
        "                               lambda rows: max(pluck(\"closing_price\", rows)))"
      ],
      "execution_count": 0,
      "outputs": []
    },
    {
      "metadata": {
        "id": "WVcg_fmXXQJg",
        "colab_type": "code",
        "colab": {}
      },
      "cell_type": "code",
      "source": [
        "def percent_price_change(yesterday, today):\n",
        " return today[\"closing_price\"] / yesterday[\"closing_price\"] - 1\n",
        "def day_over_day_changes(grouped_rows):\n",
        " # sort the rows by date\n",
        " ordered = sorted(grouped_rows, key=picker(\"date\"))\n",
        " # zip with an offset to get pairs of consecutive days\n",
        " return [{ \"symbol\" : today[\"symbol\"],\n",
        " \"date\" : today[\"date\"],\n",
        " \"change\" : percent_price_change(yesterday, today) }\n",
        " for yesterday, today in zip(ordered, ordered[1:])]"
      ],
      "execution_count": 0,
      "outputs": []
    },
    {
      "metadata": {
        "id": "NuCCoXCpXQU6",
        "colab_type": "code",
        "colab": {}
      },
      "cell_type": "code",
      "source": [
        "changes_by_symbol = group_by(picker(\"symbol\"), data, day_over_day_changes)\n",
        "all_changes = [change\n",
        " for changes in changes_by_symbol.values()\n",
        " for change in changes]"
      ],
      "execution_count": 0,
      "outputs": []
    },
    {
      "metadata": {
        "id": "z7rw8A0CXQZS",
        "colab_type": "code",
        "colab": {}
      },
      "cell_type": "code",
      "source": [
        "def combine_pct_changes(pct_change1, pct_change2):\n",
        "  return (1 + pct_change1) * (1 + pct_change2) - 1"
      ],
      "execution_count": 0,
      "outputs": []
    },
    {
      "metadata": {
        "id": "lcSSDbnfXQSu",
        "colab_type": "code",
        "colab": {}
      },
      "cell_type": "code",
      "source": [
        "def overall_change(changes):\n",
        "  return reduce(combine_pct_changes, pluck(\"change\", changes))\n",
        "overall_change_by_month = group_by(lambda row: row['date'].month,\n",
        " all_changes,\n",
        "overall_change)"
      ],
      "execution_count": 0,
      "outputs": []
    },
    {
      "metadata": {
        "id": "3jdz8-ycXQP3",
        "colab_type": "code",
        "colab": {}
      },
      "cell_type": "code",
      "source": [
        "def scale(data_matrix):\n",
        " \"\"\"returns the means and standard deviations of each column\"\"\"\n",
        " num_rows, num_cols = shape(data_matrix)\n",
        " means = [mean(get_column(data_matrix,j))\n",
        " for j in range(num_cols)]\n",
        " stdevs = [standard_deviation(get_column(data_matrix,j))\n",
        " for j in range(num_cols)]\n",
        " return means, stdevs"
      ],
      "execution_count": 0,
      "outputs": []
    },
    {
      "metadata": {
        "id": "Wr0Ay4sXXQNE",
        "colab_type": "code",
        "colab": {}
      },
      "cell_type": "code",
      "source": [
        "def rescale(data_matrix):\n",
        "  \"\"\"rescales the input data so that each column\n",
        " has mean 0 and standard deviation 1\n",
        " leaves alone columns with no deviation\"\"\"\n",
        "  means, stdevs = scale(data_matrix)\n",
        "  def rescaled(i, j):\n",
        "    if stdevs[j] > 0:\n",
        "      return (data_matrix[i][j] - means[j]) / stdevs[j]\n",
        "    else:\n",
        "      return data_matrix[i][j]\n",
        "  \n",
        "  num_rows, num_cols = shape(data_matrix)\n",
        "  return make_matrix(num_rows, num_cols, rescaled)"
      ],
      "execution_count": 0,
      "outputs": []
    },
    {
      "metadata": {
        "id": "2VKukD0CZxsh",
        "colab_type": "code",
        "colab": {}
      },
      "cell_type": "code",
      "source": [
        "def de_mean_matrix(A):\n",
        " \"\"\"returns the result of subtracting from every value in A the mean\n",
        " value of its column. the resulting matrix has mean 0 in every column\"\"\"\n",
        " nr, nc = shape(A)\n",
        " column_means, _ = scale(A)\n",
        " return make_matrix(nr, nc, lambda i, j: A[i][j] - column_means[j])"
      ],
      "execution_count": 0,
      "outputs": []
    },
    {
      "metadata": {
        "id": "xFeNqbODZxzY",
        "colab_type": "code",
        "colab": {}
      },
      "cell_type": "code",
      "source": [
        "def direction(w):\n",
        " mag = magnitude(w)\n",
        " return [w_i / mag for w_i in w]"
      ],
      "execution_count": 0,
      "outputs": []
    },
    {
      "metadata": {
        "id": "hrSwC06NZx4e",
        "colab_type": "code",
        "colab": {}
      },
      "cell_type": "code",
      "source": [
        "def directional_variance_i(x_i, w):\n",
        " \"\"\"the variance of the row x_i in the direction determined by w\"\"\"\n",
        " return dot(x_i, direction(w)) ** 2\n",
        "def directional_variance(X, w):\n",
        " \"\"\"the variance of the data in the direction determined w\"\"\"\n",
        " return sum(directional_variance_i(x_i, w)\n",
        " for x_i in X)\n"
      ],
      "execution_count": 0,
      "outputs": []
    },
    {
      "metadata": {
        "id": "CcXy2AYnZx8t",
        "colab_type": "code",
        "colab": {}
      },
      "cell_type": "code",
      "source": [
        "def directional_variance_gradient_i(x_i, w):\n",
        " \"\"\"the contribution of row x_i to the gradient of\n",
        " the direction-w variance\"\"\"\n",
        " projection_length = dot(x_i, direction(w))\n",
        " return [2 * projection_length * x_ij for x_ij in x_i]\n",
        "def directional_variance_gradient(X, w):\n",
        " return vector_sum(directional_variance_gradient_i(x_i,w)\n",
        " for x_i in X)\n"
      ],
      "execution_count": 0,
      "outputs": []
    },
    {
      "metadata": {
        "id": "7VA-AdykZyBz",
        "colab_type": "code",
        "colab": {}
      },
      "cell_type": "code",
      "source": [
        "def first_principal_component(X):\n",
        " guess = [1 for _ in X[0]]\n",
        " unscaled_maximizer = maximize_batch(\n",
        " partial(directional_variance, X), # is now a function of w\n",
        " partial(directional_variance_gradient, X), # is now a function of w\n",
        " guess)\n",
        " return direction(unscaled_maximizer)"
      ],
      "execution_count": 0,
      "outputs": []
    },
    {
      "metadata": {
        "id": "nHzTKKWCaXTf",
        "colab_type": "code",
        "colab": {}
      },
      "cell_type": "code",
      "source": [
        "def first_principal_component_sgd(X):\n",
        " guess = [1 for _ in X[0]]\n",
        " unscaled_maximizer = maximize_stochastic(\n",
        " lambda x, _, w: directional_variance_i(x, w),\n",
        " lambda x, _, w: directional_variance_gradient_i(x, w),\n",
        " X,\n",
        " [None for _ in X], # the fake \"y\"\n",
        " guess)\n",
        " return direction(unscaled_maximizer)"
      ],
      "execution_count": 0,
      "outputs": []
    },
    {
      "metadata": {
        "id": "Pa7E4PQ5aXaN",
        "colab_type": "code",
        "colab": {}
      },
      "cell_type": "code",
      "source": [
        "def project(v, w):\n",
        " \"\"\"return the projection of v onto the direction w\"\"\"\n",
        " projection_length = dot(v, w)\n",
        " return scalar_multiply(projection_length, w)"
      ],
      "execution_count": 0,
      "outputs": []
    },
    {
      "metadata": {
        "id": "2iPbNkymaXeB",
        "colab_type": "code",
        "colab": {}
      },
      "cell_type": "code",
      "source": [
        "def remove_projection_from_vector(v, w):\n",
        " \"\"\"projects v onto w and subtracts the result from v\"\"\"\n",
        " return vector_subtract(v, project(v, w))\n",
        "def remove_projection(X, w):\n",
        " \"\"\"for each row of X\n",
        " projects the row onto w, and subtracts the result from the row\"\"\"\n",
        " return [remove_projection_from_vector(x_i, w) for x_i in X]"
      ],
      "execution_count": 0,
      "outputs": []
    },
    {
      "metadata": {
        "id": "CZY3OEAqakXi",
        "colab_type": "code",
        "colab": {}
      },
      "cell_type": "code",
      "source": [
        "def principal_component_analysis(X, num_components):\n",
        "  components = []\n",
        "  for _ in range(num_components):\n",
        "    component = first_principal_component(X)\n",
        "    components.append(component)\n",
        "    X = remove_projection(X, component)\n",
        "  return components"
      ],
      "execution_count": 0,
      "outputs": []
    },
    {
      "metadata": {
        "id": "uaRvbpQ3akbX",
        "colab_type": "code",
        "colab": {}
      },
      "cell_type": "code",
      "source": [
        "def transform_vector(v, components):\n",
        " return [dot(v, w) for w in components]\n",
        "def transform(X, components):\n",
        " return [transform_vector(x_i, components) for x_i in X]"
      ],
      "execution_count": 0,
      "outputs": []
    }
  ]
}